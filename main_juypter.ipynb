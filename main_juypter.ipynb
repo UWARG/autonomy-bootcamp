{
 "cells": [
  {
   "cell_type": "code",
   "execution_count": 23,
   "metadata": {},
   "outputs": [
    {
     "name": "stderr",
     "output_type": "stream",
     "text": [
      "100%|██████████| 500/500 [00:12<00:00, 38.55it/s]\n"
     ]
    },
    {
     "name": "stdout",
     "output_type": "stream",
     "text": [
      "Epoch: 0. Loss: 0.0686882734298706\n"
     ]
    },
    {
     "name": "stderr",
     "output_type": "stream",
     "text": [
      "100%|██████████| 500/500 [00:12<00:00, 39.72it/s]\n"
     ]
    },
    {
     "name": "stdout",
     "output_type": "stream",
     "text": [
      "Epoch: 1. Loss: 0.05275087431073189\n"
     ]
    },
    {
     "name": "stderr",
     "output_type": "stream",
     "text": [
      "100%|██████████| 500/500 [00:12<00:00, 39.57it/s]\n"
     ]
    },
    {
     "name": "stdout",
     "output_type": "stream",
     "text": [
      "Epoch: 2. Loss: 0.039241816848516464\n"
     ]
    },
    {
     "name": "stderr",
     "output_type": "stream",
     "text": [
      "100%|██████████| 500/500 [00:12<00:00, 39.75it/s]\n"
     ]
    },
    {
     "name": "stdout",
     "output_type": "stream",
     "text": [
      "Epoch: 3. Loss: 0.032369766384363174\n"
     ]
    },
    {
     "name": "stderr",
     "output_type": "stream",
     "text": [
      "100%|██████████| 500/500 [00:12<00:00, 39.86it/s]\n"
     ]
    },
    {
     "name": "stdout",
     "output_type": "stream",
     "text": [
      "Epoch: 4. Loss: 0.03164428099989891\n"
     ]
    },
    {
     "name": "stderr",
     "output_type": "stream",
     "text": [
      "100%|██████████| 500/500 [00:12<00:00, 40.08it/s]\n"
     ]
    },
    {
     "name": "stdout",
     "output_type": "stream",
     "text": [
      "Epoch: 5. Loss: 0.027066927403211594\n"
     ]
    },
    {
     "name": "stderr",
     "output_type": "stream",
     "text": [
      "100%|██████████| 500/500 [00:12<00:00, 40.15it/s]\n"
     ]
    },
    {
     "name": "stdout",
     "output_type": "stream",
     "text": [
      "Epoch: 6. Loss: 0.022924797609448433\n"
     ]
    },
    {
     "name": "stderr",
     "output_type": "stream",
     "text": [
      "100%|██████████| 500/500 [00:12<00:00, 40.24it/s]\n"
     ]
    },
    {
     "name": "stdout",
     "output_type": "stream",
     "text": [
      "Epoch: 7. Loss: 0.02029452659189701\n"
     ]
    },
    {
     "name": "stderr",
     "output_type": "stream",
     "text": [
      "100%|██████████| 500/500 [00:12<00:00, 40.08it/s]\n"
     ]
    },
    {
     "name": "stdout",
     "output_type": "stream",
     "text": [
      "Epoch: 8. Loss: 0.01557884830981493\n"
     ]
    },
    {
     "name": "stderr",
     "output_type": "stream",
     "text": [
      "100%|██████████| 500/500 [00:12<00:00, 40.11it/s]\n"
     ]
    },
    {
     "name": "stdout",
     "output_type": "stream",
     "text": [
      "Epoch: 9. Loss: 0.01314892154186964\n"
     ]
    },
    {
     "name": "stderr",
     "output_type": "stream",
     "text": [
      "100%|██████████| 500/500 [00:12<00:00, 40.29it/s]\n"
     ]
    },
    {
     "name": "stdout",
     "output_type": "stream",
     "text": [
      "Epoch: 10. Loss: 0.010866795666515827\n"
     ]
    },
    {
     "name": "stderr",
     "output_type": "stream",
     "text": [
      "100%|██████████| 500/500 [00:12<00:00, 40.42it/s]\n"
     ]
    },
    {
     "name": "stdout",
     "output_type": "stream",
     "text": [
      "Epoch: 11. Loss: 0.00921350996941328\n"
     ]
    },
    {
     "name": "stderr",
     "output_type": "stream",
     "text": [
      "100%|██████████| 500/500 [00:12<00:00, 40.32it/s]\n"
     ]
    },
    {
     "name": "stdout",
     "output_type": "stream",
     "text": [
      "Epoch: 12. Loss: 0.0052719032391905785\n"
     ]
    },
    {
     "name": "stderr",
     "output_type": "stream",
     "text": [
      "100%|██████████| 500/500 [00:12<00:00, 40.53it/s]\n"
     ]
    },
    {
     "name": "stdout",
     "output_type": "stream",
     "text": [
      "Epoch: 13. Loss: 0.004536182153970003\n"
     ]
    },
    {
     "name": "stderr",
     "output_type": "stream",
     "text": [
      "100%|██████████| 500/500 [00:12<00:00, 39.69it/s]\n"
     ]
    },
    {
     "name": "stdout",
     "output_type": "stream",
     "text": [
      "Epoch: 14. Loss: 0.002822751644998789\n"
     ]
    },
    {
     "name": "stderr",
     "output_type": "stream",
     "text": [
      "100%|██████████| 500/500 [00:12<00:00, 39.93it/s]\n"
     ]
    },
    {
     "name": "stdout",
     "output_type": "stream",
     "text": [
      "Epoch: 15. Loss: 0.00438563572242856\n"
     ]
    },
    {
     "name": "stderr",
     "output_type": "stream",
     "text": [
      "100%|██████████| 500/500 [00:12<00:00, 40.56it/s]\n"
     ]
    },
    {
     "name": "stdout",
     "output_type": "stream",
     "text": [
      "Epoch: 16. Loss: 0.002617662074044347\n"
     ]
    },
    {
     "name": "stderr",
     "output_type": "stream",
     "text": [
      "100%|██████████| 500/500 [00:12<00:00, 40.13it/s]\n"
     ]
    },
    {
     "name": "stdout",
     "output_type": "stream",
     "text": [
      "Epoch: 17. Loss: 0.004990804009139538\n"
     ]
    },
    {
     "name": "stderr",
     "output_type": "stream",
     "text": [
      "100%|██████████| 500/500 [00:12<00:00, 40.27it/s]\n"
     ]
    },
    {
     "name": "stdout",
     "output_type": "stream",
     "text": [
      "Epoch: 18. Loss: 0.004919934552162886\n"
     ]
    },
    {
     "name": "stderr",
     "output_type": "stream",
     "text": [
      "100%|██████████| 500/500 [00:12<00:00, 39.94it/s]"
     ]
    },
    {
     "name": "stdout",
     "output_type": "stream",
     "text": [
      "Epoch: 19. Loss: 0.0016139758517965674\n",
      "Test Accuracy:  0.78\n"
     ]
    },
    {
     "name": "stderr",
     "output_type": "stream",
     "text": [
      "\n"
     ]
    },
    {
     "data": {
      "image/png": "[encoded data removed]",
      "text/plain": [
       "<Figure size 432x288 with 1 Axes>"
      ]
     },
     "metadata": {},
     "output_type": "display_data"
    }
   ],
   "source": [
    "\"\"\"\n",
    "This is a starter file to get you going. You may also include other files if you feel it's necessary.\n",
    "\n",
    "Make sure to follow the code convention described here:\n",
    "https://github.com/UWARG/computer-vision-python/blob/main/README.md#naming-and-typing-conventions\n",
    "\n",
    "Hints:\n",
    "* The internet is your friend! Don't be afraid to search for tutorials/intros/etc.\n",
    "* We suggest using a convolutional neural network.\n",
    "* TensorFlow Keras has the CIFAR-10 dataset as a module, so you don't need to manually download and unpack it.\n",
    "\"\"\"\n",
    "\n",
    "# Import whatever libraries/modules you need\n",
    "\n",
    "from ast import arg\n",
    "from matplotlib import style\n",
    "import matplotlib.pyplot as plt\n",
    "import numpy as np\n",
    "import tensorflow as tf\n",
    "import time\n",
    "import torch\n",
    "import torch.nn as nn\n",
    "import torch.nn.functional as F\n",
    "import torch.optim as optim\n",
    "from tqdm import tqdm\n",
    "from re import L\n",
    "from zmq import device\n",
    "\n",
    "# Your working code here\n",
    "\n",
    "class Net(nn.Module):\n",
    "    def __init__(self):\n",
    "        super().__init__()\n",
    "        self.network = nn.Sequential(\n",
    "            #convolutional layers, 1 input and kernel size of 3\n",
    "            nn.Conv2d(1, 16, kernel_size=3, padding = 1),\n",
    "            nn.ReLU(),\n",
    "            nn.Conv2d(16, 32, kernel_size=3, stride = 1, padding = 1),\n",
    "            nn.ReLU(),\n",
    "            nn.MaxPool2d(2, 2),\n",
    "            #maxpooling function emphasizes the important parts with a window of 2\n",
    "\n",
    "            nn.Conv2d(32, 64, kernel_size=3, stride = 1, padding = 1),\n",
    "            nn.ReLU(),\n",
    "            nn.Conv2d(64, 128, kernel_size=3, stride = 1, padding = 1),\n",
    "            nn.ReLU(),\n",
    "            nn.MaxPool2d(2, 2),\n",
    "\n",
    "            nn.Conv2d(128, 256, kernel_size=3, stride = 1, padding = 1),\n",
    "            nn.ReLU(),\n",
    "            nn.Conv2d(256, 256, kernel_size=3, stride = 1, padding = 1),\n",
    "            nn.ReLU(),\n",
    "            nn.MaxPool2d(2, 2),\n",
    "\n",
    "            #flatten to run through linear layers\n",
    "            nn.Flatten(),\n",
    "            nn.Linear(256*4*4, 1024),\n",
    "            nn.ReLU(),\n",
    "            nn.Linear(1024, 512),\n",
    "            nn.ReLU(),\n",
    "            #10 classes to output through\n",
    "            nn.Linear(512, 10)\n",
    "        )\n",
    "    def forward(self, data):\n",
    "        return self.network(data)\n",
    "\n",
    "        \n",
    "\n",
    "def organize_data():\n",
    "    #manage data from Tf dataset\n",
    "    RGB_TO_GREY = [0.299, 0.587, 0.114]\n",
    "    PIXEL_VALUE = 255.0\n",
    "    #load CIFAR10 data set into np arrays\n",
    "    (xTrain, yTrain), (xTest, yTest) = tf.keras.datasets.cifar10.load_data()\n",
    "    #grey scale\n",
    "    xTrain = np.dot(xTrain, RGB_TO_GREY)\n",
    "    #conver to tensor\n",
    "    xTrain = torch.Tensor(xTrain) \n",
    "    #convert to decimal values from 0-1\n",
    "    xTrain = xTrain/PIXEL_VALUE\n",
    "    #repeat for test set\n",
    "    xTest = np.dot(xTest, RGB_TO_GREY)\n",
    "    xTest = torch.Tensor(xTest) \n",
    "    xTest = xTest/PIXEL_VALUE\n",
    "    #convert to tensor\n",
    "    yTrain = torch.Tensor(yTrain)\n",
    "    yTest = torch.Tensor(yTest)\n",
    "    #make a new tensor of correct dimensions to input both images and labels into loss function\n",
    "    ytrain = torch.zeros(len(xTrain), 10)\n",
    "    ytest = torch.zeros(len(xTest), 10)\n",
    "    #input correct value into correct index value for entire tensor\n",
    "    for i in range(len(xTrain)):\n",
    "        ytrain[i][(yTrain[i] - 1).long()] = 1.0\n",
    "    for i in range(len(xTest)):\n",
    "        ytest[i][(yTest[i] - 1).long()] = 1.0\n",
    "    yTrain = ytrain\n",
    "    yTest = ytest\n",
    "    return xTrain, yTrain, xTest, yTest\n",
    "\n",
    "def select_device():\n",
    "    #choose device if you can use nvidea gpu\n",
    "    if torch.cuda.is_available():\n",
    "        device = torch.device('cuda:0')\n",
    "    else:\n",
    "        device = torch.device('cpu')\n",
    "    return device\n",
    "\n",
    "def train(net, xTrain, yTrain, xTest, yTest, device, loss_function, optimizer, EPOCHS, BATCH_SIZE, MODEL_NAME): \n",
    "    #use for graph later\n",
    "    with open(\"model.log\", \"a\") as f: \n",
    "        for epoch in range(EPOCHS):\n",
    "            #use for loading bar\n",
    "            for i in tqdm(range(0, len(xTrain), BATCH_SIZE)): \n",
    "                #array splice for each batch size\n",
    "                #32, 32 because cnn can take 2d array\n",
    "                x_batch = xTrain[i:i+BATCH_SIZE].view(-1, 1, 32, 32)\n",
    "                y_batch = yTrain[i:i+BATCH_SIZE]\n",
    "                #send to gpu\n",
    "                x_batch, y_batch = x_batch.to(device), y_batch.to(device)\n",
    "                #get accuracy and loss through helper function\n",
    "                acc, loss = fwd_pass(x_batch, y_batch, net, loss_function, optimizer, train = True)\n",
    "                if i % 10 == 0:\n",
    "                    #for the graph\n",
    "                    val_acc, val_loss = test(xTest, yTest, net, loss_function, optimizer, device, size = 100)\n",
    "                    f.write(f\"{MODEL_NAME}, {round(time.time(), 3)}, {round(float(acc), 2)}, {round(float(loss), 4)}, {round(float(val_acc), 2)}, {round(float(val_loss), 4)}\\n\")\n",
    "            print(f\"Epoch: {epoch}. Loss: {loss}\")\n",
    "\n",
    "def batch_test(net, xTest, yTest, device, BATCH_SIZE): \n",
    "    with torch.no_grad():\n",
    "        #test a batch of the test tensor\n",
    "        x_batch = xTest[:BATCH_SIZE].view(-1, 1, 32, 32)\n",
    "        y_batch = yTest[:BATCH_SIZE]\n",
    "        x_batch, y_batch = x_batch.to(device), y_batch.to(device)\n",
    "        #zero gradient\n",
    "        net.zero_grad()\n",
    "        #output of the cnn\n",
    "        outputs = net(x_batch)\n",
    "        #find matches of outputs and labels\n",
    "        matches = [torch.argmax(i) == torch.argmax(j) for i, j in zip(outputs, y_batch)]\n",
    "        #find accuracy of matches\n",
    "        acc = matches.count(True)/len(matches)\n",
    "        print(\"Test Accuracy: \", round(acc, 3))\n",
    "\n",
    "def fwd_pass(X, y, net, loss_function, optimizer, train = False):\n",
    "    if train:\n",
    "        #if we are training, zero the gradient\n",
    "        net.zero_grad()\n",
    "    #outputs of the cnn\n",
    "    outputs = net(X)\n",
    "    #find matches of outputs and labels\n",
    "    matches = [torch.argmax(i) == torch.argmax(j) for i, j in zip(outputs, y)]\n",
    "    #find accuracy of matches\n",
    "    acc = matches.count(True)/len(matches)\n",
    "    #run through loss function \n",
    "    loss = loss_function(outputs, y)\n",
    "    if train: \n",
    "        #if we are training, optimize the network\n",
    "        loss.backward()\n",
    "        optimizer.step()\n",
    "    return acc, loss\n",
    "\n",
    "def test(xTest, yTest, net, loss_function, optimizer, device, size = 32):\n",
    "    #test for points on the graph\n",
    "    X, y = xTest[:size], yTest[:size]\n",
    "    val_acc, val_loss = fwd_pass(X.view(-1, 1, 32, 32).to(device), y.to(device), net, loss_function, optimizer)\n",
    "    return val_acc, val_loss\n",
    "\n",
    "\n",
    "def create_acc_loss_graph(model_name, loss_or_acc):\n",
    "    contents = open(\"model.log\", \"r\").read().split(\"\\n\")\n",
    "    times = []\n",
    "    accuracies = []\n",
    "    losses = []\n",
    "    test_accs = []\n",
    "    test_losses = []\n",
    "    for c in contents: \n",
    "        if model_name in c:\n",
    "            #read the name of the model\n",
    "            name, time, acc, loss, test_acc, test_loss = c.split(\",\")\n",
    "            times.append(float(time))\n",
    "            accuracies.append(float(acc))\n",
    "            losses.append(float(loss))\n",
    "            test_accs.append(float(test_acc))\n",
    "            test_losses.append(float(test_loss))\n",
    "    style.use(\"ggplot\")\n",
    "    #make the correct graph \n",
    "    if(loss_or_acc == \"acc\"):\n",
    "        plt.plot(times, accuracies)\n",
    "        plt.plot(times, test_accs)\n",
    "        plt.ylabel('accuracy')\n",
    "        plt.title('accuracy')\n",
    "        \n",
    "    elif(loss_or_acc == \"loss\"):\n",
    "        plt.plot(times, losses)\n",
    "        plt.plot(times, test_losses)\n",
    "        plt.ylabel('loss')\n",
    "        plt.title('loss')\n",
    "\n",
    "    plt.xlabel('seconds')\n",
    "    plt.legend(['train', 'test'])\n",
    "    plt.show() \n",
    "\n",
    "def main():\n",
    "    #make all objects \n",
    "    device = select_device()\n",
    "    net = Net().to(device)\n",
    "    optimizer = optim.Adam(net.parameters(), lr = 0.001)\n",
    "    loss_function = nn.MSELoss()\n",
    "    xTrain, yTrain, xTest, yTest = organize_data()\n",
    "    #make constants\n",
    "    MODEL_NAME = f\"model-{int(time.time())}\"\n",
    "    BATCH_SIZE = 100\n",
    "    EPOCHS = 20\n",
    "    #train the model\n",
    "    train(net, xTrain, yTrain, xTest, yTest, device, loss_function, optimizer, EPOCHS, BATCH_SIZE, MODEL_NAME)\n",
    "    #test the model\n",
    "    batch_test(net, xTest, yTest, device, BATCH_SIZE)\n",
    "    model_name = MODEL_NAME\n",
    "    #show the accuracy/loss\n",
    "    create_acc_loss_graph(model_name, \"acc\")\n",
    "\n",
    "#run the program\n",
    "main()\n",
    "\n",
    "        \n",
    "\n"
   ]
  }
 ],
 "metadata": {
  "kernelspec": {
   "display_name": "Python 3.9.13 64-bit",
   "language": "python",
   "name": "python3"
  },
  "language_info": {
   "codemirror_mode": {
    "name": "ipython",
    "version": 3
   },
   "file_extension": ".py",
   "mimetype": "text/x-python",
   "name": "python",
   "nbconvert_exporter": "python",
   "pygments_lexer": "ipython3",
   "version": "3.9.13"
  },
  "orig_nbformat": 4,
  "vscode": {
   "interpreter": {
    "hash": "e51871c569916b212a5169136257eb9b772996936338bc66e712417a39169ea3"
   }
  }
 },
 "nbformat": 4,
 "nbformat_minor": 2
}
