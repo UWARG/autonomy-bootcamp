{
 "cells": [
  {
   "cell_type": "code",
   "execution_count": 2,
   "metadata": {},
   "outputs": [
    {
     "name": "stderr",
     "output_type": "stream",
     "text": [
      "100%|██████████| 500/500 [00:08<00:00, 61.10it/s]\n"
     ]
    },
    {
     "name": "stdout",
     "output_type": "stream",
     "text": [
      "Epoch: 0. Loss: 0.07111020386219025\n"
     ]
    },
    {
     "name": "stderr",
     "output_type": "stream",
     "text": [
      "100%|██████████| 500/500 [00:07<00:00, 65.43it/s]\n"
     ]
    },
    {
     "name": "stdout",
     "output_type": "stream",
     "text": [
      "Epoch: 1. Loss: 0.06358633935451508\n"
     ]
    },
    {
     "name": "stderr",
     "output_type": "stream",
     "text": [
      "100%|██████████| 500/500 [00:07<00:00, 65.69it/s]\n"
     ]
    },
    {
     "name": "stdout",
     "output_type": "stream",
     "text": [
      "Epoch: 2. Loss: 0.05922078713774681\n"
     ]
    },
    {
     "name": "stderr",
     "output_type": "stream",
     "text": [
      "100%|██████████| 500/500 [00:07<00:00, 65.07it/s]\n"
     ]
    },
    {
     "name": "stdout",
     "output_type": "stream",
     "text": [
      "Epoch: 3. Loss: 0.05363539233803749\n"
     ]
    },
    {
     "name": "stderr",
     "output_type": "stream",
     "text": [
      "100%|██████████| 500/500 [00:07<00:00, 65.38it/s]\n"
     ]
    },
    {
     "name": "stdout",
     "output_type": "stream",
     "text": [
      "Epoch: 4. Loss: 0.050720639526844025\n"
     ]
    },
    {
     "name": "stderr",
     "output_type": "stream",
     "text": [
      "100%|██████████| 500/500 [00:07<00:00, 65.95it/s]\n"
     ]
    },
    {
     "name": "stdout",
     "output_type": "stream",
     "text": [
      "Epoch: 5. Loss: 0.048256997019052505\n"
     ]
    },
    {
     "name": "stderr",
     "output_type": "stream",
     "text": [
      "100%|██████████| 500/500 [00:07<00:00, 65.81it/s]\n"
     ]
    },
    {
     "name": "stdout",
     "output_type": "stream",
     "text": [
      "Epoch: 6. Loss: 0.049815524369478226\n"
     ]
    },
    {
     "name": "stderr",
     "output_type": "stream",
     "text": [
      "100%|██████████| 500/500 [00:07<00:00, 66.37it/s]\n"
     ]
    },
    {
     "name": "stdout",
     "output_type": "stream",
     "text": [
      "Epoch: 7. Loss: 0.04975448176264763\n"
     ]
    },
    {
     "name": "stderr",
     "output_type": "stream",
     "text": [
      "100%|██████████| 500/500 [00:07<00:00, 65.09it/s]\n"
     ]
    },
    {
     "name": "stdout",
     "output_type": "stream",
     "text": [
      "Epoch: 8. Loss: 0.04462607949972153\n"
     ]
    },
    {
     "name": "stderr",
     "output_type": "stream",
     "text": [
      "100%|██████████| 500/500 [00:07<00:00, 66.60it/s]\n"
     ]
    },
    {
     "name": "stdout",
     "output_type": "stream",
     "text": [
      "Epoch: 9. Loss: 0.042249083518981934\n",
      "Test Accuracy:  0.64\n"
     ]
    },
    {
     "ename": "TypeError",
     "evalue": "'other' must be an instance of matplotlib.axes._base._AxesBase, not a int",
     "output_type": "error",
     "traceback": [
      "\u001b[1;31m---------------------------------------------------------------------------\u001b[0m",
      "\u001b[1;31mTypeError\u001b[0m                                 Traceback (most recent call last)",
      "\u001b[1;32mc:\\Users\\ethan\\OneDrive\\Documents\\GitHub\\computer-vision-bootcamp\\main_juypter.ipynb Cell 1\u001b[0m in \u001b[0;36m<cell line: 164>\u001b[1;34m()\u001b[0m\n\u001b[0;32m    <a href='vscode-notebook-cell:/c%3A/Users/ethan/OneDrive/Documents/GitHub/computer-vision-bootcamp/main_juypter.ipynb#ch0000000?line=160'>161</a>\u001b[0m     ax2\u001b[39m.\u001b[39mlegend(loc \u001b[39m=\u001b[39m \u001b[39m2\u001b[39m)\n\u001b[0;32m    <a href='vscode-notebook-cell:/c%3A/Users/ethan/OneDrive/Documents/GitHub/computer-vision-bootcamp/main_juypter.ipynb#ch0000000?line=161'>162</a>\u001b[0m     plt\u001b[39m.\u001b[39mshow() \n\u001b[1;32m--> <a href='vscode-notebook-cell:/c%3A/Users/ethan/OneDrive/Documents/GitHub/computer-vision-bootcamp/main_juypter.ipynb#ch0000000?line=163'>164</a>\u001b[0m create_acc_loss_graph(model_name)\n",
      "\u001b[1;32mc:\\Users\\ethan\\OneDrive\\Documents\\GitHub\\computer-vision-bootcamp\\main_juypter.ipynb Cell 1\u001b[0m in \u001b[0;36mcreate_acc_loss_graph\u001b[1;34m(model_name)\u001b[0m\n\u001b[0;32m    <a href='vscode-notebook-cell:/c%3A/Users/ethan/OneDrive/Documents/GitHub/computer-vision-bootcamp/main_juypter.ipynb#ch0000000?line=152'>153</a>\u001b[0m fig \u001b[39m=\u001b[39m plt\u001b[39m.\u001b[39mfigure()\n\u001b[0;32m    <a href='vscode-notebook-cell:/c%3A/Users/ethan/OneDrive/Documents/GitHub/computer-vision-bootcamp/main_juypter.ipynb#ch0000000?line=153'>154</a>\u001b[0m ax1 \u001b[39m=\u001b[39m plt\u001b[39m.\u001b[39msubplot2grid((\u001b[39m2\u001b[39m,\u001b[39m1\u001b[39m), (\u001b[39m0\u001b[39m,\u001b[39m0\u001b[39m))\n\u001b[1;32m--> <a href='vscode-notebook-cell:/c%3A/Users/ethan/OneDrive/Documents/GitHub/computer-vision-bootcamp/main_juypter.ipynb#ch0000000?line=154'>155</a>\u001b[0m ax2 \u001b[39m=\u001b[39m plt\u001b[39m.\u001b[39;49msubplot2grid((\u001b[39m2\u001b[39;49m,\u001b[39m1\u001b[39;49m), (\u001b[39m1\u001b[39;49m,\u001b[39m0\u001b[39;49m), sharex \u001b[39m=\u001b[39;49m \u001b[39m1\u001b[39;49m)\n\u001b[0;32m    <a href='vscode-notebook-cell:/c%3A/Users/ethan/OneDrive/Documents/GitHub/computer-vision-bootcamp/main_juypter.ipynb#ch0000000?line=155'>156</a>\u001b[0m ax1\u001b[39m.\u001b[39mplot(epochs, accuracies, label \u001b[39m=\u001b[39m \u001b[39m\"\u001b[39m\u001b[39macc\u001b[39m\u001b[39m\"\u001b[39m)\n\u001b[0;32m    <a href='vscode-notebook-cell:/c%3A/Users/ethan/OneDrive/Documents/GitHub/computer-vision-bootcamp/main_juypter.ipynb#ch0000000?line=156'>157</a>\u001b[0m ax1\u001b[39m.\u001b[39mplot(epochs, test_accs, label \u001b[39m=\u001b[39m \u001b[39m\"\u001b[39m\u001b[39mtest_acc\u001b[39m\u001b[39m\"\u001b[39m)\n",
      "File \u001b[1;32mc:\\Users\\ethan\\AppData\\Local\\Programs\\Python\\Python39\\lib\\site-packages\\matplotlib\\pyplot.py:1598\u001b[0m, in \u001b[0;36msubplot2grid\u001b[1;34m(shape, loc, rowspan, colspan, fig, **kwargs)\u001b[0m\n\u001b[0;32m   1595\u001b[0m gs \u001b[39m=\u001b[39m GridSpec\u001b[39m.\u001b[39m_check_gridspec_exists(fig, rows, cols)\n\u001b[0;32m   1597\u001b[0m subplotspec \u001b[39m=\u001b[39m gs\u001b[39m.\u001b[39mnew_subplotspec(loc, rowspan\u001b[39m=\u001b[39mrowspan, colspan\u001b[39m=\u001b[39mcolspan)\n\u001b[1;32m-> 1598\u001b[0m ax \u001b[39m=\u001b[39m fig\u001b[39m.\u001b[39madd_subplot(subplotspec, \u001b[39m*\u001b[39m\u001b[39m*\u001b[39mkwargs)\n\u001b[0;32m   1599\u001b[0m bbox \u001b[39m=\u001b[39m ax\u001b[39m.\u001b[39mbbox\n\u001b[0;32m   1600\u001b[0m axes_to_delete \u001b[39m=\u001b[39m []\n",
      "File \u001b[1;32mc:\\Users\\ethan\\AppData\\Local\\Programs\\Python\\Python39\\lib\\site-packages\\matplotlib\\figure.py:772\u001b[0m, in \u001b[0;36mFigureBase.add_subplot\u001b[1;34m(self, *args, **kwargs)\u001b[0m\n\u001b[0;32m    769\u001b[0m         args \u001b[39m=\u001b[39m \u001b[39mtuple\u001b[39m(\u001b[39mmap\u001b[39m(\u001b[39mint\u001b[39m, \u001b[39mstr\u001b[39m(args[\u001b[39m0\u001b[39m])))\n\u001b[0;32m    770\u001b[0m     projection_class, pkw \u001b[39m=\u001b[39m \u001b[39mself\u001b[39m\u001b[39m.\u001b[39m_process_projection_requirements(\n\u001b[0;32m    771\u001b[0m         \u001b[39m*\u001b[39margs, \u001b[39m*\u001b[39m\u001b[39m*\u001b[39mkwargs)\n\u001b[1;32m--> 772\u001b[0m     ax \u001b[39m=\u001b[39m subplot_class_factory(projection_class)(\u001b[39mself\u001b[39m, \u001b[39m*\u001b[39margs, \u001b[39m*\u001b[39m\u001b[39m*\u001b[39mpkw)\n\u001b[0;32m    773\u001b[0m     key \u001b[39m=\u001b[39m (projection_class, pkw)\n\u001b[0;32m    774\u001b[0m \u001b[39mreturn\u001b[39;00m \u001b[39mself\u001b[39m\u001b[39m.\u001b[39m_add_axes_internal(ax, key)\n",
      "File \u001b[1;32mc:\\Users\\ethan\\AppData\\Local\\Programs\\Python\\Python39\\lib\\site-packages\\matplotlib\\axes\\_subplots.py:34\u001b[0m, in \u001b[0;36mSubplotBase.__init__\u001b[1;34m(self, fig, *args, **kwargs)\u001b[0m\n\u001b[0;32m     15\u001b[0m \u001b[39m\"\"\"\u001b[39;00m\n\u001b[0;32m     16\u001b[0m \u001b[39mParameters\u001b[39;00m\n\u001b[0;32m     17\u001b[0m \u001b[39m----------\u001b[39;00m\n\u001b[1;32m   (...)\u001b[0m\n\u001b[0;32m     31\u001b[0m \u001b[39m    Keyword arguments are passed to the Axes (sub)class constructor.\u001b[39;00m\n\u001b[0;32m     32\u001b[0m \u001b[39m\"\"\"\u001b[39;00m\n\u001b[0;32m     33\u001b[0m \u001b[39m# _axes_class is set in the subplot_class_factory\u001b[39;00m\n\u001b[1;32m---> 34\u001b[0m \u001b[39mself\u001b[39m\u001b[39m.\u001b[39m_axes_class\u001b[39m.\u001b[39m\u001b[39m__init__\u001b[39m(\u001b[39mself\u001b[39m, fig, [\u001b[39m0\u001b[39m, \u001b[39m0\u001b[39m, \u001b[39m1\u001b[39m, \u001b[39m1\u001b[39m], \u001b[39m*\u001b[39m\u001b[39m*\u001b[39mkwargs)\n\u001b[0;32m     35\u001b[0m \u001b[39m# This will also update the axes position.\u001b[39;00m\n\u001b[0;32m     36\u001b[0m \u001b[39mself\u001b[39m\u001b[39m.\u001b[39mset_subplotspec(SubplotSpec\u001b[39m.\u001b[39m_from_subplot_args(fig, args))\n",
      "File \u001b[1;32mc:\\Users\\ethan\\AppData\\Local\\Programs\\Python\\Python39\\lib\\site-packages\\matplotlib\\_api\\deprecation.py:459\u001b[0m, in \u001b[0;36mmake_keyword_only.<locals>.wrapper\u001b[1;34m(*args, **kwargs)\u001b[0m\n\u001b[0;32m    453\u001b[0m \u001b[39mif\u001b[39;00m \u001b[39mlen\u001b[39m(args) \u001b[39m>\u001b[39m name_idx:\n\u001b[0;32m    454\u001b[0m     warn_deprecated(\n\u001b[0;32m    455\u001b[0m         since, message\u001b[39m=\u001b[39m\u001b[39m\"\u001b[39m\u001b[39mPassing the \u001b[39m\u001b[39m%(name)s\u001b[39;00m\u001b[39m \u001b[39m\u001b[39m%(obj_type)s\u001b[39;00m\u001b[39m \u001b[39m\u001b[39m\"\u001b[39m\n\u001b[0;32m    456\u001b[0m         \u001b[39m\"\u001b[39m\u001b[39mpositionally is deprecated since Matplotlib \u001b[39m\u001b[39m%(since)s\u001b[39;00m\u001b[39m; the \u001b[39m\u001b[39m\"\u001b[39m\n\u001b[0;32m    457\u001b[0m         \u001b[39m\"\u001b[39m\u001b[39mparameter will become keyword-only \u001b[39m\u001b[39m%(removal)s\u001b[39;00m\u001b[39m.\u001b[39m\u001b[39m\"\u001b[39m,\n\u001b[0;32m    458\u001b[0m         name\u001b[39m=\u001b[39mname, obj_type\u001b[39m=\u001b[39m\u001b[39mf\u001b[39m\u001b[39m\"\u001b[39m\u001b[39mparameter of \u001b[39m\u001b[39m{\u001b[39;00mfunc\u001b[39m.\u001b[39m\u001b[39m__name__\u001b[39m\u001b[39m}\u001b[39;00m\u001b[39m()\u001b[39m\u001b[39m\"\u001b[39m)\n\u001b[1;32m--> 459\u001b[0m \u001b[39mreturn\u001b[39;00m func(\u001b[39m*\u001b[39margs, \u001b[39m*\u001b[39m\u001b[39m*\u001b[39mkwargs)\n",
      "File \u001b[1;32mc:\\Users\\ethan\\AppData\\Local\\Programs\\Python\\Python39\\lib\\site-packages\\matplotlib\\axes\\_base.py:632\u001b[0m, in \u001b[0;36m_AxesBase.__init__\u001b[1;34m(self, fig, rect, facecolor, frameon, sharex, sharey, label, xscale, yscale, box_aspect, **kwargs)\u001b[0m\n\u001b[0;32m    629\u001b[0m \u001b[39mself\u001b[39m\u001b[39m.\u001b[39mset_axisbelow(mpl\u001b[39m.\u001b[39mrcParams[\u001b[39m'\u001b[39m\u001b[39maxes.axisbelow\u001b[39m\u001b[39m'\u001b[39m])\n\u001b[0;32m    631\u001b[0m \u001b[39mself\u001b[39m\u001b[39m.\u001b[39m_rasterization_zorder \u001b[39m=\u001b[39m \u001b[39mNone\u001b[39;00m\n\u001b[1;32m--> 632\u001b[0m \u001b[39mself\u001b[39;49m\u001b[39m.\u001b[39;49mcla()\n\u001b[0;32m    634\u001b[0m \u001b[39m# funcs used to format x and y - fall back on major formatters\u001b[39;00m\n\u001b[0;32m    635\u001b[0m \u001b[39mself\u001b[39m\u001b[39m.\u001b[39mfmt_xdata \u001b[39m=\u001b[39m \u001b[39mNone\u001b[39;00m\n",
      "File \u001b[1;32mc:\\Users\\ethan\\AppData\\Local\\Programs\\Python\\Python39\\lib\\site-packages\\matplotlib\\axes\\_base.py:1206\u001b[0m, in \u001b[0;36m_AxesBase.cla\u001b[1;34m(self)\u001b[0m\n\u001b[0;32m   1203\u001b[0m \u001b[39mself\u001b[39m\u001b[39m.\u001b[39mcallbacks \u001b[39m=\u001b[39m cbook\u001b[39m.\u001b[39mCallbackRegistry()\n\u001b[0;32m   1205\u001b[0m \u001b[39mif\u001b[39;00m \u001b[39mself\u001b[39m\u001b[39m.\u001b[39m_sharex \u001b[39mis\u001b[39;00m \u001b[39mnot\u001b[39;00m \u001b[39mNone\u001b[39;00m:\n\u001b[1;32m-> 1206\u001b[0m     \u001b[39mself\u001b[39;49m\u001b[39m.\u001b[39;49msharex(\u001b[39mself\u001b[39;49m\u001b[39m.\u001b[39;49m_sharex)\n\u001b[0;32m   1207\u001b[0m \u001b[39melse\u001b[39;00m:\n\u001b[0;32m   1208\u001b[0m     \u001b[39mself\u001b[39m\u001b[39m.\u001b[39mxaxis\u001b[39m.\u001b[39m_set_scale(\u001b[39m'\u001b[39m\u001b[39mlinear\u001b[39m\u001b[39m'\u001b[39m)\n",
      "File \u001b[1;32mc:\\Users\\ethan\\AppData\\Local\\Programs\\Python\\Python39\\lib\\site-packages\\matplotlib\\axes\\_base.py:1153\u001b[0m, in \u001b[0;36m_AxesBase.sharex\u001b[1;34m(self, other)\u001b[0m\n\u001b[0;32m   1145\u001b[0m \u001b[39mdef\u001b[39;00m \u001b[39msharex\u001b[39m(\u001b[39mself\u001b[39m, other):\n\u001b[0;32m   1146\u001b[0m     \u001b[39m\"\"\"\u001b[39;00m\n\u001b[0;32m   1147\u001b[0m \u001b[39m    Share the x-axis with *other*.\u001b[39;00m\n\u001b[0;32m   1148\u001b[0m \n\u001b[1;32m   (...)\u001b[0m\n\u001b[0;32m   1151\u001b[0m \u001b[39m    another Axes.\u001b[39;00m\n\u001b[0;32m   1152\u001b[0m \u001b[39m    \"\"\"\u001b[39;00m\n\u001b[1;32m-> 1153\u001b[0m     _api\u001b[39m.\u001b[39;49mcheck_isinstance(_AxesBase, other\u001b[39m=\u001b[39;49mother)\n\u001b[0;32m   1154\u001b[0m     \u001b[39mif\u001b[39;00m \u001b[39mself\u001b[39m\u001b[39m.\u001b[39m_sharex \u001b[39mis\u001b[39;00m \u001b[39mnot\u001b[39;00m \u001b[39mNone\u001b[39;00m \u001b[39mand\u001b[39;00m other \u001b[39mis\u001b[39;00m \u001b[39mnot\u001b[39;00m \u001b[39mself\u001b[39m\u001b[39m.\u001b[39m_sharex:\n\u001b[0;32m   1155\u001b[0m         \u001b[39mraise\u001b[39;00m \u001b[39mValueError\u001b[39;00m(\u001b[39m\"\u001b[39m\u001b[39mx-axis is already shared\u001b[39m\u001b[39m\"\u001b[39m)\n",
      "File \u001b[1;32mc:\\Users\\ethan\\AppData\\Local\\Programs\\Python\\Python39\\lib\\site-packages\\matplotlib\\_api\\__init__.py:93\u001b[0m, in \u001b[0;36mcheck_isinstance\u001b[1;34m(_types, **kwargs)\u001b[0m\n\u001b[0;32m     91\u001b[0m     names\u001b[39m.\u001b[39mremove(\u001b[39m\"\u001b[39m\u001b[39mNone\u001b[39m\u001b[39m\"\u001b[39m)\n\u001b[0;32m     92\u001b[0m     names\u001b[39m.\u001b[39mappend(\u001b[39m\"\u001b[39m\u001b[39mNone\u001b[39m\u001b[39m\"\u001b[39m)\n\u001b[1;32m---> 93\u001b[0m \u001b[39mraise\u001b[39;00m \u001b[39mTypeError\u001b[39;00m(\n\u001b[0;32m     94\u001b[0m     \u001b[39m\"\u001b[39m\u001b[39m{!r}\u001b[39;00m\u001b[39m must be an instance of \u001b[39m\u001b[39m{}\u001b[39;00m\u001b[39m, not a \u001b[39m\u001b[39m{}\u001b[39;00m\u001b[39m\"\u001b[39m\u001b[39m.\u001b[39mformat(\n\u001b[0;32m     95\u001b[0m         k,\n\u001b[0;32m     96\u001b[0m         \u001b[39m\"\u001b[39m\u001b[39m, \u001b[39m\u001b[39m\"\u001b[39m\u001b[39m.\u001b[39mjoin(names[:\u001b[39m-\u001b[39m\u001b[39m1\u001b[39m]) \u001b[39m+\u001b[39m \u001b[39m\"\u001b[39m\u001b[39m or \u001b[39m\u001b[39m\"\u001b[39m \u001b[39m+\u001b[39m names[\u001b[39m-\u001b[39m\u001b[39m1\u001b[39m]\n\u001b[0;32m     97\u001b[0m         \u001b[39mif\u001b[39;00m \u001b[39mlen\u001b[39m(names) \u001b[39m>\u001b[39m \u001b[39m1\u001b[39m \u001b[39melse\u001b[39;00m names[\u001b[39m0\u001b[39m],\n\u001b[0;32m     98\u001b[0m         type_name(\u001b[39mtype\u001b[39m(v))))\n",
      "\u001b[1;31mTypeError\u001b[0m: 'other' must be an instance of matplotlib.axes._base._AxesBase, not a int"
     ]
    },
    {
     "data": {
      "image/png": "[encoded data removed]",
      "text/plain": [
       "<Figure size 432x288 with 1 Axes>"
      ]
     },
     "metadata": {},
     "output_type": "display_data"
    }
   ],
   "source": [
    "\"\"\"\n",
    "This is a starter file to get you going. You may also include other files if you feel it's necessary.\n",
    "\n",
    "Make sure to follow the code convention described here:\n",
    "https://github.com/UWARG/computer-vision-python/blob/main/README.md#naming-and-typing-conventions\n",
    "\n",
    "Hints:\n",
    "* The internet is your friend! Don't be afraid to search for tutorials/intros/etc.\n",
    "* We suggest using a convolutional neural network.\n",
    "* TensorFlow Keras has the CIFAR-10 dataset as a module, so you don't need to manually download and unpack it.\n",
    "\"\"\"\n",
    "\n",
    "# Import whatever libraries/modules you need\n",
    "\n",
    "from ast import arg\n",
    "from matplotlib import style\n",
    "import matplotlib.pyplot as plt\n",
    "import numpy as np\n",
    "import tensorflow as tf\n",
    "import time\n",
    "import torch\n",
    "import torch.nn as nn\n",
    "import torch.nn.functional as F\n",
    "import torch.optim as optim\n",
    "from tqdm import tqdm\n",
    "from re import L\n",
    "\n",
    "from zmq import device\n",
    "\n",
    "\n",
    "# Your working code here\n",
    "REBUILD_DATA = False\n",
    "device = torch.device(\"cuda:0\")\n",
    "\n",
    "(x_train, y_train), (x_test, y_test) = tf.keras.datasets.cifar10.load_data()\n",
    "x_train = np.dot(x_train, [0.299, 0.587, 0.114])\n",
    "x_train = torch.Tensor(x_train) #play around with these since loss input n output rnt the same\n",
    "x_train = x_train/255.0\n",
    "x_test = np.dot(x_test, [0.299, 0.587, 0.114])\n",
    "x_test = torch.Tensor(x_test) #play around with these since loss input n output rnt the same\n",
    "x_test = x_test/255.0\n",
    "y_train = torch.Tensor(y_train)\n",
    "y_test = torch.Tensor(y_test)\n",
    "\n",
    "ytrain = torch.zeros(50000, 10)\n",
    "ytest = torch.zeros(10000, 10)\n",
    "\n",
    "for i in range(50000):\n",
    "    ytrain[i][(y_train[i] - 1).long()] = 1.0\n",
    "\n",
    "for i in range(10000):\n",
    "    ytest[i][(y_test[i] - 1).long()] = 1.0\n",
    "\n",
    "y_train = ytrain\n",
    "y_test = ytest\n",
    "\n",
    "class Net(nn.Module):\n",
    "    def __init__(self):\n",
    "        super().__init__()\n",
    "        self.conv1 = nn.Conv2d(1, 16, 5)\n",
    "        self.conv2 = nn.Conv2d(16, 32, 5)\n",
    "        #x = torch.randn(32, 32).view(-1, 1, 32, 32)\n",
    "        #self._to_linear = None\n",
    "        #self.convs(x)\n",
    "        nn.Flatten()\n",
    "        self.fc1 = nn.Linear(800, 512)\n",
    "        self.fc2 = nn.Linear(512, 10)\n",
    "    def convs(self, x):\n",
    "        x = F.max_pool2d(F.relu(self.conv1(x)), (2, 2))\n",
    "        x = F.max_pool2d(F.relu(self.conv2(x)), (2, 2))\n",
    "        #if self._to_linear is None:\n",
    "            #self._to_linear = x[0].shape[0]*x[0].shape[1]*x[0].shape[2]\n",
    "        return x\n",
    "    def forward(self, x):\n",
    "        x = self.convs(x)\n",
    "        x = x.view(-1, 800)\n",
    "        x = F.relu(self.fc1(x))\n",
    "        x = self.fc2(x)\n",
    "        return F.softmax(x, dim = 1)\n",
    "\n",
    "\n",
    "net = Net().to(device)\n",
    "optimizer = optim.Adam(net.parameters(), lr = 0.001)\n",
    "loss_function = nn.MSELoss()\n",
    "MODEL_NAME = f\"model-{int(time.time())}\"\n",
    "\n",
    "BATCH_SIZE = 100\n",
    "EPOCHS = 10 \n",
    "\n",
    "def train(net): \n",
    "    with open(\"model.log\", \"a\") as f: \n",
    "        for epoch in range(EPOCHS):\n",
    "            for i in tqdm(range(0, len(x_train), BATCH_SIZE)): \n",
    "                x_batch = x_train[i:i+BATCH_SIZE].view(-1, 1, 32, 32)\n",
    "                y_batch = y_train[i:i+BATCH_SIZE]\n",
    "                x_batch, y_batch = x_batch.to(device), y_batch.to(device)\n",
    "                acc, loss = fwd_pass(x_batch, y_batch, train = True)\n",
    "                if i % 10 == 0:\n",
    "                    val_acc, val_loss = test(size = 100)\n",
    "                    f.write(f\"{MODEL_NAME}, {epoch}, {round(float(acc), 2)}, {round(float(loss), 4)}, {round(float(val_acc), 2)}, {round(float(val_loss), 4)}\\n\")\n",
    "            print(f\"Epoch: {epoch}. Loss: {loss}\")\n",
    "\n",
    "def batch_test(net): \n",
    "    with torch.no_grad():\n",
    "        x_batch = x_test[:BATCH_SIZE].view(-1, 1, 32, 32)\n",
    "        y_batch = y_test[:BATCH_SIZE]\n",
    "        x_batch, y_batch = x_batch.to(device), y_batch.to(device)\n",
    "        net.zero_grad()\n",
    "        outputs = net(x_batch)\n",
    "        matches = [torch.argmax(i) == torch.argmax(j) for i, j in zip(outputs, y_batch)]\n",
    "        acc = matches.count(True)/len(matches) #add if statement\n",
    "        print(\"Test Accuracy: \", round(acc, 3))\n",
    "\n",
    "def fwd_pass(X, y, train = False):\n",
    "    if train:\n",
    "        net.zero_grad()\n",
    "    outputs = net(X)\n",
    "    matches = [torch.argmax(i) == torch.argmax(j) for i, j in zip(outputs, y)]\n",
    "    acc = matches.count(True)/len(matches) \n",
    "    loss = loss_function(outputs, y)\n",
    "    if train: \n",
    "        loss.backward()\n",
    "        optimizer.step()\n",
    "    return acc, loss\n",
    "\n",
    "def test(size = 32):\n",
    "    X, y = x_test[:size], y_test[:size]\n",
    "    val_acc, val_loss = fwd_pass(X.view(-1, 1, 32, 32).to(device), y.to(device))\n",
    "    return val_acc, val_loss\n",
    "\n",
    "\n",
    "train(net)\n",
    "batch_test(net)\n",
    "\n",
    "style.use(\"ggplot\")\n",
    "model_name = MODEL_NAME\n",
    "\n",
    "def create_acc_loss_graph(model_name):\n",
    "    contents = open(\"model.log\", \"r\").read().split(\"\\n\")\n",
    "    epochs = []\n",
    "    accuracies = []\n",
    "    losses = []\n",
    "    test_accs = []\n",
    "    test_losses = []\n",
    "    for c in contents: \n",
    "        if model_name in c:\n",
    "            name, epoch, acc, loss, test_acc, test_loss = c.split(\",\")\n",
    "            epochs.append(float(epoch))\n",
    "            accuracies.append(float(acc))\n",
    "            losses.append(float(loss))\n",
    "            test_accs.append(float(test_acc))\n",
    "            test_losses.append(float(test_loss))\n",
    "    fig = plt.figure()\n",
    "    ax1 = plt.subplot2grid((2,1), (0,0))\n",
    "    ax2 = plt.subplot2grid((2,1), (1,0), sharex = ax1)\n",
    "    ax1.plot(epochs, accuracies, label = \"acc\")\n",
    "    ax1.plot(epochs, test_accs, label = \"test_acc\")\n",
    "    ax1.legend(loc = 2)\n",
    "    ax2.plot(epochs, losses, label = \"loss\")\n",
    "    ax2.plot(epochs, test_losses, label = \"test_loss\")\n",
    "    ax2.legend(loc = 2)\n",
    "    plt.show() \n",
    "\n",
    "create_acc_loss_graph(model_name)\n",
    "\n",
    "\n",
    "        \n",
    "\n"
   ]
  }
 ],
 "metadata": {
  "kernelspec": {
   "display_name": "Python 3.9.13 64-bit",
   "language": "python",
   "name": "python3"
  },
  "language_info": {
   "codemirror_mode": {
    "name": "ipython",
    "version": 3
   },
   "file_extension": ".py",
   "mimetype": "text/x-python",
   "name": "python",
   "nbconvert_exporter": "python",
   "pygments_lexer": "ipython3",
   "version": "3.9.13"
  },
  "orig_nbformat": 4,
  "vscode": {
   "interpreter": {
    "hash": "e51871c569916b212a5169136257eb9b772996936338bc66e712417a39169ea3"
   }
  }
 },
 "nbformat": 4,
 "nbformat_minor": 2
}
