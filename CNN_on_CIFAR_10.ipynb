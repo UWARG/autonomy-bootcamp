{
  "nbformat": 4,
  "nbformat_minor": 0,
  "metadata": {
    "colab": {
      "name": "CNN on CIFAR-10.ipynb",
      "provenance": [],
      "collapsed_sections": []
    },
    "kernelspec": {
      "name": "python3",
      "display_name": "Python 3"
    },
    "language_info": {
      "name": "python"
    }
  },
  "cells": [
    {
      "cell_type": "code",
      "metadata": {
        "id": "1Z0BT1s1pqsR"
      },
      "source": [
        "# Imports\n",
        "import matplotlib.pyplot as plt\n",
        "import numpy as np\n",
        "import pandas as pd\n",
        "%matplotlib inline"
      ],
      "execution_count": null,
      "outputs": []
    },
    {
      "cell_type": "code",
      "metadata": {
        "id": "guRFZpvHpwnB"
      },
      "source": [
        "# Importing dataset\n",
        "from tensorflow.keras.datasets import cifar10"
      ],
      "execution_count": null,
      "outputs": []
    },
    {
      "cell_type": "code",
      "metadata": {
        "colab": {
          "base_uri": "https://localhost:8080/"
        },
        "id": "jlQEV0JFpzP-",
        "outputId": "f4249a1e-2c7a-4e3b-ea4a-c488ef7d6e24"
      },
      "source": [
        "(xTrain, yTrain), (xTest, yTest) = cifar10.load_data()"
      ],
      "execution_count": null,
      "outputs": [
        {
          "output_type": "stream",
          "text": [
            "Downloading data from https://www.cs.toronto.edu/~kriz/cifar-10-python.tar.gz\n",
            "170500096/170498071 [==============================] - 4s 0us/step\n",
            "170508288/170498071 [==============================] - 4s 0us/step\n"
          ],
          "name": "stdout"
        }
      ]
    },
    {
      "cell_type": "code",
      "metadata": {
        "colab": {
          "base_uri": "https://localhost:8080/"
        },
        "id": "5jmq68BNp_R-",
        "outputId": "b88b1108-4c1f-4d80-d41b-089bbad811c3"
      },
      "source": [
        "# 50000 images, 32 px by 32 px, 3 color channels\n",
        "xTrain.shape"
      ],
      "execution_count": null,
      "outputs": [
        {
          "output_type": "execute_result",
          "data": {
            "text/plain": [
              "(50000, 32, 32, 3)"
            ]
          },
          "metadata": {},
          "execution_count": 4
        }
      ]
    },
    {
      "cell_type": "code",
      "metadata": {
        "colab": {
          "base_uri": "https://localhost:8080/",
          "height": 285
        },
        "id": "ZbEMR5ySqByu",
        "outputId": "ac7c566d-4d76-46af-9600-e6641ea73c78"
      },
      "source": [
        "# Examining a sample image from training set\n",
        "plt.imshow(xTrain[9])"
      ],
      "execution_count": null,
      "outputs": [
        {
          "output_type": "execute_result",
          "data": {
            "text/plain": [
              "<matplotlib.image.AxesImage at 0x7f1a67acc6d0>"
            ]
          },
          "metadata": {},
          "execution_count": 11
        },
        {
          "output_type": "display_data",
          "data": {
            "image/png": "[encoded data removed]",
            "text/plain": [
              "<Figure size 432x288 with 1 Axes>"
            ]
          },
          "metadata": {
            "needs_background": "light"
          }
        }
      ]
    },
    {
      "cell_type": "code",
      "metadata": {
        "id": "rgrTialWqEVO"
      },
      "source": [
        "# Scaling pixel values to be between 0 and 1\n",
        "xTrain = xTrain/255\n",
        "xTest = xTest/255 "
      ],
      "execution_count": null,
      "outputs": []
    },
    {
      "cell_type": "code",
      "metadata": {
        "id": "F5EAcuc8qfRY"
      },
      "source": [
        "from tensorflow.keras.utils import to_categorical\n",
        "# One hot encoding labels since this is a multiclass classification problem\n",
        "y_cat_train = to_categorical(yTrain)\n",
        "y_cat_test = to_categorical(yTest)"
      ],
      "execution_count": null,
      "outputs": []
    },
    {
      "cell_type": "code",
      "metadata": {
        "id": "D07aKHVFqpiW"
      },
      "source": [
        "# Importing TensorFlow models, layers and callbacks\n",
        "from tensorflow.keras.models import Sequential\n",
        "from tensorflow.keras.layers import Dense, Conv2D, MaxPool2D, Flatten\n",
        "from tensorflow.keras.callbacks import EarlyStopping"
      ],
      "execution_count": null,
      "outputs": []
    },
    {
      "cell_type": "code",
      "metadata": {
        "id": "m7NWFPrWq6c1"
      },
      "source": [
        "model = Sequential()\n",
        "\n",
        "# Convolutional layer\n",
        "model.add(Conv2D(filters=32, kernel_size=(4,4), input_shape=(32,32,3), activation='relu')) \n",
        "# Pooling layer\n",
        "model.add(MaxPool2D(pool_size=(2,2)))\n",
        "\n",
        "# Convolutional layer\n",
        "model.add(Conv2D(filters=32, kernel_size=(4,4), input_shape=(32,32,3), activation='relu')) \n",
        "# Pooling layer\n",
        "model.add(MaxPool2D(pool_size=(2,2)))\n",
        "\n",
        "model.add(Flatten())\n",
        "\n",
        "model.add(Dense(256, activation='relu'))\n",
        "\n",
        "# Softmax activation function used for multiclass classification\n",
        "# 10 neurons because there are 10 classes\n",
        "model.add(Dense(10, activation='softmax'))\n",
        "\n",
        "\n",
        "model.compile(loss='categorical_crossentropy', optimizer='adam', metrics=['accuracy'])"
      ],
      "execution_count": null,
      "outputs": []
    },
    {
      "cell_type": "code",
      "metadata": {
        "colab": {
          "base_uri": "https://localhost:8080/"
        },
        "id": "c2haRT2ur1lt",
        "outputId": "5f6fa946-04d5-430b-9810-75767e048f0a"
      },
      "source": [
        "# Summary of the model we defined in the cell above\n",
        "model.summary"
      ],
      "execution_count": null,
      "outputs": [
        {
          "output_type": "execute_result",
          "data": {
            "text/plain": [
              "<bound method Model.summary of <keras.engine.sequential.Sequential object at 0x7f1a6410c910>>"
            ]
          },
          "metadata": {},
          "execution_count": 23
        }
      ]
    },
    {
      "cell_type": "code",
      "metadata": {
        "id": "ABQVMLy_sGWl"
      },
      "source": [
        "# Patience is the number of epochs to wait if no progress is made on the validation set before stopping \n",
        "earlyStop = EarlyStopping(monitor='val_loss', patience=2) "
      ],
      "execution_count": null,
      "outputs": []
    },
    {
      "cell_type": "code",
      "metadata": {
        "colab": {
          "base_uri": "https://localhost:8080/"
        },
        "id": "YwQd2MAQsJK1",
        "outputId": "6fbbf72f-5b75-4cd1-fd1b-4289b0335a32"
      },
      "source": [
        "# Training the model\n",
        "model.fit(xTrain, y_cat_train, epochs=15, validation_data=(xTest, y_cat_test), callbacks=[earlyStop])"
      ],
      "execution_count": null,
      "outputs": [
        {
          "output_type": "stream",
          "text": [
            "Epoch 1/15\n",
            "1563/1563 [==============================] - 56s 35ms/step - loss: 1.5078 - accuracy: 0.4562 - val_loss: 1.2811 - val_accuracy: 0.5408\n",
            "Epoch 2/15\n",
            "1563/1563 [==============================] - 55s 35ms/step - loss: 1.1643 - accuracy: 0.5877 - val_loss: 1.0934 - val_accuracy: 0.6164\n",
            "Epoch 3/15\n",
            "1563/1563 [==============================] - 55s 35ms/step - loss: 1.0259 - accuracy: 0.6410 - val_loss: 1.0314 - val_accuracy: 0.6437\n",
            "Epoch 4/15\n",
            "1563/1563 [==============================] - 55s 35ms/step - loss: 0.9163 - accuracy: 0.6791 - val_loss: 1.0321 - val_accuracy: 0.6383\n",
            "Epoch 5/15\n",
            "1563/1563 [==============================] - 54s 35ms/step - loss: 0.8257 - accuracy: 0.7111 - val_loss: 0.9661 - val_accuracy: 0.6691\n",
            "Epoch 6/15\n",
            "1563/1563 [==============================] - 54s 35ms/step - loss: 0.7498 - accuracy: 0.7381 - val_loss: 0.9509 - val_accuracy: 0.6798\n",
            "Epoch 7/15\n",
            "1563/1563 [==============================] - 54s 35ms/step - loss: 0.6786 - accuracy: 0.7642 - val_loss: 0.9861 - val_accuracy: 0.6736\n",
            "Epoch 8/15\n",
            "1563/1563 [==============================] - 55s 35ms/step - loss: 0.6178 - accuracy: 0.7839 - val_loss: 0.9906 - val_accuracy: 0.6763\n"
          ],
          "name": "stdout"
        },
        {
          "output_type": "execute_result",
          "data": {
            "text/plain": [
              "<keras.callbacks.History at 0x7f1a63fe9790>"
            ]
          },
          "metadata": {},
          "execution_count": 26
        }
      ]
    },
    {
      "cell_type": "code",
      "metadata": {
        "id": "XxkdgKoJsQXE"
      },
      "source": [
        "# Creating a dataframe from model.history.history to view and plot metrics more easily\n",
        "metrics = pd.DataFrame(model.history.history)"
      ],
      "execution_count": null,
      "outputs": []
    },
    {
      "cell_type": "code",
      "metadata": {
        "colab": {
          "base_uri": "https://localhost:8080/",
          "height": 299
        },
        "id": "ukdGlIn4uJGq",
        "outputId": "fc1784ad-edee-4b88-ed91-9c4bde9ffee0"
      },
      "source": [
        "metrics"
      ],
      "execution_count": null,
      "outputs": [
        {
          "output_type": "execute_result",
          "data": {
            "text/html": [
              "<div>\n",
              "<style scoped>\n",
              "    .dataframe tbody tr th:only-of-type {\n",
              "        vertical-align: middle;\n",
              "    }\n",
              "\n",
              "    .dataframe tbody tr th {\n",
              "        vertical-align: top;\n",
              "    }\n",
              "\n",
              "    .dataframe thead th {\n",
              "        text-align: right;\n",
              "    }\n",
              "</style>\n",
              "<table border=\"1\" class=\"dataframe\">\n",
              "  <thead>\n",
              "    <tr style=\"text-align: right;\">\n",
              "      <th></th>\n",
              "      <th>loss</th>\n",
              "      <th>accuracy</th>\n",
              "      <th>val_loss</th>\n",
              "      <th>val_accuracy</th>\n",
              "    </tr>\n",
              "  </thead>\n",
              "  <tbody>\n",
              "    <tr>\n",
              "      <th>0</th>\n",
              "      <td>1.507831</td>\n",
              "      <td>0.45618</td>\n",
              "      <td>1.281102</td>\n",
              "      <td>0.5408</td>\n",
              "    </tr>\n",
              "    <tr>\n",
              "      <th>1</th>\n",
              "      <td>1.164255</td>\n",
              "      <td>0.58772</td>\n",
              "      <td>1.093417</td>\n",
              "      <td>0.6164</td>\n",
              "    </tr>\n",
              "    <tr>\n",
              "      <th>2</th>\n",
              "      <td>1.025950</td>\n",
              "      <td>0.64102</td>\n",
              "      <td>1.031408</td>\n",
              "      <td>0.6437</td>\n",
              "    </tr>\n",
              "    <tr>\n",
              "      <th>3</th>\n",
              "      <td>0.916268</td>\n",
              "      <td>0.67908</td>\n",
              "      <td>1.032140</td>\n",
              "      <td>0.6383</td>\n",
              "    </tr>\n",
              "    <tr>\n",
              "      <th>4</th>\n",
              "      <td>0.825678</td>\n",
              "      <td>0.71114</td>\n",
              "      <td>0.966123</td>\n",
              "      <td>0.6691</td>\n",
              "    </tr>\n",
              "    <tr>\n",
              "      <th>5</th>\n",
              "      <td>0.749809</td>\n",
              "      <td>0.73810</td>\n",
              "      <td>0.950876</td>\n",
              "      <td>0.6798</td>\n",
              "    </tr>\n",
              "    <tr>\n",
              "      <th>6</th>\n",
              "      <td>0.678606</td>\n",
              "      <td>0.76424</td>\n",
              "      <td>0.986077</td>\n",
              "      <td>0.6736</td>\n",
              "    </tr>\n",
              "    <tr>\n",
              "      <th>7</th>\n",
              "      <td>0.617808</td>\n",
              "      <td>0.78394</td>\n",
              "      <td>0.990650</td>\n",
              "      <td>0.6763</td>\n",
              "    </tr>\n",
              "  </tbody>\n",
              "</table>\n",
              "</div>"
            ],
            "text/plain": [
              "       loss  accuracy  val_loss  val_accuracy\n",
              "0  1.507831   0.45618  1.281102        0.5408\n",
              "1  1.164255   0.58772  1.093417        0.6164\n",
              "2  1.025950   0.64102  1.031408        0.6437\n",
              "3  0.916268   0.67908  1.032140        0.6383\n",
              "4  0.825678   0.71114  0.966123        0.6691\n",
              "5  0.749809   0.73810  0.950876        0.6798\n",
              "6  0.678606   0.76424  0.986077        0.6736\n",
              "7  0.617808   0.78394  0.990650        0.6763"
            ]
          },
          "metadata": {},
          "execution_count": 28
        }
      ]
    },
    {
      "cell_type": "code",
      "metadata": {
        "colab": {
          "base_uri": "https://localhost:8080/"
        },
        "id": "r4jON9rTuJ2y",
        "outputId": "e69b2a87-947a-4090-e95f-2f00ecbc0f01"
      },
      "source": [
        "metrics.columns"
      ],
      "execution_count": null,
      "outputs": [
        {
          "output_type": "execute_result",
          "data": {
            "text/plain": [
              "Index(['loss', 'accuracy', 'val_loss', 'val_accuracy'], dtype='object')"
            ]
          },
          "metadata": {},
          "execution_count": 29
        }
      ]
    },
    {
      "cell_type": "code",
      "metadata": {
        "colab": {
          "base_uri": "https://localhost:8080/",
          "height": 283
        },
        "id": "708BmH7ruPjL",
        "outputId": "538cf620-6af0-4275-fbb2-e8567889b3be"
      },
      "source": [
        "metrics[['loss', 'val_loss']].plot()"
      ],
      "execution_count": null,
      "outputs": [
        {
          "output_type": "execute_result",
          "data": {
            "text/plain": [
              "<matplotlib.axes._subplots.AxesSubplot at 0x7f1a638403d0>"
            ]
          },
          "metadata": {},
          "execution_count": 30
        },
        {
          "output_type": "display_data",
          "data": {
            "image/png": "[encoded data removed]",
            "text/plain": [
              "<Figure size 432x288 with 1 Axes>"
            ]
          },
          "metadata": {
            "needs_background": "light"
          }
        }
      ]
    },
    {
      "cell_type": "code",
      "metadata": {
        "colab": {
          "base_uri": "https://localhost:8080/",
          "height": 287
        },
        "id": "ICnSViJWuVrz",
        "outputId": "d5567f4b-6591-4290-a596-9887a74df7c7"
      },
      "source": [
        "metrics[['accuracy', 'val_accuracy']].plot()"
      ],
      "execution_count": null,
      "outputs": [
        {
          "output_type": "execute_result",
          "data": {
            "text/plain": [
              "<matplotlib.axes._subplots.AxesSubplot at 0x7f1a637df4d0>"
            ]
          },
          "metadata": {},
          "execution_count": 31
        },
        {
          "output_type": "display_data",
          "data": {
            "image/png": "[encoded data removed]",
            "text/plain": [
              "<Figure size 432x288 with 1 Axes>"
            ]
          },
          "metadata": {
            "needs_background": "light"
          }
        }
      ]
    },
    {
      "cell_type": "code",
      "metadata": {
        "colab": {
          "base_uri": "https://localhost:8080/"
        },
        "id": "m6KX_7ZmuXaa",
        "outputId": "262dd68d-ab53-49c6-e640-60144c8abac4"
      },
      "source": [
        "model.evaluate(xTest, y_cat_test, verbose=0)"
      ],
      "execution_count": null,
      "outputs": [
        {
          "output_type": "execute_result",
          "data": {
            "text/plain": [
              "[0.9906499981880188, 0.6762999892234802]"
            ]
          },
          "metadata": {},
          "execution_count": 32
        }
      ]
    },
    {
      "cell_type": "code",
      "metadata": {
        "id": "5ygBemSLunjS"
      },
      "source": [
        "from sklearn.metrics import classification_report"
      ],
      "execution_count": null,
      "outputs": []
    },
    {
      "cell_type": "code",
      "metadata": {
        "colab": {
          "base_uri": "https://localhost:8080/"
        },
        "id": "w0Scxi7qutSj",
        "outputId": "a39bc963-9a57-4a6b-e69e-d77064d401b8"
      },
      "source": [
        "# Predicting on test set\n",
        "predict = model.predict(xTest) \n",
        "classes = np.argmax(predict,axis=-1)\n",
        "classes"
      ],
      "execution_count": null,
      "outputs": [
        {
          "output_type": "execute_result",
          "data": {
            "text/plain": [
              "array([3, 1, 8, ..., 5, 4, 7])"
            ]
          },
          "metadata": {},
          "execution_count": 34
        }
      ]
    },
    {
      "cell_type": "code",
      "metadata": {
        "colab": {
          "base_uri": "https://localhost:8080/"
        },
        "id": "6aFsIC3Xuwvz",
        "outputId": "06c116b2-c14f-417f-8e51-a90f2a434c6a"
      },
      "source": [
        "# Classification Report\n",
        "print(classification_report(yTest, classes))"
      ],
      "execution_count": null,
      "outputs": [
        {
          "output_type": "stream",
          "text": [
            "              precision    recall  f1-score   support\n",
            "\n",
            "           0       0.81      0.61      0.70      1000\n",
            "           1       0.84      0.77      0.80      1000\n",
            "           2       0.61      0.56      0.58      1000\n",
            "           3       0.49      0.50      0.49      1000\n",
            "           4       0.60      0.68      0.64      1000\n",
            "           5       0.53      0.65      0.58      1000\n",
            "           6       0.81      0.68      0.74      1000\n",
            "           7       0.74      0.70      0.72      1000\n",
            "           8       0.73      0.82      0.77      1000\n",
            "           9       0.71      0.81      0.76      1000\n",
            "\n",
            "    accuracy                           0.68     10000\n",
            "   macro avg       0.69      0.68      0.68     10000\n",
            "weighted avg       0.69      0.68      0.68     10000\n",
            "\n"
          ],
          "name": "stdout"
        }
      ]
    },
    {
      "cell_type": "code",
      "metadata": {
        "id": "HnwXaZOAuxn5"
      },
      "source": [
        "# Overall accuracy of 68%. A random guess would be 10% accurate. This model is ~6.8 times more accurate than a random guess. "
      ],
      "execution_count": null,
      "outputs": []
    }
  ]
}