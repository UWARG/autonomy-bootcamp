{
  "nbformat": 4,
  "nbformat_minor": 0,
  "metadata": {
    "colab": {
      "name": "WARG CV Bootcamp.ipynb",
      "provenance": [],
      "collapsed_sections": [],
      "authorship_tag": "ABX9TyMKosmXjp8H617mgA3CYlyM",
      "include_colab_link": true
    },
    "kernelspec": {
      "name": "python3",
      "display_name": "Python 3"
    },
    "language_info": {
      "name": "python"
    }
  },
  "cells": [
    {
      "cell_type": "markdown",
      "metadata": {
        "id": "view-in-github",
        "colab_type": "text"
      },
      "source": [
        "<a href=\"https://colab.research.google.com/github/smrahman1/computer-vision-bootcamp/blob/master/WARG_CV_Bootcamp.ipynb\" target=\"_parent\"><img src=\"https://colab.research.google.com/assets/colab-badge.svg\" alt=\"Open In Colab\"/></a>"
      ]
    },
    {
      "cell_type": "code",
      "execution_count": 33,
      "metadata": {
        "colab": {
          "base_uri": "https://localhost:8080/"
        },
        "id": "F16U3nusPUxz",
        "outputId": "034f51fa-860b-4f62-cfd5-3b5e839a7085"
      },
      "outputs": [
        {
          "output_type": "stream",
          "name": "stdout",
          "text": [
            "Epoch 1/10\n",
            "1563/1563 [==============================] - 211s 135ms/step - loss: 1.6917 - accuracy: 0.3936\n",
            "Epoch 2/10\n",
            "1563/1563 [==============================] - 210s 134ms/step - loss: 1.3530 - accuracy: 0.5217\n",
            "Epoch 3/10\n",
            "1563/1563 [==============================] - 211s 135ms/step - loss: 1.2121 - accuracy: 0.5738\n",
            "Epoch 4/10\n",
            "1563/1563 [==============================] - 213s 136ms/step - loss: 1.1225 - accuracy: 0.6079\n",
            "Epoch 5/10\n",
            "1563/1563 [==============================] - 212s 136ms/step - loss: 1.0446 - accuracy: 0.6358\n",
            "Epoch 6/10\n",
            "1563/1563 [==============================] - 211s 135ms/step - loss: 0.9830 - accuracy: 0.6563\n",
            "Epoch 7/10\n",
            "1563/1563 [==============================] - 212s 135ms/step - loss: 0.9303 - accuracy: 0.6766\n",
            "Epoch 8/10\n",
            "1563/1563 [==============================] - 211s 135ms/step - loss: 0.8828 - accuracy: 0.6927\n",
            "Epoch 9/10\n",
            "1563/1563 [==============================] - 209s 134ms/step - loss: 0.8431 - accuracy: 0.7056\n",
            "Epoch 10/10\n",
            "1563/1563 [==============================] - 207s 133ms/step - loss: 0.8058 - accuracy: 0.7194\n"
          ]
        }
      ],
      "source": [
        "import matplotlib.pyplot as plt\n",
        "import numpy as np\n",
        "import tensorflow as tf\n",
        "\n",
        "# CONSTANTS\n",
        "BATCH_SIZE = 32\n",
        "EPOCHS = 10\n",
        "\n",
        "# Distributing data into variables\n",
        "dataSet = tf.keras.datasets.cifar10\n",
        "(xTrain, yTrain), (xTest, yTest) = dataSet.load_data()\n",
        "\n",
        "# Normalizing data so that the data is organized and on a common scale. \n",
        "# This helps the model converge quicker.\n",
        "xTrain = tf.keras.utils.normalize(xTrain, axis = 1)\n",
        "xTest = tf.keras.utils.normalize(xTest, axis = 1)\n",
        "\n",
        "\n",
        "# Input layer, Convolutional Layer with 128 Filters and Pooling Layer\n",
        "model = tf.keras.models.Sequential()\n",
        "model.add(tf.keras.layers.Conv2D(128, (3,3), input_shape = xTrain.shape[1:]))\n",
        "model.add(tf.keras.layers.Activation(\"relu\"))\n",
        "model.add(tf.keras.layers.MaxPooling2D(pool_size=(2,2)))\n",
        "model.add(tf.keras.layers.Dropout(0.1))\n",
        "\n",
        "# Second layer, Convolutional Layer with 64 Filters and Pooling Layer\n",
        "model.add(tf.keras.layers.Conv2D(64, (3,3)))\n",
        "model.add(tf.keras.layers.Activation(\"relu\"))\n",
        "model.add(tf.keras.layers.MaxPooling2D(pool_size=(2,2)))\n",
        "model.add(tf.keras.layers.Dropout(0.1))\n",
        "\n",
        "# Third layer, Dense Layer with 128 Filters\n",
        "model.add(tf.keras.layers.Flatten())\n",
        "model.add(tf.keras.layers.Dense(128))\n",
        "model.add(tf.keras.layers.Activation(\"relu\"))\n",
        "\n",
        "# Output layer, Dense Layer with softmax activation\n",
        "model.add(tf.keras.layers.Dense(10))\n",
        "model.add(tf.keras.layers.Activation(\"softmax\"))\n",
        "\n",
        "# Compile model\n",
        "model.compile(loss=\"sparse_categorical_crossentropy\", optimizer = \"adam\", metrics = [\"accuracy\"])\n",
        "\n",
        "# Fit the model and store it in a variable\n",
        "historyTrain = model.fit(xTrain, yTrain, batch_size = BATCH_SIZE, epochs = EPOCHS)"
      ]
    },
    {
      "cell_type": "code",
      "source": [
        "# Plots and Testing Model Accuracy\n",
        "\n",
        "lossTrain = historyTrain.history['loss']\n",
        "accTrain = historyTrain.history['accuracy']\n",
        "epochs = range(1, EPOCHS+1)\n",
        "\n",
        "\n",
        "plt.plot(epochs, lossTrain, 'g', label='Training Loss Over Time')\n",
        "plt.title('Training Loss')\n",
        "plt.xlabel('Epochs')\n",
        "plt.ylabel('Loss')\n",
        "plt.legend()\n",
        "plt.show()\n",
        "\n",
        "plt.plot(epochs, accTrain, 'b', label='Training Accuracy Over Time')\n",
        "plt.title('Training accuracy')\n",
        "plt.xlabel('Epochs')\n",
        "plt.ylabel('Accuracy')\n",
        "plt.legend()\n",
        "plt.show()\n",
        "\n",
        "valLoss, valAcc = model.evaluate(xTest, yTest)\n",
        "print(\"Validation loss: \", valLoss, \"\\nValidation Accuracy: \", valAcc*100, \"%\")"
      ],
      "metadata": {
        "colab": {
          "base_uri": "https://localhost:8080/",
          "height": 624
        },
        "id": "AFu04ZHkUQsc",
        "outputId": "085296eb-8bff-43d2-a0cb-3fd5679d4b0d"
      },
      "execution_count": 36,
      "outputs": [
        {
          "output_type": "display_data",
          "data": {
            "image/png": "[encoded data removed]",
            "text/plain": [
              "<Figure size 432x288 with 1 Axes>"
            ]
          },
          "metadata": {
            "needs_background": "light"
          }
        },
        {
          "output_type": "display_data",
          "data": {
            "image/png": "[encoded data removed]",
            "text/plain": [
              "<Figure size 432x288 with 1 Axes>"
            ]
          },
          "metadata": {
            "needs_background": "light"
          }
        },
        {
          "output_type": "stream",
          "name": "stdout",
          "text": [
            "313/313 [==============================] - 10s 30ms/step - loss: 0.9496 - accuracy: 0.6753\n",
            "Validation loss:  0.9495689272880554 \n",
            "Validation Accuracy:  67.53000020980835 %\n"
          ]
        }
      ]
    },
    {
      "cell_type": "code",
      "source": [
        ""
      ],
      "metadata": {
        "id": "uekNIEcmZLOQ"
      },
      "execution_count": null,
      "outputs": []
    }
  ]
}