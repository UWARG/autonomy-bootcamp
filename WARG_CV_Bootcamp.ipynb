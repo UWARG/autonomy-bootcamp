{
  "nbformat": 4,
  "nbformat_minor": 0,
  "metadata": {
    "colab": {
      "name": "WARG CV Bootcamp.ipynb",
      "provenance": [],
      "collapsed_sections": [],
      "authorship_tag": "ABX9TyNsprtRtPoyvxQ+nxvLlOS0",
      "include_colab_link": true
    },
    "kernelspec": {
      "name": "python3",
      "display_name": "Python 3"
    },
    "language_info": {
      "name": "python"
    }
  },
  "cells": [
    {
      "cell_type": "markdown",
      "metadata": {
        "id": "view-in-github",
        "colab_type": "text"
      },
      "source": [
        "<a href=\"https://colab.research.google.com/github/smrahman1/computer-vision-bootcamp/blob/master/WARG_CV_Bootcamp.ipynb\" target=\"_parent\"><img src=\"https://colab.research.google.com/assets/colab-badge.svg\" alt=\"Open In Colab\"/></a>"
      ]
    },
    {
      "cell_type": "code",
      "execution_count": 1,
      "metadata": {
        "colab": {
          "base_uri": "https://localhost:8080/"
        },
        "id": "F16U3nusPUxz",
        "outputId": "3d7bd00e-53e3-44e7-e170-04c4d2b6986b"
      },
      "outputs": [
        {
          "output_type": "stream",
          "name": "stdout",
          "text": [
            "Downloading data from https://www.cs.toronto.edu/~kriz/cifar-10-python.tar.gz\n",
            "170500096/170498071 [==============================] - 4s 0us/step\n",
            "170508288/170498071 [==============================] - 4s 0us/step\n",
            "Epoch 1/15\n",
            "1563/1563 [==============================] - 185s 118ms/step - loss: 1.6490 - accuracy: 0.4071\n",
            "Epoch 2/15\n",
            "1563/1563 [==============================] - 185s 119ms/step - loss: 1.2753 - accuracy: 0.5520\n",
            "Epoch 3/15\n",
            "1563/1563 [==============================] - 182s 117ms/step - loss: 1.1373 - accuracy: 0.6022\n",
            "Epoch 4/15\n",
            "1563/1563 [==============================] - 182s 116ms/step - loss: 1.0572 - accuracy: 0.6300\n",
            "Epoch 5/15\n",
            "1563/1563 [==============================] - 181s 116ms/step - loss: 0.9874 - accuracy: 0.6542\n",
            "Epoch 6/15\n",
            "1563/1563 [==============================] - 181s 116ms/step - loss: 0.9308 - accuracy: 0.6750\n",
            "Epoch 7/15\n",
            "1563/1563 [==============================] - 181s 116ms/step - loss: 0.8866 - accuracy: 0.6907\n",
            "Epoch 8/15\n",
            "1563/1563 [==============================] - 181s 116ms/step - loss: 0.8454 - accuracy: 0.7047\n",
            "Epoch 9/15\n",
            "1563/1563 [==============================] - 180s 115ms/step - loss: 0.8083 - accuracy: 0.7190\n",
            "Epoch 10/15\n",
            "1563/1563 [==============================] - 180s 115ms/step - loss: 0.7765 - accuracy: 0.7277\n",
            "Epoch 11/15\n",
            "1563/1563 [==============================] - 180s 115ms/step - loss: 0.7459 - accuracy: 0.7386\n",
            "Epoch 12/15\n",
            "1563/1563 [==============================] - 179s 115ms/step - loss: 0.7160 - accuracy: 0.7478\n",
            "Epoch 13/15\n",
            "1563/1563 [==============================] - 180s 115ms/step - loss: 0.6880 - accuracy: 0.7588\n",
            "Epoch 14/15\n",
            "1563/1563 [==============================] - 180s 115ms/step - loss: 0.6687 - accuracy: 0.7652\n",
            "Epoch 15/15\n",
            "1563/1563 [==============================] - 181s 116ms/step - loss: 0.6487 - accuracy: 0.7708\n"
          ]
        }
      ],
      "source": [
        "import matplotlib.pyplot as plt\n",
        "import numpy as np\n",
        "import tensorflow as tf\n",
        "\n",
        "# CONSTANTS\n",
        "BATCH_SIZE = 32\n",
        "EPOCHS = 15\n",
        "\n",
        "# Distributing data into variables\n",
        "dataSet = tf.keras.datasets.cifar10\n",
        "(xTrain, yTrain), (xTest, yTest) = dataSet.load_data()\n",
        "\n",
        "# Normalizing data so that the data is organized and on a common scale. \n",
        "# This helps the model converge quicker.\n",
        "xTrain = tf.keras.utils.normalize(xTrain, axis = 1)\n",
        "xTest = tf.keras.utils.normalize(xTest, axis = 1)\n",
        "\n",
        "\n",
        "# Input layer, Convolutional Layer with 128 Filters and Pooling Layer\n",
        "model = tf.keras.models.Sequential()\n",
        "model.add(tf.keras.layers.Conv2D(128, (3,3), input_shape = xTrain.shape[1:]))\n",
        "model.add(tf.keras.layers.Activation(\"relu\"))\n",
        "model.add(tf.keras.layers.MaxPooling2D(pool_size=(2,2)))\n",
        "model.add(tf.keras.layers.Dropout(0.2))\n",
        "\n",
        "# Second layer, Convolutional Layer with 64 Filters and Pooling Layer\n",
        "model.add(tf.keras.layers.Conv2D(64, (3,3)))\n",
        "model.add(tf.keras.layers.Activation(\"relu\"))\n",
        "model.add(tf.keras.layers.MaxPooling2D(pool_size=(2,2)))\n",
        "model.add(tf.keras.layers.Dropout(0.2))\n",
        "\n",
        "# Third layer, Dense Layer with 128 Filters\n",
        "model.add(tf.keras.layers.Flatten())\n",
        "model.add(tf.keras.layers.Dense(128))\n",
        "model.add(tf.keras.layers.Activation(\"relu\"))\n",
        "\n",
        "# Output layer, Dense Layer with softmax activation\n",
        "model.add(tf.keras.layers.Dense(10))\n",
        "model.add(tf.keras.layers.Activation(\"softmax\"))\n",
        "\n",
        "# Compile model\n",
        "model.compile(loss=\"sparse_categorical_crossentropy\", optimizer = \"adam\", metrics = [\"accuracy\"])\n",
        "\n",
        "# Fit the model and store it in a variable\n",
        "historyTrain = model.fit(xTrain, yTrain, batch_size = BATCH_SIZE, epochs = EPOCHS)"
      ]
    },
    {
      "cell_type": "code",
      "source": [
        "# Plots and Testing Model Accuracy\n",
        "\n",
        "lossTrain = historyTrain.history['loss']\n",
        "accTrain = historyTrain.history['accuracy']\n",
        "epochs = range(1, EPOCHS+1)\n",
        "\n",
        "\n",
        "plt.plot(epochs, lossTrain, 'g', label='Training Loss Over Time')\n",
        "plt.title('Training Loss')\n",
        "plt.xlabel('Epochs')\n",
        "plt.ylabel('Loss')\n",
        "plt.legend()\n",
        "plt.show()\n",
        "\n",
        "plt.plot(epochs, accTrain, 'b', label='Training Accuracy Over Time')\n",
        "plt.title('Training accuracy')\n",
        "plt.xlabel('Epochs')\n",
        "plt.ylabel('Accuracy')\n",
        "plt.legend()\n",
        "plt.show()\n",
        "\n",
        "valLoss, valAcc = model.evaluate(xTest, yTest)\n",
        "print(\"Validation loss: \", valLoss, \"\\nValidation Accuracy: \", valAcc*100, \"%\")"
      ],
      "metadata": {
        "colab": {
          "base_uri": "https://localhost:8080/",
          "height": 624
        },
        "id": "AFu04ZHkUQsc",
        "outputId": "37053ac6-45a8-411f-ff60-8ba67b567dd6"
      },
      "execution_count": 2,
      "outputs": [
        {
          "output_type": "display_data",
          "data": {
            "image/png": "[encoded data removed]",
            "text/plain": [
              "<Figure size 432x288 with 1 Axes>"
            ]
          },
          "metadata": {
            "needs_background": "light"
          }
        },
        {
          "output_type": "display_data",
          "data": {
            "image/png": "[encoded data removed]",
            "text/plain": [
              "<Figure size 432x288 with 1 Axes>"
            ]
          },
          "metadata": {
            "needs_background": "light"
          }
        },
        {
          "output_type": "stream",
          "name": "stdout",
          "text": [
            "313/313 [==============================] - 8s 26ms/step - loss: 0.9079 - accuracy: 0.6971\n",
            "Validation loss:  0.907891035079956 \n",
            "Validation Accuracy:  69.70999836921692 %\n"
          ]
        }
      ]
    },
    {
      "cell_type": "code",
      "source": [
        ""
      ],
      "metadata": {
        "id": "uekNIEcmZLOQ"
      },
      "execution_count": null,
      "outputs": []
    }
  ]
}