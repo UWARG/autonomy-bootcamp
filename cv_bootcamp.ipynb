{
  "nbformat": 4,
  "nbformat_minor": 0,
  "metadata": {
    "colab": {
      "name": "cv-bootcamp.ipynb",
      "provenance": [],
      "collapsed_sections": [],
      "include_colab_link": true
    },
    "kernelspec": {
      "name": "python3",
      "display_name": "Python 3"
    },
    "language_info": {
      "name": "python"
    },
    "gpuClass": "standard",
    "accelerator": "GPU"
  },
  "cells": [
    {
      "cell_type": "markdown",
      "metadata": {
        "id": "view-in-github",
        "colab_type": "text"
      },
      "source": [
        "<a href=\"https://colab.research.google.com/github/terrysu64/computer-vision-bootcamp/blob/master/cv_bootcamp.ipynb\" target=\"_parent\"><img src=\"https://colab.research.google.com/assets/colab-badge.svg\" alt=\"Open In Colab\"/></a>"
      ]
    },
    {
      "cell_type": "markdown",
      "source": [
        "# CIFAR10 Classification"
      ],
      "metadata": {
        "id": "HymMmZFsEcen"
      }
    },
    {
      "cell_type": "code",
      "source": [
        "!nvidia-smi"
      ],
      "metadata": {
        "colab": {
          "base_uri": "https://localhost:8080/"
        },
        "id": "88r5AbcoFzo2",
        "outputId": "58ccdb7f-c8b0-45fe-f5ea-01800f22f289"
      },
      "execution_count": 1,
      "outputs": [
        {
          "output_type": "stream",
          "name": "stdout",
          "text": [
            "Mon Aug  1 13:55:28 2022       \n",
            "+-----------------------------------------------------------------------------+\n",
            "| NVIDIA-SMI 460.32.03    Driver Version: 460.32.03    CUDA Version: 11.2     |\n",
            "|-------------------------------+----------------------+----------------------+\n",
            "| GPU  Name        Persistence-M| Bus-Id        Disp.A | Volatile Uncorr. ECC |\n",
            "| Fan  Temp  Perf  Pwr:Usage/Cap|         Memory-Usage | GPU-Util  Compute M. |\n",
            "|                               |                      |               MIG M. |\n",
            "|===============================+======================+======================|\n",
            "|   0  Tesla T4            Off  | 00000000:00:04.0 Off |                    0 |\n",
            "| N/A   71C    P8    12W /  70W |      0MiB / 15109MiB |      0%      Default |\n",
            "|                               |                      |                  N/A |\n",
            "+-------------------------------+----------------------+----------------------+\n",
            "                                                                               \n",
            "+-----------------------------------------------------------------------------+\n",
            "| Processes:                                                                  |\n",
            "|  GPU   GI   CI        PID   Type   Process name                  GPU Memory |\n",
            "|        ID   ID                                                   Usage      |\n",
            "|=============================================================================|\n",
            "|  No running processes found                                                 |\n",
            "+-----------------------------------------------------------------------------+\n"
          ]
        }
      ]
    },
    {
      "cell_type": "markdown",
      "source": [
        "### Import Libraries"
      ],
      "metadata": {
        "id": "U0iKPj62D-b5"
      }
    },
    {
      "cell_type": "code",
      "source": [
        "import torch\n",
        "import torchvision\n",
        "import numpy as np\n",
        "import matplotlib.pyplot as plt\n",
        "import torch.nn as nn\n",
        "import torch.nn.functional as F\n",
        "from torchvision.datasets import CIFAR10\n",
        "from torchvision.transforms import ToTensor\n",
        "from torchvision.utils import make_grid\n",
        "from torch.utils.data.dataloader import DataLoader\n",
        "from torch.utils.data import random_split"
      ],
      "metadata": {
        "id": "KtYBjhO13pDX"
      },
      "execution_count": 2,
      "outputs": []
    },
    {
      "cell_type": "markdown",
      "source": [
        "### Download Datasets"
      ],
      "metadata": {
        "id": "kExXGv2XEvNQ"
      }
    },
    {
      "cell_type": "code",
      "source": [
        "dataset = CIFAR10(root='data/', \n",
        "                  download=True, \n",
        "                  transform=ToTensor()) #ToTensor() normalizes the data on download"
      ],
      "metadata": {
        "colab": {
          "base_uri": "https://localhost:8080/"
        },
        "id": "X18geRPk4XnH",
        "outputId": "1ffe2b66-fb0b-4f58-f46e-79e2717dcd28"
      },
      "execution_count": 3,
      "outputs": [
        {
          "output_type": "stream",
          "name": "stdout",
          "text": [
            "Files already downloaded and verified\n"
          ]
        }
      ]
    },
    {
      "cell_type": "code",
      "source": [
        "dataset"
      ],
      "metadata": {
        "colab": {
          "base_uri": "https://localhost:8080/"
        },
        "id": "n6OdYvAfDOS-",
        "outputId": "f6e68748-32fe-465a-caee-f88c93c8b4ce"
      },
      "execution_count": 4,
      "outputs": [
        {
          "output_type": "execute_result",
          "data": {
            "text/plain": [
              "Dataset CIFAR10\n",
              "    Number of datapoints: 50000\n",
              "    Root location: data/\n",
              "    Split: Train\n",
              "    StandardTransform\n",
              "Transform: ToTensor()"
            ]
          },
          "metadata": {},
          "execution_count": 4
        }
      ]
    },
    {
      "cell_type": "markdown",
      "source": [
        "## Split Into Train/Validation Sets"
      ],
      "metadata": {
        "id": "cI1J0ajzFKAW"
      }
    },
    {
      "cell_type": "code",
      "source": [
        "torch.manual_seed(42) #set seed to replicate results\n",
        "val_size = len(dataset)//10\n",
        "train_size = len(dataset) - val_size"
      ],
      "metadata": {
        "id": "oLk1al_o5IWY"
      },
      "execution_count": 5,
      "outputs": []
    },
    {
      "cell_type": "code",
      "source": [
        "train_ds, val_ds = random_split(dataset, [train_size, val_size]) #randomly split dataset into training/validation sets\n",
        "len(train_ds), len(val_ds)"
      ],
      "metadata": {
        "colab": {
          "base_uri": "https://localhost:8080/"
        },
        "id": "963xPTn95LbK",
        "outputId": "554e9c38-065f-45d5-cb28-606ccdb9b0e8"
      },
      "execution_count": 6,
      "outputs": [
        {
          "output_type": "execute_result",
          "data": {
            "text/plain": [
              "(45000, 5000)"
            ]
          },
          "metadata": {},
          "execution_count": 6
        }
      ]
    },
    {
      "cell_type": "code",
      "source": [
        "batch_size=32 #we will pass 32 and 64 images at once for training and validation respectively\n",
        "train_loader = DataLoader(train_ds, \n",
        "                          batch_size, \n",
        "                          shuffle=True, #randomizes image sequence\n",
        "                          num_workers=4, \n",
        "                          pin_memory=True) #allows us to push images from CPU -> GPU later\n",
        "val_loader = DataLoader(val_ds, \n",
        "                        batch_size*2, \n",
        "                        num_workers=4, \n",
        "                        pin_memory=True)"
      ],
      "metadata": {
        "colab": {
          "base_uri": "https://localhost:8080/"
        },
        "id": "owS8xpqr5Md4",
        "outputId": "30108efc-e079-4fc1-8e55-085b8294828d"
      },
      "execution_count": 7,
      "outputs": [
        {
          "output_type": "stream",
          "name": "stderr",
          "text": [
            "/usr/local/lib/python3.7/dist-packages/torch/utils/data/dataloader.py:560: UserWarning: This DataLoader will create 4 worker processes in total. Our suggested max number of worker in current system is 2, which is smaller than what this DataLoader is going to create. Please be aware that excessive worker creation might get DataLoader running slow or even freeze, lower the worker number to avoid potential slowness/freeze if necessary.\n",
            "  cpuset_checked))\n"
          ]
        }
      ]
    },
    {
      "cell_type": "markdown",
      "source": [
        "### Setting Up The Model"
      ],
      "metadata": {
        "id": "jX6Tk2SuGgw0"
      }
    },
    {
      "cell_type": "code",
      "source": [
        "def accuracy(outputs, labels):\n",
        "    \"\"\"returns accuracy of predictions by comparing outputs with labels\"\"\"\n",
        "\n",
        "    _, preds = torch.max(outputs, dim=1)\n",
        "    return torch.tensor(torch.sum(preds == labels).item()) / len(preds)\n",
        "  \n",
        "def evaluate(model, val_loader):\n",
        "    \"\"\"evaluate model on validation set\"\"\"\n",
        "\n",
        "    outputs = [model.validation_step(batch) for batch in val_loader]\n",
        "    return model.validation_epoch_end(outputs)\n",
        "\n",
        "def fit(epochs, lr, model, train_loader, val_loader, opt_func=torch.optim.SGD):\n",
        "    \"\"\"trains the model for a number of epochs, given an optimizing function and learning rate\"\"\"\n",
        "    \n",
        "    history = []\n",
        "    optimizer = opt_func(model.parameters(), lr)\n",
        "    for epoch in range(epochs):\n",
        "        for batch in train_loader:\n",
        "            loss = model.training_step(batch); loss.backward()\n",
        "            optimizer.step(); optimizer.zero_grad()\n",
        "        res = evaluate(model, val_loader)\n",
        "        model.epoch_end(epoch, res)\n",
        "        history += [res]\n",
        "    return history"
      ],
      "metadata": {
        "id": "Ys1wAo3L5UoM"
      },
      "execution_count": 8,
      "outputs": []
    },
    {
      "cell_type": "code",
      "source": [
        "class Baseline(nn.Module):\n",
        "    def training_step(self, batch):\n",
        "        \"\"\"trains the model on a batch of the training set\"\"\"\n",
        "\n",
        "        images, labels = batch \n",
        "        out = self(images)                  #generate predictions\n",
        "        loss = F.cross_entropy(out, labels) #calculate loss (similar to categorical_crossentropy in tensorflow)\n",
        "        return loss\n",
        "    \n",
        "    def validation_step(self, batch):\n",
        "        \"\"\"trains the model on a batch of the validation set\"\"\"\n",
        "\n",
        "        images, labels = batch \n",
        "        out = self(images)                    #generate predictions\n",
        "        loss = F.cross_entropy(out, labels)   #calculate loss\n",
        "        acc = accuracy(out, labels)           #calculate accuracy\n",
        "        return {'val_loss': loss.detach(), 'val_acc': acc}\n",
        "        \n",
        "    def validation_epoch_end(self, outputs):\n",
        "        \"\"\"return summary of metrics after validation has finished\"\"\"\n",
        "\n",
        "        batch_losses = [x['val_loss'] for x in outputs]\n",
        "        epoch_loss = torch.stack(batch_losses).mean()   #combine losses\n",
        "        batch_accs = [x['val_acc'] for x in outputs]\n",
        "        epoch_acc = torch.stack(batch_accs).mean()      #combine accuracies\n",
        "        return {'val_loss': epoch_loss.item(), 'val_acc': epoch_acc.item()}\n",
        "    \n",
        "    def epoch_end(self, epoch, result):\n",
        "        print(f\"Epoch [{epoch}], \\\n",
        "              validation loss: {round(result['val_loss'], 4)}, \\\n",
        "              validation accuracy: {round(result['val_acc'], 4)}\")"
      ],
      "metadata": {
        "id": "H6ms1Xb65YpW"
      },
      "execution_count": 9,
      "outputs": []
    },
    {
      "cell_type": "code",
      "source": [
        "class CNNModel(Baseline):\n",
        "    \"\"\"\n",
        "    define a typical architecture of a convolutional neural network\n",
        "    https://poloclub.github.io/cnn-explainer/\n",
        "    \n",
        "    nn.Conv2d => Sum of all kernel results + bias\n",
        "    nn.MaxPool2d => summarizing image (extracting significant features) by taking max values a particular patch of the image \n",
        "    \"\"\"\n",
        "\n",
        "    def __init__(self):\n",
        "        super().__init__()\n",
        "        self.network = nn.Sequential(\n",
        "            nn.Conv2d(3, 32, kernel_size=3, padding=1), #dense layer for three different color channels\n",
        "            nn.ReLU(),\n",
        "            nn.Conv2d(32, 64, kernel_size=3, stride=1, padding=1),\n",
        "            nn.ReLU(),\n",
        "            nn.MaxPool2d(2, 2), #size => 64 x 16 x 16\n",
        "\n",
        "            nn.Conv2d(64, 128, kernel_size=3, stride=1, padding=1),\n",
        "            nn.ReLU(),\n",
        "            nn.Conv2d(128, 128, kernel_size=3, stride=1, padding=1),\n",
        "            nn.ReLU(),\n",
        "            nn.MaxPool2d(2, 2), #size => 128 x 8 x 8\n",
        "\n",
        "            nn.Conv2d(128, 256, kernel_size=3, stride=1, padding=1),\n",
        "            nn.ReLU(),\n",
        "            nn.Conv2d(256, 256, kernel_size=3, stride=1, padding=1),\n",
        "            nn.ReLU(),\n",
        "            nn.MaxPool2d(2, 2), #size => 256 x 4 x 4\n",
        "\n",
        "            nn.Flatten(), \n",
        "            nn.Linear(256*4*4, 1024),\n",
        "            nn.ReLU(),\n",
        "            nn.Linear(1024, 512),\n",
        "            nn.ReLU(),\n",
        "            nn.Linear(512, 10)) #dense layer for 10 possible answers\n",
        "        \n",
        "    def forward(self, xb):\n",
        "        return self.network(xb)"
      ],
      "metadata": {
        "id": "MZQM9DtTHMVW"
      },
      "execution_count": 10,
      "outputs": []
    },
    {
      "cell_type": "markdown",
      "source": [
        "### Setting Up GPU"
      ],
      "metadata": {
        "id": "hfcT5b6UIA9j"
      }
    },
    {
      "cell_type": "code",
      "source": [
        "def to_device(data, device):\n",
        "    \"\"\"move data to chosen device\"\"\"\n",
        "    if isinstance(data, (list,tuple)):\n",
        "        return [to_device(x, device) for x in data]\n",
        "    return data.to(device, non_blocking=True)\n",
        "\n",
        "class DeviceDataLoader():\n",
        "    \"\"\"wrap a dataloader to move data to a device\"\"\"\n",
        "    def __init__(self, dl, device):\n",
        "        self.dl = dl\n",
        "        self.device = device\n",
        "        \n",
        "    def __iter__(self):\n",
        "        \"\"\"yield a batch of data after moving it to device\"\"\"\n",
        "        for b in self.dl: \n",
        "            yield to_device(b, self.device)\n",
        "\n",
        "    def __len__(self):\n",
        "        \"\"\"number of batches\"\"\"\n",
        "        return len(self.dl)"
      ],
      "metadata": {
        "id": "b0y-YsB_5pca"
      },
      "execution_count": 11,
      "outputs": []
    },
    {
      "cell_type": "code",
      "source": [
        "device = torch.device('cuda') if torch.cuda.is_available() else torch.device('cpu') #choose to switch to GPU if possible\n",
        "train_loader = DeviceDataLoader(train_loader, device)\n",
        "val_loader = DeviceDataLoader(val_loader, device)"
      ],
      "metadata": {
        "id": "ZkGzIc9D5u8i"
      },
      "execution_count": 12,
      "outputs": []
    },
    {
      "cell_type": "markdown",
      "source": [
        "### Training Model"
      ],
      "metadata": {
        "id": "wylnrT_YMyyA"
      }
    },
    {
      "cell_type": "code",
      "source": [
        "history = []\n",
        "model = to_device(CNNModel(), device)\n",
        "epochs, learning_rate = 7, 0.1\n",
        "history += fit(epochs, learning_rate, model, train_loader, val_loader) #fit the model"
      ],
      "metadata": {
        "id": "H2S5hAHZ56B2",
        "colab": {
          "base_uri": "https://localhost:8080/"
        },
        "outputId": "fbf8c187-1f55-407c-c7a9-20398e857eb2"
      },
      "execution_count": 13,
      "outputs": [
        {
          "output_type": "stream",
          "name": "stderr",
          "text": [
            "/usr/local/lib/python3.7/dist-packages/torch/utils/data/dataloader.py:560: UserWarning: This DataLoader will create 4 worker processes in total. Our suggested max number of worker in current system is 2, which is smaller than what this DataLoader is going to create. Please be aware that excessive worker creation might get DataLoader running slow or even freeze, lower the worker number to avoid potential slowness/freeze if necessary.\n",
            "  cpuset_checked))\n"
          ]
        },
        {
          "output_type": "stream",
          "name": "stdout",
          "text": [
            "Epoch [0],               validation loss: 2.3024,               validation accuracy: 0.1017\n",
            "Epoch [1],               validation loss: 2.8384,               validation accuracy: 0.2126\n",
            "Epoch [2],               validation loss: 1.5212,               validation accuracy: 0.4452\n",
            "Epoch [3],               validation loss: 1.4184,               validation accuracy: 0.5273\n",
            "Epoch [4],               validation loss: 1.1604,               validation accuracy: 0.5955\n",
            "Epoch [5],               validation loss: 0.9987,               validation accuracy: 0.662\n",
            "Epoch [6],               validation loss: 1.2149,               validation accuracy: 0.6228\n"
          ]
        }
      ]
    },
    {
      "cell_type": "markdown",
      "source": [
        "### Evaluating Model"
      ],
      "metadata": {
        "id": "JK9bqzGlM1Es"
      }
    },
    {
      "cell_type": "code",
      "source": [
        "def plot_curves(history,epochs=7):\n",
        "  \"\"\"graphs the accuracy and loss curves of the valisation set\"\"\"\n",
        "\n",
        "  val_loss = [x['val_loss'] for x in history]\n",
        "  val_accuracy = [x['val_acc'] for x in history]\n",
        "\n",
        "  epochs = [i for i in range(1,epochs+1)]\n",
        "\n",
        "  #plot loss\n",
        "  plt.plot(epochs, val_loss, label='val_loss', color=\"r\")\n",
        "  plt.title('Loss')\n",
        "  plt.xlabel('Epochs')\n",
        "  plt.legend()\n",
        "\n",
        "  #plot accuracy\n",
        "  plt.figure()\n",
        "  plt.plot(epochs, val_accuracy, label='val_accuracy', color=\"g\")\n",
        "  plt.title('Accuracy')\n",
        "  plt.xlabel('Epochs')\n",
        "  plt.legend();\n",
        "\n",
        "plot_curves(history, epochs) \n",
        "\n"
      ],
      "metadata": {
        "id": "16dwiYe272UM",
        "colab": {
          "base_uri": "https://localhost:8080/",
          "height": 573
        },
        "outputId": "1a57bf05-3a71-416c-cf9b-5a77c769e2ba"
      },
      "execution_count": 15,
      "outputs": [
        {
          "output_type": "display_data",
          "data": {
            "text/plain": [
              "<Figure size 432x288 with 1 Axes>"
            ],
            "image/png": "[encoded data removed]"
          },
          "metadata": {
            "needs_background": "light"
          }
        },
        {
          "output_type": "display_data",
          "data": {
            "text/plain": [
              "<Figure size 432x288 with 1 Axes>"
            ],
            "image/png": "[encoded data removed]"
          },
          "metadata": {
            "needs_background": "light"
          }
        }
      ]
    },
    {
      "cell_type": "code",
      "source": [
        ""
      ],
      "metadata": {
        "id": "YUml8gf7spJG"
      },
      "execution_count": null,
      "outputs": []
    }
  ]
}