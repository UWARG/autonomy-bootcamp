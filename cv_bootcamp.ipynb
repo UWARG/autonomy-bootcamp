{
  "cells": [
    {
      "cell_type": "code",
      "execution_count": 1,
      "metadata": {
        "id": "WSQbQybFD5l4"
      },
      "outputs": [],
      "source": [
        "# imports\n",
        "import tensorflow as tf\n",
        "import numpy as np\n",
        "import matplotlib.pyplot as plt\n",
        "from tensorflow.keras.preprocessing.image import ImageDataGenerator\n",
        "from tensorflow.keras.optimizers import RMSprop\n"
      ]
    },
    {
      "cell_type": "code",
      "execution_count": 3,
      "metadata": {
        "colab": {
          "base_uri": "https://localhost:8080/"
        },
        "id": "rEHcB3kqyHZ6",
        "outputId": "14cef290-23f6-4eb1-971b-9d57e0a1f3b5"
      },
      "outputs": [
        {
          "name": "stdout",
          "output_type": "stream",
          "text": [
            "Downloading data from https://www.cs.toronto.edu/~kriz/cifar-10-python.tar.gz\n",
            "170500096/170498071 [==============================] - 2s 0us/step\n",
            "170508288/170498071 [==============================] - 2s 0us/step\n",
            "Epoch 1/15\n",
            "1563/1563 [==============================] - 25s 9ms/step - loss: 1.4586 - accuracy: 0.4745 - val_loss: 1.1652 - val_accuracy: 0.5876\n",
            "Epoch 2/15\n",
            "1563/1563 [==============================] - 13s 8ms/step - loss: 1.1588 - accuracy: 0.5875 - val_loss: 1.0170 - val_accuracy: 0.6405\n",
            "Epoch 3/15\n",
            "1563/1563 [==============================] - 13s 8ms/step - loss: 1.0281 - accuracy: 0.6380 - val_loss: 0.9545 - val_accuracy: 0.6656\n",
            "Epoch 4/15\n",
            "1563/1563 [==============================] - 13s 8ms/step - loss: 0.9246 - accuracy: 0.6754 - val_loss: 0.8526 - val_accuracy: 0.7041\n",
            "Epoch 5/15\n",
            "1563/1563 [==============================] - 13s 8ms/step - loss: 0.8482 - accuracy: 0.7046 - val_loss: 0.8204 - val_accuracy: 0.7213\n",
            "Epoch 6/15\n",
            "1563/1563 [==============================] - 13s 8ms/step - loss: 0.7833 - accuracy: 0.7252 - val_loss: 0.8144 - val_accuracy: 0.7242\n",
            "Epoch 7/15\n",
            "1563/1563 [==============================] - 13s 8ms/step - loss: 0.7247 - accuracy: 0.7466 - val_loss: 0.7808 - val_accuracy: 0.7315\n",
            "Epoch 8/15\n",
            "1563/1563 [==============================] - 13s 8ms/step - loss: 0.6685 - accuracy: 0.7667 - val_loss: 0.7894 - val_accuracy: 0.7293\n",
            "Epoch 9/15\n",
            "1563/1563 [==============================] - 13s 9ms/step - loss: 0.6326 - accuracy: 0.7779 - val_loss: 0.7595 - val_accuracy: 0.7380\n",
            "Epoch 10/15\n",
            "1563/1563 [==============================] - 13s 9ms/step - loss: 0.5891 - accuracy: 0.7937 - val_loss: 0.7922 - val_accuracy: 0.7328\n",
            "Epoch 11/15\n",
            "1563/1563 [==============================] - 13s 8ms/step - loss: 0.5541 - accuracy: 0.8049 - val_loss: 0.7564 - val_accuracy: 0.7468\n",
            "Epoch 12/15\n",
            "1563/1563 [==============================] - 13s 8ms/step - loss: 0.5198 - accuracy: 0.8169 - val_loss: 0.7797 - val_accuracy: 0.7374\n",
            "Epoch 13/15\n",
            "1563/1563 [==============================] - 13s 8ms/step - loss: 0.4976 - accuracy: 0.8257 - val_loss: 0.7753 - val_accuracy: 0.7385\n",
            "Epoch 14/15\n",
            "1563/1563 [==============================] - 13s 8ms/step - loss: 0.4698 - accuracy: 0.8334 - val_loss: 0.7914 - val_accuracy: 0.7400\n",
            "Epoch 15/15\n",
            "1563/1563 [==============================] - 13s 8ms/step - loss: 0.4496 - accuracy: 0.8415 - val_loss: 0.7883 - val_accuracy: 0.7444\n"
          ]
        }
      ],
      "source": [
        "# downloading the training, testing images and labels using the tf load_data() method\n",
        "(x_train, y_train),(x_test, y_test) = tf.keras.datasets.cifar10.load_data()\n",
        "\n",
        "# now, we need to normalize the images to be able to pass them through the CNN (all values should be 0 < x < 1)\n",
        "# normalizing training images\n",
        "x_train = x_train / 255\n",
        "# normalizing testing images\n",
        "x_test = x_test / 255\n",
        "\n",
        "\n",
        "model = tf.keras.models.Sequential([\n",
        "    # input shape is 32x32x3 since the size of each image is 32x32 pixels, with 3 colours\n",
        "    tf.keras.layers.Conv2D(32, (3,3), activation='relu', input_shape=(32, 32, 3)),\n",
        "    tf.keras.layers.MaxPooling2D(2,2),\n",
        "    tf.keras.layers.Conv2D(64, (3,3), activation='relu'),\n",
        "    tf.keras.layers.MaxPooling2D(2,2),\n",
        "    # dropout layer(s) to reduce overfitting\n",
        "    tf.keras.layers.Dropout(0.2),\n",
        "    tf.keras.layers.Flatten(),\n",
        "    tf.keras.layers.Dropout(0.4),\n",
        "    tf.keras.layers.Dense(units=512, activation=tf.nn.relu),\n",
        "    # the last layer has 10 neurons since we have a total of 10 classes we need to classify\n",
        "    tf.keras.layers.Dense(units=10, activation=tf.nn.softmax)\n",
        "])\n",
        "\n",
        "# compiling the model with the 'adam' optimizer function, \n",
        "# 'sparse_categorical_crossentropy' loss function since \n",
        "# we need to classify multiple classes\n",
        "model.compile(optimizer='adam',\n",
        "              loss='sparse_categorical_crossentropy',\n",
        "              metrics=['accuracy'])\n",
        "\n",
        "\n",
        "history = model.fit(\n",
        "    x_train,\n",
        "    y_train,\n",
        "    epochs = 15,\n",
        "    verbose=1,\n",
        "    validation_data=(x_test, y_test),\n",
        ")"
      ]
    },
    {
      "cell_type": "code",
      "execution_count": 4,
      "metadata": {
        "colab": {
          "base_uri": "https://localhost:8080/",
          "height": 562
        },
        "id": "ZUvyILJBzVD2",
        "outputId": "1c72297d-2244-423a-d95c-92965c74b0f0"
      },
      "outputs": [
        {
          "data": {
            "text/plain": [
              "Text(0.5, 1.0, 'Training and validation loss')"
            ]
          },
          "execution_count": 4,
          "metadata": {},
          "output_type": "execute_result"
        },
        {
          "data": {
            "image/png": "[encoded data removed]",
            "text/plain": [
              "<Figure size 432x288 with 1 Axes>"
            ]
          },
          "metadata": {
            "needs_background": "light"
          },
          "output_type": "display_data"
        },
        {
          "data": {
            "image/png": "[encoded data removed]",
            "text/plain": [
              "<Figure size 432x288 with 1 Axes>"
            ]
          },
          "metadata": {
            "needs_background": "light"
          },
          "output_type": "display_data"
        }
      ],
      "source": [
        "%matplotlib inline\n",
        "\n",
        "import matplotlib.image  as mpimg\n",
        "import matplotlib.pyplot as plt\n",
        "\n",
        "# Retrieve a list of list results on training and test data\n",
        "# sets for each training epoch\n",
        "\n",
        "accuracy=history.history['accuracy']\n",
        "val_accuracy=history.history['val_accuracy']\n",
        "loss=history.history['loss']\n",
        "val_loss=history.history['val_loss']\n",
        "\n",
        "epochs=range(len(accuracy)) # Get number of epochs\n",
        "\n",
        "# training and validation accuracy per epoch\n",
        "plt.plot(epochs, accuracy, 'r', \"Training Accuracy\")\n",
        "plt.plot(epochs, val_accuracy, 'b', \"Validation Accuracy\")\n",
        "plt.title('Training and validation accuracy')\n",
        "plt.figure()\n",
        "\n",
        "\n",
        "# training and validation loss per epoch\n",
        "plt.plot(epochs, loss, 'r', \"Training Loss\")\n",
        "plt.plot(epochs, val_loss, 'b', \"Validation Loss\")\n",
        "plt.title('Training and validation loss')"
      ]
    },
    {
      "cell_type": "code",
      "execution_count": null,
      "metadata": {
        "id": "2Ksvoqgpqwke"
      },
      "outputs": [],
      "source": [
        "# code block to manually input image into the model and see result\n",
        "import numpy as np\n",
        "from google.colab import files\n",
        "from keras.preprocessing import image\n",
        "\n",
        "uploaded = files.upload()\n",
        "\n",
        "for fn in uploaded.keys():\n",
        "\n",
        "  path = '/content/' + fn\n",
        "  img = image.load_img(path, target_size=(32, 32, 3))\n",
        "  x = image.img_to_array(img)\n",
        "  x = np.expand_dims(x, axis=0)\n",
        "\n",
        "  images = np.vstack([x])\n",
        "  classes = model.predict(images, batch_size=10)\n",
        "  print(classes[0])\n",
        "  if classes[0][0]>0:\n",
        "    print(fn + \" is an airplane\")\n",
        "  elif classes[0][1]>0:\n",
        "    print(fn + \" is an automobile\")\n",
        "  elif classes[0][2]>0:\n",
        "    print(fn + \" is a bird\")\n",
        "  elif classes[0][3]>0:\n",
        "    print(fn + \" is a cat\")\n",
        "  elif classes[0][4]>0:\n",
        "    print(fn + \" is a deer\")\n",
        "  elif classes[0][5]>0:\n",
        "    print(fn + \" is a dog\")\n",
        "  elif classes[0][6]>0:\n",
        "    print(fn + \" is a frog\")\n",
        "  elif classes[0][7]>0:\n",
        "    print(fn + \" is a horse\")\n",
        "  elif classes[0][8]>0:\n",
        "    print(fn + \" is a ship\")\n",
        "  elif classes[0][9]>0:\n",
        "    print(fn + \" is a truck\")"
      ]
    }
  ],
  "metadata": {
    "accelerator": "GPU",
    "colab": {
      "collapsed_sections": [],
      "name": "CIFAR10",
      "provenance": []
    },
    "kernelspec": {
      "display_name": "Python 3",
      "name": "python3"
    },
    "language_info": {
      "name": "python"
    }
  },
  "nbformat": 4,
  "nbformat_minor": 0
}
