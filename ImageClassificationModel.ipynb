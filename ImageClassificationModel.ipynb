{
  "nbformat": 4,
  "nbformat_minor": 0,
  "metadata": {
    "colab": {
      "provenance": []
    },
    "kernelspec": {
      "name": "python3",
      "display_name": "Python 3"
    },
    "language_info": {
      "name": "python"
    },
    "accelerator": "GPU",
    "gpuClass": "standard",
    "widgets": {
      "application/vnd.jupyter.widget-state+json": {
        "df43a36fea934ca297db784e7a09cc61": {
          "model_module": "@jupyter-widgets/controls",
          "model_name": "HBoxModel",
          "model_module_version": "1.5.0",
          "state": {
            "_dom_classes": [],
            "_model_module": "@jupyter-widgets/controls",
            "_model_module_version": "1.5.0",
            "_model_name": "HBoxModel",
            "_view_count": null,
            "_view_module": "@jupyter-widgets/controls",
            "_view_module_version": "1.5.0",
            "_view_name": "HBoxView",
            "box_style": "",
            "children": [
              "IPY_MODEL_e9b136f399984e80baff135e0677338e",
              "IPY_MODEL_af3ea47d4b60458b9d5f7a8a4cf88d40",
              "IPY_MODEL_486e0ad7741343a1a72309787c6659ae"
            ],
            "layout": "IPY_MODEL_b1009d6461a042e99f79b589864f12ae"
          }
        },
        "e9b136f399984e80baff135e0677338e": {
          "model_module": "@jupyter-widgets/controls",
          "model_name": "HTMLModel",
          "model_module_version": "1.5.0",
          "state": {
            "_dom_classes": [],
            "_model_module": "@jupyter-widgets/controls",
            "_model_module_version": "1.5.0",
            "_model_name": "HTMLModel",
            "_view_count": null,
            "_view_module": "@jupyter-widgets/controls",
            "_view_module_version": "1.5.0",
            "_view_name": "HTMLView",
            "description": "",
            "description_tooltip": null,
            "layout": "IPY_MODEL_10e70a4f9f38429ebfb04f3214d3e12d",
            "placeholder": "​",
            "style": "IPY_MODEL_4a0331d687224a48ab165185e3c94e78",
            "value": "100%"
          }
        },
        "af3ea47d4b60458b9d5f7a8a4cf88d40": {
          "model_module": "@jupyter-widgets/controls",
          "model_name": "FloatProgressModel",
          "model_module_version": "1.5.0",
          "state": {
            "_dom_classes": [],
            "_model_module": "@jupyter-widgets/controls",
            "_model_module_version": "1.5.0",
            "_model_name": "FloatProgressModel",
            "_view_count": null,
            "_view_module": "@jupyter-widgets/controls",
            "_view_module_version": "1.5.0",
            "_view_name": "ProgressView",
            "bar_style": "success",
            "description": "",
            "description_tooltip": null,
            "layout": "IPY_MODEL_8584a37efc834fc4bc0bba1de015a950",
            "max": 135107811,
            "min": 0,
            "orientation": "horizontal",
            "style": "IPY_MODEL_83dda291897848209bf9f3fa0a0bf875",
            "value": 135107811
          }
        },
        "486e0ad7741343a1a72309787c6659ae": {
          "model_module": "@jupyter-widgets/controls",
          "model_name": "HTMLModel",
          "model_module_version": "1.5.0",
          "state": {
            "_dom_classes": [],
            "_model_module": "@jupyter-widgets/controls",
            "_model_module_version": "1.5.0",
            "_model_name": "HTMLModel",
            "_view_count": null,
            "_view_module": "@jupyter-widgets/controls",
            "_view_module_version": "1.5.0",
            "_view_name": "HTMLView",
            "description": "",
            "description_tooltip": null,
            "layout": "IPY_MODEL_76c3f07703ff4cd18c9f71ec31081dc8",
            "placeholder": "​",
            "style": "IPY_MODEL_73f7691176684ad58aacc3e2b53672b0",
            "value": " 135107811/135107811 [00:12&lt;00:00, 13320684.64it/s]"
          }
        },
        "b1009d6461a042e99f79b589864f12ae": {
          "model_module": "@jupyter-widgets/base",
          "model_name": "LayoutModel",
          "model_module_version": "1.2.0",
          "state": {
            "_model_module": "@jupyter-widgets/base",
            "_model_module_version": "1.2.0",
            "_model_name": "LayoutModel",
            "_view_count": null,
            "_view_module": "@jupyter-widgets/base",
            "_view_module_version": "1.2.0",
            "_view_name": "LayoutView",
            "align_content": null,
            "align_items": null,
            "align_self": null,
            "border": null,
            "bottom": null,
            "display": null,
            "flex": null,
            "flex_flow": null,
            "grid_area": null,
            "grid_auto_columns": null,
            "grid_auto_flow": null,
            "grid_auto_rows": null,
            "grid_column": null,
            "grid_gap": null,
            "grid_row": null,
            "grid_template_areas": null,
            "grid_template_columns": null,
            "grid_template_rows": null,
            "height": null,
            "justify_content": null,
            "justify_items": null,
            "left": null,
            "margin": null,
            "max_height": null,
            "max_width": null,
            "min_height": null,
            "min_width": null,
            "object_fit": null,
            "object_position": null,
            "order": null,
            "overflow": null,
            "overflow_x": null,
            "overflow_y": null,
            "padding": null,
            "right": null,
            "top": null,
            "visibility": null,
            "width": null
          }
        },
        "10e70a4f9f38429ebfb04f3214d3e12d": {
          "model_module": "@jupyter-widgets/base",
          "model_name": "LayoutModel",
          "model_module_version": "1.2.0",
          "state": {
            "_model_module": "@jupyter-widgets/base",
            "_model_module_version": "1.2.0",
            "_model_name": "LayoutModel",
            "_view_count": null,
            "_view_module": "@jupyter-widgets/base",
            "_view_module_version": "1.2.0",
            "_view_name": "LayoutView",
            "align_content": null,
            "align_items": null,
            "align_self": null,
            "border": null,
            "bottom": null,
            "display": null,
            "flex": null,
            "flex_flow": null,
            "grid_area": null,
            "grid_auto_columns": null,
            "grid_auto_flow": null,
            "grid_auto_rows": null,
            "grid_column": null,
            "grid_gap": null,
            "grid_row": null,
            "grid_template_areas": null,
            "grid_template_columns": null,
            "grid_template_rows": null,
            "height": null,
            "justify_content": null,
            "justify_items": null,
            "left": null,
            "margin": null,
            "max_height": null,
            "max_width": null,
            "min_height": null,
            "min_width": null,
            "object_fit": null,
            "object_position": null,
            "order": null,
            "overflow": null,
            "overflow_x": null,
            "overflow_y": null,
            "padding": null,
            "right": null,
            "top": null,
            "visibility": null,
            "width": null
          }
        },
        "4a0331d687224a48ab165185e3c94e78": {
          "model_module": "@jupyter-widgets/controls",
          "model_name": "DescriptionStyleModel",
          "model_module_version": "1.5.0",
          "state": {
            "_model_module": "@jupyter-widgets/controls",
            "_model_module_version": "1.5.0",
            "_model_name": "DescriptionStyleModel",
            "_view_count": null,
            "_view_module": "@jupyter-widgets/base",
            "_view_module_version": "1.2.0",
            "_view_name": "StyleView",
            "description_width": ""
          }
        },
        "8584a37efc834fc4bc0bba1de015a950": {
          "model_module": "@jupyter-widgets/base",
          "model_name": "LayoutModel",
          "model_module_version": "1.2.0",
          "state": {
            "_model_module": "@jupyter-widgets/base",
            "_model_module_version": "1.2.0",
            "_model_name": "LayoutModel",
            "_view_count": null,
            "_view_module": "@jupyter-widgets/base",
            "_view_module_version": "1.2.0",
            "_view_name": "LayoutView",
            "align_content": null,
            "align_items": null,
            "align_self": null,
            "border": null,
            "bottom": null,
            "display": null,
            "flex": null,
            "flex_flow": null,
            "grid_area": null,
            "grid_auto_columns": null,
            "grid_auto_flow": null,
            "grid_auto_rows": null,
            "grid_column": null,
            "grid_gap": null,
            "grid_row": null,
            "grid_template_areas": null,
            "grid_template_columns": null,
            "grid_template_rows": null,
            "height": null,
            "justify_content": null,
            "justify_items": null,
            "left": null,
            "margin": null,
            "max_height": null,
            "max_width": null,
            "min_height": null,
            "min_width": null,
            "object_fit": null,
            "object_position": null,
            "order": null,
            "overflow": null,
            "overflow_x": null,
            "overflow_y": null,
            "padding": null,
            "right": null,
            "top": null,
            "visibility": null,
            "width": null
          }
        },
        "83dda291897848209bf9f3fa0a0bf875": {
          "model_module": "@jupyter-widgets/controls",
          "model_name": "ProgressStyleModel",
          "model_module_version": "1.5.0",
          "state": {
            "_model_module": "@jupyter-widgets/controls",
            "_model_module_version": "1.5.0",
            "_model_name": "ProgressStyleModel",
            "_view_count": null,
            "_view_module": "@jupyter-widgets/base",
            "_view_module_version": "1.2.0",
            "_view_name": "StyleView",
            "bar_color": null,
            "description_width": ""
          }
        },
        "76c3f07703ff4cd18c9f71ec31081dc8": {
          "model_module": "@jupyter-widgets/base",
          "model_name": "LayoutModel",
          "model_module_version": "1.2.0",
          "state": {
            "_model_module": "@jupyter-widgets/base",
            "_model_module_version": "1.2.0",
            "_model_name": "LayoutModel",
            "_view_count": null,
            "_view_module": "@jupyter-widgets/base",
            "_view_module_version": "1.2.0",
            "_view_name": "LayoutView",
            "align_content": null,
            "align_items": null,
            "align_self": null,
            "border": null,
            "bottom": null,
            "display": null,
            "flex": null,
            "flex_flow": null,
            "grid_area": null,
            "grid_auto_columns": null,
            "grid_auto_flow": null,
            "grid_auto_rows": null,
            "grid_column": null,
            "grid_gap": null,
            "grid_row": null,
            "grid_template_areas": null,
            "grid_template_columns": null,
            "grid_template_rows": null,
            "height": null,
            "justify_content": null,
            "justify_items": null,
            "left": null,
            "margin": null,
            "max_height": null,
            "max_width": null,
            "min_height": null,
            "min_width": null,
            "object_fit": null,
            "object_position": null,
            "order": null,
            "overflow": null,
            "overflow_x": null,
            "overflow_y": null,
            "padding": null,
            "right": null,
            "top": null,
            "visibility": null,
            "width": null
          }
        },
        "73f7691176684ad58aacc3e2b53672b0": {
          "model_module": "@jupyter-widgets/controls",
          "model_name": "DescriptionStyleModel",
          "model_module_version": "1.5.0",
          "state": {
            "_model_module": "@jupyter-widgets/controls",
            "_model_module_version": "1.5.0",
            "_model_name": "DescriptionStyleModel",
            "_view_count": null,
            "_view_module": "@jupyter-widgets/base",
            "_view_module_version": "1.2.0",
            "_view_name": "StyleView",
            "description_width": ""
          }
        }
      }
    }
  },
  "cells": [
    {
      "cell_type": "markdown",
      "source": [
        "Import statements"
      ],
      "metadata": {
        "id": "6zd1_uMg7nRc"
      }
    },
    {
      "cell_type": "code",
      "execution_count": 2,
      "metadata": {
        "id": "HJWko8GXJGWa"
      },
      "outputs": [],
      "source": [
        "from torchvision.datasets.utils import download_url\n",
        "from torch.utils.data import random_split\n",
        "from torchvision.datasets import ImageFolder\n",
        "from torchvision.transforms import ToTensor\n",
        "from torch.utils.data.dataloader import DataLoader\n",
        "from torchvision.utils import make_grid\n",
        "\n",
        "import os\n",
        "import torch\n",
        "import torchvision\n",
        "import tarfile\n",
        "import matplotlib\n",
        "import matplotlib.pyplot as plt\n",
        "import torch.nn as nn\n",
        "import torch.nn.functional as F\n"
      ]
    },
    {
      "cell_type": "markdown",
      "source": [
        "Download the database"
      ],
      "metadata": {
        "id": "kPz00rA1kr-O"
      }
    },
    {
      "cell_type": "code",
      "source": [
        "dataset_url = \"https://s3.amazonaws.com/fast-ai-imageclas/cifar10.tgz\"\n",
        "download_url(dataset_url, '.')"
      ],
      "metadata": {
        "colab": {
          "base_uri": "https://localhost:8080/",
          "height": 67,
          "referenced_widgets": [
            "df43a36fea934ca297db784e7a09cc61",
            "e9b136f399984e80baff135e0677338e",
            "af3ea47d4b60458b9d5f7a8a4cf88d40",
            "486e0ad7741343a1a72309787c6659ae",
            "b1009d6461a042e99f79b589864f12ae",
            "10e70a4f9f38429ebfb04f3214d3e12d",
            "4a0331d687224a48ab165185e3c94e78",
            "8584a37efc834fc4bc0bba1de015a950",
            "83dda291897848209bf9f3fa0a0bf875",
            "76c3f07703ff4cd18c9f71ec31081dc8",
            "73f7691176684ad58aacc3e2b53672b0"
          ]
        },
        "id": "W5qMw8aRlOwd",
        "outputId": "e81622e4-8164-401a-b457-7f308a3309b4"
      },
      "execution_count": 4,
      "outputs": [
        {
          "output_type": "stream",
          "name": "stdout",
          "text": [
            "Downloading https://s3.amazonaws.com/fast-ai-imageclas/cifar10.tgz to ./cifar10.tgz\n"
          ]
        },
        {
          "output_type": "display_data",
          "data": {
            "text/plain": [
              "  0%|          | 0/135107811 [00:00<?, ?it/s]"
            ],
            "application/vnd.jupyter.widget-view+json": {
              "version_major": 2,
              "version_minor": 0,
              "model_id": "df43a36fea934ca297db784e7a09cc61"
            }
          },
          "metadata": {}
        }
      ]
    },
    {
      "cell_type": "markdown",
      "source": [
        "Extract the downloaded file"
      ],
      "metadata": {
        "id": "Le_rLiyIlP2V"
      }
    },
    {
      "cell_type": "code",
      "source": [
        "with tarfile.open('./cifar10.tgz', 'r:gz') as tar:\n",
        "    tar.extractall(path='./data')"
      ],
      "metadata": {
        "id": "SjMuv9QK5dBa"
      },
      "execution_count": 5,
      "outputs": []
    },
    {
      "cell_type": "markdown",
      "source": [
        "Define Classes for model\n",
        "\n"
      ],
      "metadata": {
        "id": "oQm3ODez6VPg"
      }
    },
    {
      "cell_type": "code",
      "source": [
        "\n",
        "\n",
        "# accuracy(outputs, labels) returns the accuracy score of the model's outputs and the images' labels\n",
        "def accuracy(outputs, labels):\n",
        "    _, preds = torch.max(outputs, dim=1)\n",
        "    return torch.tensor(torch.sum(preds == labels).item() / len(preds))\n",
        "\n",
        "# to_device(data, device) move data to device (namely GPU, if one is available)\n",
        "def to_device(data, device):\n",
        "    if isinstance(data, (list,tuple)):\n",
        "        return [to_device(x, device) for x in data]\n",
        "    return data.to(device, non_blocking=True)\n",
        "\n",
        "# To define the model, we first have to define the basis of the model - ImageClassificationBase class\n",
        "# This class will contain many helper functions to calculate the errors between the image's label and the model's output\n",
        "class ImageClassificationBase(nn.Module):\n",
        "    # training_step(self, batch) returns the average difference between the actual image label and the model's output\n",
        "    # FOR USE BY THE training_ds\n",
        "    def training_step(self, batch):\n",
        "        images, labels = batch \n",
        "        out = self(images)                  # Generate predictions\n",
        "        loss = F.cross_entropy(out, labels) # Calculate loss\n",
        "        return loss\n",
        "    \n",
        "    # validation_step(self, batch) returns the average difference between the image's label and the model's output.\n",
        "    # As well as teh accuracy of the label\n",
        "    # FOR USE BY THE validation_ds\n",
        "    def validation_step(self, batch):\n",
        "        images, labels = batch \n",
        "        out = self(images)                    # Generate predictions\n",
        "        loss = F.cross_entropy(out, labels)   # Calculate loss\n",
        "        acc = accuracy(out, labels)           # Calculate accuracy\n",
        "        return {'val_loss': loss.detach(), 'val_acc': acc}\n",
        "    \n",
        "    # validation_epoch_end(self, outputs) returns the average error between the image's label adn the model's output\n",
        "    # across the training batches\n",
        "    def validation_epoch_end(self, outputs):\n",
        "        batch_losses = [x['val_loss'] for x in outputs]\n",
        "        epoch_loss = torch.stack(batch_losses).mean()   # Combine losses\n",
        "        batch_accs = [x['val_acc'] for x in outputs]\n",
        "        epoch_acc = torch.stack(batch_accs).mean()      # Combine accuracies\n",
        "        return {'val_loss': epoch_loss.item(), 'val_acc': epoch_acc.item()}\n",
        "    \n",
        "    def epoch_end(self, epoch, result):\n",
        "        print(\"Epoch [{}], train_loss: {:.4f}, val_loss: {:.4f}, val_acc: {:.4f}\".format(\n",
        "            epoch, result['train_loss'], result['val_loss'], result['val_acc']))\n",
        "\n",
        "# CnnModel used to classify image, extended from ImageClassificationBase\n",
        "class Cifar10CnnModel(ImageClassificationBase):\n",
        "    # We use nn.Sequential to chain together the neural network's layers and the activation functions (aka ReLU())\n",
        "    def __init__(self):\n",
        "        super().__init__()\n",
        "        self.network = nn.Sequential(\n",
        "            nn.Conv2d(3, 32, kernel_size=3, padding=1),\n",
        "            nn.ReLU(),\n",
        "            nn.Conv2d(32, 64, kernel_size=3, stride=1, padding=1),\n",
        "            nn.ReLU(),\n",
        "            # Halves the image\n",
        "            nn.MaxPool2d(2, 2), # output: 64 x 16 x 16\n",
        "\n",
        "            nn.Conv2d(64, 128, kernel_size=3, stride=1, padding=1),\n",
        "            nn.ReLU(),\n",
        "            nn.Conv2d(128, 128, kernel_size=3, stride=1, padding=1),\n",
        "            nn.ReLU(),\n",
        "            # Halves the image again\n",
        "            nn.MaxPool2d(2, 2), # output: 128 x 8 x 8\n",
        "\n",
        "            nn.Conv2d(128, 256, kernel_size=3, stride=1, padding=1),\n",
        "            nn.ReLU(),\n",
        "            nn.Conv2d(256, 256, kernel_size=3, stride=1, padding=1),\n",
        "            nn.ReLU(),\n",
        "            # Halves the image again!\n",
        "            nn.MaxPool2d(2, 2), # output: 256 x 4 x 4\n",
        "\n",
        "\n",
        "            nn.Flatten(), # flatten the 2D array into a 1D vector for ease of proccessing by the neural network\n",
        "            nn.Linear(256*4*4, 1024),\n",
        "            nn.ReLU(),\n",
        "            nn.Linear(1024, 512),\n",
        "            nn.ReLU(),\n",
        "            nn.Linear(512, 10))\n",
        "        \n",
        "    def forward(self, xb):\n",
        "        return self.network(xb)\n",
        "\n",
        "# DeviceDataLoader wrap a dataload to move data to a device (GPU) if one is available\n",
        "class DeviceDataLoader():\n",
        "\n",
        "    def __init__(self, dl, device):\n",
        "        self.dl = dl\n",
        "        self.device = device\n",
        "    \n",
        "    # __iter__(self) yield a batch of data after moving it to device        \n",
        "    def __iter__(self):\n",
        "        \"\"\"Yield a batch of data after moving it to device\"\"\"\n",
        "        for b in self.dl: \n",
        "            yield to_device(b, self.device)\n",
        "\n",
        "    # __len__(self) returns the number of batches in the set\n",
        "    def __len__(self):\n",
        "\n",
        "        return len(self.dl)"
      ],
      "metadata": {
        "id": "zfOeTUGP6U2x"
      },
      "execution_count": 3,
      "outputs": []
    },
    {
      "cell_type": "markdown",
      "source": [
        "Verify information about the dataset\n"
      ],
      "metadata": {
        "id": "NJ_Y3r-B6kir"
      }
    },
    {
      "cell_type": "code",
      "source": [
        "data_dir = \"./data/cifar10\"\n",
        "print(\"The directories are: \", os.listdir(data_dir))\n",
        "classes = os.listdir(data_dir + \"/train\")\n",
        "print(\"Classes: \",classes)\n",
        "\n",
        "airplane_test_files = os.listdir(data_dir+\"/test/airplane\")\n",
        "airplane_train_files = os.listdir(data_dir+\"/train/airplane\")\n",
        "print(\"No. airplane test files: \", len(airplane_test_files))\n",
        "print(\"No. airplane train files: \", len(airplane_train_files))\n",
        "\n",
        "dataset = ImageFolder(data_dir+\"/train\", transform=ToTensor())\n"
      ],
      "metadata": {
        "id": "F1XGOyx5JOK6",
        "colab": {
          "base_uri": "https://localhost:8080/"
        },
        "outputId": "14c65149-eacd-489e-a89a-67d1f0e7f988"
      },
      "execution_count": 6,
      "outputs": [
        {
          "output_type": "stream",
          "name": "stdout",
          "text": [
            "The directories are:  ['train', 'test']\n",
            "Classes:  ['ship', 'airplane', 'frog', 'automobile', 'cat', 'horse', 'deer', 'truck', 'dog', 'bird']\n",
            "No. airplane test files:  1000\n",
            "No. airplane train files:  5000\n"
          ]
        }
      ]
    },
    {
      "cell_type": "markdown",
      "source": [
        "Displaying images in the terminal"
      ],
      "metadata": {
        "id": "-V-fe5xI61RQ"
      }
    },
    {
      "cell_type": "code",
      "source": [
        "# Set parameters for matplotlib\n",
        "matplotlib.rcParams['figure.facecolor'] = '#ffffff'\n",
        "\n",
        "# show_example(img, label) displays the image in the terminal\n",
        "def show_example(img, label):\n",
        "    print('Label: ', dataset.classes[label], \"(\"+str(label)+\")\")\n",
        "    plt.imshow(img.permute(1, 2, 0))"
      ],
      "metadata": {
        "id": "MY4P2O3g640p"
      },
      "execution_count": 7,
      "outputs": []
    },
    {
      "cell_type": "markdown",
      "source": [
        "Generating random validation set"
      ],
      "metadata": {
        "id": "gIEbAHDU6_au"
      }
    },
    {
      "cell_type": "code",
      "source": [
        "# To ensure we always create the same validation set, we'll set a seed for the random number generator\n",
        "random_seed = 42\n",
        "torch.manual_seed(random_seed)\n",
        "\n",
        "# Preset validation set's size\n",
        "val_size = 5000\n",
        "train_size = len(dataset) - val_size\n",
        "\n",
        "# Split training set for validation set\n",
        "train_ds, val_ds = random_split(dataset, [train_size, val_size])\n",
        "# print(len(train_ds), len(val_ds))\n",
        "\n",
        "# Create data loaders for training and validation, to load the data in batches\n",
        "batch_size = 128\n",
        "\n",
        "# Data loaders for trainning and validation sets\n",
        "train_dl = DataLoader(train_ds, batch_size, shuffle=True, num_workers=4, pin_memory=True)\n",
        "val_dl = DataLoader(val_ds, batch_size*2, num_workers=4, pin_memory=True)"
      ],
      "metadata": {
        "colab": {
          "base_uri": "https://localhost:8080/"
        },
        "id": "EbWItXIp7CNj",
        "outputId": "19c76e46-52ec-40bf-966b-7fa5fbbe183d"
      },
      "execution_count": 8,
      "outputs": [
        {
          "output_type": "stream",
          "name": "stderr",
          "text": [
            "/usr/local/lib/python3.8/dist-packages/torch/utils/data/dataloader.py:554: UserWarning: This DataLoader will create 4 worker processes in total. Our suggested max number of worker in current system is 2, which is smaller than what this DataLoader is going to create. Please be aware that excessive worker creation might get DataLoader running slow or even freeze, lower the worker number to avoid potential slowness/freeze if necessary.\n",
            "  warnings.warn(_create_warning_msg(\n"
          ]
        }
      ]
    },
    {
      "cell_type": "markdown",
      "source": [
        "Set up kernels and training datasets"
      ],
      "metadata": {
        "id": "-4A-LYu37OkI"
      }
    },
    {
      "cell_type": "code",
      "source": [
        "\n",
        "# apply_kernel(img, kernel) returns an array of values as a result of applying the kernel\n",
        "# onto img\n",
        "\n",
        "# kernel is an n by n array with pre-populated values inside it. By applying the kernel onto img,\n",
        "# We multiply each cell in the kernel's region with kernel cell's value (at the position), then slide\n",
        "# the kernel over to another group of cell, this is otherwise referred to as the \"Sliding Window Algorithm\"\n",
        "\n",
        "def apply_kernel(img, kernel):\n",
        "    ri, ci = img.shape # retrieve the image's dimension\n",
        "    rk, ck = kernel.shape # retrieve the kernel's dimension\n",
        "    ro, co = ri-rk+1, ci-ck+1 # retrieve the output dimensions\n",
        "\n",
        "    # set up the output array\n",
        "    output = torch.zeros([ro, co])\n",
        "\n",
        "    # apply the kernel to every window of the image\n",
        "    for i in range(ro):\n",
        "        for j in range(co):\n",
        "            # calculate cell's value \n",
        "            output[i,j] = torch.sum(img[i:i+rk,j:j+ck] * kernel)\n",
        "    \n",
        "    return output\n",
        "\n",
        "# get_default_device() returns the GPU device of the \"host machine\" if \n",
        "# a GPU is available, otherwise, it returns a CPU\n",
        "# It helps maximize the training speed of the model, as well as the use \n",
        "# of the host machine\n",
        "\n",
        "def get_default_device():\n",
        "    if torch.cuda.is_available():\n",
        "        return torch.device('cuda')\n",
        "    else:\n",
        "        return torch.device('cpu')\n",
        "\n",
        "# PREPARING THE DATA FOR TRAINING\n",
        "\n",
        "# define the model by setting it equal to the instance of the Cifar10CNNModel() class\n",
        "model = Cifar10CnnModel()\n",
        "\n",
        "# set device (CPU or GPU) for training the model\n",
        "device = get_default_device()\n",
        "\n",
        "# Re-define train_dl and val_dl such that the program would move the model to the GPU to\n",
        "# speed up the training process (if a GPU is available) \n",
        "# => lower the workload for CPU\n",
        "# => decrease the training time\n",
        "# => increase the time efficiency\n",
        "\n",
        "train_dl = DeviceDataLoader(train_dl, device)\n",
        "val_dl = DeviceDataLoader(val_dl, device)\n",
        "\n",
        "# move the model to the device\n",
        "to_device(model, device)\n",
        "\n",
        "# TRAIN THE MODEL\n",
        "\n",
        "@torch.no_grad()\n",
        "# evaluate(model, val_loader) evaluate the accuracy of the model\n",
        "def evaluate(model, val_loader):\n",
        "    model.eval()\n",
        "    outputs = [model.validation_step(batch) for batch in val_loader]\n",
        "    return model.validation_epoch_end(outputs)\n",
        "\n",
        "# fit(epochs, lr, model, train_loader, val_loader, opt_func=torch.optim.SGD) fits the data to the model\n",
        "def fit(epochs, lr, model, train_loader, val_loader, opt_func=torch.optim.SGD):\n",
        "    history = []\n",
        "    optimizer = opt_func(model.parameters(), lr)\n",
        "\n",
        "    for epoch in range(epochs):\n",
        "        # Training Phase \n",
        "\n",
        "        # The model will be re-trained for each epoch => The accuracy would increase \n",
        "        model.train()\n",
        "        train_losses = []\n",
        "        for batch in train_loader:\n",
        "            loss = model.training_step(batch)\n",
        "            train_losses.append(loss)\n",
        "            loss.backward()\n",
        "            optimizer.step()\n",
        "            optimizer.zero_grad()\n",
        "        # Validation phase\n",
        "        result = evaluate(model, val_loader)\n",
        "        result['train_loss'] = torch.stack(train_losses).mean().item()\n",
        "        model.epoch_end(epoch, result)\n",
        "        history.append(result)\n",
        "    return history\n",
        "\n",
        "# EVALUATION \n",
        "model = to_device(Cifar10CnnModel(), device)\n",
        "\n",
        "# Evaluate the model against the validation dataset\n",
        "# evaluate(model, val_dl)\n",
        "\n",
        "# Output: {'val_loss': 2.3029751777648926, 'val_acc': 0.10143611580133438}\n",
        "# => ~10% accurracy\n",
        "\n",
        "# WE ARE DONE!!!!!!!!!!!!\n",
        "\n",
        "# ARE WE? \n",
        "\n",
        "# NOOOOOOOOOOOOOO!!!!!!!!!!\n",
        "\n",
        "# The initial model would only have 10% of accuracy score\n",
        "\n",
        "# WHY?\n",
        "\n",
        "# The model is randomly initialized, there are 10 classes, and there is only 1 right answer\n",
        "# => An accuracy score of 10% makes sense! \n",
        "\n",
        "# HOW CAN WE IMPROVE THE ACCURACY POINT THEN?\n",
        "\n",
        "#  => Increase epochs, so the model got re-trained more, the weights are better adjusted\n",
        "\n",
        "#  => Decrease learning rate, so the model learns slower, which requires more epochs, but also helps \n",
        "# it to better recognize more patterns and increase the accuracy\n",
        "\n",
        "# => Change the optimal function, so the function's prediction are more optimal. There are \n",
        "# various types of optimal functions, which are good for various different purposes of the model\n",
        "\n",
        "# INCREASE ACCURACY PHASE\n",
        "\n",
        "# Pre-set hyperparameters\n",
        "num_epochs = 20\n",
        "opt_func = torch.optim.Adam\n",
        "lr = 0.001"
      ],
      "metadata": {
        "id": "EXUikab57Qi2"
      },
      "execution_count": 9,
      "outputs": []
    },
    {
      "cell_type": "markdown",
      "source": [
        "Test the model\n"
      ],
      "metadata": {
        "id": "XjdhqODP7T3t"
      }
    },
    {
      "cell_type": "code",
      "source": [
        "history = fit(num_epochs, lr, model, train_dl, val_dl, opt_func)\n",
        "\n",
        "# plot_losses(history) plots the Loss vs. No. of epochs\n",
        "def plot_losses(history):\n",
        "    train_losses = [x.get('train_loss') for x in history]\n",
        "    val_losses = [x['val_loss'] for x in history]\n",
        "    plt.plot(train_losses, '-bx')\n",
        "    plt.plot(val_losses, '-rx')\n",
        "    plt.xlabel('epoch')\n",
        "    plt.ylabel('loss')\n",
        "    plt.legend(['Training', 'Validation'])\n",
        "    plt.title('Loss vs. No. of epochs')\n",
        "\n",
        "# plot_accuracies(history) plots the Accuracy vs. No. of epochs\n",
        "def plot_accuracies(history):\n",
        "    accuracies = [x['val_acc'] for x in history]\n",
        "    plt.plot(accuracies, '-x')\n",
        "    plt.xlabel('epoch')\n",
        "    plt.ylabel('accuracy')\n",
        "    plt.title('Accuracy vs. No. of epochs')\n",
        "  \n"
      ],
      "metadata": {
        "colab": {
          "base_uri": "https://localhost:8080/"
        },
        "id": "mN30Oef-7WXp",
        "outputId": "466b4c18-5993-4809-ac63-04a0bad07319"
      },
      "execution_count": 10,
      "outputs": [
        {
          "output_type": "stream",
          "name": "stdout",
          "text": [
            "Epoch [0], train_loss: 1.7081, val_loss: 1.3520, val_acc: 0.5084\n",
            "Epoch [1], train_loss: 1.1791, val_loss: 1.0762, val_acc: 0.6048\n",
            "Epoch [2], train_loss: 0.9282, val_loss: 0.8817, val_acc: 0.6894\n",
            "Epoch [3], train_loss: 0.7620, val_loss: 0.8040, val_acc: 0.7210\n",
            "Epoch [4], train_loss: 0.6286, val_loss: 0.7307, val_acc: 0.7447\n",
            "Epoch [5], train_loss: 0.5212, val_loss: 0.7002, val_acc: 0.7617\n",
            "Epoch [6], train_loss: 0.4216, val_loss: 0.6830, val_acc: 0.7755\n",
            "Epoch [7], train_loss: 0.3281, val_loss: 0.8130, val_acc: 0.7605\n",
            "Epoch [8], train_loss: 0.2557, val_loss: 0.7694, val_acc: 0.7733\n",
            "Epoch [9], train_loss: 0.2010, val_loss: 0.8683, val_acc: 0.7756\n",
            "Epoch [10], train_loss: 0.1648, val_loss: 0.9931, val_acc: 0.7708\n",
            "Epoch [11], train_loss: 0.1269, val_loss: 1.0370, val_acc: 0.7617\n",
            "Epoch [12], train_loss: 0.1180, val_loss: 1.1637, val_acc: 0.7734\n",
            "Epoch [13], train_loss: 0.0952, val_loss: 1.1669, val_acc: 0.7697\n",
            "Epoch [14], train_loss: 0.0961, val_loss: 1.1996, val_acc: 0.7642\n",
            "Epoch [15], train_loss: 0.0774, val_loss: 1.3688, val_acc: 0.7669\n",
            "Epoch [16], train_loss: 0.0784, val_loss: 1.2804, val_acc: 0.7672\n",
            "Epoch [17], train_loss: 0.0759, val_loss: 1.2353, val_acc: 0.7720\n",
            "Epoch [18], train_loss: 0.0708, val_loss: 1.2892, val_acc: 0.7690\n",
            "Epoch [19], train_loss: 0.0656, val_loss: 1.6210, val_acc: 0.7644\n"
          ]
        }
      ]
    },
    {
      "cell_type": "code",
      "source": [
        "plot_accuracies(history)\n"
      ],
      "metadata": {
        "colab": {
          "base_uri": "https://localhost:8080/",
          "height": 295
        },
        "id": "43Y_PqgzFbnQ",
        "outputId": "3d9d1060-53d6-4dfe-ac10-06a39958a892"
      },
      "execution_count": 11,
      "outputs": [
        {
          "output_type": "display_data",
          "data": {
            "text/plain": [
              "<Figure size 432x288 with 1 Axes>"
            ],
            "image/png": "[encoded data removed]"
          },
          "metadata": {}
        }
      ]
    },
    {
      "cell_type": "code",
      "source": [
        "plot_losses(history)"
      ],
      "metadata": {
        "id": "qoKnQY6jFeoS",
        "outputId": "2b947ddd-124e-4194-8b61-c21ac1ad87ae",
        "colab": {
          "base_uri": "https://localhost:8080/",
          "height": 295
        }
      },
      "execution_count": 12,
      "outputs": [
        {
          "output_type": "display_data",
          "data": {
            "text/plain": [
              "<Figure size 432x288 with 1 Axes>"
            ],
            "image/png": "[encoded data removed]"
          },
          "metadata": {}
        }
      ]
    }
  ]
}