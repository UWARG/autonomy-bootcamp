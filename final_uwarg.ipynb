{
  "cells": [
    {
      "cell_type": "markdown",
      "metadata": {
        "id": "a-49qsHm7duE"
      },
      "source": [
        "Importing stuff needed"
      ]
    },
    {
      "cell_type": "code",
      "execution_count": 11,
      "metadata": {
        "id": "er6WErke7a2d"
      },
      "outputs": [],
      "source": [
        "import torch\n",
        "import torch.nn as nn\n",
        "import torch.optim as optim\n",
        "import torchvision\n",
        "import torchvision.transforms as transforms\n",
        "import matplotlib.pyplot as plt"
      ]
    },
    {
      "cell_type": "markdown",
      "metadata": {
        "id": "gp38kg9G7ea1"
      },
      "source": [
        "Loading and transforming data (random crop and horizontal flip for the training dataset to improve performance)"
      ]
    },
    {
      "cell_type": "code",
      "execution_count": 12,
      "metadata": {
        "colab": {
          "base_uri": "https://localhost:8080/"
        },
        "id": "mrPsYb1X7e4Q",
        "outputId": "185ac757-fdcf-40c2-fc26-f29d81154478"
      },
      "outputs": [
        {
          "output_type": "stream",
          "name": "stdout",
          "text": [
            "Files already downloaded and verified\n",
            "Files already downloaded and verified\n"
          ]
        }
      ],
      "source": [
        "#Defining transforms\n",
        "transform_train = transforms.Compose([\n",
        "    transforms.RandomCrop(32, padding=4),\n",
        "    transforms.RandomHorizontalFlip(),\n",
        "    transforms.ToTensor(),\n",
        "    transforms.Normalize((0.5, 0.5, 0.5), (0.5, 0.5, 0.5)),\n",
        "]) \n",
        "\n",
        "transform_test = transforms.Compose([\n",
        "    transforms.ToTensor(),\n",
        "    transforms.Normalize((0.5, 0.5, 0.5), (0.5, 0.5, 0.5)),\n",
        "])\n",
        "\n",
        "#Loading CIFAR10 - first for training, second for testing\n",
        "trainset = torchvision.datasets.CIFAR10(root='./data', train=True,\n",
        "                                        download=True, transform=transform_train)\n",
        "trainloader = torch.utils.data.DataLoader(trainset, batch_size=128,\n",
        "                                          shuffle=True, num_workers=2)\n",
        "\n",
        "testset = torchvision.datasets.CIFAR10(root='./data', train=False,\n",
        "                                       download=True, transform=transform_test)\n",
        "testloader = torch.utils.data.DataLoader(testset, batch_size=128,\n",
        "                                         shuffle=False, num_workers=2)"
      ]
    },
    {
      "cell_type": "markdown",
      "metadata": {
        "id": "w4Qb_si17fGD"
      },
      "source": [
        "Defining CNN"
      ]
    },
    {
      "cell_type": "code",
      "execution_count": 13,
      "metadata": {
        "id": "TCGQp0rA7fbq"
      },
      "outputs": [],
      "source": [
        "class Net(nn.Module):\n",
        "    def __init__(self):\n",
        "        super(Net, self).__init__()\n",
        "        self.conv1 = nn.Conv2d(3, 64, kernel_size=3, stride=1, padding=1)\n",
        "        self.bn1 = nn.BatchNorm2d(64)\n",
        "        self.relu1 = nn.ReLU(inplace=True)\n",
        "        self.pool1 = nn.MaxPool2d(kernel_size=2, stride=2)\n",
        "        self.conv2 = nn.Conv2d(64, 128, kernel_size=3, stride=1, padding=1)\n",
        "        self.bn2 = nn.BatchNorm2d(128)\n",
        "        self.relu2 = nn.ReLU(inplace=True)\n",
        "        self.pool2 = nn.MaxPool2d(kernel_size=2, stride=2)\n",
        "        self.conv3 = nn.Conv2d(128, 256, kernel_size=3, stride=1, padding=1)\n",
        "        self.bn3 = nn.BatchNorm2d(256)\n",
        "        self.relu3 = nn.ReLU(inplace=True)\n",
        "        self.pool3 = nn.MaxPool2d(kernel_size=2, stride=2)\n",
        "        self.fc1 = nn.Linear(256 * 4 * 4, 512)\n",
        "        self.relu4 = nn.ReLU(inplace=True)\n",
        "        self.dropout = nn.Dropout(p=0.5)\n",
        "        self.fc2 = nn.Linear(512, 10)\n",
        "\n",
        "    def forward(self, x):\n",
        "        x = self.conv1(x)\n",
        "        x = self.bn1(x)\n",
        "        x = self.relu1(x)\n",
        "        x = self.pool1(x)\n",
        "        x = self.conv2(x)\n",
        "        x = self.bn2(x)\n",
        "        x = self.relu2(x)\n",
        "        x = self.pool2(x)\n",
        "        x = self.conv3(x)\n",
        "        x = self.bn3(x)\n",
        "        x = self.relu3(x)\n",
        "        x = self.pool3(x)\n",
        "        x = x.view(-1, 256 * 4 * 4)\n",
        "        x = self.fc1(x)\n",
        "        x = self.relu4(x)\n",
        "        x = self.dropout(x)\n",
        "        x = self.fc2(x)\n",
        "        return x\n",
        "\n",
        "# determines device to train on - gpu or cpu\n",
        "device = torch.device('cuda:0' if torch.cuda.is_available() else 'cpu')\n",
        "net = Net().to(device)"
      ]
    },
    {
      "cell_type": "markdown",
      "metadata": {
        "id": "Av3-_Tn17fsG"
      },
      "source": [
        "Loss function + Optimizer"
      ]
    },
    {
      "cell_type": "code",
      "execution_count": 14,
      "metadata": {
        "id": "T4VgHIHq7gDx"
      },
      "outputs": [],
      "source": [
        "criterion = nn.CrossEntropyLoss()\n",
        "optimizer = optim.SGD(net.parameters(), lr=0.001, momentum=0.9)"
      ]
    },
    {
      "cell_type": "markdown",
      "metadata": {
        "id": "hNyKWeGS7y--"
      },
      "source": [
        "Training the CNN"
      ]
    },
    {
      "cell_type": "code",
      "execution_count": 15,
      "metadata": {
        "colab": {
          "base_uri": "https://localhost:8080/"
        },
        "id": "OXV0b-vB7zfA",
        "outputId": "c7e12dd4-f939-4484-f58d-3f6c3dd56c0a"
      },
      "outputs": [
        {
          "output_type": "stream",
          "name": "stdout",
          "text": [
            "Epoch  1 | Train Loss: 1.730 | Train Accuracy: 37.05% | Test Loss: 1.377 | Test Accuracy: 50.50%\n",
            "Epoch  2 | Train Loss: 1.392 | Train Accuracy: 49.52% | Test Loss: 1.201 | Test Accuracy: 57.80%\n",
            "Epoch  3 | Train Loss: 1.250 | Train Accuracy: 54.97% | Test Loss: 1.057 | Test Accuracy: 62.66%\n",
            "Epoch  4 | Train Loss: 1.142 | Train Accuracy: 59.19% | Test Loss: 1.009 | Test Accuracy: 64.15%\n",
            "Epoch  5 | Train Loss: 1.072 | Train Accuracy: 62.02% | Test Loss: 0.918 | Test Accuracy: 67.59%\n",
            "Epoch  6 | Train Loss: 1.014 | Train Accuracy: 63.87% | Test Loss: 0.907 | Test Accuracy: 67.99%\n",
            "Epoch  7 | Train Loss: 0.969 | Train Accuracy: 65.94% | Test Loss: 0.817 | Test Accuracy: 71.59%\n",
            "Epoch  8 | Train Loss: 0.929 | Train Accuracy: 67.19% | Test Loss: 0.816 | Test Accuracy: 71.54%\n",
            "Epoch  9 | Train Loss: 0.894 | Train Accuracy: 68.54% | Test Loss: 0.792 | Test Accuracy: 72.57%\n",
            "Epoch 10 | Train Loss: 0.865 | Train Accuracy: 69.52% | Test Loss: 0.750 | Test Accuracy: 73.59%\n",
            "Epoch 11 | Train Loss: 0.846 | Train Accuracy: 70.04% | Test Loss: 0.729 | Test Accuracy: 74.69%\n",
            "Epoch 12 | Train Loss: 0.823 | Train Accuracy: 70.88% | Test Loss: 0.766 | Test Accuracy: 72.77%\n",
            "Epoch 13 | Train Loss: 0.804 | Train Accuracy: 71.66% | Test Loss: 0.691 | Test Accuracy: 75.77%\n",
            "Epoch 14 | Train Loss: 0.785 | Train Accuracy: 72.75% | Test Loss: 0.697 | Test Accuracy: 75.69%\n",
            "Epoch 15 | Train Loss: 0.762 | Train Accuracy: 73.25% | Test Loss: 0.705 | Test Accuracy: 75.23%\n",
            "Epoch 16 | Train Loss: 0.746 | Train Accuracy: 73.86% | Test Loss: 0.698 | Test Accuracy: 75.57%\n",
            "Epoch 17 | Train Loss: 0.733 | Train Accuracy: 74.38% | Test Loss: 0.683 | Test Accuracy: 76.17%\n",
            "Epoch 18 | Train Loss: 0.721 | Train Accuracy: 75.01% | Test Loss: 0.651 | Test Accuracy: 77.23%\n",
            "Epoch 19 | Train Loss: 0.703 | Train Accuracy: 75.51% | Test Loss: 0.620 | Test Accuracy: 78.73%\n",
            "Epoch 20 | Train Loss: 0.694 | Train Accuracy: 75.53% | Test Loss: 0.642 | Test Accuracy: 77.51%\n"
          ]
        }
      ],
      "source": [
        "num_epochs = 20\n",
        "train_losses = [] #store losses for training dataset\n",
        "train_accs = [] #store accuracy for training dataset\n",
        "test_losses = [] #store accuracy for test dataset\n",
        "test_accs = [] #store accuracy for test dataset\n",
        "for epoch in range(num_epochs):\n",
        "    train_loss = 0.0\n",
        "    train_correct = 0\n",
        "    train_total = 0\n",
        "    net.train()\n",
        "    for i, data in enumerate(trainloader, 0):\n",
        "        # Get input\n",
        "        inputs, labels = data\n",
        "\n",
        "        # Zero gradients\n",
        "        optimizer.zero_grad()\n",
        "\n",
        "        # Optimize and update\n",
        "        outputs = net(inputs)\n",
        "        loss = criterion(outputs, labels)\n",
        "        loss.backward()\n",
        "        optimizer.step()\n",
        "        train_loss += loss.item()\n",
        "        _, predicted = torch.max(outputs.data, 1)\n",
        "        train_total += labels.size(0)\n",
        "        train_correct += (predicted == labels).sum().item()\n",
        "\n",
        "    # Calculate training loss and accuracy\n",
        "    train_loss = train_loss / len(trainloader)\n",
        "    train_acc = 100.0 * train_correct / train_total\n",
        "    train_losses.append(train_loss)\n",
        "    train_accs.append(train_acc)\n",
        "\n",
        "    # Calculate test dataset loss and accuracy\n",
        "    test_loss = 0.0\n",
        "    test_correct = 0\n",
        "    test_total = 0\n",
        "    net.eval()\n",
        "    with torch.no_grad(): #no grad because we aren't using test dataset to train\n",
        "        for data in testloader:\n",
        "            inputs, labels = data\n",
        "            outputs = net(inputs)\n",
        "            loss = criterion(outputs, labels)\n",
        "            test_loss += loss.item()\n",
        "            _, predicted = torch.max(outputs.data, 1)\n",
        "            test_total += labels.size(0)\n",
        "            test_correct += (predicted == labels).sum().item()\n",
        "    test_loss = test_loss / len(testloader)\n",
        "    test_acc = 100.0 * test_correct / test_total\n",
        "    test_losses.append(test_loss)\n",
        "    test_accs.append(test_acc)\n",
        "\n",
        "    # Print progress every epoch\n",
        "    print(f'Epoch {epoch+1:2d} | Train Loss: {train_loss:.3f} | Train Accuracy: {train_acc:.2f}% | Test Loss: {test_loss:.3f} | Test Accuracy: {test_acc:.2f}%')"
      ]
    },
    {
      "cell_type": "markdown",
      "metadata": {
        "id": "0dEu9CPP91dQ"
      },
      "source": [
        "Plot data"
      ]
    },
    {
      "cell_type": "code",
      "execution_count": 17,
      "metadata": {
        "colab": {
          "base_uri": "https://localhost:8080/",
          "height": 295
        },
        "id": "jpHdJd1r921h",
        "outputId": "cd365339-9bf2-4921-b2de-d1e14576b5fa"
      },
      "outputs": [
        {
          "output_type": "display_data",
          "data": {
            "text/plain": [
              "<Figure size 720x288 with 2 Axes>"
            ],
            "image/png": "[encoded data removed]"
          },
          "metadata": {
            "needs_background": "light"
          }
        }
      ],
      "source": [
        "# For loss\n",
        "plt.figure(figsize=(10, 4))\n",
        "plt.subplot(1, 2, 1)\n",
        "plt.plot(train_losses, label='Training')\n",
        "plt.plot(test_losses, label='Test')\n",
        "plt.xlabel('Epoch')\n",
        "plt.ylabel('Loss')\n",
        "plt.title('Loss')\n",
        "plt.legend()\n",
        "\n",
        "# For accuracy\n",
        "plt.subplot(1, 2, 2)\n",
        "plt.plot(train_accs, label='Training')\n",
        "plt.plot(test_accs, label='Test')\n",
        "plt.xlabel('Epoch')\n",
        "plt.ylabel('Accuracy')\n",
        "plt.title('Accuracy')\n",
        "plt.legend()\n",
        "\n",
        "plt.show()"
      ]
    }
  ],
  "metadata": {
    "colab": {
      "provenance": []
    },
    "kernelspec": {
      "display_name": "Python 3",
      "name": "python3"
    },
    "language_info": {
      "name": "python"
    }
  },
  "nbformat": 4,
  "nbformat_minor": 0
}