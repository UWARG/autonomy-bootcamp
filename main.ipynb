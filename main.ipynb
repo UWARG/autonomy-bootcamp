{
  "nbformat": 4,
  "nbformat_minor": 0,
  "metadata": {
    "colab": {
      "name": "main.ipynb",
      "provenance": [],
      "toc_visible": true,
      "history_visible": true,
      "authorship_tag": "ABX9TyNPT5MvXkydFNIHIIo63R2K",
      "include_colab_link": true
    },
    "kernelspec": {
      "name": "python3",
      "display_name": "Python 3"
    },
    "language_info": {
      "name": "python"
    }
  },
  "cells": [
    {
      "cell_type": "markdown",
      "metadata": {
        "id": "view-in-github",
        "colab_type": "text"
      },
      "source": [
        "<a href=\"https://colab.research.google.com/github/vb153/computer-vision-bootcamp/blob/master/main.ipynb\" target=\"_parent\"><img src=\"https://colab.research.google.com/assets/colab-badge.svg\" alt=\"Open In Colab\"/></a>"
      ]
    },
    {
      "cell_type": "markdown",
      "source": [
        "# Imports\n"
      ],
      "metadata": {
        "id": "qES6lz26QdRA"
      }
    },
    {
      "cell_type": "code",
      "execution_count": null,
      "metadata": {
        "id": "fbEd7Qdy7Idq"
      },
      "outputs": [],
      "source": [
        "\"\"\"\n",
        "UWARG CIFAR-10 Bootcamp - Vivek Bhardwaj (v24bhard@uwaterloo.ca)\n",
        "IPYNB Link: https://colab.research.google.com/drive/1x3YRaA5zAQ2nncSo4KaBsVQ0ZbtqEbwo?usp=sharing\n",
        "\n",
        "UWARG Computer Vision Bootcamp:\n",
        "* Notes:\n",
        "* TensorFlow Keras has the CIFAR-10 dataset as a module, so you don't need to manually download and unpack it.\n",
        "\"\"\"\n",
        "\n",
        "# Import Modules\n",
        "import keras\n",
        "import numpy as np\n",
        "import tensorflow as tf\n",
        "\n",
        "# Import Libraries and Datasets\n",
        "import matplotlib.pyplot as plt\n",
        "from tensorflow.keras import datasets, layers, models\n",
        "from tensorflow.keras.datasets import cifar10\n",
        "\n",
        "# Defined Constants\n",
        "IMAGE_SIZE = 32\n",
        "BATCH_SIZE = 64\n",
        "EPOCHS = 10"
      ]
    },
    {
      "cell_type": "markdown",
      "source": [
        "# Data Pre-processing\n"
      ],
      "metadata": {
        "id": "3_M6uWbiQmj5"
      }
    },
    {
      "cell_type": "code",
      "source": [
        "def data_preprocess():\n",
        "  \"\"\"\n",
        "  Load and preprocess cifar10 dataset into train and test data\n",
        "\n",
        "  Returns\n",
        "  -------\n",
        "  trainImgs, trainLabels, testImgs, testLabels\n",
        "    returns 4 numpy arrays containing X and Y train/test data\n",
        "  \"\"\"\n",
        "  (trainX, trainY), (testX, testY) = cifar10.load_data()\n",
        "\n",
        "  # rescale pixel values [0, 1]\n",
        "  trainX = trainX.astype('float32')/255.0\n",
        "  testX = testX.astype('float32')/255.0\n",
        "\n",
        "  # categorize data based on binary values\n",
        "  testY = tf.keras.utils.to_categorical(testY)\n",
        "  trainY = tf.keras.utils.to_categorical(trainY)\n",
        "\n",
        "  return trainX, trainY, testX, testY"
      ],
      "metadata": {
        "id": "uI2AS_L8Qsu4"
      },
      "execution_count": null,
      "outputs": []
    },
    {
      "cell_type": "markdown",
      "source": [
        "# CNN Sequential Model"
      ],
      "metadata": {
        "id": "wRI149I2X9Ln"
      }
    },
    {
      "cell_type": "code",
      "source": [
        "def cnn_model():\n",
        "  \"\"\"\n",
        "  Create a 3-Layer Convolutional Neural Network for Classification\n",
        "\n",
        "  Returns\n",
        "  -------\n",
        "  cnn: tf.keras.Sequential()\n",
        "  \"\"\"\n",
        "  # CNN Model\n",
        "  cnn = models.Sequential() \n",
        "\n",
        "  # Input Layer\n",
        "  cnn.add(layers.Conv2D(64, (3,3), activation = 'relu', input_shape = (IMAGE_SIZE, IMAGE_SIZE, 3)))\n",
        "  cnn.add(layers.MaxPool2D((2,2)))\n",
        "  cnn.add(layers.Dropout(0.2))\n",
        "\n",
        "  # 2nd Layer\n",
        "  cnn.add(layers.Conv2D(128, (3,3), activation = 'relu'))\n",
        "  cnn.add(layers.MaxPool2D((2,2)))\n",
        "  cnn.add(layers.Dropout(0.2))\n",
        "\n",
        "  # Flatten to move tensors to dense layers\n",
        "  cnn.add(layers.Flatten())\n",
        "  \n",
        "  # 3rd Layer\n",
        "  cnn.add(layers.Dense(512, activation = 'relu'))\n",
        "\n",
        "  # Output Layer\n",
        "  cnn.add(layers.Dense(10, activation = 'softmax'))\n",
        "\n",
        "  # Compiler CNN\n",
        "  cnn.compile(optimizer = 'rmsprop',\n",
        "              loss = 'categorical_crossentropy',\n",
        "              metrics = ['accuracy'])\n",
        "  \n",
        "  return cnn"
      ],
      "metadata": {
        "id": "V-XDvoOPR7-H"
      },
      "execution_count": null,
      "outputs": []
    },
    {
      "cell_type": "markdown",
      "source": [
        "# Plotting"
      ],
      "metadata": {
        "id": "9Tmrmv47YGnP"
      }
    },
    {
      "cell_type": "code",
      "source": [
        "def loss_plot(history):\n",
        "  \"\"\"\n",
        "  Plot loss using matplotlib\n",
        "\n",
        "  Params\n",
        "  ------\n",
        "  Required: history - kerals.callbackcs.History\n",
        "\n",
        "  Returns\n",
        "  -------\n",
        "  matplotlib.pylot\n",
        "  \"\"\"\n",
        "  \n",
        "  # Loss plot\n",
        "  plt.clf()\n",
        "  plt.plot(history.history['loss'])\n",
        "  plt.plot(history.history['val_loss'])\n",
        "  plt.title('Training Loss')\n",
        "  plt.xlabel('Epochs')\n",
        "  plt.ylabel('Loss')\n",
        "  plt.legend(['train', 'validation'], loc=\"upper left\")\n",
        "  plt.show()"
      ],
      "metadata": {
        "id": "9Pabn1HQYsiz"
      },
      "execution_count": null,
      "outputs": []
    },
    {
      "cell_type": "markdown",
      "source": [
        "# Model Testing"
      ],
      "metadata": {
        "id": "FSNhI_Iub_S0"
      }
    },
    {
      "cell_type": "code",
      "source": [
        "def main():\n",
        "  \"\"\"\n",
        "  Testing Model\n",
        "  \"\"\"\n",
        "\n",
        "  trainX, trainY, testX, testY = data_preprocess()\n",
        "  model = cnn_model()\n",
        "\n",
        "  # fit data\n",
        "  history = model.fit(trainX, trainY, epochs=EPOCHS, batch_size=BATCH_SIZE, validation_data=(testX, testY))\n",
        "\n",
        "  loss_plot(history)"
      ],
      "metadata": {
        "id": "w8FtxPeocJ1n"
      },
      "execution_count": null,
      "outputs": []
    },
    {
      "cell_type": "markdown",
      "source": [
        "# Results"
      ],
      "metadata": {
        "id": "SJjoe-teploN"
      }
    },
    {
      "cell_type": "markdown",
      "source": [
        "![loss_data.png](data:image/png;base64,iVBORw0KGgoAAAANSUhEUgAAAYIAAAEWCAYAAABrDZDcAAAABHNCSVQICAgIfAhkiAAAAAlwSFlzAAALEgAACxIB0t1+/AAAADh0RVh0U29mdHdhcmUAbWF0cGxvdGxpYiB2ZXJzaW9uMy4yLjIsIGh0dHA6Ly9tYXRwbG90bGliLm9yZy+WH4yJAAAgAElEQVR4nO3dd3yV5fn48c+VRRYjJGGEEBJ22AkRUPZworgH4kBx1lFbax3tt/prbWtbtdi6ShUcgIgoihQXigICQtgjbEIIAZIQsshO7t8fzwECMpJwTp4zrvfrlRfJc57znCvnRc713OO6bzHGoJRSynf52R2AUkope2kiUEopH6eJQCmlfJwmAqWU8nGaCJRSysdpIlBKKR+niUD5NBH5QkTudPa5SnkS0ToC5WlEpLjWj6FAOVDt+Pl+Y8yMxo+q4URkBDDdGBNrdyzKNwXYHYBS9WWMCT/2vYikA/cYYxaeep6IBBhjqhozNqU8kXYNKa8hIiNEJFNEnhSRg8A0EYkQkfkikiMiRxzfx9Z6zvcico/j+4kislREXnScu0dELm/guQkislhEikRkoYi8JiLTG/A7JTpeN19ENovIuFqPXSEiWxyvsV9EfuM4HuX4PfNFJE9EloiI/q2rM9L/HMrbtAFaAh2A+7D+j09z/BwHlAKvnuX5A4FtQBTwd+BtEZEGnDsTWAlEAs8Bt9f3FxGRQOBz4GugFfAIMENEujlOeRurK6wp0Av4znH8cSATiAZaA88A2geszkgTgfI2NcCzxphyY0ypMeawMeZjY0yJMaYI+DMw/CzP32uM+a8xphp4F2iL9WFa53NFJA64APiDMabCGLMUmNeA32UQEA684LjOd8B8YLzj8Uqgh4g0M8YcMcasqXW8LdDBGFNpjFlidDBQnYUmAuVtcowxZcd+EJFQEfmPiOwVkUJgMdBCRPzP8PyDx74xxpQ4vg2v57kxQF6tYwD76vl74LjOPmNMTa1je4F2ju+vB64A9orIDyJyoeP4P4CdwNcisltEnmrAaysfoolAeZtT73wfB7oBA40xzYBhjuNn6u5xhgNASxEJrXWsfQOukwW0P6V/Pw7YD2CMWWWMuRqr2+hTYLbjeJEx5nFjTEdgHPBrERndgNdXPkITgfJ2TbHGBfJFpCXwrKtf0BizF0gFnhORIMed+lXnep6IBNf+whpjKAF+KyKBjmmmVwGzHNedICLNjTGVQCFWtxgicqWIdHaMVxRgTa2tOe2LKoUmAuX9JgMhQC6wAviykV53AnAhcBh4HvgQq97hTNphJazaX+2xPvgvx4r/deAOY8xWx3NuB9IdXV4POF4ToAuwECgGlgOvG2MWOe03U15HC8qUagQi8iGw1Rjj8haJUvWlLQKlXEBELhCRTiLiJyKXAVdj9eMr5Xa0slgp12gDfIJVR5AJPGiMWWtvSEqdnnYNKaWUj9OuIaWU8nEe1zUUFRVl4uPj7Q5DKaU8yurVq3ONMdGne8zjEkF8fDypqal2h6GUUh5FRPae6THtGlJKKR+niUAppXycJgKllPJxHjdGcDqVlZVkZmZSVlZ27pNVnQQHBxMbG0tgYKDdoSilXMwrEkFmZiZNmzYlPj6eM+8hourKGMPhw4fJzMwkISHB7nCUUi7mFV1DZWVlREZGahJwEhEhMjJSW1hK+QivSASAJgEn0/dTKd/hNYngXMorq8nKL6VGl9RQSqmT+E4iqKoht7icwtJKp187Pz+f119/vd7Pu+KKK8jPz3d6PEopVR8+kwiaBgfQJMCfnKJynL3Q3pkSQVVV1Vmft2DBAlq0aOHUWJRSqr58JhGICFHhQZRWVnO0otqp137qqafYtWsX/fr144ILLmDo0KGMGzeOHj16AHDNNdfQv39/evbsyZQpU44/Lz4+ntzcXNLT00lMTOTee++lZ8+eXHLJJZSWljo1RqWUOhOvmD5a2//7fDNbsgrP+HhJRRV+IgQH+tf5mj1imvHsVT3P+PgLL7zApk2bWLduHd9//z1jx45l06ZNx6deTp06lZYtW1JaWsoFF1zA9ddfT2Rk5EnX2LFjBx988AH//e9/uemmm/j444+57bbb6hyjUko1lNclgnMJ8PejsqoGY4zLZsYMGDDgpPn3//rXv5g7dy4A+/btY8eOHT9LBAkJCfTr1w+A/v37k56e7pLYlFLqVF6XCM525w5QWV3D1oNFtAwLol2LEJfEEBYWdvz777//noULF7J8+XJCQ0MZMWLEaefnN2nS5Pj3/v7+2jWklGo0PjNGcEygvx8tQgI5crSCquoap1yzadOmFBUVnfaxgoICIiIiCA0NZevWraxYscIpr6mUUs7idS2CuogKb8KRkgrySipo1TT4vK8XGRnJ4MGD6dWrFyEhIbRu3fr4Y5dddhlvvvkmiYmJdOvWjUGDBp336ymllDN53J7FKSkp5tSNadLS0khMTKzXdXbnFFNeVUO3Nk3x0yra02rI+6qUck8istoYk3K6x3yua+iYqPAmVFbXuKTATCmlPInPJgJXFpgppZQn8dlEULvArMTJBWZKKeVJfDYRAESEBhHgJ+QUldsdilJK2canE4Gfn9AyrAmFZZWUV2qrQCnlm3w6EQBEhgchIuQerbA7FKWUsoXLEoGITBWRbBHZdI7zLhCRKhG5wVWxnI0rCszOJTw8HICsrCxuuOH0v/aIESM4dZrsqSZPnkxJScnxn3VZa6VUQ7iyRfAOcNnZThARf+BvwNcujOOcosKbUGMMeSWN2yqIiYlhzpw5DX7+qYlAl7VWSjWEyxKBMWYxkHeO0x4BPgayXRVHXYQE+RPeJIDDxRUN2sHsqaee4rXXXjv+83PPPcfzzz/P6NGjSU5Opnfv3nz22Wc/e156ejq9evUCoLS0lFtuuYXExESuvfbak9YaevDBB0lJSaFnz548++yzgLWQXVZWFiNHjmTkyJHAiWWtAV5++WV69epFr169mDx58vHX0+WulVKnsm2JCRFpB1wLjAQucNqFv3gKDm6s99Piamooq6yhJtAPP79T8mOb3nD5C2d87s0338xjjz3GQw89BMDs2bP56quvePTRR2nWrBm5ubkMGjSIcePGnXHF0zfeeIPQ0FDS0tLYsGEDycnJxx/785//TMuWLamurmb06NFs2LCBRx99lJdffplFixYRFRV10rVWr17NtGnT+OmnnzDGMHDgQIYPH05ERIQud62U+hk7B4snA08aY87ZMS8i94lIqoik5uTkuCQYfz/BT6CiugZD/VoFSUlJZGdnk5WVxfr164mIiKBNmzY888wz9OnThzFjxrB//34OHTp0xmssXrz4+Adynz596NOnz/HHZs+eTXJyMklJSWzevJktW7acNZ6lS5dy7bXXEhYWRnh4ONdddx1LliwBdLlrpdTP2bnoXAowy3GHHAVcISJVxphPTz3RGDMFmALWWkNnvepZ7tzPRoDS4nL255fSKTqcsCb1e2tuvPFG5syZw8GDB7n55puZMWMGOTk5rF69msDAQOLj40+7/PS57NmzhxdffJFVq1YRERHBxIkTG3SdY3S5a6XUqWxrERhjEowx8caYeGAO8IvTJYHGFBEahH8DC8xuvvlmZs2axZw5c7jxxhspKCigVatWBAYGsmjRIvbu3XvW5w8bNoyZM2cCsGnTJjZs2ABAYWEhYWFhNG/enEOHDvHFF18cf86Zlr8eOnQon376KSUlJRw9epS5c+cydOjQev9OSinf4LIWgYh8AIwAokQkE3gWCAQwxrzpqtc9H35+QmRYE7KLyiivrKZJPbaz7NmzJ0VFRbRr1462bdsyYcIErrrqKnr37k1KSgrdu3c/6/MffPBB7rrrLhITE0lMTKR///4A9O3bl6SkJLp370779u0ZPHjw8efcd999XHbZZcTExLBo0aLjx5OTk5k4cSIDBgwA4J577iEpKUm7gZRSp+Wzy1CfybEdzCLDgohx0Q5mnkKXoVbKe+gy1PVwrMAsrxELzJRSyk6aCE7DrgIzpZSyg9ckAmd2cZ1vgZk38LQuQ6VUw3lFIggODubw4cNO/fDy5R3MjDEcPnyY4ODz389ZKeX+vGLz+tjYWDIzM3FmsZkxkFdUxpEsnLLBvacJDg4mNjbW7jCUUo3AKxJBYGAgCQkJTr/umhV7+f3cTcy+/0IGJLR0+vWVUsodeEXXkKtcnxxLi9BA3lqy2+5QlFLKZTQRnEVIkD+3DezAN2mH2Hv4qN3hKKWUS2giOIc7LuxAgJ8w7cd0u0NRSimX0ERwDq2aBXNV3xhmp+6jwAdnECmlvJ8mgjqYNCSBkopqZq3MsDsUpZRyOk0EddAzpjkXdYrknWXpVOqyE0opL6OJoI4mDUngQEEZCzYesDsUpZRyKk0EdTSyWys6RoXx9tI9uvyCUsqraCKoIz8/4e4hCWzILCB17xG7w1FKKafRRFAPWmCmlPJGvpMIqsphzXvWIkINFBLkz4SBcXy9RQvMlFLew3cSwYYPYd4j8PXvzysZ3HFhvBaYKaW8iu8kgqTbYcD9sPxVWPhcg5NBay0wU0p5Gd9JBCJw+d8g5W74cTIs+nODL6UFZkopb+I7iQCsZHDFS5B8Byz+B3z/twZdpmdMcy7sqAVmSinv4FuJAMDPD658BfreCt//BZa81KDL3DNUC8yUUt7B9xIBWMng6leh903w7R/hx1fqfQktMFNKeQvfTAQAfv5wzRvQ63r45g+w/LX6PV0LzJRSXsJ3EwGAfwBcOwUSx8FXz8BPU+r1dC0wU0p5A5clAhGZKiLZIrLpDI9PEJENIrJRRJaJSF9XxXJW/gFww1ToNha+eAJSp9b5qVpgppTyBq5sEbwDXHaWx/cAw40xvYE/AfW7HXcm/0C4cRp0uRTm/8qqQK4jLTBTSnk6lyUCY8xiIO8sjy8zxhzrXF8BxLoqljoJaAI3vQedRsO8R2HdzDo9TQvMlFKezl3GCCYBX9gdBIHBcMsM6DgcPv0FbJhdp6dpgZlSypPZnghEZCRWInjyLOfcJyKpIpKak5Pj2oACQ+CWDyB+CMy9HzZ9fM6naIGZUsqT2ZoIRKQP8BZwtTHm8JnOM8ZMMcakGGNSoqOjXR9YUCjc+iG0HwQf3wtbPjvnU44VmH2x6aDr41NKKSeyLRGISBzwCXC7MWa7XXGcUVAYTJgNsSkw527Y+r+znn6swOytJbu1wEwp5VFcOX30A2A50E1EMkVkkog8ICIPOE75AxAJvC4i60Qk1VWxNFiTpjBhDrTtC7PvhG1fnvFUPz/hLi0wU0p5IPG0u9eUlBSTmtrIOaM0H967GrK3WOMHXcac9rSSiioueuE7BiVE8ubt/Rs3RqWUOgsRWW2MSTndY7YPFnuEkBZw+1yI7gazboVdi057WmhQABMGxvHVloNaYKaU8hiaCOoqtCXcMQ8iO8MH42HPktOepgVmSilPo4mgPkJbwh2fQUQHmHkT7F32s1NaNwvmqj5aYKaU8hyaCOorPNpqGTRrB9NvgIyffnbK3Y4Csw9XaYGZUsr9aSJoiKat4c7PoWkbmH49ZJ48eN2rnaPA7EctMFNKuT9NBA3VrK2VDMIi4f3rYP+akx6+Z2gCWVpgppTyAJoIzkfzdnDnfAhpDu9fCwfWH3/o+A5mWmCmlHJzmgjOV4v2VjIICof3roGD1vYLxwrM1mcWsFoLzJRSbkwTgTNEdICJn0NAMLw3DrLTALg+uZ1jB7M9NgeolFJnponAWVp2tMYM/ALh3XGQs53QoABuHaAFZkop96aJwJmiOlvJAAPvXgWHd3HnRVpgppRyb5oInC26q5UMairhnStpXZXFVX1i+EgLzJRSbkoTgSu0SrSKzqpK4Z2ruL+PP0e1wEwp5aY0EbhKm17WchQVRXT76lbGxlVpgZlSyi1pInCltn3h9k+htIB/HP0dNQX7tcBMKdUwy16FHNfs4aWJwNXaJcPtnxBSmc9HIX9l7vertMBMKVU/i/8BX/8O1rzrkstrImgMsSnIbXNo43eE3x1+ivVp7rczp1LKTS2dDN89D31ugYv/6JKX0ETQWOIGUT1+Nu38DhP38ZXw9e9h9/dQVW53ZEopd7X8NVj4LPS6Hq55Hfz8XfIymggaUXDnYXzW+1XSKqKpWv6mtf3l3+Jhxk3w0xQ4vMvuEJVyH6VHoCDT7ijs89N/4KtnoMc1cO0UlyUBgACXXVmd1o3X3sifAnty77KtPNAhiwdj9xC4ZxHs+Mo6ISIBOo+xvuKHQJNwewNWqrHl7Yblr8O6GWAM3DgNul1ud1SNa9Vb8MVvofuVcP1b4O/aj2rdvN4m7/y4hz/O30KPmGa8fecFtK7cD7u+g50LYc9iqCwB/yCIG3QiMbTqASJ2h66U8xkD+36CZf+Grf8D/0DofRNkb4ED6+DKydD/TrujbByr34HPfwldL4eb3oOAIKdc9myb12sisNF3Ww/xyMy1NAsJ5O07L6BHTDPrgapyyFgOO7+1vrI3W8ebtoXOo62k0HEEhETYFbpSzlFdBVs/t6ZG7k+1/k+nTIIB91kbQJUXw0cTYec3MOJpGP6kd98MrZ0Bnz1k/Y3fMgMCmjjt0poI3NiWrEImvbuKwtJK/n1rEqO6t/75SYVZjqSwEHYvgrICED9ol3KitRDTz6V9iEo5VXkRrJ0OK96A/L3Woo2DfgH9boWgsJPPra607pDXzYDkO2Hsyy7vKrHF+g9h7v3WTd74WRAY7NTLayJwc4cKy5j07iq2ZBXyhyt7MHFwwplPrq6CrDVWUti50LEzmoGQltBplNVi6DTauptSyt0UZsFPb0LqO1BeAO0HwUWPWGMAZ7uRMcaaQrnkRavL5IapEBTaaGG73MY58Mm90GEw3DrbJb+bJgIPUFJRxaMfrGNh2iEmXhTP/13ZA3+/OjSBjx62Wgk7F1qthqPZ1vE2vU+0FmIHOK2fUakGObjR6v7ZNAdMDSSOsxJA7Gk/l85s1Vvwv99Yzxv/obVVrKfb/CnMudsaD5zw0c9bRE5iSyIQkanAlUC2MabXaR4X4BXgCqAEmGiMWXPqeafy1kQAUF1j+OuCNN5auodR3Vvxr/FJhDepRxO4pgYObTqRFPatgJoqCGoKHYc7WgxjrI10lHI1Y6z/i8v+DXt+gMAwSL4DBj0AEfENv27a5zBnErSIg9s+9uz/z2nz4aM7rW7e2z526SxBuxLBMKAYeO8MieAK4BGsRDAQeMUYM/Bc1/XmRHDM+yv28ty8zXRt3ZSpE1No2zykYRcqK7RmIO36FnYshALH6qeRXRzTUwdbM5Ei4nV8QTlPZRlsnG0VQ+VshaYxMPB+6D8RQlo45zX2LocPbrZ2BZwwB9r2cc51G9O2L+HD26zxvds+geBmLn0527qGRCQemH+GRPAf4HtjzAeOn7cBI4wxB852TV9IBAA/bM/hoRlrCA3yZ+rEC+jVrvn5XdAYOLzzxNhC+lKoKrMeCwiB6G5WUmiVeOLfZjHePUNDOdfRw5D6NqycAkdzoHVvuOhh6Hmda7oms7fC9OutyRO3TLcGWT3FjoUwazy07mmtUhx8nn/fdeCuiWA+8IIxZqnj52+BJ40xZ/2U95VEALD1YCGT3kkl72gFr9zSj0t6tnHexStLrTna2WmOL8f3RbXycJPmjsRQ+6sHhEU5Lw7l+XJ3worXYN0H1h4cnS+2+v8Thrn+RqJgP8y4AXJ3wLVvQu8bXPt6zrDrO5h5i3Xzdee8RpsGfrZE4BFzsETkPuA+gLi4OJujaTzd2zRj7kMXce+7qdw/fTW/uyKRSUMSEGf8cQWGQLv+1ldtJXlWc752ktjyKayeduKcsOiTWw6tekB0d5c3bZUbMQb2LoPlr8K2L6wCsD43w4UPQ6vujRdH83Zw1xcwawJ8PMm6kbnokcZ7/fra/QN8MB6iulgtATepBdKuIQ9QWlHNr2ev44tNB5kwMI7/N64nAf6NuEyUMVB8qFZyOPbvVqg8euK85u1Pbjm0SoSorlbSUd6husq6MVj+KmSttaYtX3APDLgXwlvZF1dlmTUHf8unMOghuOR58HOzpdTSf7RaLy06wMT5jd6ydtcWwTzgYRGZhTVYXHCuJOCrQoL8ee3WZP7+1Tbe/GEX+46U8tqtSTQNDmycAESgaRvrq9OoE8draqBg3ynJIc1aVbW6wvFcP6tY6NQWRMuO1l2k8gxlhbD2fasArGAftOxkFXb1He8e8/kDg+GGafBVG6ubqvggXPOGUytzz0vGCphxIzSPtbqD3Kx71ZWzhj4ARgBRwCHgWSAQwBjzpmP66KvAZVjTR+861/gA+GaLoLZZKzP4/aeb6BQdztsTU4iNcIM/wlNVV1kLh53agsjbZc0hB2sdpaiuVmLoeR10v8LemNXpFWRaBWCr34XyQqvg6cKHoetl7nfHDVbr9cdXrKWb44dayzQ0wkDsWe1bBe9faxV5TvyfdUNlg/MeLBaRMKDUGFMjIl2B7sAXxphK54Z6br6eCACW7sjlwRmraRLgz9t3ptC3vZOm5LlaZRnkbj85ORxYb929dbsCLv87tGhvd5QKIGud1f2zea714drjamsG0KljSu5q/SxrzZ7o7tb00mZt7Ylj/xprufnQSLhrgTUTzybOSASrgaFABPAjsAqoMMZMcGagdaGJwLLjUBF3vbOK3OJy/nlTPy7vbdN/9PNVXWl1N3z/V0Bg5NMw8EHvXEvG3ZXmw6aPrTV99q+2ChGPFYC18MBJGju/hdl3WAOyt31szdJpTFnr4L1xVotk4gLbb3KckQjWGGOSReQRIMQY83cRWWeM6efsYM9FE8EJucXl3PteKmsz8nnq8u7cP6yjc2YU2SE/w1o6YMdX1vIYV74CsR5y9+nJaqqtMZ11M6wq1+pyawwn6Tbry+5ulfOVtc4aoK2pspakiDtnzapzHNwI714FQeFWd5AbVD87IxGsBX4B/BOYZIzZLCIbjTG9nRvquWkiOFlZZTW/+Wg98zcc4JYL2vOna3oR2JgzipzJGEibB188CUUHrdkoo//P8z+M3NHhXbBuJqz/AAr3Q3AL6H0jJE2Atv28q5Awbw9Mv85a8O6Gaa4fjzq0Bd690qp6njjfmhjhBpyRCIYDjwM/GmP+JiIdgceMMY86N9Rz00TwczU1hpe/2c6ri3YypHMUr01IpnmIB8/IKSu0VppcOQXCW8PlL1jb9XnTh5Mdyotgy2fWmvcZy6wZXZ1GQb8J1hiNk5c9ditHc61ZOwfWWbOdUu5yzevkbIN3xoL4W2MCkZ1c8zoN4NTKYhHxA8KNMYXOCK6+NBGc2Uep+3hm7kY6RIYxbeIFtG/phjOK6mP/Gpj/mDWg3PliGPvi+S1W5ouMgb0/Wh/+Wz6z6j4iO1vr/vcdb+vgZaOrOGptcrPja2uDmxFPO/fmIncnvHOF9Z7ftcAqGnMjzmgRzAQeAKqxBoqbYS0S9w9nBloXmgjObvmuwzwwfTUBfsKUO1Lo38E9KhcbrLrKahks+rPVnz3iSWv6otYgnF1+hjVzZt0MOJJuDfz2uhb63QbtB/hu66q6Cub/0toUJ+l2awtMZ0xMyNsN08Za9TMT/9e41dV15IxEsM4Y009EJgDJwFPAamNMoy/5p4ng3HblFHP3O6s4UFDGyzf15co+XnDXV5BpjR1snW8NZl45ufEG/jxFZam1RPPa6daqsxhrvZ9+EyDxKpetc+9xjLFuLBb/A7pcCjdOO7/35ki6lQQqS6wxgdY9nRaqMzkjEWwG+gEzgVeNMT+IyHpjTF/nhnpumgjqJu9oBfe9l0rq3iM8cWk3fjGik+fOKKpt6wJY8AQUZlrLGo95zm3Wa7GFMZCZCuumw6ZPrKKvFnHWh3/f8W4xW8VtrXobFvwGYpKtXcEasslNfoaVBMoL4c7P3Xo5bGckgkeBJ4H1wFggDphujBnqzEDrQhNB3ZVXVfPbORv4bF0WN/SP5S/X9iYowENnFNVWXmzVHax4A0JbwqV/tVad9IZEV1eFB2DDLGvmT+52aynxHldbs346DHHPql93lDbfWqyuWTu4/ZP6jUEV7LfGBEqOwJ2fQUySy8J0BpcsQy0iAcaYqvOKrAE0EdSPMYbJC3fwyrc7GNSxJW/e1p8WoV6ybeWBDdZg8v7V0HEkjH3JrWZpOF1VubXS57oZ1p4Spsba8zdpgjWrSld/bZiMFTDzZmvZk9vmQNs6dHQUHrCSwNFcuP1Tj6h5cUaLoDnWWkHDHId+AP5ojClwWpR1pImgYeauzeTJORuJjQhh6sQLiI/ykv7immpInQrf/tH6oBz2BAx+1H0WGztfxlizptbNtHb9Kj1i7fjV9xar+yeqs90ReoecbdYmN6VH4Ob3T15c8VRFh6wpokUH4Pa51uC7B3BGIvgY2AS86zh0O9DXGHOd06KsI00EDbdyTx73v2+9d1PuSOGC+JY2R+REhQfgy6esZYijulqDyfGD7Y6q4Y7mwobZ1t3/oU3g3wS6j7Xu/juO1K1FXaEwC6bfALnbrJVL+9z083OKc6xisfwMa9mKDhc1fpwN5LRZQ+c61hg0EZyf9Nyj3PXOKvYfKeX5a3txY/9Y7xhEPmb717DgcesPtd9tcMmfrHEET1CSBxnLrbv/7V9BTaXV79xvgjUG4suD4o2lNN/aRzh9CVz8R7jo0RNjT0cPW8tG5O2GCR9BQqMPkZ4XZySC5cATtbaVHAy8aIy50KmR1oEmgvOXX1LBA9NXs2J3HsO7RvP8Nb08v/istooS+OFv1uqZwc2tTUr6jnevweSSPKvKNWvdiX/z91qPhUVbu331mwCte9gbpy+qKrc2udk811oA8dK/QFm+tYBc7g649UPP2h/ZwRmJoC/wHnBs0ZcjwJ3GmA1Oi7KONBE4R3WN4f3l6fzjq23UGPj1xV25a3B84+585mqHNsPnj0HmSmtt+iv/aU+1Z0metZtX7Q/+/IwTj7foADH9rDV+2iVba/5rwZy9amrg69/Bitetgfgj6dbS6eM/gM5j7I6uQZw2a0hEmgEYYwpF5DFjzGQnxVhnmgicKyu/lD98tomFadn0jGnGC9f1oXesFy3yVlMDa96Bhc9ZBVdDfg1DfuW6dXWOHglP6nMAABZGSURBVIYDa2vd6a+Hglof+hHx1gf+sQ/+tn09p+vK1xgDy/4N3/wf+AXCLTOh6yV2R9Vgrpo+mmGMafRFyjUROJ8xhi82HeTZeZs5XFzO3YMT+NXFXQlr4kV7AhRnw1fPwMaPrG0Wr/wndBx+ftc8muv4wD/2wb/e2sbxmIiEEx/4MY4Pfe3n9zw7F0JgGHRo9J5wp3JVIthnjGn0nRY0EbhOQWklf/tyKzN/yqBdixCev7YXI7vZuCG5K+z6Dub/Go7sgT63wKV/rtv+scU5P+/TL8w88XjLTid/6LfpAyEesnOc8gnaIlD1sio9j6c/2cjO7GKu6hvDH67sQXRTL5mXD1YX0ZKXYOlka42ZS/5kzTA6Vo1bnH3yB/6Bddaa/cdEdj6le6eP7pmg3F6DE4GIFAGnO0Gwdipr9L4DTQSNo7yqmje/381ri3YSHOjH78YmclNKe++aapqzzRpMzlgGsQOslkHWOijKcpwg1of+qXf6WsGrPJBLWgR20UTQuHZmF/PMJxtZmZ7HwISW/OW63nSKDrc7LOepqbGKthb9BZqE//xOv0lTuyNUyik0EajzUlNjmJ26j78sSKOssoaHR3XmgeGdvGMBO6V8xNkSgf4lq3Py8xNuGRDHwseHc0nP1rz8zXbG/msJq/fm2R2aUsoJNBGoOmvVNJhXb01m6sQUSiqquf6N5fz+040UllXaHZpS6jxoIlD1Nqp7a77+1TAmDUlg5k8ZjHnpB77cdABP62ZUSllcmghE5DIR2SYiO0XkqdM8Hicii0RkrYhsEJErXBmPcp6wJgH835U9+PShwUSFN+GB6Wu47/3VHCgotTs0pVQ9uSwRiIg/8BpwOdADGC8ip66g9XtgtjEmCbgFeN1V8SjX6BPbgs8eHszTl3dnyY4cxrz0A+8uS6e6RlsHSnkKV7YIBgA7jTG7jTEVwCzg6lPOMcCxSdnNgSyUxwn09+P+4Z345lfDSe4QwbPzNnP9G8tIO1Bod2hKqTpwZSJoB9RaeIVMx7HangNuE5FMYAHwiAvjUS7WvmUo7909gMk39yMjr4Sr/r2Uv3+5lbLKartDU0qdhd2DxeOBd4wxscAVwPsi8rOYROQ+EUkVkdScnJxGD1LVnYhwTVI7vv31cK5Jasfr3+/i0smL+XFnrt2hKaXOwJWJYD9Qe1G6WMex2iYBswGMMcuBYOBnK4AZY6YYY1KMMSnR0dEuClc5U0RYEC/e2JeZ9wxEgAlv/cTjs9eTd7TC7tCUUqdwZSJYBXQRkQQRCcIaDJ53yjkZwGgAEUnESgR6y+9FLuocxZePDeOhkZ34bN1+xrz8A3PXZupUU6XciMsSgTGmCngY+ApIw5odtFlE/igi4xynPQ7cKyLrgQ+AiUY/IbxOcKA/T1zanfmPDiGuZSi/+nA9d0xdScbhErtDU0qhaw2pRlZdY5jx017+/uU2qmpqeGxMVyYNSSDQm7bIVMoN6VpDym34+wl3XBjPN78extAu0bzwxVYunbyYBRsPUKO1B0rZQhOBskXb5iH8944U/ntHCv4i/GLGGsa9tpQftufo+IFSjUwTgbLVxT1a8+Vjw3jpxr7kl1Ry59SV3Dxlha5sqlQj0jEC5TbKq6qZtXIf//5uJ7nF5Yzq3orfXNKNHjG6I5hS50s3plEepaSiimk/pvOfH3ZRWFbFuL4x/OririREhdkdmlIeSxOB8kgFJZX8Z/Eupv2YTkV1DTeltOfR0Z1p2zzE7tCU8jiaCJRHyy4q47XvdjJzZQYiwp0XduDBEZ1pGRZkd2hKeQxNBMor7MsrYfLCHcxdm0loUAD3DE1g0pAEmgYH2h2aUm5PE4HyKjsOFfHS19v5cvNBIkIDeWhkZ24b1IHgQH+7Q1PKbWkiUF5p/b58Xvx6G0t25NKmWTC/HNOFG/rHapWyUqehlcXKK/Vt34L3Jw1k5r0DadsimKc/2cgl/1zMvPVZWqWsVD1oIlAe76JOUXzy4EX8944Ugvz9ePSDtYz991K+23pIq5SVqgNNBMoriAgX92jNgl8OZfLN/ThaXsXd76Ry45vL+Wn3YbvDU8qtaSJQXsXfz7FD2uPDef6aXmTklXDzlBXcOXUlm/YX2B2eUm5JB4uVVyutqOa95em88cMu8ksqGdu7Lb++pCudosPtDk2pRqWzhpTPKyyr5K3Fu3lr6R7KKqu5oX8svxzTlXYttEpZ+QZNBEo55BaX8/qiXUxfsReACYPieGhkZ6LCm9gcmVKupYlAqVPszy/lXwt38NHqfQQH+jNpiFWl3CJUl61Q3kkTgVJnsCunmJe/2c7/NhwgJNCf6/u34+7BCXTUMQTlZTQRKHUOWw8W8vaSPXy2LouK6hpGdW/FpCEJXNQpEhGxOzylzpsmAqXqKKeonOkr9jJ9xV4OH62ge5umTBqSwLh+MTQJ0LWMlOfSRKBUPZVVVjNvXRZvL93DtkNFRIU34fZBHZgwKE4HlpVH0kSgVAMZY/hx52HeXrqbRdtyCArw49p+7bh7SALd2jS1Ozyl6uxsiSCgsYNRypOICEO6RDGkSxQ7s4uZ9uMePl6TyYep+xjaJYq7hyQwvEs0fn46jqA8l7YIlKqnI0crmLkyg3eXpZNdVE6n6DDuHpLAdUmxhATpOIJyT7Z1DYnIZcArgD/wljHmhdOccxPwHGCA9caYW892TU0Eyl1UVNXwv43WOMKm/YVEhAZy68A47rgwntbNgu0OT6mT2JIIRMQf2A5cDGQCq4Dxxpgttc7pAswGRhljjohIK2NM9tmuq4lAuRtjDCv35PH20j18k3aIAD/hqj4x3D0kgV7tmtsdnlKAfWMEA4CdxpjdjiBmAVcDW2qdcy/wmjHmCMC5koBS7khEGNgxkoEdI9l7+CjTfkzno9R9fLJ2PwMTWjJpSAKjE1vjr+MIyk25chnqdsC+Wj9nOo7V1hXoKiI/isgKR1eSUh6rQ2QYz43rybKnR/O7KxLJPFLKfe+vZtRL3/POj3s4Wl5ld4hK/Yzd+xEEAF2AEcB44L8i0uLUk0TkPhFJFZHUnJycRg5RqfprHhLIvcM68sMTI3jt1mQiw4J47vMtDPrrt/xlQRr780vtDlGp41zZNbQfaF/r51jHsdoygZ+MMZXAHhHZjpUYVtU+yRgzBZgC1hiByyJWyskC/P0Y26ctY/u0ZU3GEd5euuf41+W92jBpSAJJcRF2h6l8nCsTwSqgi4gkYCWAW4BTZwR9itUSmCYiUVhdRbtdGJNStkmOiyD51gj255fy7rJ0PliZwfwNB0iOa8GkIR25tGdrAvztbqQrX+Tq6aNXAJOxpo9ONcb8WUT+CKQaY+aJtZrXS8BlQDXwZ2PMrLNdU2cNKW9RXF7FnNR9TFuWzt7DJbRrEcLEi+K5Jqkd0U11GQvlXLrEhFJurLrG8G3aId5euoef9uThJzC4cxRX9Y3h0p5taB4SaHeIygtoIlDKQ2w/VMS8dVnMW59FRl4JQf5+jOgWzbh+MYzu3lorl1WDaSJQysMYY1ifWcC8dVnM35BFdlE5YUH+XNyjNeP6xTC0SzSBOp6g6kETgVIerLrG8NOew3y+PosFGw9SUFpJi9BALu/VlnF9YxiQ0FKL1dQ5aSJQyktUVNWwZEcO89Zn8c2WQ5RUVNO6WROu7BPDuL4x9IltrjuqqdPSRKCUFyqpqOLbtGzmrc/ih205VFTXEB8ZylV9raTQpbXul6BO0ESglJcrKK3kq00Hmbc+i2W7cqkx0L1NU8b1i+GqPjG0bxlqd4jKZpoIlPIh2UVlLNhwgHnrs1iTkQ9AclwLxvWNYWyfGK1R8FGaCJTyUfvySvh8Qxbz1mWx9WARfgIXdYpiXN8YLu2lNQq+RBOBUoodh4qYt96qUdh72KpRGN4tmnF9YxiTqDUK3k4TgVLqOGMMGzILmLfeqlE4VFhO6LEahb5WjUJQgNYoeBtNBEqp06qusXZXm7c+iy82HSC/xKpRuKxnG8YktmZw5yhtKXgJTQRKqXOqqKph6c4c5q3LYmFaNsXlVTQJ8GNw5yhGdW/F6MRWtG0eYneYqoE0ESil6qWiqoaVe/L4dushvk3LJiOvBIAebZsxOrEVoxNb06ddc/y0otljaCJQSjWYMYZdOcUsTMvmu7RsUvfmUWMgKjyIkd2spDC0SxRhTVy5vYk6X5oIlFJOk19Swffbcvh2azbfb8umqKyKIH8/BnWKZHT3Vozq3koL2NyQJgKllEtUVteQmn6E7xxdSLtzjwLQrXVTRiW2YnT3ViTFReiieG5AE4FSqlHszinmu63ZfJuWzar0PKpqDBGhgYzs1opRia0Y1jWaZsFaxGYHTQRKqUZXUFrJ4u05fLc1m0XbsskvqSTATxiQ0JJR3VsxJrE18VFhdofpMzQRKKVsVV1jWJNxhG/Tsvlu6yG2HyoGoGN0GKO7WwPO/TtE6GY7LqSJQCnlVjIOl1jjCluzWbH7MJXVhmbBAQzv1ooxia0Y3jWaFqFBdofpVTQRKKXcVnF5FUt35LAwLZtFW7M5fLQCfz+hf4cIRnZrxdAuUfRo20xrFs6TJgKllEeoqTGsz8zn27RsFqYdYuvBIgAiw4IY0iWKoV2iGdolitbNgm2O1PNoIlBKeaRDhWUs3ZHLkh05LN2ZS25xBQBdW4cztEs0Q7pEMTChJaFBWsx2LpoIlFIer6bGsPVgEUt25LBkRy4r0/OoqKohyN+PlPgIhnSJYliXaO1GOgNNBEopr1NWWc3KPXnHE8OxbqSWYUEM6Rzl6EqK0oXyHM6WCFzanhKRy4BXAH/gLWPMC2c473pgDnCBMUY/5ZVS5xQc6M+wrtEM6xoNQHZhGUt35rJkh/U1b30WAF1ahR9vLQzsqN1Ip+OyFoGI+APbgYuBTGAVMN4Ys+WU85oC/wOCgIfPlQi0RaCUOhdjTulG2pNHeVUNgf7WbKShXaIZ1iWanjG+041kS9eQiFwIPGeMudTx89MAxpi/nnLeZOAb4AngN5oIlFLOVlZZzar0PJbuyGXxjlzSDhQCEBEayODOVmthSJcoYlp4bzeSXV1D7YB9tX7OBAaeElgy0N4Y8z8RecKFsSilfFhwoL9j6mk0TwM5ReX8uDOXxY4Ww/wNBwDoFB12fIrqoI6RPrO0tm2/pYj4AS8DE+tw7n3AfQBxcXGuDUwp5fWimzbhmqR2XJPUDmMM2w8Vs2RHDot35DJrVQbvLEsn0F9IjotgaJcoLuwUSc+Y5gQHeue2nbZ1DYlIc2AXUOx4ShsgDxh3tu4h7RpSSrlSWWU1q/ceYfGOHJbuyGVzltWNFOTvR4+YZiTHRZAU14LkDhHENA9GxDPGGOwaIwjAGiweDezHGiy+1Riz+Qznf4+OESil3ExucTmr9x5hTcYR1u7NZ8P+fMoqawBo3awJSe0jSO7QguS4CHq1c99Wgy1jBMaYKhF5GPgKa/roVGPMZhH5I5BqjJnnqtdWSilniQpvwqU923BpzzaAtRnP1gNFrMk4cvzry80HAQj0F3q0bUbSsVZDXASxESFu32rQgjKllDpPOUXlrM04wpqMfNZmHGFDZgGlldWANR6RHNeCpLgIkuMi6BNrT6vBtoIypZTyBdFNm3BJzzZc4mg1VFXXsPVg0fHksCbjCF9tPgRAgJ/QI6YZSe2tcQZ3aDVoi0AppRrB4eJy1jqSwhpHq6Gkwmo1RIU3Od6VlBTXgj6xzZ1eAa0tAqWUsllkeBPG9GjNmB6tAavVsO1Q0fHupLUZ+XyzxWo1+PsJiW2bnjQQHdcy1GWtBm0RKKWUm8g7WsG6fUdYs9dqOazfl89RR6shMiyIB0d04p6hHRt0bW0RKKWUB2gZFsSo7q0Z1d1qNVTXGLYfcsxQ2ptPdNMmLnldTQRKKeWmrC6iZiS2bcaEgR1c9jp+LruyUkopj6CJQCmlfJwmAqWU8nGaCJRSysdpIlBKKR+niUAppXycJgKllPJxmgiUUsrHedwSEyKSA+xt4NOjgFwnhuPp9P04mb4fJ+h7cTJveD86GGOiT/eAxyWC8yEiqWdaa8MX6ftxMn0/TtD34mTe/n5o15BSSvk4TQRKKeXjfC0RTLE7ADej78fJ9P04Qd+Lk3n1++FTYwRKKaV+ztdaBEoppU6hiUAppXyczyQCEblMRLaJyE4RecrueOwkIu1FZJGIbBGRzSLyS7tjspuI+IvIWhGZb3csdhORFiIyR0S2ikiaiFxod0x2EZFfOf5GNonIByISbHdMruATiUBE/IHXgMuBHsB4Eelhb1S2qgIeN8b0AAYBD/n4+wHwSyDN7iDcxCvAl8aY7kBffPR9EZF2wKNAijGmF+AP3GJvVK7hE4kAGADsNMbsNsZUALOAq22OyTbGmAPGmDWO74uw/tDb2RuVfUQkFhgLvGV3LHYTkebAMOBtAGNMhTEm396obBUAhIhIABAKZNkcj0v4SiJoB+yr9XMmPvzBV5uIxANJwE/2RmKrycBvgRq7A3EDCUAOMM3RVfaWiITZHZQdjDH7gReBDOAAUGCM+dreqFzDVxKBOg0RCQc+Bh4zxhTaHY8dRORKINsYs9ruWNxEAJAMvGGMSQKOAj45piYiEVg9BwlADBAmIrfZG5Vr+Eoi2A+0r/VzrOOYzxKRQKwkMMMY84nd8dhoMDBORNKxugxHich0e0OyVSaQaYw51kKcg5UYfNEYYI8xJscYUwl8Alxkc0wu4SuJYBXQRUQSRCQIa8Bnns0x2UZEBKsPOM0Y87Ld8djJGPO0MSbWGBOP9f/iO2OMV9711YUx5iCwT0S6OQ6NBrbYGJKdMoBBIhLq+JsZjZcOnAfYHUBjMMZUicjDwFdYI/9TjTGbbQ7LToOB24GNIrLOcewZY8wCG2NS7uMRYIbjpmk3cJfN8djCGPOTiMwB1mDNtFuLly41oUtMKKWUj/OVriGllFJnoIlAKaV8nCYCpZTycZoIlFLKx2kiUEopH6eJQCkHEakWkXW1vpxWUSsi8SKyyVnXU8qZfKKOQKk6KjXG9LM7CKUam7YIlDoHEUkXkb+LyEYRWSkinR3H40XkOxHZICLfikic43hrEZkrIusdX8eWJfAXkf861rf/WkRCHOc/6tgbYoOIzLLp11Q+TBOBUieEnNI1dHOtxwqMMb2BV7FWKwX4N/CuMaYPMAP4l+P4v4AfjDF9sdbpOVbF3gV4zRjTE8gHrnccfwpIclznAVf9ckqdiVYWK+UgIsXGmPDTHE8HRhljdjsW6ztojIkUkVygrTGm0nH8gDEmSkRygFhjTHmta8QD3xhjujh+fhIINMY8LyJfAsXAp8CnxphiF/+qSp1EWwRK1Y05w/f1UV7r+2pOjNGNxdpBLxlY5dgERalGo4lAqbq5uda/yx3fL+PE1oUTgCWO778FHoTjeyE3P9NFRcQPaG+MWQQ8CTQHftYqUcqV9M5DqRNCaq3GCta+vcemkEaIyAasu/rxjmOPYO3k9QTWrl7HVun8JTBFRCZh3fk/iLXD1en4A9MdyUKAf/n41pDKBjpGoNQ5OMYIUowxuXbHopQraNeQUkr5OG0RKKWUj9MWgVJK+ThNBEop5eM0ESillI/TRKCUUj5OE4FSSvm4/w+fylZwmgtO/gAAAABJRU5ErkJggg==)\n",
        "\n"
      ],
      "metadata": {
        "id": "9bFCK_qvpp2x"
      }
    },
    {
      "cell_type": "code",
      "source": [
        "\"\"\"\n",
        "\n",
        "Epoch 1/10\n",
        "782/782 [==============================] - 179s 228ms/step - loss: 1.5077 - accuracy: 0.4621 - val_loss: 1.2656 - val_accuracy: 0.5604\n",
        "Epoch 2/10\n",
        "782/782 [==============================] - 179s 229ms/step - loss: 1.0601 - accuracy: 0.6279 - val_loss: 1.0629 - val_accuracy: 0.6286\n",
        "Epoch 3/10\n",
        "782/782 [==============================] - 175s 224ms/step - loss: 0.8902 - accuracy: 0.6923 - val_loss: 1.0071 - val_accuracy: 0.6550\n",
        "Epoch 4/10\n",
        "782/782 [==============================] - 166s 212ms/step - loss: 0.7643 - accuracy: 0.7375 - val_loss: 0.9730 - val_accuracy: 0.6636\n",
        "Epoch 5/10\n",
        "782/782 [==============================] - 166s 212ms/step - loss: 0.6598 - accuracy: 0.7725 - val_loss: 0.8492 - val_accuracy: 0.7169\n",
        "Epoch 6/10\n",
        "782/782 [==============================] - 166s 213ms/step - loss: 0.5720 - accuracy: 0.8039 - val_loss: 0.8888 - val_accuracy: 0.7072\n",
        "Epoch 7/10\n",
        "782/782 [==============================] - 166s 212ms/step - loss: 0.5029 - accuracy: 0.8290 - val_loss: 0.9640 - val_accuracy: 0.6996\n",
        "Epoch 8/10\n",
        "782/782 [==============================] - 166s 212ms/step - loss: 0.4436 - accuracy: 0.8512 - val_loss: 1.0534 - val_accuracy: 0.7115\n",
        "Epoch 9/10\n",
        "782/782 [==============================] - 166s 213ms/step - loss: 0.3894 - accuracy: 0.8682 - val_loss: 0.8755 - val_accuracy: 0.7367\n",
        "Epoch 10/10\n",
        "782/782 [==============================] - 167s 213ms/step - loss: 0.3454 - accuracy: 0.8836 - val_loss: 1.0782 - val_accuracy: 0.7148\n",
        "\n",
        "\"\"\""
      ],
      "metadata": {
        "id": "vebZk1XUraJG"
      },
      "execution_count": null,
      "outputs": []
    }
  ]
}