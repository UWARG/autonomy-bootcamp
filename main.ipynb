{
  "nbformat": 4,
  "nbformat_minor": 0,
  "metadata": {
    "colab": {
      "name": "main.ipynb",
      "provenance": [],
      "collapsed_sections": [],
      "authorship_tag": "ABX9TyMtBeAXF4jXUxUfYw7tU+LN",
      "include_colab_link": true
    },
    "kernelspec": {
      "name": "python3",
      "display_name": "Python 3"
    },
    "language_info": {
      "name": "python"
    }
  },
  "cells": [
    {
      "cell_type": "markdown",
      "metadata": {
        "id": "view-in-github",
        "colab_type": "text"
      },
      "source": [
        "<a href=\"https://colab.research.google.com/github/mschristophers/computer-vision-bootcamp/blob/master/main.ipynb\" target=\"_parent\"><img src=\"https://colab.research.google.com/assets/colab-badge.svg\" alt=\"Open In Colab\"/></a>"
      ]
    },
    {
      "cell_type": "markdown",
      "source": [
        "## Header"
      ],
      "metadata": {
        "id": "shKua29z0Z-m"
      }
    },
    {
      "cell_type": "code",
      "execution_count": null,
      "metadata": {
        "id": "eyxTihQD0I_l"
      },
      "outputs": [],
      "source": [
        "\"\"\"\n",
        "This is a starter file to get you going. You may also include other files if you feel it's necessary.\n",
        "\n",
        "Make sure to follow the code convention described here:\n",
        "https://github.com/UWARG/computer-vision-python/blob/main/README.md#naming-and-typing-conventions\n",
        "\n",
        "Hints:\n",
        "* The internet is your friend! Don't be afraid to search for tutorials/intros/etc.\n",
        "* We suggest using a convolutional neural network.\n",
        "* TensorFlow Keras has the CIFAR-10 dataset as a module, so you don't need to manually download and unpack it.\n",
        "\"\"\""
      ]
    },
    {
      "cell_type": "markdown",
      "source": [
        "## Imports"
      ],
      "metadata": {
        "id": "cLGUB8gYO336"
      }
    },
    {
      "cell_type": "code",
      "source": [
        "# Importing the modules, libraries, and datasets\n",
        "import keras\n",
        "import numpy as np\n",
        "import tensorflow as tf\n",
        "import matplotlib.pyplot as plt\n",
        "from tensorflow.keras import datasets, layers, models\n",
        "from tensorflow.keras.datasets import cifar10"
      ],
      "metadata": {
        "id": "BL5smMI2Os2n"
      },
      "execution_count": 12,
      "outputs": []
    },
    {
      "cell_type": "markdown",
      "source": [
        "## Data Pre-processing"
      ],
      "metadata": {
        "id": "4VC9guAocFMM"
      }
    },
    {
      "cell_type": "code",
      "source": [
        "def data_preprocessing():\n",
        "  \"\"\"\n",
        "  Loads and preprocesses the data from CIFAR-10 dataset, which then returns the\n",
        "  training and test data.\n",
        "  \"\"\"\n",
        "\n",
        "  (X_train, Y_train), (X_test, Y_test) = cifar10.load_data()\n",
        "\n",
        "  # Normalized data by rescaling pixel values into [0,1]\n",
        "  X_train = X_train.astype('float32')/255.0\n",
        "  X_test = X_test.astype('float32')/255.0\n",
        "\n",
        "  # Convert data into binary class matrix\n",
        "  Y_train = tf.keras.utils.to_categorical(Y_train)\n",
        "  Y_test = tf.keras.utils.to_categorical(Y_test)\n",
        "\n",
        "  return X_train, Y_train, X_test, Y_test"
      ],
      "metadata": {
        "id": "rPzcaqGrizXZ"
      },
      "execution_count": 20,
      "outputs": []
    },
    {
      "cell_type": "markdown",
      "source": [
        "## Modeling"
      ],
      "metadata": {
        "id": "H2aSUOJ9s-7c"
      }
    },
    {
      "cell_type": "code",
      "source": [
        "def model():\n",
        "  \"\"\"\n",
        "  Creates a CNN model with a sequential model\n",
        "  \"\"\"\n",
        "\n",
        "  # CNN Model\n",
        "  cnnModel = models.Sequential()\n",
        "\n",
        "  # Input Layer\n",
        "  cnnModel.add(layers.Conv2D(64, (3,3), activation = 'relu', input_shape = (32, 32, 3)))\n",
        "  cnnModel.add(layers.MaxPool2D((2,2)))\n",
        "  cnnModel.add(layers.Dropout(0.2))\n",
        "\n",
        "  # Layer 2\n",
        "  cnnModel.add(layers.Conv2D(128, (3,3), activation = 'relu'))\n",
        "  cnnModel.add(layers.MaxPool2D((2,2)))\n",
        "  cnnModel.add(layers.Dropout(0.2))\n",
        "\n",
        "  # Flattened layers\n",
        "  cnnModel.add(layers.Flatten())\n",
        "\n",
        "  # Layer 3\n",
        "  cnnModel.add(layers.Dense(512, activation = 'relu'))\n",
        "\n",
        "  # Output Layer\n",
        "  cnnModel.add(layers.Dense(10, activation = 'softmax'))\n",
        "\n",
        "  # Compiler\n",
        "  cnnModel.compile(optimizer = 'rmsprop', loss = 'categorical_crossentropy', metrics = ['accuracy'])\n",
        "  \n",
        "  return cnnModel"
      ],
      "metadata": {
        "id": "oV_cJxtAtEIJ"
      },
      "execution_count": 19,
      "outputs": []
    },
    {
      "cell_type": "markdown",
      "source": [
        "## Plotting"
      ],
      "metadata": {
        "id": "8u5bS0j2temN"
      }
    },
    {
      "cell_type": "code",
      "source": [
        "def plotting(history):\n",
        "  \"\"\"\n",
        "  Shows the loss plot of training and validation over epochs\n",
        "  \"\"\"\n",
        "\n",
        "  # Loss plot\n",
        "  plt.clf()\n",
        "  plt.plot(history.history['loss'])\n",
        "  plt.plot(history.history['val_loss'])\n",
        "  plt.title('Training Loss')\n",
        "  plt.xlabel('Epochs')\n",
        "  plt.ylabel('Loss')\n",
        "  plt.legend(['train', 'validation'], loc=\"upper left\")\n",
        "  plt.show()"
      ],
      "metadata": {
        "id": "HOsmaJBcvtrz"
      },
      "execution_count": 18,
      "outputs": []
    },
    {
      "cell_type": "markdown",
      "source": [
        "## Main Function"
      ],
      "metadata": {
        "id": "fKuP3gOkwRtc"
      }
    },
    {
      "cell_type": "code",
      "source": [
        "def main():\n",
        "  \"\"\"\n",
        "  Processes, trains, and tests the model\n",
        "  \"\"\"\n",
        "\n",
        "  X_train, Y_train, X_test, Y_test = data_preprocessing()\n",
        "\n",
        "  modelling = model()\n",
        "\n",
        "  # Data fitting\n",
        "  history = modelling.fit(X_train, Y_train, epochs=11, batch_size=64, validation_data=(X_test, Y_test))\n",
        "\n",
        "  plotting(history)\n",
        "  "
      ],
      "metadata": {
        "id": "f36f7r6OwyN_"
      },
      "execution_count": 22,
      "outputs": []
    },
    {
      "cell_type": "markdown",
      "source": [
        "## Running"
      ],
      "metadata": {
        "id": "0YYDp6n1zy4s"
      }
    },
    {
      "cell_type": "code",
      "source": [
        "# Runs the main function\n",
        "main()\n"
      ],
      "metadata": {
        "colab": {
          "base_uri": "https://localhost:8080/",
          "height": 677
        },
        "id": "wCl6Gucwz0s0",
        "outputId": "562dca16-e9d2-4841-ad69-b89462430259"
      },
      "execution_count": 23,
      "outputs": [
        {
          "output_type": "stream",
          "name": "stdout",
          "text": [
            "Epoch 1/11\n",
            "782/782 [==============================] - 135s 172ms/step - loss: 1.4888 - accuracy: 0.4733 - val_loss: 1.1907 - val_accuracy: 0.5781\n",
            "Epoch 2/11\n",
            "782/782 [==============================] - 131s 167ms/step - loss: 1.0580 - accuracy: 0.6319 - val_loss: 1.0683 - val_accuracy: 0.6276\n",
            "Epoch 3/11\n",
            "782/782 [==============================] - 130s 167ms/step - loss: 0.8857 - accuracy: 0.6931 - val_loss: 1.1395 - val_accuracy: 0.6149\n",
            "Epoch 4/11\n",
            "782/782 [==============================] - 132s 168ms/step - loss: 0.7545 - accuracy: 0.7397 - val_loss: 0.9977 - val_accuracy: 0.6509\n",
            "Epoch 5/11\n",
            "782/782 [==============================] - 129s 165ms/step - loss: 0.6469 - accuracy: 0.7761 - val_loss: 0.8582 - val_accuracy: 0.7150\n",
            "Epoch 6/11\n",
            "782/782 [==============================] - 130s 166ms/step - loss: 0.5601 - accuracy: 0.8079 - val_loss: 0.9832 - val_accuracy: 0.6753\n",
            "Epoch 7/11\n",
            "782/782 [==============================] - 128s 164ms/step - loss: 0.4876 - accuracy: 0.8344 - val_loss: 0.8511 - val_accuracy: 0.7214\n",
            "Epoch 8/11\n",
            "782/782 [==============================] - 130s 166ms/step - loss: 0.4261 - accuracy: 0.8555 - val_loss: 0.9417 - val_accuracy: 0.7039\n",
            "Epoch 9/11\n",
            "782/782 [==============================] - 132s 169ms/step - loss: 0.3757 - accuracy: 0.8726 - val_loss: 1.0154 - val_accuracy: 0.7330\n",
            "Epoch 10/11\n",
            "782/782 [==============================] - 132s 169ms/step - loss: 0.3326 - accuracy: 0.8879 - val_loss: 1.2058 - val_accuracy: 0.7062\n",
            "Epoch 11/11\n",
            "782/782 [==============================] - 131s 167ms/step - loss: 0.3039 - accuracy: 0.8979 - val_loss: 1.1029 - val_accuracy: 0.7290\n"
          ]
        },
        {
          "output_type": "display_data",
          "data": {
            "image/png": "[encoded data removed]",
            "text/plain": [
              "<Figure size 432x288 with 1 Axes>"
            ]
          },
          "metadata": {
            "needs_background": "light"
          }
        }
      ]
    }
  ]
}