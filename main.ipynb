{
 "cells": [
  {
   "cell_type": "markdown",
   "metadata": {},
   "source": [
    "Importing necessary libraries and modules"
   ]
  },
  {
   "cell_type": "code",
   "execution_count": 144,
   "metadata": {},
   "outputs": [],
   "source": [
    "# Importing the necessary libraries and modules\n",
    "import tensorflow as tf\n",
    "from tensorflow.keras.datasets import cifar10\n",
    "from tensorflow.keras.models import Sequential, load_model\n",
    "from tensorflow.keras.layers import Conv2D, MaxPooling2D, Dense, Dropout, Flatten, Activation\n",
    "import matplotlib.pyplot as plt\n",
    "import numpy as np\n",
    "import pandas as pd\n",
    "import ssl"
   ]
  },
  {
   "cell_type": "markdown",
   "metadata": {},
   "source": [
    "Function for loading data"
   ]
  },
  {
   "cell_type": "code",
   "execution_count": 145,
   "metadata": {},
   "outputs": [],
   "source": [
    "# Disable default certificate verification\n",
    "ssl._create_default_https_context = ssl._create_unverified_context\n",
    "\n",
    "# Function for loading the dataset\n",
    "def load_data():\n",
    "    \"\"\"\n",
    "    Loads cifar10 dataset and prepares it for training\n",
    "\n",
    "    Returns\n",
    "    -------\n",
    "    Returns the processed testing and training data\n",
    "    \"\"\"\n",
    "    cifar10_data = tf.keras.datasets.cifar10\n",
    "\n",
    "    (trainX, trainY),(testX, testY) = cifar10_data.load_data()\n",
    "\n",
    "    # Reduce pixel values\n",
    "    trainX = trainX/255.0\n",
    "    testX = testX/255.0\n",
    "\n",
    "    # Categorize the data\n",
    "    trainY = tf.keras.utils.to_categorical(trainY)\n",
    "    testY = tf.keras.utils.to_categorical(testY)\n",
    "\n",
    "    return trainX, trainY, testX, testY"
   ]
  },
  {
   "cell_type": "markdown",
   "metadata": {},
   "source": [
    "Function for creating the model\n"
   ]
  },
  {
   "cell_type": "code",
   "execution_count": 146,
   "metadata": {},
   "outputs": [
    {
     "name": "stdout",
     "output_type": "stream",
     "text": [
      "Model: \"sequential_22\"\n",
      "_________________________________________________________________\n",
      "Layer (type)                 Output Shape              Param #   \n",
      "=================================================================\n",
      "conv2d_66 (Conv2D)           (None, 30, 30, 32)        896       \n",
      "_________________________________________________________________\n",
      "max_pooling2d_66 (MaxPooling (None, 15, 15, 32)        0         \n",
      "_________________________________________________________________\n",
      "conv2d_67 (Conv2D)           (None, 13, 13, 64)        18496     \n",
      "_________________________________________________________________\n",
      "max_pooling2d_67 (MaxPooling (None, 6, 6, 64)          0         \n",
      "_________________________________________________________________\n",
      "conv2d_68 (Conv2D)           (None, 4, 4, 128)         73856     \n",
      "_________________________________________________________________\n",
      "max_pooling2d_68 (MaxPooling (None, 2, 2, 128)         0         \n",
      "_________________________________________________________________\n",
      "flatten_22 (Flatten)         (None, 512)               0         \n",
      "_________________________________________________________________\n",
      "dense_44 (Dense)             (None, 128)               65664     \n",
      "_________________________________________________________________\n",
      "dense_45 (Dense)             (None, 10)                1290      \n",
      "=================================================================\n",
      "Total params: 160,202\n",
      "Trainable params: 160,202\n",
      "Non-trainable params: 0\n",
      "_________________________________________________________________\n"
     ]
    },
    {
     "data": {
      "text/plain": [
       "<tensorflow.python.keras.engine.sequential.Sequential at 0x5ea83f70>"
      ]
     },
     "execution_count": 146,
     "metadata": {},
     "output_type": "execute_result"
    }
   ],
   "source": [
    "def load_model():\n",
    "    \"\"\"\n",
    "    Creates and compiles a sequential model\n",
    "\n",
    "    Returns\n",
    "    -------\n",
    "    Returns the compiled model\n",
    "    \"\"\"\n",
    "\n",
    "    model = Sequential()\n",
    "\n",
    "    # Input layer\n",
    "    model.add(Conv2D(32,(3, 3), activation='relu', input_shape=(32, 32, 3)))\n",
    "    model.add(MaxPooling2D((2, 2)))\n",
    "\n",
    "    # Second Layer\n",
    "    model.add(Conv2D(64,(3, 3), activation='relu'))\n",
    "    model.add(MaxPooling2D((2, 2)))\n",
    "\n",
    "    # Third layer\n",
    "    model.add(Conv2D(128,(3, 3), activation='relu'))\n",
    "    model.add(MaxPooling2D((2, 2)))\n",
    "    \n",
    "    # Fourth layer\n",
    "    model.add(Flatten())\n",
    "    model.add(Dense(128, activation='relu'))\n",
    "    \n",
    "    # Output layer\n",
    "    model.add(Dense(10, activation='softmax'))\n",
    "\n",
    "    # Compiling the model\n",
    "    model.compile(optimizer='adam', loss='categorical_crossentropy', metrics=['accuracy'])\n",
    "\n",
    "    # Summary of the model for personal reference\n",
    "    model.summary()\n",
    "\n",
    "    return model\n",
    "\n",
    "load_model()"
   ]
  },
  {
   "cell_type": "markdown",
   "metadata": {},
   "source": [
    "Function for plotting training loss of model"
   ]
  },
  {
   "cell_type": "code",
   "execution_count": 147,
   "metadata": {},
   "outputs": [],
   "source": [
    "def show_loss(history):\n",
    "    \"\"\"\n",
    "    Plots the training loss of the model\n",
    "    \"\"\"\n",
    "    loss = history.history['loss']\n",
    "    epochs = range(1, len(loss) + 1)\n",
    "\n",
    "    # Using matplotlib to display the found data\n",
    "    plt.clf()\n",
    "    plt.plot(epochs, loss, label='Training Loss')\n",
    "    plt.title('Training Loss')\n",
    "    plt.xlabel('Epochs')\n",
    "    plt.ylabel('Loss')\n",
    "    plt.legend()\n",
    "    plt.show()"
   ]
  },
  {
   "cell_type": "markdown",
   "metadata": {},
   "source": [
    "Function for plotting training accuracy of model"
   ]
  },
  {
   "cell_type": "code",
   "execution_count": 148,
   "metadata": {},
   "outputs": [],
   "source": [
    "def show_acc(history):\n",
    "    \"\"\"\n",
    "    Plots the training accuracy of the model\n",
    "    \"\"\"\n",
    "    acc = history.history['accuracy']\n",
    "    epochs = range(1, len(acc) + 1)\n",
    "\n",
    "    # Using matplotlib to display the found data\n",
    "    plt.clf()\n",
    "    plt.plot(epochs, acc, label='Training Accuracy')\n",
    "    plt.title('Training Accuracy')\n",
    "    plt.xlabel('Epochs')\n",
    "    plt.ylabel('Accuracy')\n",
    "    plt.legend()\n",
    "    plt.show()"
   ]
  },
  {
   "cell_type": "markdown",
   "metadata": {},
   "source": [
    "Define Constants for the number of batches and epochs"
   ]
  },
  {
   "cell_type": "code",
   "execution_count": 149,
   "metadata": {},
   "outputs": [],
   "source": [
    "# Define constant variables for the number for batches and epochs\n",
    "BATCH_SIZE = 200\n",
    "EPOCHS = 20"
   ]
  },
  {
   "cell_type": "markdown",
   "metadata": {},
   "source": [
    "Main function for testing the model"
   ]
  },
  {
   "cell_type": "code",
   "execution_count": 150,
   "metadata": {},
   "outputs": [
    {
     "name": "stdout",
     "output_type": "stream",
     "text": [
      "Model: \"sequential_23\"\n",
      "_________________________________________________________________\n",
      "Layer (type)                 Output Shape              Param #   \n",
      "=================================================================\n",
      "conv2d_69 (Conv2D)           (None, 30, 30, 32)        896       \n",
      "_________________________________________________________________\n",
      "max_pooling2d_69 (MaxPooling (None, 15, 15, 32)        0         \n",
      "_________________________________________________________________\n",
      "conv2d_70 (Conv2D)           (None, 13, 13, 64)        18496     \n",
      "_________________________________________________________________\n",
      "max_pooling2d_70 (MaxPooling (None, 6, 6, 64)          0         \n",
      "_________________________________________________________________\n",
      "conv2d_71 (Conv2D)           (None, 4, 4, 128)         73856     \n",
      "_________________________________________________________________\n",
      "max_pooling2d_71 (MaxPooling (None, 2, 2, 128)         0         \n",
      "_________________________________________________________________\n",
      "flatten_23 (Flatten)         (None, 512)               0         \n",
      "_________________________________________________________________\n",
      "dense_46 (Dense)             (None, 128)               65664     \n",
      "_________________________________________________________________\n",
      "dense_47 (Dense)             (None, 10)                1290      \n",
      "=================================================================\n",
      "Total params: 160,202\n",
      "Trainable params: 160,202\n",
      "Non-trainable params: 0\n",
      "_________________________________________________________________\n",
      "Epoch 1/20\n",
      "250/250 [==============================] - 16s 62ms/step - loss: 1.7010 - accuracy: 0.3771\n",
      "Epoch 2/20\n",
      "250/250 [==============================] - 15s 61ms/step - loss: 1.3293 - accuracy: 0.5233\n",
      "Epoch 3/20\n",
      "250/250 [==============================] - 15s 61ms/step - loss: 1.1831 - accuracy: 0.5792\n",
      "Epoch 4/20\n",
      "250/250 [==============================] - 15s 59ms/step - loss: 1.0746 - accuracy: 0.6227\n",
      "Epoch 5/20\n",
      "250/250 [==============================] - 15s 60ms/step - loss: 1.0003 - accuracy: 0.6508\n",
      "Epoch 6/20\n",
      "250/250 [==============================] - 15s 59ms/step - loss: 0.9321 - accuracy: 0.6757\n",
      "Epoch 7/20\n",
      "250/250 [==============================] - 16s 62ms/step - loss: 0.8827 - accuracy: 0.6921\n",
      "Epoch 8/20\n",
      "250/250 [==============================] - 15s 59ms/step - loss: 0.8338 - accuracy: 0.7105\n",
      "Epoch 9/20\n",
      "250/250 [==============================] - 14s 57ms/step - loss: 0.7901 - accuracy: 0.7269\n",
      "Epoch 10/20\n",
      "250/250 [==============================] - 14s 57ms/step - loss: 0.7535 - accuracy: 0.7382\n",
      "Epoch 11/20\n",
      "250/250 [==============================] - 15s 60ms/step - loss: 0.7150 - accuracy: 0.7533\n",
      "Epoch 12/20\n",
      "250/250 [==============================] - 15s 58ms/step - loss: 0.6859 - accuracy: 0.7639\n",
      "Epoch 13/20\n",
      "250/250 [==============================] - 14s 57ms/step - loss: 0.6560 - accuracy: 0.7726\n",
      "Epoch 14/20\n",
      "250/250 [==============================] - 14s 57ms/step - loss: 0.6197 - accuracy: 0.7865\n",
      "Epoch 15/20\n",
      "250/250 [==============================] - 14s 57ms/step - loss: 0.5951 - accuracy: 0.7934\n",
      "Epoch 16/20\n",
      "250/250 [==============================] - 14s 57ms/step - loss: 0.5649 - accuracy: 0.8028\n",
      "Epoch 17/20\n",
      "250/250 [==============================] - 14s 58ms/step - loss: 0.5357 - accuracy: 0.8144\n",
      "Epoch 18/20\n",
      "250/250 [==============================] - 14s 57ms/step - loss: 0.5085 - accuracy: 0.8228\n",
      "Epoch 19/20\n",
      "250/250 [==============================] - 14s 57ms/step - loss: 0.4850 - accuracy: 0.8308\n",
      "Epoch 20/20\n",
      "250/250 [==============================] - 15s 58ms/step - loss: 0.4618 - accuracy: 0.8395\n"
     ]
    },
    {
     "data": {
      "image/png": "[encoded data removed]",
      "text/plain": [
       "<Figure size 432x288 with 1 Axes>"
      ]
     },
     "metadata": {
      "needs_background": "light"
     },
     "output_type": "display_data"
    },
    {
     "data": {
      "image/png": "[encoded data removed]",
      "text/plain": [
       "<Figure size 432x288 with 1 Axes>"
      ]
     },
     "metadata": {
      "needs_background": "light"
     },
     "output_type": "display_data"
    },
    {
     "name": "stdout",
     "output_type": "stream",
     "text": [
      "313/313 [==============================] - 1s 4ms/step - loss: 0.9040 - accuracy: 0.7209\n",
      "Loss: 0.904029130935669\n",
      "Accuracy: 72.08999991416931%\n"
     ]
    }
   ],
   "source": [
    "def main():\n",
    "    \"\"\"\n",
    "    Function for testing the model\n",
    "    \"\"\"\n",
    "\n",
    "    # Load the data\n",
    "    trainX, trainY, testX, testY = load_data()\n",
    "    model = load_model()\n",
    "\n",
    "    # Fit the data\n",
    "    history = model.fit(trainX, trainY, batch_size=BATCH_SIZE, epochs=EPOCHS)\n",
    "\n",
    "    # Plotting the data\n",
    "    show_loss(history)\n",
    "    show_acc(history)\n",
    "\n",
    "    # Test model\n",
    "    modelLoss, modelAccuracy = model.evaluate(testX, testY)\n",
    "\n",
    "    # Print the models loss and accuracy\n",
    "    print(f'Loss: {modelLoss}')\n",
    "    print(f'Accuracy: {modelAccuracy*100}%')\n",
    "\n",
    "if __name__ == '__main__':\n",
    "    main()"
   ]
  }
 ],
 "metadata": {
  "interpreter": {
   "hash": "5b90418123020cad19d33f399afdb18b1d2de287a6a52b69cde1ce45a946bc99"
  },
  "kernelspec": {
   "display_name": "Python 3.8.5 64-bit",
   "language": "python",
   "name": "python3"
  },
  "language_info": {
   "codemirror_mode": {
    "name": "ipython",
    "version": 3
   },
   "file_extension": ".py",
   "mimetype": "text/x-python",
   "name": "python",
   "nbconvert_exporter": "python",
   "pygments_lexer": "ipython3",
   "version": "3.8.5"
  },
  "orig_nbformat": 4
 },
 "nbformat": 4,
 "nbformat_minor": 2
}
