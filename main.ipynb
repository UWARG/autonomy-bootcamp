{
 "cells": [
  {
   "cell_type": "code",
   "execution_count": 1,
   "id": "2321a1df",
   "metadata": {},
   "outputs": [],
   "source": [
    "import tensorflow as tf\n",
    "from tensorflow.keras import datasets, layers, models\n",
    "import matplotlib.pyplot as plt\n",
    "import numpy as np"
   ]
  },
  {
   "cell_type": "code",
   "execution_count": null,
   "id": "83b0b96c",
   "metadata": {},
   "outputs": [],
   "source": [
    "(x_train, y_train), (x_test,y_test) = datasets.cifar10.load_data()"
   ]
  },
  {
   "cell_type": "code",
   "execution_count": null,
   "id": "100684e0",
   "metadata": {},
   "outputs": [],
   "source": [
    "classes = [\"airplane\", \"automobile\", \"bird\", \"cat\", \"deer\", \"dog\", \"frog\", \"horse\", \"ship\", \"truck\"]\n",
    "\n",
    "x_train = x_train / 255.0\n",
    "x_test = x_test / 255.0\n",
    "\n"
   ]
  },
  {
   "cell_type": "code",
   "execution_count": null,
   "id": "287890b0",
   "metadata": {},
   "outputs": [
    {
     "name": "stdout",
     "output_type": "stream",
     "text": [
      "Epoch 1/15\n",
      "1563/1563 [==============================] - 25s 16ms/step - loss: 2.3028 - accuracy: 0.0994\n",
      "Epoch 2/15\n",
      "1563/1563 [==============================] - 24s 15ms/step - loss: 2.3028 - accuracy: 0.1000\n",
      "Epoch 3/15\n",
      "1563/1563 [==============================] - 23s 15ms/step - loss: 2.3028 - accuracy: 0.0963\n",
      "Epoch 4/15\n",
      "1563/1563 [==============================] - 23s 15ms/step - loss: 2.3028 - accuracy: 0.0983\n",
      "Epoch 5/15\n",
      "1563/1563 [==============================] - 23s 15ms/step - loss: 2.3028 - accuracy: 0.0994\n",
      "Epoch 6/15\n",
      "1563/1563 [==============================] - 23s 15ms/step - loss: 2.3027 - accuracy: 0.0991\n",
      "Epoch 7/15\n",
      "1563/1563 [==============================] - 23s 15ms/step - loss: 2.3028 - accuracy: 0.0966\n",
      "Epoch 8/15\n",
      "1563/1563 [==============================] - 27s 17ms/step - loss: 2.3028 - accuracy: 0.0985\n",
      "Epoch 9/15\n",
      "1563/1563 [==============================] - 24s 16ms/step - loss: 2.3028 - accuracy: 0.1008\n",
      "Epoch 10/15\n",
      "1563/1563 [==============================] - 23s 15ms/step - loss: 2.3028 - accuracy: 0.0974\n",
      "Epoch 11/15\n",
      "1563/1563 [==============================] - 23s 15ms/step - loss: 2.3028 - accuracy: 0.0979\n",
      "Epoch 12/15\n",
      "1563/1563 [==============================] - 23s 15ms/step - loss: 2.3028 - accuracy: 0.0989\n",
      "Epoch 13/15\n",
      "1563/1563 [==============================] - 24s 15ms/step - loss: 2.3028 - accuracy: 0.0999\n",
      "Epoch 14/15\n",
      "1563/1563 [==============================] - 24s 15ms/step - loss: 2.3028 - accuracy: 0.0975\n",
      "Epoch 15/15\n",
      "1563/1563 [==============================] - 25s 16ms/step - loss: 2.3028 - accuracy: 0.0993\n"
     ]
    },
    {
     "data": {
      "text/plain": [
       "<keras.callbacks.History at 0x15538841f10>"
      ]
     },
     "execution_count": 9,
     "metadata": {},
     "output_type": "execute_result"
    }
   ],
   "source": [
    "cnn = models.Sequential([\n",
    "    layers.Conv2D(filters=32, kernel_size=(3, 3), activation='relu', input_shape=(32, 32, 3)),\n",
    "    layers.MaxPooling2D((2, 2)),\n",
    "    \n",
    "    layers.Conv2D(filters=64, kernel_size=(3, 3), activation='relu'),\n",
    "    layers.MaxPooling2D((2, 2)),\n",
    "    \n",
    "    layers.Flatten(),\n",
    "    layers.Dense(64, activation='relu'),\n",
    "    layers.Dense(10, activation='softmax')\n",
    "])\n",
    "\n",
    "\n",
    "cnn.compile(optimizer='adam',\n",
    "              loss='sparse_categorical_crossentropy',\n",
    "              metrics=['accuracy'])\n",
    "\n",
    "\n",
    "cnn.fit(x_train, y_train, epochs=15)"
   ]
  },
  {
   "cell_type": "code",
   "execution_count": null,
   "id": "b400b89f",
   "metadata": {},
   "outputs": [
    {
     "name": "stdout",
     "output_type": "stream",
     "text": [
      "313/313 [==============================] - 2s 6ms/step - loss: 0.9222 - accuracy: 0.6909\n"
     ]
    },
    {
     "data": {
      "text/plain": [
       "[0.922234058380127, 0.6909000277519226]"
      ]
     },
     "execution_count": 5,
     "metadata": {},
     "output_type": "execute_result"
    }
   ],
   "source": [
    "cnn.evaluate(x_test,y_test)"
   ]
  }
 ],
 "metadata": {
  "kernelspec": {
   "display_name": "base",
   "language": "python",
   "name": "python3"
  },
  "language_info": {
   "codemirror_mode": {
    "name": "ipython",
    "version": 3
   },
   "file_extension": ".py",
   "mimetype": "text/x-python",
   "name": "python",
   "nbconvert_exporter": "python",
   "pygments_lexer": "ipython3",
   "version": "3.9.7 (default, Sep 16 2021, 16:59:28) [MSC v.1916 64 bit (AMD64)]"
  },
  "vscode": {
   "interpreter": {
    "hash": "f5f16fb0d3f5f9be43672133a71b6686f59bf9581a779b73808cb239b6cc051b"
   }
  }
 },
 "nbformat": 4,
 "nbformat_minor": 5
}
