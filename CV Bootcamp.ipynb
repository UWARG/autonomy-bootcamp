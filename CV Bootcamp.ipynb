{
 "cells": [
  {
   "cell_type": "code",
   "execution_count": 78,
   "id": "6b1e3fb1",
   "metadata": {},
   "outputs": [],
   "source": [
    "import tensorflow as tf\n",
    "\n",
    "import numpy as np\n",
    "import matplotlib.pyplot as plt\n",
    "from tensorflow.keras import datasets, models, layers"
   ]
  },
  {
   "cell_type": "code",
   "execution_count": 79,
   "id": "1c8ce3a0",
   "metadata": {},
   "outputs": [],
   "source": [
    "(imageDataTrain, imageLabelsTrain), (imageDataTest, imageLabelsTest) = datasets.cifar10.load_data()\n",
    "\n",
    "CLASS_LIST = ['airplane', 'automobile', 'bird', 'cat', 'deer', 'dog', 'frog', 'horse', 'ship', 'truck']\n",
    "\n",
    "# print(imageDataTrain[0:3], imageDataTrain.shape)\n",
    "# print(imageLabelsTrain[0:3], imageLabelsTrain.shape)"
   ]
  },
  {
   "cell_type": "code",
   "execution_count": 96,
   "id": "14ef8851",
   "metadata": {},
   "outputs": [],
   "source": [
    "imageLabelsTrain = imageLabelsTrain.flatten()\n",
    "imageLabelsTest = imageLabelsTest.flatten()"
   ]
  },
  {
   "cell_type": "code",
   "execution_count": 81,
   "id": "3dedb2a3",
   "metadata": {},
   "outputs": [],
   "source": [
    "def plot_image(imageData, imageLabel, index):\n",
    "    \"\"\"\n",
    "    the function outputs the imageData as a 2D 32x32 image along with its class as a label\n",
    "    \n",
    "    parameters\n",
    "    ----\n",
    "    imageData: ndarray\n",
    "    imageLabel: ndarray\n",
    "    index: int\n",
    "    \n",
    "    returns\n",
    "    ----\n",
    "    NoneType\n",
    "    \n",
    "    \"\"\"\n",
    "    plt.imshow(imageData[index])\n",
    "    plt.xlabel(CLASS_LIST[imageLabel[index]])"
   ]
  },
  {
   "cell_type": "code",
   "execution_count": 98,
   "id": "60cd623a",
   "metadata": {},
   "outputs": [
    {
     "data": {
      "image/png": "[encoded data removed]",
      "text/plain": [
       "<Figure size 432x288 with 1 Axes>"
      ]
     },
     "metadata": {
      "needs_background": "light"
     },
     "output_type": "display_data"
    }
   ],
   "source": [
    "plot_image(imageDataTrain, imageLabelsTrain, 0)"
   ]
  },
  {
   "cell_type": "code",
   "execution_count": 83,
   "id": "14474f2a",
   "metadata": {},
   "outputs": [],
   "source": [
    "# normalizing the data so each number is a decimal between 0 and 1\n",
    "\n",
    "imageDataTrain = imageDataTrain / 255\n",
    "imageDataTest = imageDataTest / 255"
   ]
  },
  {
   "cell_type": "code",
   "execution_count": 88,
   "id": "57e8ec7e",
   "metadata": {
    "scrolled": false
   },
   "outputs": [
    {
     "name": "stdout",
     "output_type": "stream",
     "text": [
      "Model: \"sequential_16\"\n",
      "_________________________________________________________________\n",
      " Layer (type)                Output Shape              Param #   \n",
      "=================================================================\n",
      " conv2d_34 (Conv2D)          (None, 30, 30, 32)        896       \n",
      "                                                                 \n",
      " max_pooling2d_28 (MaxPoolin  (None, 15, 15, 32)       0         \n",
      " g2D)                                                            \n",
      "                                                                 \n",
      " conv2d_35 (Conv2D)          (None, 13, 13, 64)        18496     \n",
      "                                                                 \n",
      " max_pooling2d_29 (MaxPoolin  (None, 6, 6, 64)         0         \n",
      " g2D)                                                            \n",
      "                                                                 \n",
      " conv2d_36 (Conv2D)          (None, 4, 4, 64)          36928     \n",
      "                                                                 \n",
      " flatten_16 (Flatten)        (None, 1024)              0         \n",
      "                                                                 \n",
      " dense_34 (Dense)            (None, 64)                65600     \n",
      "                                                                 \n",
      " dense_35 (Dense)            (None, 10)                650       \n",
      "                                                                 \n",
      "=================================================================\n",
      "Total params: 122,570\n",
      "Trainable params: 122,570\n",
      "Non-trainable params: 0\n",
      "_________________________________________________________________\n"
     ]
    }
   ],
   "source": [
    "neuralNetwork = models.Sequential([\n",
    "    \n",
    "    # creating the convolutional layers which takes as input, tensors of shape (32, 32, 3)\n",
    "    # after the first layer, we don't specify the shape as it auto-fits\n",
    "    \n",
    "    layers.Conv2D(filters = 32, kernel_size = (3, 3), activation = 'relu', input_shape = (32, 32, 3)),\n",
    "    layers.MaxPooling2D((2, 2)),\n",
    "    layers.Conv2D(filters = 64, kernel_size = (3, 3), activation = 'relu'),\n",
    "    layers.MaxPooling2D((2, 2)),\n",
    "    layers.Conv2D(filters = 64, kernel_size = (3, 3), activation = 'relu'),\n",
    "    \n",
    "    # finally we add the dense layers to classify the images\n",
    "    # since dense layers only take 1D tensors as input, we first flatten it\n",
    "    # since we have 10 classes, we have a final dense layer with 10 outputs\n",
    "    \n",
    "    layers.Flatten(),\n",
    "    layers.Dense(64, activation = 'relu'),\n",
    "    layers.Dense(10)\n",
    "])\n",
    "\n",
    "neuralNetwork.summary()"
   ]
  },
  {
   "cell_type": "code",
   "execution_count": 89,
   "id": "26397656",
   "metadata": {},
   "outputs": [
    {
     "name": "stdout",
     "output_type": "stream",
     "text": [
      "Epoch 1/15\n",
      "1563/1563 [==============================] - 33s 21ms/step - loss: 1.5040 - accuracy: 0.4507 - val_loss: 1.2822 - val_accuracy: 0.5397\n",
      "Epoch 2/15\n",
      "1563/1563 [==============================] - 32s 21ms/step - loss: 1.1489 - accuracy: 0.5961 - val_loss: 1.1270 - val_accuracy: 0.5955\n",
      "Epoch 3/15\n",
      "1563/1563 [==============================] - 33s 21ms/step - loss: 1.0044 - accuracy: 0.6468 - val_loss: 0.9684 - val_accuracy: 0.6615\n",
      "Epoch 4/15\n",
      "1563/1563 [==============================] - 32s 21ms/step - loss: 0.8974 - accuracy: 0.6851 - val_loss: 0.9499 - val_accuracy: 0.6714\n",
      "Epoch 5/15\n",
      "1563/1563 [==============================] - 31s 20ms/step - loss: 0.8203 - accuracy: 0.7131 - val_loss: 0.8956 - val_accuracy: 0.6942\n",
      "Epoch 6/15\n",
      "1563/1563 [==============================] - 36s 23ms/step - loss: 0.7601 - accuracy: 0.7342 - val_loss: 0.8593 - val_accuracy: 0.7027\n",
      "Epoch 7/15\n",
      "1563/1563 [==============================] - 34s 22ms/step - loss: 0.7132 - accuracy: 0.7503 - val_loss: 0.8735 - val_accuracy: 0.6994\n",
      "Epoch 8/15\n",
      "1563/1563 [==============================] - 33s 21ms/step - loss: 0.6680 - accuracy: 0.7661 - val_loss: 0.8305 - val_accuracy: 0.7156\n",
      "Epoch 9/15\n",
      "1563/1563 [==============================] - 37s 24ms/step - loss: 0.6229 - accuracy: 0.7831 - val_loss: 0.9051 - val_accuracy: 0.6998\n",
      "Epoch 10/15\n",
      "1563/1563 [==============================] - 37s 23ms/step - loss: 0.5867 - accuracy: 0.7928 - val_loss: 0.8782 - val_accuracy: 0.7102\n",
      "Epoch 11/15\n",
      "1563/1563 [==============================] - 34s 22ms/step - loss: 0.5516 - accuracy: 0.8038 - val_loss: 0.9050 - val_accuracy: 0.7035\n",
      "Epoch 12/15\n",
      "1563/1563 [==============================] - 34s 21ms/step - loss: 0.5166 - accuracy: 0.8166 - val_loss: 0.8930 - val_accuracy: 0.7174\n",
      "Epoch 13/15\n",
      "1563/1563 [==============================] - 32s 20ms/step - loss: 0.4899 - accuracy: 0.8266 - val_loss: 0.9015 - val_accuracy: 0.7138\n",
      "Epoch 14/15\n",
      "1563/1563 [==============================] - 34s 22ms/step - loss: 0.4593 - accuracy: 0.8381 - val_loss: 0.9591 - val_accuracy: 0.7066\n",
      "Epoch 15/15\n",
      "1563/1563 [==============================] - 35s 22ms/step - loss: 0.4331 - accuracy: 0.8470 - val_loss: 0.9761 - val_accuracy: 0.7164\n"
     ]
    }
   ],
   "source": [
    "neuralNetwork.compile(optimizer = 'adam',\n",
    "              loss = tf.keras.losses.SparseCategoricalCrossentropy(from_logits = True),\n",
    "              metrics = ['accuracy'])\n",
    "\n",
    "history = neuralNetwork.fit(imageDataTrain, imageLabelsTrain, epochs = 15, validation_data=(imageDataTest, imageLabelsTest))"
   ]
  },
  {
   "cell_type": "code",
   "execution_count": 90,
   "id": "2a6d6050",
   "metadata": {
    "scrolled": true
   },
   "outputs": [
    {
     "data": {
      "text/plain": [
       "<matplotlib.legend.Legend at 0x22b1d2fa500>"
      ]
     },
     "execution_count": 90,
     "metadata": {},
     "output_type": "execute_result"
    },
    {
     "data": {
      "image/png": "[encoded data removed]",
      "text/plain": [
       "<Figure size 432x288 with 1 Axes>"
      ]
     },
     "metadata": {
      "needs_background": "light"
     },
     "output_type": "display_data"
    }
   ],
   "source": [
    "plt.plot(history.history['accuracy'], label='accuracy')\n",
    "plt.plot(history.history['val_accuracy'], label = 'val_accuracy')\n",
    "plt.xlabel('Epoch')\n",
    "plt.ylabel('Accuracy')\n",
    "plt.ylim([0.5, 1])\n",
    "plt.legend(loc='lower right')"
   ]
  },
  {
   "cell_type": "code",
   "execution_count": 99,
   "id": "20837a81",
   "metadata": {},
   "outputs": [
    {
     "data": {
      "text/plain": [
       "<matplotlib.legend.Legend at 0x22b1c6718d0>"
      ]
     },
     "execution_count": 99,
     "metadata": {},
     "output_type": "execute_result"
    },
    {
     "data": {
      "image/png": "[encoded data removed]",
      "text/plain": [
       "<Figure size 432x288 with 1 Axes>"
      ]
     },
     "metadata": {
      "needs_background": "light"
     },
     "output_type": "display_data"
    }
   ],
   "source": [
    "plt.plot(history.history['loss'], label='loss')\n",
    "plt.plot(history.history['val_loss'], label = 'val_loss')\n",
    "plt.xlabel('Epoch')\n",
    "plt.ylabel('Loss')\n",
    "plt.ylim([0, 2])\n",
    "plt.legend(loc='lower right')"
   ]
  },
  {
   "cell_type": "code",
   "execution_count": 102,
   "id": "bdbc42a4",
   "metadata": {},
   "outputs": [
    {
     "name": "stdout",
     "output_type": "stream",
     "text": [
      "313/313 - 2s - loss: 0.9761 - accuracy: 0.7164 - 2s/epoch - 6ms/step\n"
     ]
    }
   ],
   "source": [
    "test_loss, test_acc = neuralNetwork.evaluate(imageDataTest,  imageLabelsTest, verbose=2)"
   ]
  }
 ],
 "metadata": {
  "kernelspec": {
   "display_name": "Python 3 (ipykernel)",
   "language": "python",
   "name": "python3"
  },
  "language_info": {
   "codemirror_mode": {
    "name": "ipython",
    "version": 3
   },
   "file_extension": ".py",
   "mimetype": "text/x-python",
   "name": "python",
   "nbconvert_exporter": "python",
   "pygments_lexer": "ipython3",
   "version": "3.10.3"
  }
 },
 "nbformat": 4,
 "nbformat_minor": 5
}
