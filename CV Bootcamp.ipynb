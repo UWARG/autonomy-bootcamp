{
 "cells": [
  {
   "cell_type": "code",
   "execution_count": 43,
   "id": "e1c88ca2",
   "metadata": {},
   "outputs": [],
   "source": [
    "import matplotlib.pyplot as plt\n",
    "import numpy as np\n",
    "import tensorflow as tf\n",
    "from tensorflow import keras\n",
    "from tensorflow.keras import layers"
   ]
  },
  {
   "cell_type": "code",
   "execution_count": 44,
   "id": "4c3cd125",
   "metadata": {},
   "outputs": [],
   "source": [
    "def process_data():\n",
    "    \"\"\"\n",
    "    Loads CIFAR-10 dataset then returns the train and test set\n",
    "    \n",
    "    Parameters\n",
    "    ----------\n",
    "    None\n",
    "\n",
    "    Returns\n",
    "    -------\n",
    "    tuple : (xTrain,yTrain), (xTest,yTest)\n",
    "        Returns normalized CIFAR-10 train and test data\n",
    "    \"\"\"\n",
    "    \n",
    "    # Model / data parameters\n",
    "    num_classes = 10\n",
    "    input_shape = (36, 36, 1)\n",
    "\n",
    "    # the data, split between train and test sets\n",
    "    (xTrain, yTrain), (xTest, yTest) = keras.datasets.mnist.load_data()\n",
    "\n",
    "    # Scale images to the [0, 1] range\n",
    "    xTrain = xTrain.astype(\"float32\") / 255\n",
    "    xTest = xTest.astype(\"float32\") / 255\n",
    "    # Make sure images have shape (28, 28, 1)\n",
    "    xTrain = np.expand_dims(xTrain, -1)\n",
    "    xTest = np.expand_dims(xTest, -1)\n",
    "    print(\"xTrain shape:\", xTrain.shape)\n",
    "    print(xTrain.shape[0], \"train samples\")\n",
    "    print(xTest.shape[0], \"test samples\")\n",
    "    \n",
    "    return xTrain, yTrain, xTest, yTest"
   ]
  },
  {
   "cell_type": "code",
   "execution_count": 45,
   "id": "34d241f4",
   "metadata": {},
   "outputs": [],
   "source": [
    "def train_model(xTrain):\n",
    "    \"\"\"\n",
    "    Train model with covnets, using sequential model\n",
    "    \n",
    "    Parameters\n",
    "    ----------\n",
    "    xTrain:tensor\n",
    "        Training tensor set containing the loaded and processed CIFAR10 data\n",
    "\n",
    "    Returns\n",
    "    -------\n",
    "    model : keras.engine.sequential.Sequential\n",
    "        the feature cconvolutional \n",
    "    \"\"\"\n",
    "    \n",
    "    model = tf.keras.Sequential(\n",
    "        [\n",
    "            layers.Conv2D(filters = 64, kernel_size = (3,3), activation = \"relu\", input_shape = xTrain.shape[1:]),\n",
    "            layers.MaxPooling2D(pool_size = (2,2)),\n",
    "\n",
    "            layers.Conv2D(filters = 128, kernel_size = (3,3), activation = \"relu\"),\n",
    "            layers.MaxPooling2D(pool_size = (2,2)),\n",
    "\n",
    "            layers.Flatten(),\n",
    "            layers.Dropout(0.5),\n",
    "            layers.Dense(128),\n",
    "            layers.Activation(\"relu\"),\n",
    "\n",
    "            #Softmax output, appropriate for multilabel CV problem\n",
    "            layers.Dense(10),\n",
    "            layers.Activation(\"softmax\"),\n",
    "        ]\n",
    "        \n",
    "    )\n",
    "\n",
    "    return model"
   ]
  },
  {
   "cell_type": "code",
   "execution_count": 46,
   "id": "f441adf8",
   "metadata": {},
   "outputs": [],
   "source": [
    "def plot_data(historyTrain, EPOCHS, model, xTest, yTest):\n",
    "    \"\"\"\n",
    "    Continue from here\n",
    "    plots training loss and accuraccy\n",
    "    \n",
    "    Parameters\n",
    "    ----------\n",
    "    historyTrain : keras.callbacks.History\n",
    "    EPOCHS : int\n",
    "    model : keras.engine.sequential.Sequential\n",
    "        the feature cconvolutional \n",
    "    xTrain: tensor\n",
    "    yTrain: tensor\n",
    "\n",
    "    Returns\n",
    "    -------\n",
    "    None\n",
    "    \"\"\"\n",
    "\n",
    "    lossTrain = historyTrain.history['loss']\n",
    "    accTrain = historyTrain.history['accuracy']\n",
    "    epochs = range(1, EPOCHS+1)\n",
    "\n",
    "\n",
    "    plt.plot(epochs, lossTrain, 'g', label='Training Loss')\n",
    "    plt.title('Training Loss')\n",
    "    plt.xlabel('Epochs')\n",
    "    plt.ylabel('Loss')\n",
    "    plt.legend()\n",
    "    plt.show()\n",
    "\n",
    "    plt.plot(epochs, accTrain, 'b', label='Training Accuracy')\n",
    "    plt.title('Training Accuracy')\n",
    "    plt.xlabel('Epochs')\n",
    "    plt.ylabel('Accuracy')\n",
    "    plt.legend()\n",
    "    plt.show()\n",
    "\n",
    "    valLoss, valAcc = model.evaluate(xTest, yTest)\n",
    "    print(\"Validation loss: \", valLoss, \"\\nValidation Accuracy: \", valAcc*100, \"%\")"
   ]
  },
  {
   "cell_type": "code",
   "execution_count": 47,
   "id": "e108f20c",
   "metadata": {},
   "outputs": [],
   "source": [
    "def main():\n",
    "    \"\"\"\n",
    "    Continue from here\n",
    "    plots training loss and accuraccy\n",
    "    \n",
    "    Parameters\n",
    "    ----------\n",
    "    None\n",
    "\n",
    "    Returns\n",
    "    -------\n",
    "    None\n",
    "    \"\"\"\n",
    "\n",
    "    BATCH_SIZE = 128\n",
    "    EPOCHS = 15\n",
    "    \n",
    "    xTrain, yTrain, xTest, yTest = process_data()\n",
    "    \n",
    "    model = train_model(xTrain)\n",
    "\n",
    "    model.compile(loss = \"sparse_categorical_crossentropy\", optimizer = \"adam\", metrics = [\"accuracy\"])\n",
    "\n",
    "    historyTrain = model.fit(xTrain, yTrain, batch_size = BATCH_SIZE, epochs = EPOCHS)\n",
    "    \n",
    "    score = model.evaluate(xTest, yTest, verbose = 0)\n",
    "    \n",
    "    plot_data(historyTrain, EPOCHS, model, xTest, yTest)\n",
    "    \n",
    "    print(\"Test loss:\", score[0])\n",
    "    print(\"Test accuracy:\", score[1])\n",
    "\n"
   ]
  },
  {
   "cell_type": "code",
   "execution_count": 48,
   "id": "27ee93ab",
   "metadata": {
    "scrolled": true
   },
   "outputs": [
    {
     "name": "stdout",
     "output_type": "stream",
     "text": [
      "xTrain shape: (60000, 28, 28, 1)\n",
      "60000 train samples\n",
      "10000 test samples\n",
      "Epoch 1/15\n",
      "469/469 [==============================] - 34s 71ms/step - loss: 0.1918 - accuracy: 0.9407\n",
      "Epoch 2/15\n",
      "469/469 [==============================] - 33s 71ms/step - loss: 0.0619 - accuracy: 0.9807\n",
      "Epoch 3/15\n",
      "469/469 [==============================] - 33s 71ms/step - loss: 0.0469 - accuracy: 0.9853\n",
      "Epoch 4/15\n",
      "469/469 [==============================] - 33s 71ms/step - loss: 0.0366 - accuracy: 0.9884\n",
      "Epoch 5/15\n",
      "469/469 [==============================] - 33s 71ms/step - loss: 0.0309 - accuracy: 0.9905\n",
      "Epoch 6/15\n",
      "469/469 [==============================] - 34s 72ms/step - loss: 0.0282 - accuracy: 0.9909\n",
      "Epoch 7/15\n",
      "469/469 [==============================] - 34s 72ms/step - loss: 0.0242 - accuracy: 0.9922\n",
      "Epoch 8/15\n",
      "469/469 [==============================] - 34s 72ms/step - loss: 0.0220 - accuracy: 0.9927\n",
      "Epoch 9/15\n",
      "469/469 [==============================] - 33s 71ms/step - loss: 0.0193 - accuracy: 0.9937\n",
      "Epoch 10/15\n",
      "469/469 [==============================] - 34s 72ms/step - loss: 0.0161 - accuracy: 0.9948\n",
      "Epoch 11/15\n",
      "469/469 [==============================] - 34s 72ms/step - loss: 0.0158 - accuracy: 0.9947\n",
      "Epoch 12/15\n",
      "469/469 [==============================] - 34s 72ms/step - loss: 0.0143 - accuracy: 0.9952\n",
      "Epoch 13/15\n",
      "469/469 [==============================] - 34s 72ms/step - loss: 0.0137 - accuracy: 0.9952\n",
      "Epoch 14/15\n",
      "469/469 [==============================] - 34s 72ms/step - loss: 0.0124 - accuracy: 0.9956\n",
      "Epoch 15/15\n",
      "469/469 [==============================] - 34s 72ms/step - loss: 0.0101 - accuracy: 0.9967\n"
     ]
    },
    {
     "data": {
      "image/png": "[encoded data removed]",
      "text/plain": [
       "<Figure size 432x288 with 1 Axes>"
      ]
     },
     "metadata": {
      "needs_background": "light"
     },
     "output_type": "display_data"
    },
    {
     "ename": "NameError",
     "evalue": "name 'accTrain' is not defined",
     "output_type": "error",
     "traceback": [
      "\u001b[0;31m---------------------------------------------------------------------------\u001b[0m",
      "\u001b[0;31mNameError\u001b[0m                                 Traceback (most recent call last)",
      "\u001b[0;32m/tmp/ipykernel_15048/451043146.py\u001b[0m in \u001b[0;36m<module>\u001b[0;34m\u001b[0m\n\u001b[0;32m----> 1\u001b[0;31m \u001b[0mmain\u001b[0m\u001b[0;34m(\u001b[0m\u001b[0;34m)\u001b[0m\u001b[0;34m\u001b[0m\u001b[0;34m\u001b[0m\u001b[0m\n\u001b[0m",
      "\u001b[0;32m/tmp/ipykernel_15048/3083880906.py\u001b[0m in \u001b[0;36mmain\u001b[0;34m()\u001b[0m\n\u001b[1;32m     30\u001b[0m     \u001b[0mscore\u001b[0m \u001b[0;34m=\u001b[0m \u001b[0mmodel\u001b[0m\u001b[0;34m.\u001b[0m\u001b[0mevaluate\u001b[0m\u001b[0;34m(\u001b[0m\u001b[0mxTest\u001b[0m\u001b[0;34m,\u001b[0m \u001b[0myTest\u001b[0m\u001b[0;34m,\u001b[0m \u001b[0mverbose\u001b[0m \u001b[0;34m=\u001b[0m \u001b[0;36m0\u001b[0m\u001b[0;34m)\u001b[0m\u001b[0;34m\u001b[0m\u001b[0;34m\u001b[0m\u001b[0m\n\u001b[1;32m     31\u001b[0m \u001b[0;34m\u001b[0m\u001b[0m\n\u001b[0;32m---> 32\u001b[0;31m     \u001b[0mplot_data\u001b[0m\u001b[0;34m(\u001b[0m\u001b[0mhistoryTrain\u001b[0m\u001b[0;34m,\u001b[0m \u001b[0mEPOCHS\u001b[0m\u001b[0;34m,\u001b[0m \u001b[0mmodel\u001b[0m\u001b[0;34m,\u001b[0m \u001b[0mxTest\u001b[0m\u001b[0;34m,\u001b[0m \u001b[0myTest\u001b[0m\u001b[0;34m)\u001b[0m\u001b[0;34m\u001b[0m\u001b[0;34m\u001b[0m\u001b[0m\n\u001b[0m\u001b[1;32m     33\u001b[0m \u001b[0;34m\u001b[0m\u001b[0m\n\u001b[1;32m     34\u001b[0m     \u001b[0mprint\u001b[0m\u001b[0;34m(\u001b[0m\u001b[0;34m\"Test loss:\"\u001b[0m\u001b[0;34m,\u001b[0m \u001b[0mscore\u001b[0m\u001b[0;34m[\u001b[0m\u001b[0;36m0\u001b[0m\u001b[0;34m]\u001b[0m\u001b[0;34m)\u001b[0m\u001b[0;34m\u001b[0m\u001b[0;34m\u001b[0m\u001b[0m\n",
      "\u001b[0;32m/tmp/ipykernel_15048/4213615737.py\u001b[0m in \u001b[0;36mplot_data\u001b[0;34m(historyTrain, EPOCHS, model, xTest, yTest)\u001b[0m\n\u001b[1;32m     29\u001b[0m     \u001b[0mplt\u001b[0m\u001b[0;34m.\u001b[0m\u001b[0mshow\u001b[0m\u001b[0;34m(\u001b[0m\u001b[0;34m)\u001b[0m\u001b[0;34m\u001b[0m\u001b[0;34m\u001b[0m\u001b[0m\n\u001b[1;32m     30\u001b[0m \u001b[0;34m\u001b[0m\u001b[0m\n\u001b[0;32m---> 31\u001b[0;31m     \u001b[0mplt\u001b[0m\u001b[0;34m.\u001b[0m\u001b[0mplot\u001b[0m\u001b[0;34m(\u001b[0m\u001b[0mepochs\u001b[0m\u001b[0;34m,\u001b[0m \u001b[0maccTrain\u001b[0m\u001b[0;34m,\u001b[0m \u001b[0;34m'b'\u001b[0m\u001b[0;34m,\u001b[0m \u001b[0mlabel\u001b[0m\u001b[0;34m=\u001b[0m\u001b[0;34m'Training Accuracy'\u001b[0m\u001b[0;34m)\u001b[0m\u001b[0;34m\u001b[0m\u001b[0;34m\u001b[0m\u001b[0m\n\u001b[0m\u001b[1;32m     32\u001b[0m     \u001b[0mplt\u001b[0m\u001b[0;34m.\u001b[0m\u001b[0mtitle\u001b[0m\u001b[0;34m(\u001b[0m\u001b[0;34m'Training Accuracy'\u001b[0m\u001b[0;34m)\u001b[0m\u001b[0;34m\u001b[0m\u001b[0;34m\u001b[0m\u001b[0m\n\u001b[1;32m     33\u001b[0m     \u001b[0mplt\u001b[0m\u001b[0;34m.\u001b[0m\u001b[0mxlabel\u001b[0m\u001b[0;34m(\u001b[0m\u001b[0;34m'Epochs'\u001b[0m\u001b[0;34m)\u001b[0m\u001b[0;34m\u001b[0m\u001b[0;34m\u001b[0m\u001b[0m\n",
      "\u001b[0;31mNameError\u001b[0m: name 'accTrain' is not defined"
     ]
    }
   ],
   "source": [
    "main()"
   ]
  },
  {
   "cell_type": "code",
   "execution_count": null,
   "id": "10c57e83",
   "metadata": {},
   "outputs": [],
   "source": []
  },
  {
   "cell_type": "code",
   "execution_count": null,
   "id": "d28c9ab5",
   "metadata": {},
   "outputs": [],
   "source": []
  }
 ],
 "metadata": {
  "kernelspec": {
   "display_name": "Python 3 (ipykernel)",
   "language": "python",
   "name": "python3"
  },
  "language_info": {
   "codemirror_mode": {
    "name": "ipython",
    "version": 3
   },
   "file_extension": ".py",
   "mimetype": "text/x-python",
   "name": "python",
   "nbconvert_exporter": "python",
   "pygments_lexer": "ipython3",
   "version": "3.8.10"
  }
 },
 "nbformat": 4,
 "nbformat_minor": 5
}
