{
  "nbformat": 4,
  "nbformat_minor": 0,
  "metadata": {
    "colab": {
      "provenance": []
    },
    "kernelspec": {
      "name": "python3",
      "display_name": "Python 3"
    },
    "language_info": {
      "name": "python"
    }
  },
  "cells": [
    {
      "cell_type": "code",
      "execution_count": null,
      "metadata": {
        "id": "LpmJvK_ghabO"
      },
      "outputs": [],
      "source": [
        "#Importing All Necessary Libraries:\n",
        "import torch\n",
        "import torch.nn as nn\n",
        "import torch.optim as optim\n",
        "import torchvision\n",
        "import torchvision.transforms as transforms\n",
        "import matplotlib.pyplot as plt\n",
        "import torchvision.models as models\n",
        "from torchvision.models import resnet18\n",
        "from tqdm import tqdm #Using this library for progress bar.\n",
        "from torch.optim.lr_scheduler import StepLR #For Learning Rate Scheduler."
      ]
    },
    {
      "cell_type": "code",
      "source": [
        "#Need to determine whether to run the training on GPU or CPU based on computer's conditions.\n",
        "device = torch.device('cuda' if torch.cuda.is_available() else 'cpu')"
      ],
      "metadata": {
        "id": "pZFzDVnyGQXs"
      },
      "execution_count": null,
      "outputs": []
    },
    {
      "cell_type": "code",
      "source": [
        "#Defining Hyperparameters:\n",
        "numEpochs = 30\n",
        "batchSize = 64\n",
        "learningRate = 0.001"
      ],
      "metadata": {
        "id": "vNOXi6xKGXts"
      },
      "execution_count": null,
      "outputs": []
    },
    {
      "cell_type": "code",
      "source": [
        "#Loading the CIFAR-10 Dataset:\n",
        "\n",
        "#Need to preprocess the image using transformations (convert to Tensor format + normalize image) --> ONLY FOR TRAINING DATASET.\n",
        "trainingTransformations = transforms.Compose([ #.Compose allows me to chain multiple transformations together.\n",
        "    transforms.RandomHorizontalFlip(), #Will randomly flip the images horizontally. These 2 transformations will increase the variability of the training data.\n",
        "    transforms.ToTensor(),\n",
        "    transforms.Normalize((0.5, 0.5, 0.5), (0.5, 0.5, 0.5))\n",
        "    #.Normalize helps in standardizing the input data and makes the model flexible to different lighting conditions.\n",
        "])\n",
        "\n",
        "testingTransformations = transforms.Compose([ #Transformations for the testing data.\n",
        "    transforms.ToTensor()\n",
        "])\n",
        "\n",
        "trainingDataset = torchvision.datasets.CIFAR10(root='./data', train=True, download=True, transform=trainingTransformations)"
      ],
      "metadata": {
        "id": "Aanv9ubPGYuL",
        "colab": {
          "base_uri": "https://localhost:8080/"
        },
        "outputId": "60f1a172-d427-4c72-80d7-c013368c1953"
      },
      "execution_count": null,
      "outputs": [
        {
          "output_type": "stream",
          "name": "stdout",
          "text": [
            "Downloading https://www.cs.toronto.edu/~kriz/cifar-10-python.tar.gz to ./data/cifar-10-python.tar.gz\n"
          ]
        },
        {
          "output_type": "stream",
          "name": "stderr",
          "text": [
            "100%|██████████| 170498071/170498071 [00:03<00:00, 45214984.74it/s]\n"
          ]
        },
        {
          "output_type": "stream",
          "name": "stdout",
          "text": [
            "Extracting ./data/cifar-10-python.tar.gz to ./data\n"
          ]
        }
      ]
    },
    {
      "cell_type": "code",
      "source": [
        "#Splitting Dataset:\n",
        "\n",
        "trainSize = int(0.8 * len(trainingDataset)) #80% for training & 20% is the validation dataset.\n",
        "validationSize = len(trainingDataset) - trainSize\n",
        "\n",
        "trainingDataset, validationDataset = torch.utils.data.random_split(trainingDataset, [trainSize, validationSize])\n",
        "\n",
        "testingDataset = torchvision.datasets.CIFAR10(root='./data', train=False, download=True, transform=testingTransformations)"
      ],
      "metadata": {
        "id": "Vyz5ZYA3GeYB",
        "colab": {
          "base_uri": "https://localhost:8080/"
        },
        "outputId": "fb4a1c17-a701-4274-d63d-d98c182427fc"
      },
      "execution_count": null,
      "outputs": [
        {
          "output_type": "stream",
          "name": "stdout",
          "text": [
            "Files already downloaded and verified\n"
          ]
        }
      ]
    },
    {
      "cell_type": "code",
      "source": [
        "#Creating the Data Loaders:\n",
        "trainingLoader = torch.utils.data.DataLoader(trainingDataset, batch_size=batchSize, shuffle=True) #The number of batches in the training dataset.\n",
        "validationLoader = torch.utils.data.DataLoader(validationDataset, batch_size=batchSize, shuffle=False)\n",
        "testingLoader = torch.utils.data.DataLoader(testingDataset, batch_size=batchSize, shuffle=False)"
      ],
      "metadata": {
        "id": "GScXdIfMGhdx"
      },
      "execution_count": null,
      "outputs": []
    },
    {
      "cell_type": "code",
      "source": [
        "#Using a pre-defined model (Resnet-18):\n",
        "model = resnet18(weights = None, num_classes = 10)\n",
        "#Since I'm importing a model, it will use the pre-trained weights of the ResNet-18 architecture, but will adapt the output layer to have 10 classes for the CIFAR-10 dataset."
      ],
      "metadata": {
        "id": "bBVS6DGiHHCr"
      },
      "execution_count": null,
      "outputs": []
    },
    {
      "cell_type": "code",
      "source": [
        "#Loss Function, Model Optimizer and Learning Rate Scheduler:\n",
        "lossCriterion = nn.CrossEntropyLoss() #This loss function will allow me calculate the cross-entropy loss between the model's predicted classes & the actual class labels (from dataset).\n",
        "#I'm using the CrossEntropyLoss because it is suitable for multi-class classification tasks as such and will calculate the loss based on the predicted & true class labels.\n",
        "\n",
        "modelOptimizer = optim.Adam(model.parameters(), lr = learningRate, weight_decay = 0.0001) #This optimizer function will allow me to adjust the network's parameters (weights & biases) to minimize the loss function.\n",
        "#The Adam (Adaptive Moment Estimation) optimizer is adaptive that maintains per-paramater learning rates and incorportes momentum & adaptive learning rate scaling.\n",
        "\n",
        "#optimizer = optim.SGD(model.parameters(), lr=learning_rate, momentum=0.9, weight_decay=1e-5)\n",
        "\n",
        "scheduler = optim.lr_scheduler.StepLR(modelOptimizer, step_size=10, gamma=0.1) #Learning rate scheduler will multiply the LR by 0.1 per 10 epochs (hence, DECREASING IT)."
      ],
      "metadata": {
        "id": "mjZUdzspHCmy"
      },
      "execution_count": null,
      "outputs": []
    },
    {
      "cell_type": "code",
      "source": [
        "#Training Loop:\n",
        "totalSteps = len(trainingLoader) #Total number of steps per epoch.\n",
        "trainingLosses = [] #Stores the training losses for each epoch during each loop. Allows us to track and visualize the train loss over epochs.\n",
        "validationLosses = [] #These arrays are going to be used for visualization purposes.\n",
        "\n",
        "for epoch in range(numEpochs):\n",
        "    runningLoss = 0.0 #Initializing the running loss for the current epoch.\n",
        "    model.train() #Setting the model to training mode (.train() comes from PyTorch) in order to apply training-specific behaviours.\n",
        "    with tqdm(total=len(trainingLoader), desc=f'Epoch {epoch + 1}/{numEpochs}', unit='batch') as progressBar:\n",
        "      for i, (images, labels) in enumerate(trainingLoader):\n",
        "          #Performing a forward pass:\n",
        "          outputs = model(images) #Computing the predicted outputs for the current batch in the current epoch.\n",
        "          loss = lossCriterion(outputs, labels)\n",
        "\n",
        "          #Performing a backward pass and optimizing:\n",
        "          modelOptimizer.zero_grad() #Clearing the gradients from the previous iteration.\n",
        "          loss.backward() #Doing a backpropagation (backward pass) to compute the gradients.\n",
        "          modelOptimizer.step() #Updating the model's paramaters based upon the computed gradients.\n",
        "\n",
        "          runningLoss += loss.item() #Accumulating and updating the running loss for the current batch.\n",
        "          progressBar.set_postfix({'Loss': loss.item()})\n",
        "          progressBar.update(1) #Updates progress bar after each unit (in this case after 1 batch iteration).\n",
        "\n",
        "      trainingLoss = runningLoss/len(trainingLoader) #Computing the average training loss for the epoch.\n",
        "      trainingLosses.append(trainingLoss)\n",
        "\n",
        "\n",
        "      #Validation:\n",
        "      model.eval() #Setting the model to evaluation mode.\n",
        "      validationLoss = 0.0\n",
        "\n",
        "      with torch.no_grad():\n",
        "          correctValidation = 0\n",
        "          totalValidations = 0\n",
        "          for images, labels in validationLoader:\n",
        "              outputs = model(images) #Computing the predicted outputs for the validation set.\n",
        "              loss = lossCriterion(outputs, labels) #Computing the loss once again between the predicted ouputs & actual labels.\n",
        "              validationLoss += loss.item() #Accumulating the validation loss per batch.\n",
        "\n",
        "              _, predicted = torch.max(outputs.data, 1)\n",
        "              totalValidations += labels.size(0)\n",
        "              correctValidation += (predicted == labels).sum().item()\n",
        "\n",
        "      validationLoss /= len(validationLoader) #Calculating the average validation loss.\n",
        "      validationLosses.append(validationLoss)\n",
        "      validationAccuracy = (correctValidation)/(totalValidations) * 100  #Calculating the validation accuracy.\n",
        "\n",
        "      scheduler.step() #Adjusting the learning rate.\n",
        "\n",
        "      #Printing the loss information for the current epoch:\n",
        "      progressBar.set_postfix({\"Epoch\": epoch+1, \"Training Loss\": f\"{trainingLoss: .4f}\", \"Validation Loss\": f\"{validationLoss: .4f}\", \"Validation Accuracy\": f\"{validationAccuracy:.2f}%\"})\n",
        "      progressBar.update(1)\n",
        "\n",
        "\n",
        "#Evaluation:\n",
        "model.eval()\n",
        "numberOfCorrect = 0\n",
        "totalAmount = 0\n",
        "\n",
        "with torch.no_grad():\n",
        "    for images, labels in testingLoader:\n",
        "        outputs = model(images) #Computing the predicted outputs for the testing set.\n",
        "        _, predicted = torch.max(outputs.data, 1) #Getting the predicted labels from the output of the model.\n",
        "        #torch.max() returns both the max values and their corresponding indices along a specified dimension.\n",
        "        #We care about max values in dimension 1 --> represents CLASS PROBABILITIES.\n",
        "        #Assigning them to predicted allows us to compare with actual label to evaluate model accuracy.\n",
        "\n",
        "        totalAmount += labels.size(0) #Accumulating the total number of labels.\n",
        "        #labels.size(0) returns the size of the \"labels\" tensor along the dimension 0 --> represents BATCH SIZE.\n",
        "\n",
        "        numberOfCorrect += (predicted == labels).sum().item() #Counting the number of correct predictions.\n",
        "        #predicted == labels is a tensor of booleans indicating which predictions are correct.\n",
        "        #We sum this tensor and call .item() to obtain correct predictions as a scalar value.\n",
        "\n",
        "testAccuracy = (numberOfCorrect/totalAmount) * 100\n",
        "print(f'Test Accuracy: {testAccuracy:.2f}%')"
      ],
      "metadata": {
        "colab": {
          "base_uri": "https://localhost:8080/"
        },
        "id": "8LsVWE8tHTLK",
        "outputId": "39e6b3e3-d8dd-4bea-bfbd-cfcceb26a91a"
      },
      "execution_count": null,
      "outputs": [
        {
          "output_type": "stream",
          "name": "stderr",
          "text": [
            "Epoch 1/30: 626batch [08:34,  1.22batch/s, Epoch=1, Training Loss=1.5963, Validation Loss=1.3942, Validation Accuracy=49.03%]\n",
            "Epoch 2/30: 626batch [08:49,  1.18batch/s, Epoch=2, Training Loss=1.2581, Validation Loss=1.1575, Validation Accuracy=58.75%]\n",
            "Epoch 3/30: 626batch [12:33,  1.20s/batch, Epoch=3, Training Loss=1.1033, Validation Loss=1.0544, Validation Accuracy=62.47%]\n",
            "Epoch 4/30: 626batch [12:27,  1.19s/batch, Epoch=4, Training Loss=1.0026, Validation Loss=1.0623, Validation Accuracy=63.32%]\n",
            "Epoch 5/30: 626batch [12:27,  1.19s/batch, Epoch=5, Training Loss=0.9227, Validation Loss=0.9240, Validation Accuracy=67.67%]\n",
            "Epoch 6/30: 626batch [12:26,  1.19s/batch, Epoch=6, Training Loss=0.8672, Validation Loss=0.8721, Validation Accuracy=69.42%]\n",
            "Epoch 7/30: 626batch [12:26,  1.19s/batch, Epoch=7, Training Loss=0.8106, Validation Loss=0.9289, Validation Accuracy=68.93%]\n",
            "Epoch 8/30: 626batch [12:33,  1.20s/batch, Epoch=8, Training Loss=0.7766, Validation Loss=0.8158, Validation Accuracy=72.11%]\n",
            "Epoch 9/30: 626batch [12:28,  1.20s/batch, Epoch=9, Training Loss=0.7385, Validation Loss=0.8019, Validation Accuracy=72.24%]\n",
            "Epoch 10/30: 626batch [12:37,  1.21s/batch, Epoch=10, Training Loss=0.7077, Validation Loss=0.7302, Validation Accuracy=74.82%]\n",
            "Epoch 11/30: 626batch [11:56,  1.15s/batch, Epoch=11, Training Loss=0.5732, Validation Loss=0.5963, Validation Accuracy=79.44%]\n",
            "Epoch 12/30: 626batch [11:54,  1.14s/batch, Epoch=12, Training Loss=0.5274, Validation Loss=0.5862, Validation Accuracy=79.52%]\n",
            "Epoch 13/30: 626batch [12:11,  1.17s/batch, Epoch=13, Training Loss=0.5062, Validation Loss=0.5824, Validation Accuracy=79.87%]\n",
            "Epoch 14/30: 626batch [12:03,  1.16s/batch, Epoch=14, Training Loss=0.4973, Validation Loss=0.5643, Validation Accuracy=80.39%]\n",
            "Epoch 15/30: 626batch [12:07,  1.16s/batch, Epoch=15, Training Loss=0.4799, Validation Loss=0.5604, Validation Accuracy=81.00%]\n",
            "Epoch 16/30: 626batch [12:07,  1.16s/batch, Epoch=16, Training Loss=0.4739, Validation Loss=0.5589, Validation Accuracy=80.92%]\n",
            "Epoch 17/30: 626batch [12:22,  1.19s/batch, Epoch=17, Training Loss=0.4607, Validation Loss=0.5659, Validation Accuracy=80.73%]\n",
            "Epoch 18/30: 626batch [12:20,  1.18s/batch, Epoch=18, Training Loss=0.4510, Validation Loss=0.5534, Validation Accuracy=80.84%]\n",
            "Epoch 19/30: 626batch [12:42,  1.22s/batch, Epoch=19, Training Loss=0.4426, Validation Loss=0.5662, Validation Accuracy=80.66%]\n",
            "Epoch 20/30: 626batch [12:42,  1.22s/batch, Epoch=20, Training Loss=0.4386, Validation Loss=0.5579, Validation Accuracy=80.77%]\n",
            "Epoch 21/30: 626batch [12:46,  1.22s/batch, Epoch=21, Training Loss=0.4092, Validation Loss=0.5461, Validation Accuracy=81.84%]\n",
            "Epoch 22/30: 626batch [12:49,  1.23s/batch, Epoch=22, Training Loss=0.4114, Validation Loss=0.5425, Validation Accuracy=81.99%]\n",
            "Epoch 23/30: 626batch [12:46,  1.22s/batch, Epoch=23, Training Loss=0.4051, Validation Loss=0.5470, Validation Accuracy=81.49%]\n",
            "Epoch 24/30: 626batch [13:02,  1.25s/batch, Epoch=24, Training Loss=0.4050, Validation Loss=0.5360, Validation Accuracy=81.63%]\n",
            "Epoch 25/30: 626batch [13:16,  1.27s/batch, Epoch=25, Training Loss=0.4008, Validation Loss=0.5419, Validation Accuracy=81.62%]\n",
            "Epoch 26/30: 626batch [13:28,  1.29s/batch, Epoch=26, Training Loss=0.3985, Validation Loss=0.5449, Validation Accuracy=81.57%]\n",
            "Epoch 27/30: 626batch [13:28,  1.29s/batch, Epoch=27, Training Loss=0.3950, Validation Loss=0.5335, Validation Accuracy=81.52%]\n",
            "Epoch 28/30: 626batch [13:47,  1.32s/batch, Epoch=28, Training Loss=0.3950, Validation Loss=0.5474, Validation Accuracy=81.47%]\n",
            "Epoch 29/30: 626batch [13:17,  1.27s/batch, Epoch=29, Training Loss=0.3945, Validation Loss=0.5438, Validation Accuracy=81.48%]\n",
            "Epoch 30/30: 626batch [13:22,  1.28s/batch, Epoch=30, Training Loss=0.3908, Validation Loss=0.5408, Validation Accuracy=81.74%]\n"
          ]
        },
        {
          "output_type": "stream",
          "name": "stdout",
          "text": [
            "Test Accuracy: 82.70%\n"
          ]
        }
      ]
    },
    {
      "cell_type": "code",
      "source": [
        "#Plotting Training and Validation Losses (using Matplotlib.Pyplot):\n",
        "plt.plot(range(numEpochs), trainingLosses, label = \"Training Loss\") #Plotting the training losses over epochs.\n",
        "plt.plot(range(numEpochs), validationLosses, label = \"Validation Loss\") #Plotting the validation losses over epochs.\n",
        "plt.xlabel(\"Epoch\")\n",
        "plt.ylabel(\"Loss\")\n",
        "plt.title(\"Graph of Training and Validation Losses\")\n",
        "plt.legend()\n",
        "plt.show()"
      ],
      "metadata": {
        "colab": {
          "base_uri": "https://localhost:8080/",
          "height": 472
        },
        "id": "ePqBLqH-HZJy",
        "outputId": "76587f6c-d7b5-4ec9-ec6c-37ee9a26881b"
      },
      "execution_count": null,
      "outputs": [
        {
          "output_type": "display_data",
          "data": {
            "text/plain": [
              "<Figure size 640x480 with 1 Axes>"
            ],
            "image/png": "[encoded data removed]"
          },
          "metadata": {}
        }
      ]
    }
  ]
}