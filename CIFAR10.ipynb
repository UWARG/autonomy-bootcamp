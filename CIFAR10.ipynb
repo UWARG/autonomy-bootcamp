{
  "nbformat": 4,
  "nbformat_minor": 0,
  "metadata": {
    "colab": {
      "provenance": [],
      "machine_shape": "hm",
      "gpuType": "A100"
    },
    "kernelspec": {
      "name": "python3",
      "display_name": "Python 3"
    },
    "language_info": {
      "name": "python"
    },
    "accelerator": "GPU"
  },
  "cells": [
    {
      "cell_type": "code",
      "execution_count": 1,
      "metadata": {
        "id": "39OHmrhYcCYJ"
      },
      "outputs": [],
      "source": [
        "#importing Libraries\n",
        "\n",
        "import numpy as np\n",
        "import tensorflow as tf\n",
        "import torch\n",
        "import scipy\n",
        "import matplotlib.pyplot as plt\n",
        "\n",
        "import torch\n",
        "import torch.nn as nn\n",
        "import torch.optim as optim\n",
        "import torchvision\n",
        "import torchvision.transforms as transforms\n",
        "import torch.nn.functional as F\n",
        "\n",
        "\n"
      ]
    },
    {
      "cell_type": "code",
      "source": [
        "#converting image into tensor\n",
        "transform = transforms.Compose(\n",
        "    [transforms.ToTensor(),\n",
        "     transforms.Normalize((0.5, 0.5, 0.5), (0.5, 0.5, 0.5))])\n",
        "\n",
        "\n",
        "\n",
        "\n",
        "# Load the entire training dataset\n",
        "full_trainset = torchvision.datasets.CIFAR10(root='./data', train=True,\n",
        "                                        download=True, transform=transform)\n",
        "\n",
        "# Split the data into training and validation sets\n",
        "train_size = int(0.8 * len(full_trainset))\n",
        "valid_size = len(full_trainset) - train_size\n",
        "trainset, validset = torch.utils.data.random_split(full_trainset, [train_size, valid_size])\n",
        "\n",
        "trainloader = torch.utils.data.DataLoader(trainset, batch_size=4,\n",
        "                                          shuffle=True, num_workers=2)\n",
        "\n",
        "validloader = torch.utils.data.DataLoader(validset, batch_size=4,\n",
        "                                          shuffle=False, num_workers=2)\n",
        "\n",
        "#testset + labels\n",
        "testset = torchvision.datasets.CIFAR10(root='./data', train=False,\n",
        "                                       download=True, transform=transform)\n",
        "testloader = torch.utils.data.DataLoader(testset, batch_size=4,\n",
        "                                         shuffle=False, num_workers=2)\n",
        "\n",
        "classes = ('plane', 'car', 'bird', 'cat', 'deer', 'dog', 'frog', 'horse', 'ship', 'truck')\n",
        "\n"
      ],
      "metadata": {
        "id": "OseODtsIcEMd",
        "colab": {
          "base_uri": "https://localhost:8080/"
        },
        "outputId": "24a410bb-4a04-444b-f2c9-9490dbf168d5"
      },
      "execution_count": 2,
      "outputs": [
        {
          "output_type": "stream",
          "name": "stdout",
          "text": [
            "Downloading https://www.cs.toronto.edu/~kriz/cifar-10-python.tar.gz to ./data/cifar-10-python.tar.gz\n"
          ]
        },
        {
          "output_type": "stream",
          "name": "stderr",
          "text": [
            "100%|██████████| 170498071/170498071 [00:12<00:00, 13157960.67it/s]\n"
          ]
        },
        {
          "output_type": "stream",
          "name": "stdout",
          "text": [
            "Extracting ./data/cifar-10-python.tar.gz to ./data\n",
            "Files already downloaded and verified\n"
          ]
        }
      ]
    },
    {
      "cell_type": "code",
      "source": [
        "#CNN architecture\n",
        "class Net(nn.Module):\n",
        "    def __init__(self):\n",
        "        super(Net, self).__init__()\n",
        "\n",
        "        self.conv1 = nn.Conv2d(3, 32, 5, padding=2)\n",
        "        self.pool = nn.MaxPool2d(2, 2)\n",
        "        self.conv2 = nn.Conv2d(32, 64, 5, padding=2)\n",
        "        self.conv3 = nn.Conv2d(64, 128, 3,  padding=2)\n",
        "        self.conv4 = nn.Conv2d(128, 256, 3, padding=2)\n",
        "        self.conv5 = nn.Conv2d(256, 512, 3, padding=2)\n",
        "\n",
        "        self.fc1 = nn.Linear(2048, 256)\n",
        "        self.fc2 = nn.Linear(256, 64)\n",
        "        self.fc3 = nn.Linear(64, 10)\n",
        "\n",
        "        self.dropout = nn.Dropout(0.5)\n",
        "    def forward(self, x):\n",
        "        x = self.pool(F.leaky_relu(self.conv1(x)))\n",
        "        x = self.pool(F.leaky_relu(self.conv2(x)))\n",
        "        x = self.pool(F.leaky_relu(self.conv3(x)))\n",
        "        x = self.pool(F.leaky_relu(self.conv4(x)))\n",
        "        x = self.pool(F.leaky_relu(self.conv5(x)))\n",
        "\n",
        "        x = x.view(-1, 2048)\n",
        "        x = self.dropout(x)\n",
        "        x = F.leaky_relu(self.fc1(x))\n",
        "        x = self.dropout(x)\n",
        "        x = F.leaky_relu(self.fc2(x))\n",
        "        x = self.dropout(x)\n",
        "        x = self.fc3(x)\n",
        "        return x\n"
      ],
      "metadata": {
        "id": "0fX7Izc6ie_u"
      },
      "execution_count": 15,
      "outputs": []
    },
    {
      "cell_type": "code",
      "source": [
        "\n",
        "\n"
      ],
      "metadata": {
        "id": "3CYrHmPgihJ2"
      },
      "execution_count": 4,
      "outputs": []
    },
    {
      "cell_type": "code",
      "source": [
        "net = Net()\n",
        "\n",
        "#setting cost to crossentropyloss and choosing optimizer\n",
        "criterion = nn.CrossEntropyLoss()\n",
        "optimizer = optim.SGD(net.parameters(), lr=0.001, momentum=0.9)\n",
        "\n",
        "\n",
        "valid_loss_min = np.Inf  # set initial \"min\" to infinity\n",
        "patience = 5  # number of epochs with no improvement after which training will be stopped\n",
        "n_epochs_stop = 0\n",
        "\n",
        "train_losses = []\n",
        "valid_losses = []\n",
        "\n",
        "for epoch in range(20):  # loop over the dataset multiple times\n",
        "    train_loss = 0.0\n",
        "    valid_loss = 0.0\n",
        "\n",
        "    ###################\n",
        "    # training the model #\n",
        "    ###################\n",
        "    net.train()\n",
        "    for i, data in enumerate(trainloader, 0):\n",
        "        inputs, labels = data\n",
        "        optimizer.zero_grad()\n",
        "        outputs = net(inputs)\n",
        "        loss = criterion(outputs, labels)\n",
        "        loss.backward()\n",
        "        optimizer.step()\n",
        "        train_loss += loss.item() * inputs.size(0)\n",
        "\n",
        "    ######################\n",
        "    # validating the model #\n",
        "    ######################\n",
        "    net.eval()\n",
        "    for i, data in enumerate(validloader, 0):\n",
        "        inputs, labels = data\n",
        "        outputs = net(inputs)\n",
        "        loss = criterion(outputs, labels)\n",
        "        valid_loss += loss.item() * inputs.size(0)\n",
        "\n",
        "    # calculate average losses\n",
        "    train_loss = train_loss/len(trainloader.sampler)\n",
        "    valid_loss = valid_loss/len(validloader.sampler)\n",
        "\n",
        "    train_losses.append(train_loss)\n",
        "    valid_losses.append(valid_loss)\n",
        "\n",
        "    # print training/validation statistics\n",
        "    print('Epoch: {} \\tTraining Loss: {:.6f} \\tValidation Loss: {:.6f}'.format(\n",
        "        epoch+1,\n",
        "        train_loss,\n",
        "        valid_loss\n",
        "        ))\n",
        "\n",
        "    # save model if validation loss has decreased\n",
        "    if valid_loss <= valid_loss_min:\n",
        "        print('Validation loss decreased ({:.6f} --> {:.6f}).  Saving model ...'.format(\n",
        "        valid_loss_min,\n",
        "        valid_loss))\n",
        "        torch.save(net.state_dict(), 'model_cifar.pt')\n",
        "        valid_loss_min = valid_loss\n",
        "        n_epochs_stop = 0\n",
        "    else:\n",
        "        n_epochs_stop += 1\n",
        "        if n_epochs_stop >= patience:\n",
        "            print('Early stopping!')\n",
        "            break\n",
        "\n",
        "print('Finished Training')\n"
      ],
      "metadata": {
        "colab": {
          "base_uri": "https://localhost:8080/"
        },
        "id": "-TKetvEni-ws",
        "outputId": "8965f651-017c-4336-f79b-d830f5987a5a"
      },
      "execution_count": 16,
      "outputs": [
        {
          "output_type": "stream",
          "name": "stdout",
          "text": [
            "Epoch: 1 \tTraining Loss: 2.214979 \tValidation Loss: 1.914792\n",
            "Validation loss decreased (inf --> 1.914792).  Saving model ...\n",
            "Epoch: 2 \tTraining Loss: 1.826521 \tValidation Loss: 1.703062\n",
            "Validation loss decreased (1.914792 --> 1.703062).  Saving model ...\n",
            "Epoch: 3 \tTraining Loss: 1.612158 \tValidation Loss: 1.464862\n",
            "Validation loss decreased (1.703062 --> 1.464862).  Saving model ...\n",
            "Epoch: 4 \tTraining Loss: 1.413573 \tValidation Loss: 1.243866\n",
            "Validation loss decreased (1.464862 --> 1.243866).  Saving model ...\n",
            "Epoch: 5 \tTraining Loss: 1.221155 \tValidation Loss: 1.131174\n",
            "Validation loss decreased (1.243866 --> 1.131174).  Saving model ...\n",
            "Epoch: 6 \tTraining Loss: 1.071801 \tValidation Loss: 1.021208\n",
            "Validation loss decreased (1.131174 --> 1.021208).  Saving model ...\n",
            "Epoch: 7 \tTraining Loss: 0.955974 \tValidation Loss: 0.969511\n",
            "Validation loss decreased (1.021208 --> 0.969511).  Saving model ...\n",
            "Epoch: 8 \tTraining Loss: 0.862657 \tValidation Loss: 0.876096\n",
            "Validation loss decreased (0.969511 --> 0.876096).  Saving model ...\n",
            "Epoch: 9 \tTraining Loss: 0.779421 \tValidation Loss: 0.890423\n",
            "Epoch: 10 \tTraining Loss: 0.716977 \tValidation Loss: 0.839305\n",
            "Validation loss decreased (0.876096 --> 0.839305).  Saving model ...\n",
            "Epoch: 11 \tTraining Loss: 0.654600 \tValidation Loss: 0.870666\n",
            "Epoch: 12 \tTraining Loss: 0.606058 \tValidation Loss: 0.890614\n",
            "Epoch: 13 \tTraining Loss: 0.561899 \tValidation Loss: 0.866665\n",
            "Epoch: 14 \tTraining Loss: 0.527207 \tValidation Loss: 0.950001\n",
            "Epoch: 15 \tTraining Loss: 0.490649 \tValidation Loss: 0.844323\n",
            "Early stopping!\n",
            "Finished Training\n"
          ]
        }
      ]
    },
    {
      "cell_type": "code",
      "source": [
        "epoch_count = range(1, 16)\n",
        "\n",
        "# Visualize loss history\n",
        "plt.plot(epoch_count, train_losses, 'r--')\n",
        "plt.plot(epoch_count, valid_losses, 'b-')\n",
        "plt.legend(['Training Loss', 'Validation Loss'])\n",
        "plt.xlabel('Epoch')\n",
        "plt.ylabel('Loss')\n",
        "\n",
        "plt.axvline(x=10, color='g', linestyle='--')\n",
        "\n",
        "# Add text\n",
        "plt.text(10, max(train_losses)/2, 'model saved after epoch 10', color='r',\n",
        "         rotation='vertical', horizontalalignment='right')\n",
        "plt.show()"
      ],
      "metadata": {
        "colab": {
          "base_uri": "https://localhost:8080/",
          "height": 449
        },
        "id": "EDXFxVgdjokB",
        "outputId": "40ed5e20-b71a-42c4-8c67-2f04ffa4fd3e"
      },
      "execution_count": 23,
      "outputs": [
        {
          "output_type": "display_data",
          "data": {
            "text/plain": [
              "<Figure size 640x480 with 1 Axes>"
            ],
            "image/png": "[encoded data removed]"
          },
          "metadata": {}
        }
      ]
    }
  ]
}
