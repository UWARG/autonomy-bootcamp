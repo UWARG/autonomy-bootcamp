{
 "cells": [
  {
   "cell_type": "markdown",
   "metadata": {},
   "source": [
    "# CIFAR-10 Classifier"
   ]
  },
  {
   "cell_type": "markdown",
   "metadata": {},
   "source": [
    "## Import modules"
   ]
  },
  {
   "cell_type": "code",
   "execution_count": 10,
   "metadata": {},
   "outputs": [
    {
     "name": "stdout",
     "output_type": "stream",
     "text": [
      "Num GPUs Available:  1\n"
     ]
    }
   ],
   "source": [
    "import tensorflow as tf\n",
    "from tensorflow.keras.datasets import cifar10\n",
    "from tensorflow.keras.models import Sequential\n",
    "from tensorflow.keras.layers import Conv2D, MaxPooling2D, Flatten, Convolution2D, Activation, Dropout, Dense\n",
    "import numpy as np\n",
    "print(\"Num GPUs Available: \", len(tf.config.experimental.list_physical_devices('GPU')))\n"
   ]
  },
  {
   "cell_type": "markdown",
   "metadata": {},
   "source": [
    "## Data info"
   ]
  },
  {
   "cell_type": "markdown",
   "metadata": {},
   "source": [
    "- **data**: The image data as Numpy arrays which are fed into a model (i.e. the x value). The data has dimensions 10,000x3,072, that is, 10,000 images with 32x32 pixels * 3 color channels (RGB)\n",
    "- **labels**: The actual labels which the model must successfully classify (i.e. the y value)"
   ]
  },
  {
   "cell_type": "markdown",
   "metadata": {},
   "source": [
    "# Load and normalize data"
   ]
  },
  {
   "cell_type": "code",
   "execution_count": 14,
   "metadata": {},
   "outputs": [],
   "source": [
    "(xTrain, yTrain), (xTest, yTest) = cifar10.load_data()\n",
    "\n",
    "# Normalize data between 0 and 1\n",
    "xTrain= xTrain/ 255.0\n",
    "xTest = xTest / 255.0"
   ]
  },
  {
   "cell_type": "markdown",
   "metadata": {},
   "source": [
    "# Build model"
   ]
  },
  {
   "cell_type": "code",
   "execution_count": 15,
   "metadata": {},
   "outputs": [
    {
     "name": "stdout",
     "output_type": "stream",
     "text": [
      "Model: \"sequential_1\"\n",
      "_________________________________________________________________\n",
      "Layer (type)                 Output Shape              Param #   \n",
      "=================================================================\n",
      "conv2d_3 (Conv2D)            (None, 30, 30, 32)        896       \n",
      "_________________________________________________________________\n",
      "max_pooling2d_2 (MaxPooling2 (None, 15, 15, 32)        0         \n",
      "_________________________________________________________________\n",
      "conv2d_4 (Conv2D)            (None, 13, 13, 64)        18496     \n",
      "_________________________________________________________________\n",
      "max_pooling2d_3 (MaxPooling2 (None, 6, 6, 64)          0         \n",
      "_________________________________________________________________\n",
      "conv2d_5 (Conv2D)            (None, 4, 4, 64)          36928     \n",
      "_________________________________________________________________\n",
      "flatten_1 (Flatten)          (None, 1024)              0         \n",
      "_________________________________________________________________\n",
      "dense_2 (Dense)              (None, 64)                65600     \n",
      "_________________________________________________________________\n",
      "dense_3 (Dense)              (None, 10)                650       \n",
      "=================================================================\n",
      "Total params: 122,570\n",
      "Trainable params: 122,570\n",
      "Non-trainable params: 0\n",
      "_________________________________________________________________\n"
     ]
    }
   ],
   "source": [
    "# Sequential CNN model\n",
    "model = Sequential()\n",
    "model.add(Conv2D(32, (3, 3), activation='relu', input_shape=(32, 32, 3)))\n",
    "model.add(MaxPooling2D((2, 2)))\n",
    "model.add(Conv2D(64, (3, 3), activation='relu'))\n",
    "model.add(MaxPooling2D((2, 2)))\n",
    "model.add(Conv2D(64, (3, 3), activation='relu'))\n",
    "model.add(Flatten())\n",
    "model.add(Dense(64, activation='relu'))\n",
    "model.add(Dense(10))\n",
    "model.summary()"
   ]
  },
  {
   "cell_type": "markdown",
   "metadata": {},
   "source": [
    "# Train model"
   ]
  },
  {
   "cell_type": "code",
   "execution_count": 16,
   "metadata": {},
   "outputs": [
    {
     "name": "stdout",
     "output_type": "stream",
     "text": [
      "Epoch 1/1000\n",
      "1563/1563 [==============================] - 5s 3ms/step - loss: 1.5259 - accuracy: 0.4452 - val_loss: 1.2518 - val_accuracy: 0.5466\n",
      "Epoch 2/1000\n",
      "1563/1563 [==============================] - 5s 3ms/step - loss: 1.1604 - accuracy: 0.5862 - val_loss: 1.1568 - val_accuracy: 0.5867\n",
      "Epoch 3/1000\n",
      "1563/1563 [==============================] - 5s 3ms/step - loss: 1.0101 - accuracy: 0.6423 - val_loss: 0.9696 - val_accuracy: 0.6608\n",
      "Epoch 4/1000\n",
      "1563/1563 [==============================] - 5s 3ms/step - loss: 0.9121 - accuracy: 0.6792 - val_loss: 0.9727 - val_accuracy: 0.6588\n",
      "Epoch 5/1000\n",
      "1563/1563 [==============================] - 5s 3ms/step - loss: 0.8414 - accuracy: 0.7029 - val_loss: 0.9415 - val_accuracy: 0.6728\n",
      "Epoch 6/1000\n",
      "1563/1563 [==============================] - 4s 3ms/step - loss: 0.7786 - accuracy: 0.7263 - val_loss: 0.9057 - val_accuracy: 0.6928\n",
      "Epoch 7/1000\n",
      "1563/1563 [==============================] - 4s 3ms/step - loss: 0.7313 - accuracy: 0.7437 - val_loss: 0.8483 - val_accuracy: 0.7082\n",
      "Epoch 8/1000\n",
      "1563/1563 [==============================] - 4s 3ms/step - loss: 0.6894 - accuracy: 0.7574 - val_loss: 0.8274 - val_accuracy: 0.7155\n",
      "Epoch 9/1000\n",
      "1563/1563 [==============================] - 4s 3ms/step - loss: 0.6489 - accuracy: 0.7725 - val_loss: 0.8533 - val_accuracy: 0.7134\n",
      "Epoch 10/1000\n",
      "1563/1563 [==============================] - 5s 3ms/step - loss: 0.6140 - accuracy: 0.7835 - val_loss: 0.8712 - val_accuracy: 0.7174\n",
      "Epoch 11/1000\n",
      "1563/1563 [==============================] - 5s 3ms/step - loss: 0.5802 - accuracy: 0.7935 - val_loss: 0.8622 - val_accuracy: 0.7151\n",
      "Epoch 12/1000\n",
      "1563/1563 [==============================] - 5s 3ms/step - loss: 0.5548 - accuracy: 0.8025 - val_loss: 0.9287 - val_accuracy: 0.6968\n",
      "Epoch 13/1000\n",
      "1563/1563 [==============================] - 5s 3ms/step - loss: 0.5260 - accuracy: 0.8141 - val_loss: 0.8951 - val_accuracy: 0.7163\n",
      "Epoch 14/1000\n",
      "1563/1563 [==============================] - 5s 3ms/step - loss: 0.4991 - accuracy: 0.8230 - val_loss: 0.9143 - val_accuracy: 0.7162\n",
      "Epoch 15/1000\n",
      "1563/1563 [==============================] - 5s 3ms/step - loss: 0.4703 - accuracy: 0.8335 - val_loss: 0.9770 - val_accuracy: 0.7032\n",
      "Epoch 16/1000\n",
      "1563/1563 [==============================] - 4s 3ms/step - loss: 0.4485 - accuracy: 0.8403 - val_loss: 0.9759 - val_accuracy: 0.7031\n",
      "Epoch 17/1000\n",
      "1563/1563 [==============================] - 5s 3ms/step - loss: 0.4248 - accuracy: 0.8473 - val_loss: 0.9999 - val_accuracy: 0.7025\n",
      "Epoch 18/1000\n",
      "1563/1563 [==============================] - 5s 3ms/step - loss: 0.4057 - accuracy: 0.8557 - val_loss: 1.0593 - val_accuracy: 0.7061\n",
      "Epoch 19/1000\n",
      "1563/1563 [==============================] - 5s 3ms/step - loss: 0.3849 - accuracy: 0.8611 - val_loss: 1.0279 - val_accuracy: 0.7085\n",
      "Epoch 20/1000\n",
      "1563/1563 [==============================] - 5s 3ms/step - loss: 0.3621 - accuracy: 0.8705 - val_loss: 1.0975 - val_accuracy: 0.7099\n",
      "Epoch 21/1000\n",
      "1563/1563 [==============================] - 5s 3ms/step - loss: 0.3481 - accuracy: 0.8749 - val_loss: 1.1305 - val_accuracy: 0.7099\n",
      "Epoch 22/1000\n",
      "1563/1563 [==============================] - 5s 3ms/step - loss: 0.3310 - accuracy: 0.8829 - val_loss: 1.1362 - val_accuracy: 0.7095\n",
      "Epoch 23/1000\n",
      "1563/1563 [==============================] - 5s 3ms/step - loss: 0.3047 - accuracy: 0.8904 - val_loss: 1.2609 - val_accuracy: 0.6936\n",
      "Epoch 24/1000\n",
      "1563/1563 [==============================] - 5s 3ms/step - loss: 0.3006 - accuracy: 0.8901 - val_loss: 1.2456 - val_accuracy: 0.6993\n",
      "Epoch 25/1000\n",
      "1563/1563 [==============================] - 5s 3ms/step - loss: 0.2791 - accuracy: 0.8989 - val_loss: 1.3349 - val_accuracy: 0.6970\n",
      "Epoch 26/1000\n",
      " 648/1563 [===========>..................] - ETA: 2s - loss: 0.2428 - accuracy: 0.9146"
     ]
    },
    {
     "ename": "KeyboardInterrupt",
     "evalue": "",
     "output_type": "error",
     "traceback": [
      "\u001b[0;31m---------------------------------------------------------------------------\u001b[0m",
      "\u001b[0;31mKeyboardInterrupt\u001b[0m                         Traceback (most recent call last)",
      "\u001b[0;32m<ipython-input-16-f2acdbe2cecf>\u001b[0m in \u001b[0;36m<module>\u001b[0;34m\u001b[0m\n\u001b[1;32m      3\u001b[0m               metrics=['accuracy'])\n\u001b[1;32m      4\u001b[0m \u001b[0;34m\u001b[0m\u001b[0m\n\u001b[0;32m----> 5\u001b[0;31m history = model.fit(xTrain, yTrain, epochs=1000, \n\u001b[0m\u001b[1;32m      6\u001b[0m                     validation_data=(xTest, yTest))\n",
      "\u001b[0;32m~/.local/lib/python3.8/site-packages/tensorflow/python/keras/engine/training.py\u001b[0m in \u001b[0;36m_method_wrapper\u001b[0;34m(self, *args, **kwargs)\u001b[0m\n\u001b[1;32m    106\u001b[0m   \u001b[0;32mdef\u001b[0m \u001b[0m_method_wrapper\u001b[0m\u001b[0;34m(\u001b[0m\u001b[0mself\u001b[0m\u001b[0;34m,\u001b[0m \u001b[0;34m*\u001b[0m\u001b[0margs\u001b[0m\u001b[0;34m,\u001b[0m \u001b[0;34m**\u001b[0m\u001b[0mkwargs\u001b[0m\u001b[0;34m)\u001b[0m\u001b[0;34m:\u001b[0m\u001b[0;34m\u001b[0m\u001b[0;34m\u001b[0m\u001b[0m\n\u001b[1;32m    107\u001b[0m     \u001b[0;32mif\u001b[0m \u001b[0;32mnot\u001b[0m \u001b[0mself\u001b[0m\u001b[0;34m.\u001b[0m\u001b[0m_in_multi_worker_mode\u001b[0m\u001b[0;34m(\u001b[0m\u001b[0;34m)\u001b[0m\u001b[0;34m:\u001b[0m  \u001b[0;31m# pylint: disable=protected-access\u001b[0m\u001b[0;34m\u001b[0m\u001b[0;34m\u001b[0m\u001b[0m\n\u001b[0;32m--> 108\u001b[0;31m       \u001b[0;32mreturn\u001b[0m \u001b[0mmethod\u001b[0m\u001b[0;34m(\u001b[0m\u001b[0mself\u001b[0m\u001b[0;34m,\u001b[0m \u001b[0;34m*\u001b[0m\u001b[0margs\u001b[0m\u001b[0;34m,\u001b[0m \u001b[0;34m**\u001b[0m\u001b[0mkwargs\u001b[0m\u001b[0;34m)\u001b[0m\u001b[0;34m\u001b[0m\u001b[0;34m\u001b[0m\u001b[0m\n\u001b[0m\u001b[1;32m    109\u001b[0m \u001b[0;34m\u001b[0m\u001b[0m\n\u001b[1;32m    110\u001b[0m     \u001b[0;31m# Running inside `run_distribute_coordinator` already.\u001b[0m\u001b[0;34m\u001b[0m\u001b[0;34m\u001b[0m\u001b[0;34m\u001b[0m\u001b[0m\n",
      "\u001b[0;32m~/.local/lib/python3.8/site-packages/tensorflow/python/keras/engine/training.py\u001b[0m in \u001b[0;36mfit\u001b[0;34m(self, x, y, batch_size, epochs, verbose, callbacks, validation_split, validation_data, shuffle, class_weight, sample_weight, initial_epoch, steps_per_epoch, validation_steps, validation_batch_size, validation_freq, max_queue_size, workers, use_multiprocessing)\u001b[0m\n\u001b[1;32m   1096\u001b[0m                 batch_size=batch_size):\n\u001b[1;32m   1097\u001b[0m               \u001b[0mcallbacks\u001b[0m\u001b[0;34m.\u001b[0m\u001b[0mon_train_batch_begin\u001b[0m\u001b[0;34m(\u001b[0m\u001b[0mstep\u001b[0m\u001b[0;34m)\u001b[0m\u001b[0;34m\u001b[0m\u001b[0;34m\u001b[0m\u001b[0m\n\u001b[0;32m-> 1098\u001b[0;31m               \u001b[0mtmp_logs\u001b[0m \u001b[0;34m=\u001b[0m \u001b[0mtrain_function\u001b[0m\u001b[0;34m(\u001b[0m\u001b[0miterator\u001b[0m\u001b[0;34m)\u001b[0m\u001b[0;34m\u001b[0m\u001b[0;34m\u001b[0m\u001b[0m\n\u001b[0m\u001b[1;32m   1099\u001b[0m               \u001b[0;32mif\u001b[0m \u001b[0mdata_handler\u001b[0m\u001b[0;34m.\u001b[0m\u001b[0mshould_sync\u001b[0m\u001b[0;34m:\u001b[0m\u001b[0;34m\u001b[0m\u001b[0;34m\u001b[0m\u001b[0m\n\u001b[1;32m   1100\u001b[0m                 \u001b[0mcontext\u001b[0m\u001b[0;34m.\u001b[0m\u001b[0masync_wait\u001b[0m\u001b[0;34m(\u001b[0m\u001b[0;34m)\u001b[0m\u001b[0;34m\u001b[0m\u001b[0;34m\u001b[0m\u001b[0m\n",
      "\u001b[0;32m~/.local/lib/python3.8/site-packages/tensorflow/python/eager/def_function.py\u001b[0m in \u001b[0;36m__call__\u001b[0;34m(self, *args, **kwds)\u001b[0m\n\u001b[1;32m    762\u001b[0m \u001b[0;34m\u001b[0m\u001b[0m\n\u001b[1;32m    763\u001b[0m     \u001b[0mtracing_count\u001b[0m \u001b[0;34m=\u001b[0m \u001b[0mself\u001b[0m\u001b[0;34m.\u001b[0m\u001b[0m_get_tracing_count\u001b[0m\u001b[0;34m(\u001b[0m\u001b[0;34m)\u001b[0m\u001b[0;34m\u001b[0m\u001b[0;34m\u001b[0m\u001b[0m\n\u001b[0;32m--> 764\u001b[0;31m     \u001b[0;32mwith\u001b[0m \u001b[0mtrace\u001b[0m\u001b[0;34m.\u001b[0m\u001b[0mTrace\u001b[0m\u001b[0;34m(\u001b[0m\u001b[0mself\u001b[0m\u001b[0;34m.\u001b[0m\u001b[0m_name\u001b[0m\u001b[0;34m)\u001b[0m \u001b[0;32mas\u001b[0m \u001b[0mtm\u001b[0m\u001b[0;34m:\u001b[0m\u001b[0;34m\u001b[0m\u001b[0;34m\u001b[0m\u001b[0m\n\u001b[0m\u001b[1;32m    765\u001b[0m       if self._experimental_compile and (\n\u001b[1;32m    766\u001b[0m           not control_flow_util.GraphOrParentsInXlaContext(\n",
      "\u001b[0;32m~/.local/lib/python3.8/site-packages/tensorflow/python/profiler/trace.py\u001b[0m in \u001b[0;36m__enter__\u001b[0;34m(self)\u001b[0m\n\u001b[1;32m     83\u001b[0m       \u001b[0mself\u001b[0m\u001b[0;34m.\u001b[0m\u001b[0m_traceme\u001b[0m \u001b[0;34m=\u001b[0m \u001b[0;32mNone\u001b[0m\u001b[0;34m\u001b[0m\u001b[0;34m\u001b[0m\u001b[0m\n\u001b[1;32m     84\u001b[0m \u001b[0;34m\u001b[0m\u001b[0m\n\u001b[0;32m---> 85\u001b[0;31m   \u001b[0;32mdef\u001b[0m \u001b[0m__enter__\u001b[0m\u001b[0;34m(\u001b[0m\u001b[0mself\u001b[0m\u001b[0;34m)\u001b[0m\u001b[0;34m:\u001b[0m\u001b[0;34m\u001b[0m\u001b[0;34m\u001b[0m\u001b[0m\n\u001b[0m\u001b[1;32m     86\u001b[0m     \u001b[0;31m# Starting the TraceMe clock here would require an extra Python->C++ call.\u001b[0m\u001b[0;34m\u001b[0m\u001b[0;34m\u001b[0m\u001b[0;34m\u001b[0m\u001b[0m\n\u001b[1;32m     87\u001b[0m     \u001b[0;32mreturn\u001b[0m \u001b[0mself\u001b[0m\u001b[0;34m\u001b[0m\u001b[0;34m\u001b[0m\u001b[0m\n",
      "\u001b[0;31mKeyboardInterrupt\u001b[0m: "
     ]
    }
   ],
   "source": [
    "model.compile(optimizer='adam',\n",
    "              loss=tf.keras.losses.SparseCategoricalCrossentropy(from_logits=True),\n",
    "              metrics=['accuracy'])\n",
    "\n",
    "history = model.fit(xTrain, yTrain, epochs=1000, \n",
    "                    validation_data=(xTest, yTest))"
   ]
  },
  {
   "cell_type": "markdown",
   "metadata": {},
   "source": [
    "# Evaluate model"
   ]
  }
 ],
 "metadata": {
  "kernelspec": {
   "display_name": "Python 3",
   "language": "python",
   "name": "python3"
  },
  "language_info": {
   "codemirror_mode": {
    "name": "ipython",
    "version": 3
   },
   "file_extension": ".py",
   "mimetype": "text/x-python",
   "name": "python",
   "nbconvert_exporter": "python",
   "pygments_lexer": "ipython3",
   "version": "3.8.3"
  }
 },
 "nbformat": 4,
 "nbformat_minor": 4
}
