{
  "nbformat": 4,
  "nbformat_minor": 0,
  "metadata": {
    "colab": {
      "name": "UWARG-ComputerVisionBootcamp.ipynb",
      "provenance": [],
      "collapsed_sections": [],
      "authorship_tag": "ABX9TyOW1/6sRxXY0uyOIwJh6F3r",
      "include_colab_link": true
    },
    "kernelspec": {
      "name": "python3",
      "display_name": "Python 3"
    },
    "language_info": {
      "name": "python"
    }
  },
  "cells": [
    {
      "cell_type": "markdown",
      "metadata": {
        "id": "view-in-github",
        "colab_type": "text"
      },
      "source": [
        "<a href=\"https://colab.research.google.com/github/kerry918/computer-vision-bootcamp/blob/kerry-bootcamp/UWARG_ComputerVisionBootcamp.ipynb\" target=\"_parent\"><img src=\"https://colab.research.google.com/assets/colab-badge.svg\" alt=\"Open In Colab\"/></a>"
      ]
    },
    {
      "cell_type": "code",
      "execution_count": 1,
      "metadata": {
        "id": "D9mxK-Hn4k-J"
      },
      "outputs": [],
      "source": [
        "import tensorflow as tf\n",
        "from tensorflow.keras import datasets, layers, models\n",
        "import matplotlib.pyplot as plt\n",
        "import numpy as np"
      ]
    },
    {
      "cell_type": "markdown",
      "source": [
        "Load Data from Datasets"
      ],
      "metadata": {
        "id": "pSLZ5ZfF5sqp"
      }
    },
    {
      "cell_type": "code",
      "source": [
        "(X_train, y_train), (X_test, y_test) = datasets.cifar10.load_data()"
      ],
      "metadata": {
        "colab": {
          "base_uri": "https://localhost:8080/"
        },
        "id": "mGw4ccnz5Q2A",
        "outputId": "94295053-cd2a-4682-c639-bff8d4e9efee"
      },
      "execution_count": 2,
      "outputs": [
        {
          "output_type": "stream",
          "name": "stdout",
          "text": [
            "Downloading data from https://www.cs.toronto.edu/~kriz/cifar-10-python.tar.gz\n",
            "170500096/170498071 [==============================] - 4s 0us/step\n",
            "170508288/170498071 [==============================] - 4s 0us/step\n"
          ]
        }
      ]
    },
    {
      "cell_type": "markdown",
      "source": [
        "Check shape of data"
      ],
      "metadata": {
        "id": "Aac94isx5ypU"
      }
    },
    {
      "cell_type": "code",
      "source": [
        "X_train.shape"
      ],
      "metadata": {
        "colab": {
          "base_uri": "https://localhost:8080/"
        },
        "id": "7U3NjZoM5op3",
        "outputId": "9754ca58-d4da-4741-9056-b7d7a58d9885"
      },
      "execution_count": 3,
      "outputs": [
        {
          "output_type": "execute_result",
          "data": {
            "text/plain": [
              "(50000, 32, 32, 3)"
            ]
          },
          "metadata": {},
          "execution_count": 3
        }
      ]
    },
    {
      "cell_type": "code",
      "source": [
        "X_test.shape"
      ],
      "metadata": {
        "colab": {
          "base_uri": "https://localhost:8080/"
        },
        "id": "D2C7eP_p54g0",
        "outputId": "d6a08b3f-5557-4406-fc71-036fbc6b3718"
      },
      "execution_count": 4,
      "outputs": [
        {
          "output_type": "execute_result",
          "data": {
            "text/plain": [
              "(10000, 32, 32, 3)"
            ]
          },
          "metadata": {},
          "execution_count": 4
        }
      ]
    },
    {
      "cell_type": "markdown",
      "source": [
        "Plot the image to check"
      ],
      "metadata": {
        "id": "AvAxOixS6IzK"
      }
    },
    {
      "cell_type": "code",
      "source": [
        "plt.figure(figsize = (15, 2))\n",
        "plt.imshow(X_train[1])"
      ],
      "metadata": {
        "colab": {
          "base_uri": "https://localhost:8080/",
          "height": 176
        },
        "id": "HuojIrG05_BK",
        "outputId": "364e02fc-ed4e-443f-cc98-ccd344a67c07"
      },
      "execution_count": 11,
      "outputs": [
        {
          "output_type": "execute_result",
          "data": {
            "text/plain": [
              "<matplotlib.image.AxesImage at 0x7f983fa42fd0>"
            ]
          },
          "metadata": {},
          "execution_count": 11
        },
        {
          "output_type": "display_data",
          "data": {
            "image/png": "[encoded data removed]",
            "text/plain": [
              "<Figure size 1080x144 with 1 Axes>"
            ]
          },
          "metadata": {
            "needs_background": "light"
          }
        }
      ]
    },
    {
      "cell_type": "markdown",
      "source": [
        "Create a function to plot images"
      ],
      "metadata": {
        "id": "9I6DuOvL7jff"
      }
    },
    {
      "cell_type": "code",
      "source": [
        "# Create a classes array for the labels\n",
        "classes = [\"airplane\", \"automobile\", \"bird\", \"cat\", \"deer\", \"dog\", \"frog\", \"horse\", \"ship\", \"truck\"]\n",
        "# Reshape y_train for easier access\n",
        "y_train = y_train.reshape(-1,)\n",
        "y_test = y_test.reshape(-1,)\n",
        "y_train[:5]"
      ],
      "metadata": {
        "colab": {
          "base_uri": "https://localhost:8080/"
        },
        "id": "qI2FsiLm7ypa",
        "outputId": "777c86b9-73d3-419d-93bb-307489db1a92"
      },
      "execution_count": 24,
      "outputs": [
        {
          "output_type": "execute_result",
          "data": {
            "text/plain": [
              "array([6, 9, 9, 4, 1], dtype=uint8)"
            ]
          },
          "metadata": {},
          "execution_count": 24
        }
      ]
    },
    {
      "cell_type": "code",
      "source": [
        "def plot_image(X, y, index):\n",
        "  plt.figure(figsize = (15, 2))\n",
        "  plt.imshow(X[index])\n",
        "  plt.xlabel(classes[y[index]])"
      ],
      "metadata": {
        "id": "g15olavP6ZYb"
      },
      "execution_count": 15,
      "outputs": []
    },
    {
      "cell_type": "code",
      "source": [
        "plot_image(X_train, y_train, 1)"
      ],
      "metadata": {
        "colab": {
          "base_uri": "https://localhost:8080/",
          "height": 173
        },
        "id": "b8FRoRlN8S-w",
        "outputId": "35fa99c4-00c4-490e-9c9b-376c3b15ebd1"
      },
      "execution_count": 16,
      "outputs": [
        {
          "output_type": "display_data",
          "data": {
            "image/png": "[encoded data removed]",
            "text/plain": [
              "<Figure size 1080x144 with 1 Axes>"
            ]
          },
          "metadata": {
            "needs_background": "light"
          }
        }
      ]
    },
    {
      "cell_type": "markdown",
      "source": [
        "Normalize X data"
      ],
      "metadata": {
        "id": "HsbZ8n7H85Vq"
      }
    },
    {
      "cell_type": "code",
      "source": [
        "X_train = X_train / 255\n",
        "X_test = X_test / 255"
      ],
      "metadata": {
        "id": "OtzQmTN68V8o"
      },
      "execution_count": 17,
      "outputs": []
    },
    {
      "cell_type": "markdown",
      "source": [
        "Create CNN Model"
      ],
      "metadata": {
        "id": "Sybe2B3F-9Pn"
      }
    },
    {
      "cell_type": "code",
      "source": [
        "cnn = models.Sequential([\n",
        "        #cnn \n",
        "        layers.Conv2D(filters = 64, kernel_size = (3, 3), activation = 'relu', input_shape = (32, 32, 3)), # Convolutional layer (detecting the features)\n",
        "        layers.MaxPooling2D((2, 2)), # Max pooling layer\n",
        "        layers.Dropout(0.3),\n",
        "\n",
        "        layers.Conv2D(filters = 128, kernel_size = (3, 3), activation = 'relu'), # Convolutional layer (detecting the features)\n",
        "        layers.MaxPooling2D((2, 2)), # Max pooling layer\n",
        "        layers.Dropout(0.3),\n",
        "\n",
        "        #dense\n",
        "        layers.Flatten(), # Flatten layer, shape is auto detected so no need to specify here (middle layer)\n",
        "        # Deep layers\n",
        "        layers.Dense(64, activation ='relu'), # 64 neurons\n",
        "        layers.Dense(10, activation ='softmax') # 10 categories\n",
        "      ])"
      ],
      "metadata": {
        "id": "TtXcPZOJ9Bto"
      },
      "execution_count": 32,
      "outputs": []
    },
    {
      "cell_type": "code",
      "source": [
        "cnn.compile(optimizer = 'adam', \n",
        "              loss = 'sparse_categorical_crossentropy', \n",
        "              metrics = ['accuracy'])"
      ],
      "metadata": {
        "id": "NYOOLCtN_En4"
      },
      "execution_count": 33,
      "outputs": []
    },
    {
      "cell_type": "code",
      "source": [
        "cnn.fit(X_train, y_train, epochs=10)"
      ],
      "metadata": {
        "colab": {
          "base_uri": "https://localhost:8080/"
        },
        "id": "24w3XqM2CIym",
        "outputId": "6b81f5ef-3851-4156-d845-0fd8cfa136d2"
      },
      "execution_count": 34,
      "outputs": [
        {
          "output_type": "stream",
          "name": "stdout",
          "text": [
            "Epoch 1/10\n",
            "1563/1563 [==============================] - 157s 100ms/step - loss: 1.4688 - accuracy: 0.4742\n",
            "Epoch 2/10\n",
            "1563/1563 [==============================] - 155s 99ms/step - loss: 1.1331 - accuracy: 0.6047\n",
            "Epoch 3/10\n",
            "1563/1563 [==============================] - 155s 99ms/step - loss: 1.0234 - accuracy: 0.6417\n",
            "Epoch 4/10\n",
            "1563/1563 [==============================] - 155s 99ms/step - loss: 0.9540 - accuracy: 0.6666\n",
            "Epoch 5/10\n",
            "1563/1563 [==============================] - 154s 99ms/step - loss: 0.9058 - accuracy: 0.6841\n",
            "Epoch 6/10\n",
            "1563/1563 [==============================] - 155s 99ms/step - loss: 0.8513 - accuracy: 0.7036\n",
            "Epoch 7/10\n",
            "1563/1563 [==============================] - 158s 101ms/step - loss: 0.8216 - accuracy: 0.7130\n",
            "Epoch 8/10\n",
            "1563/1563 [==============================] - 153s 98ms/step - loss: 0.7872 - accuracy: 0.7261\n",
            "Epoch 9/10\n",
            "1563/1563 [==============================] - 153s 98ms/step - loss: 0.7628 - accuracy: 0.7325\n",
            "Epoch 10/10\n",
            "1563/1563 [==============================] - 153s 98ms/step - loss: 0.7345 - accuracy: 0.7426\n"
          ]
        },
        {
          "output_type": "execute_result",
          "data": {
            "text/plain": [
              "<keras.callbacks.History at 0x7f983f8a9850>"
            ]
          },
          "metadata": {},
          "execution_count": 34
        }
      ]
    },
    {
      "cell_type": "code",
      "source": [
        "cnn.evaluate(X_test, y_test)"
      ],
      "metadata": {
        "colab": {
          "base_uri": "https://localhost:8080/"
        },
        "id": "_xAGlw3hCO6Q",
        "outputId": "0b1dd030-9371-4f19-93ae-418b8cfb059e"
      },
      "execution_count": 35,
      "outputs": [
        {
          "output_type": "stream",
          "name": "stdout",
          "text": [
            "313/313 [==============================] - 9s 27ms/step - loss: 0.8283 - accuracy: 0.7154\n"
          ]
        },
        {
          "output_type": "execute_result",
          "data": {
            "text/plain": [
              "[0.8283365964889526, 0.715399980545044]"
            ]
          },
          "metadata": {},
          "execution_count": 35
        }
      ]
    },
    {
      "cell_type": "code",
      "source": [
        "plot_image(X_test, y_test, 1)"
      ],
      "metadata": {
        "colab": {
          "base_uri": "https://localhost:8080/",
          "height": 173
        },
        "id": "W_69n2poFBfu",
        "outputId": "b3b3f151-f582-40c7-d8d0-5fbbf030c170"
      },
      "execution_count": 25,
      "outputs": [
        {
          "output_type": "display_data",
          "data": {
            "image/png": "[encoded data removed]",
            "text/plain": [
              "<Figure size 1080x144 with 1 Axes>"
            ]
          },
          "metadata": {
            "needs_background": "light"
          }
        }
      ]
    },
    {
      "cell_type": "code",
      "source": [
        "y_pred = cnn.predict(X_test)\n",
        "y_pred[:5]\n",
        "y_classes = [np.argmax(element) for element in y_pred]\n",
        "y_classes[:5]"
      ],
      "metadata": {
        "colab": {
          "base_uri": "https://localhost:8080/"
        },
        "id": "JSAGq2IVFSFw",
        "outputId": "558b0a2f-12b5-425e-bf3f-07d8d1195c8b"
      },
      "execution_count": 36,
      "outputs": [
        {
          "output_type": "execute_result",
          "data": {
            "text/plain": [
              "[3, 8, 8, 0, 6]"
            ]
          },
          "metadata": {},
          "execution_count": 36
        }
      ]
    },
    {
      "cell_type": "code",
      "source": [
        "y_test[:5]"
      ],
      "metadata": {
        "colab": {
          "base_uri": "https://localhost:8080/"
        },
        "id": "sTFUxmubFhho",
        "outputId": "72282072-dcf4-40d7-9572-be6937098a12"
      },
      "execution_count": 37,
      "outputs": [
        {
          "output_type": "execute_result",
          "data": {
            "text/plain": [
              "array([3, 8, 8, 0, 6], dtype=uint8)"
            ]
          },
          "metadata": {},
          "execution_count": 37
        }
      ]
    },
    {
      "cell_type": "code",
      "source": [
        "classes[y_classes[1]]"
      ],
      "metadata": {
        "colab": {
          "base_uri": "https://localhost:8080/",
          "height": 35
        },
        "id": "FS2BeEKmGRP_",
        "outputId": "b6e0bfcb-7133-43f6-8829-15daa67b72b6"
      },
      "execution_count": 30,
      "outputs": [
        {
          "output_type": "execute_result",
          "data": {
            "application/vnd.google.colaboratory.intrinsic+json": {
              "type": "string"
            },
            "text/plain": [
              "'ship'"
            ]
          },
          "metadata": {},
          "execution_count": 30
        }
      ]
    },
    {
      "cell_type": "code",
      "source": [
        ""
      ],
      "metadata": {
        "id": "uuw7t0CnG2P0"
      },
      "execution_count": null,
      "outputs": []
    }
  ]
}