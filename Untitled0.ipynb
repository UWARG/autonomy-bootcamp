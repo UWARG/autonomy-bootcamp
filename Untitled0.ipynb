{
  "cells": [
    {
      "cell_type": "markdown",
      "metadata": {
        "id": "view-in-github",
        "colab_type": "text"
      },
      "source": [
        "<a href=\"https://colab.research.google.com/github/omarkham/computer-vision-bootcamp/blob/master/Untitled0.ipynb\" target=\"_parent\"><img src=\"https://colab.research.google.com/assets/colab-badge.svg\" alt=\"Open In Colab\"/></a>"
      ]
    },
    {
      "cell_type": "code",
      "execution_count": null,
      "metadata": {
        "id": "An0aZ6kudedd"
      },
      "outputs": [],
      "source": [
        "import matplotlib.pyplot as plt\n",
        "import tensorflow as tf\n",
        "from tensorflow.keras import datasets, layers, models"
      ]
    },
    {
      "cell_type": "code",
      "execution_count": null,
      "metadata": {
        "id": "S9BTXyKIdw3i"
      },
      "outputs": [],
      "source": [
        "#load the dataset\n",
        "(X_train, y_train), (X_test,y_test) = datasets.cifar10.load_data()"
      ]
    },
    {
      "cell_type": "code",
      "execution_count": null,
      "metadata": {
        "id": "2zmPGT64vTia"
      },
      "outputs": [],
      "source": [
        "#y_train is a 2D array, but we only need a 1D array\n",
        "y_train = y_train.reshape(-1,)#converting it to a 1D array"
      ]
    },
    {
      "cell_type": "code",
      "execution_count": null,
      "metadata": {
        "id": "6lDKBg3ju6uB"
      },
      "outputs": [],
      "source": [
        "classes = [\"airplane\", \"automobile\", \"bird\", \"cat\", \"deer\", \"dog\", \"frog\", \"horse\", \"ship\", \"truck\"]"
      ]
    },
    {
      "cell_type": "code",
      "execution_count": null,
      "metadata": {
        "id": "8g5JYc97v4r6"
      },
      "outputs": [],
      "source": [
        "X_train = X_train / 255.0\n",
        "X_test = X_test / 255.0\n",
        "\"\"\"\n",
        "Image has 3 channels(R,G,B), and each value in the channel can range from 0 to 255\n",
        "We need to normalize the images to a number from 0 to 1.\n",
        "Therefore to normalize in 0-->1 range, we need to divide them by 255.\n",
        "\"\"\""
      ]
    },
    {
      "cell_type": "code",
      "execution_count": null,
      "metadata": {
        "id": "3QZW9Eyh68Sh"
      },
      "outputs": [],
      "source": [
        "#convolutional neural network to train our images, best one to analyze visual imagery\n",
        "cnn = models.Sequential([\n",
        "    \n",
        "    #32 nodes, kernel size of (3,3)(the widthxheight of the filter mask)\n",
        "    layers.Conv2D(32, (3,3), activation = 'relu', input_shape=(32,32,3)),\n",
        "    #pool size of (2,2), returns the pixel with maximum value from a set of pixels within a kernel\n",
        "    layers.MaxPooling2D((2,2)),\n",
        "    #2D convolutional layer, 64 nodes, kernel size of (3,3)\n",
        "    layers.Conv2D(64, (3,3), activation = 'relu'),\n",
        "    #MaxPooling 2D layer, pool size of (2,2)\n",
        "    layers.MaxPooling2D((2,2)),\n",
        "    #flattens output to 1D\n",
        "    layers.Flatten(),\n",
        "    #dense network\n",
        "    #neurons receive output from every neuron of its preceding layer, where neurons of the dense layer perform matrix-vector multiplication(lin alg!)\n",
        "    layers.Dense(64, activation='relu'),#64 neurons (last output tensor from the convolutional base, shape is (4,4,64))\n",
        "    layers.Dense(10) #10 categories\n",
        "])"
      ]
    },
    {
      "cell_type": "code",
      "execution_count": null,
      "metadata": {
        "id": "qSaw6rdi8hKZ"
      },
      "outputs": [],
      "source": [
        "#compiling the model\n",
        "cnn.compile(optimizer = 'adam',\n",
        "              loss = tf.keras.losses.SparseCategoricalCrossentropy(from_logits = True),\n",
        "              metrics = ['accuracy'])"
      ]
    },
    {
      "cell_type": "code",
      "execution_count": null,
      "metadata": {
        "colab": {
          "base_uri": "https://localhost:8080/"
        },
        "id": "15LFoxq88uwB",
        "outputId": "b516c1ce-4d3a-4d05-8819-ef01baf06f44"
      },
      "outputs": [
        {
          "output_type": "stream",
          "name": "stdout",
          "text": [
            "Epoch 1/13\n",
            "1563/1563 [==============================] - 73s 46ms/step - loss: 1.4427 - accuracy: 0.4794 - val_loss: 1.1483 - val_accuracy: 0.6000\n",
            "Epoch 2/13\n",
            "1563/1563 [==============================] - 70s 45ms/step - loss: 1.0791 - accuracy: 0.6208 - val_loss: 1.0270 - val_accuracy: 0.6473\n",
            "Epoch 3/13\n",
            "1563/1563 [==============================] - 70s 45ms/step - loss: 0.9450 - accuracy: 0.6703 - val_loss: 0.9649 - val_accuracy: 0.6639\n",
            "Epoch 4/13\n",
            "1563/1563 [==============================] - 71s 45ms/step - loss: 0.8628 - accuracy: 0.6982 - val_loss: 0.9054 - val_accuracy: 0.6900\n",
            "Epoch 5/13\n",
            "1563/1563 [==============================] - 73s 46ms/step - loss: 0.7856 - accuracy: 0.7300 - val_loss: 0.9106 - val_accuracy: 0.6864\n",
            "Epoch 6/13\n",
            "1563/1563 [==============================] - 70s 45ms/step - loss: 0.7308 - accuracy: 0.7454 - val_loss: 0.8983 - val_accuracy: 0.6961\n",
            "Epoch 7/13\n",
            "1563/1563 [==============================] - 71s 45ms/step - loss: 0.6765 - accuracy: 0.7631 - val_loss: 0.8995 - val_accuracy: 0.6961\n",
            "Epoch 8/13\n",
            "1563/1563 [==============================] - 69s 44ms/step - loss: 0.6265 - accuracy: 0.7816 - val_loss: 0.9474 - val_accuracy: 0.6938\n",
            "Epoch 9/13\n",
            "1563/1563 [==============================] - 69s 44ms/step - loss: 0.5874 - accuracy: 0.7941 - val_loss: 0.9685 - val_accuracy: 0.6922\n",
            "Epoch 10/13\n",
            "1563/1563 [==============================] - 71s 45ms/step - loss: 0.5463 - accuracy: 0.8081 - val_loss: 0.9131 - val_accuracy: 0.7055\n",
            "Epoch 11/13\n",
            "1563/1563 [==============================] - 70s 45ms/step - loss: 0.5104 - accuracy: 0.8203 - val_loss: 0.9864 - val_accuracy: 0.7008\n",
            "Epoch 12/13\n",
            "1563/1563 [==============================] - 70s 45ms/step - loss: 0.4723 - accuracy: 0.8345 - val_loss: 0.9906 - val_accuracy: 0.6968\n",
            "Epoch 13/13\n",
            "1563/1563 [==============================] - 71s 46ms/step - loss: 0.4373 - accuracy: 0.8448 - val_loss: 1.0218 - val_accuracy: 0.6955\n"
          ]
        }
      ],
      "source": [
        "#Fit the cnn to the training data, \n",
        "#validate it with test data\n",
        "history = cnn.fit(X_train, y_train, epochs = 13, validation_data = (X_test, y_test))"
      ]
    },
    {
      "cell_type": "code",
      "execution_count": null,
      "metadata": {
        "colab": {
          "base_uri": "https://localhost:8080/"
        },
        "id": "S1ngu81881FI",
        "outputId": "2dc1bcc2-14fa-4911-ce3c-3745636614da"
      },
      "outputs": [
        {
          "output_type": "stream",
          "name": "stdout",
          "text": [
            "313/313 - 4s - loss: 1.0218 - accuracy: 0.6955 - 4s/epoch - 12ms/step\n",
            "69.55000162124634\n"
          ]
        }
      ],
      "source": [
        "#With CNN, at the end of 13 epochs, the accuracy was around 70% which is a significant improvement over ANN(especially with computation time)\n",
        "#since maxpooling reduces the image dimensions while still preserving the features.\n",
        "test_loss, test_acc = cnn.evaluate(X_test, y_test, verbose = 2)\n",
        "print(test_acc*100)"
      ]
    },
    {
      "cell_type": "markdown",
      "metadata": {
        "id": "FT6YoiWr8S-H"
      },
      "source": []
    },
    {
      "cell_type": "code",
      "execution_count": null,
      "metadata": {
        "colab": {
          "base_uri": "https://localhost:8080/",
          "height": 283
        },
        "id": "5-g1xELUoHYg",
        "outputId": "2af959fe-8c82-48fb-ed2c-cf89a659805a"
      },
      "outputs": [
        {
          "output_type": "display_data",
          "data": {
            "text/plain": [
              "<Figure size 432x288 with 1 Axes>"
            ],
            "image/png": "[encoded data removed]"
          },
          "metadata": {
            "needs_background": "light"
          }
        }
      ],
      "source": [
        "plt.plot(history.history['accuracy'], label = 'accuracy')\n",
        "plt.plot(history.history['val_accuracy'], label = 'val_accuracy')\n",
        "plt.xlabel(\"Epoch\")\n",
        "plt.ylabel(\"Accuracy\")\n",
        "plt.ylim([0.5, 1])\n",
        "plt.legend(loc='lower right')\n",
        "plt.show()"
      ]
    }
  ],
  "metadata": {
    "colab": {
      "collapsed_sections": [],
      "provenance": [],
      "authorship_tag": "ABX9TyMpg7wXnnqw274VZ+lPbtbq",
      "include_colab_link": true
    },
    "kernelspec": {
      "display_name": "Python 3",
      "name": "python3"
    },
    "language_info": {
      "name": "python"
    }
  },
  "nbformat": 4,
  "nbformat_minor": 0
}