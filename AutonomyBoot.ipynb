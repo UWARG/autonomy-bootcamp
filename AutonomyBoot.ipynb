{
  "nbformat": 4,
  "nbformat_minor": 0,
  "metadata": {
    "colab": {
      "provenance": [],
      "toc_visible": true,
      "gpuType": "T4"
    },
    "kernelspec": {
      "name": "python3",
      "display_name": "Python 3"
    },
    "language_info": {
      "name": "python"
    },
    "accelerator": "GPU",
    "gpuClass": "standard"
  },
  "cells": [
    {
      "cell_type": "code",
      "source": [
        "!git clone https://github.com/ry4n-s/autonomy-bootcamp.git"
      ],
      "metadata": {
        "colab": {
          "base_uri": "https://localhost:8080/"
        },
        "id": "2my7WYBPnydi",
        "outputId": "287ad55c-d157-4d80-aa8d-496afd7733cd"
      },
      "execution_count": 3,
      "outputs": [
        {
          "output_type": "stream",
          "name": "stdout",
          "text": [
            "fatal: destination path 'autonomy-bootcamp' already exists and is not an empty directory.\n"
          ]
        }
      ]
    },
    {
      "cell_type": "code",
      "source": [
        "!git config --global user.name \"Ryan S\"\n",
        "!git config --global user.email \"ryanstefanov04@gmail.com\""
      ],
      "metadata": {
        "id": "CGb487omoSP2"
      },
      "execution_count": 4,
      "outputs": []
    },
    {
      "cell_type": "code",
      "execution_count": 5,
      "metadata": {
        "id": "5DEoY4N6a7bx"
      },
      "outputs": [],
      "source": [
        "import numpy as np\n",
        "import matplotlib.pyplot as plt\n",
        "\n",
        "import torch\n",
        "import torchvision\n",
        "import torchvision.transforms as transforms"
      ]
    },
    {
      "cell_type": "markdown",
      "source": [
        "Import numpy and matplot so we can visualize."
      ],
      "metadata": {
        "id": "BDyPx4_Mbs3H"
      }
    },
    {
      "cell_type": "code",
      "source": [
        "transform = transforms.Compose(\n",
        "    [transforms.ToTensor(),\n",
        "     transforms.Normalize((0.5, 0.5, 0.5), (0.5, 0.5, 0.5))])\n",
        "\n",
        "batch_size = 256\n",
        "\n",
        "train_set = torchvision.datasets.CIFAR10(root='/data', train=True, download=True, transform=transform)\n",
        "train_loader = torch.utils.data.DataLoader(train_set, batch_size=batch_size, shuffle=True, num_workers=2)\n",
        "val_set = torchvision.datasets.CIFAR10(root='/data', train=False, download=True, transform=transform)\n",
        "val_loader = torch.utils.data.DataLoader(val_set, batch_size=batch_size, shuffle=True, num_workers=2)\n",
        "\n",
        "classes = ('plane', 'car', 'bird', 'cat', 'deer', 'dog', 'frog', 'horse', 'ship', 'truck')"
      ],
      "metadata": {
        "colab": {
          "base_uri": "https://localhost:8080/"
        },
        "id": "vQxUm85HcHo4",
        "outputId": "addc9a18-acfd-428d-d7a4-4b67fb9b8af8"
      },
      "execution_count": 6,
      "outputs": [
        {
          "output_type": "stream",
          "name": "stdout",
          "text": [
            "Downloading https://www.cs.toronto.edu/~kriz/cifar-10-python.tar.gz to /data/cifar-10-python.tar.gz\n"
          ]
        },
        {
          "output_type": "stream",
          "name": "stderr",
          "text": [
            "100%|██████████| 170498071/170498071 [00:03<00:00, 48050164.04it/s]\n"
          ]
        },
        {
          "output_type": "stream",
          "name": "stdout",
          "text": [
            "Extracting /data/cifar-10-python.tar.gz to /data\n",
            "Files already downloaded and verified\n"
          ]
        }
      ]
    },
    {
      "cell_type": "markdown",
      "source": [
        "The 0.5 tuples indicate an approximation of the mean and standard deviation values over (r,g,b). The CIFAR-10 dataset is available in torchvision. The train variables are used for training, and the val variables are used for validation. The classes are the different types of images we are going to use. "
      ],
      "metadata": {
        "id": "RUSg4ePadkHb"
      }
    },
    {
      "cell_type": "code",
      "source": [
        "import torch.nn as nn\n",
        "import torch.nn.functional as F\n",
        "\n",
        "class Net(nn.Module):\n",
        "\n",
        "  def __init__(self):\n",
        "    super().__init__()\n",
        "    self.conv_1 = nn.Conv2d(3, 16, 3, 1, padding = 1) #The input is a color image so 3 i/p channels, 16 filters, kernel size is set to 3 to avoid overfitting, stride is 1, padding is 1 to extract all edge features\n",
        "    self.conv_2 = nn.Conv2d(16, 32, 3, 1, padding = 1) #Double the feature maps for every convolution layer\n",
        "    self.conv_3 = nn.Conv2d(32, 64, 3, 1, padding = 1)\n",
        "    self.fc_1 = nn.Linear(4*4*64, 500) #Image size is 32*32, after three max pooling layers, it reduces to 4*4 and 64 bc our last conv layer has 64 outputs. Output nodes is 500\n",
        "    self.dropout_1 = nn.Dropout(0.2) #Reduces the chance of overfitting in training\n",
        "    self.fc_2 = nn.Linear(500, 10) #There are 10 output nodes since we have 10 different kinds of images\n",
        "\n",
        "  def forward(self, x):\n",
        "    x = F.relu(self.conv_1(x)) #Apply relu to each output of the conv layer\n",
        "    x = F.max_pool2d(x, 2, 2,) #Max pooling layer with kernel of 2 and stride of 2\n",
        "    x = F.relu(self.conv_2(x)) \n",
        "    x = F.max_pool2d(x, 2, 2,) \n",
        "    x = F.relu(self.conv_3(x)) \n",
        "    x = F.max_pool2d(x, 2, 2,)\n",
        "    x = x.view(-1, 4*4*64) #Flatten our images to 1D to input it to the fully connected layers\n",
        "    x = F.relu(self.fc_1(x))\n",
        "    x = self.dropout_1(x) #Applying dropout b/t ;ayers which exhange the highest parameters\n",
        "    x = self.fc_2(x)\n",
        "    return x \n",
        "\n",
        "device = torch.device('cuda:0' if torch.cuda.is_available() else 'cpu')\n",
        "print(device)\n",
        "net = Net().to(device)"
      ],
      "metadata": {
        "colab": {
          "base_uri": "https://localhost:8080/"
        },
        "id": "1Fi-r0TyfHBQ",
        "outputId": "6ceea592-6736-47a3-cc74-18d4e0222235"
      },
      "execution_count": 7,
      "outputs": [
        {
          "output_type": "stream",
          "name": "stdout",
          "text": [
            "cuda:0\n"
          ]
        }
      ]
    },
    {
      "cell_type": "markdown",
      "source": [
        "In the first function we initialize. We use a convolutional neural network. Relu converts linear functions to non-linear functions. "
      ],
      "metadata": {
        "id": "58CBvRb8jlJG"
      }
    },
    {
      "cell_type": "code",
      "source": [
        "import torch.optim as optim\n",
        "\n",
        "criterion = nn.CrossEntropyLoss() #Summarizes the everage difference between the predicted values and the actual values\n",
        "optimizer = optim.SGD(net.parameters(), lr=0.01, momentum=0.9) #High Momentum reaches the local min as fast as possible"
      ],
      "metadata": {
        "id": "aPlwTr48k4Si"
      },
      "execution_count": 8,
      "outputs": []
    },
    {
      "cell_type": "code",
      "source": [
        "epochs = 25\n",
        "running_loss_history = []\n",
        "running_corrects_history = []\n",
        "val_running_loss_history = []\n",
        "val_running_corrects_history = []\n",
        "\n",
        "for e in range(epochs):   #Training our model\n",
        "  running_loss = 0.0\n",
        "  running_corrects = 0.0\n",
        "  val_running_loss = 0.0\n",
        "  val_running_corrects = 0.0\n",
        "\n",
        "  for inputs, labels in train_loader:\n",
        "    inputs = inputs.to(device) #Input to device\n",
        "    labels = labels.to(device)\n",
        "    outputs = net(inputs) #Every batch of 100 images are put as input\n",
        "    loss = criterion(outputs, labels) #Calculates loss after each batch \n",
        "\n",
        "    optimizer.zero_grad() #sets the initial gradient to 0\n",
        "    loss.backward() #Backpropagates the loss\n",
        "    optimizer.step() #Updates the weights and bias values for each single step\n",
        "\n",
        "    _, preds = torch.max(outputs, 1) #Takes the highest value of prediction\n",
        "    running_loss += loss.item()\n",
        "    running_corrects += torch.sum(preds == labels.data) #Calculates the accuracy by taking the sum of all correct predictions in the batch \n",
        "\n",
        "  with torch.no_grad(): #We don't need gradients for validation\n",
        "    for val_inputs, val_labels in val_loader:\n",
        "      val_inputs = val_inputs.to(device)\n",
        "      val_labels = val_labels.to(device)  \n",
        "      val_outputs = net(val_inputs)\n",
        "      val_loss = criterion(val_outputs, val_labels)\n",
        "\n",
        "      _, val_preds = torch.max(val_outputs, 1)\n",
        "      val_running_loss += val_loss.item()\n",
        "      val_running_corrects += torch.sum(val_preds == val_labels.data)\n",
        "\n",
        "  epoch_loss = running_loss/(len(train_loader)*batch_size) #Loss per epoch\n",
        "  epoch_acc = running_corrects.float()/(len(train_loader)*batch_size) #Accuracy per epoch\n",
        "  running_loss_history.append(epoch_loss) #Appending for displaying\n",
        "  running_corrects_history.append(epoch_acc.cpu().numpy())\n",
        "\n",
        "  val_epoch_loss = val_running_loss/(len(val_loader)*batch_size) \n",
        "  val_epoch_acc = val_running_corrects.float()/(len(val_loader)*batch_size) \n",
        "  val_running_loss_history.append(val_epoch_loss) \n",
        "  val_running_corrects_history.append(val_epoch_acc.cpu().numpy())\n",
        "\n",
        "  print('epoch:', e+1)\n",
        "  print('training loss: {:.4f}, acc {:.4f} '.format(epoch_loss, epoch_acc.item()))\n",
        "  print('validation loss: {:.4f}, validation acc {:.4f}'.format(val_epoch_loss, val_epoch_acc.item()))\n"
      ],
      "metadata": {
        "colab": {
          "base_uri": "https://localhost:8080/"
        },
        "id": "UdsMCE7wmE7y",
        "outputId": "26bdecfb-9640-47e4-9358-b35b56febcb8"
      },
      "execution_count": 9,
      "outputs": [
        {
          "output_type": "stream",
          "name": "stdout",
          "text": [
            "epoch: 1\n",
            "training loss: 0.0084, acc 0.2094 \n",
            "validation loss: 0.0074, validation acc 0.3014\n",
            "epoch: 2\n",
            "training loss: 0.0066, acc 0.3830 \n",
            "validation loss: 0.0061, validation acc 0.4355\n",
            "epoch: 3\n",
            "training loss: 0.0057, acc 0.4745 \n",
            "validation loss: 0.0053, validation acc 0.4909\n",
            "epoch: 4\n",
            "training loss: 0.0051, acc 0.5239 \n",
            "validation loss: 0.0049, validation acc 0.5319\n",
            "epoch: 5\n",
            "training loss: 0.0047, acc 0.5672 \n",
            "validation loss: 0.0047, validation acc 0.5590\n",
            "epoch: 6\n",
            "training loss: 0.0043, acc 0.6054 \n",
            "validation loss: 0.0043, validation acc 0.5926\n",
            "epoch: 7\n",
            "training loss: 0.0040, acc 0.6365 \n",
            "validation loss: 0.0041, validation acc 0.6160\n",
            "epoch: 8\n",
            "training loss: 0.0037, acc 0.6633 \n",
            "validation loss: 0.0039, validation acc 0.6298\n",
            "epoch: 9\n",
            "training loss: 0.0035, acc 0.6871 \n",
            "validation loss: 0.0038, validation acc 0.6359\n",
            "epoch: 10\n",
            "training loss: 0.0032, acc 0.7077 \n",
            "validation loss: 0.0036, validation acc 0.6539\n",
            "epoch: 11\n",
            "training loss: 0.0030, acc 0.7277 \n",
            "validation loss: 0.0036, validation acc 0.6675\n",
            "epoch: 12\n",
            "training loss: 0.0028, acc 0.7446 \n",
            "validation loss: 0.0034, validation acc 0.6824\n",
            "epoch: 13\n",
            "training loss: 0.0026, acc 0.7612 \n",
            "validation loss: 0.0035, validation acc 0.6830\n",
            "epoch: 14\n",
            "training loss: 0.0024, acc 0.7775 \n",
            "validation loss: 0.0035, validation acc 0.6813\n",
            "epoch: 15\n",
            "training loss: 0.0023, acc 0.7942 \n",
            "validation loss: 0.0033, validation acc 0.7037\n",
            "epoch: 16\n",
            "training loss: 0.0021, acc 0.8063 \n",
            "validation loss: 0.0034, validation acc 0.6952\n",
            "epoch: 17\n",
            "training loss: 0.0019, acc 0.8219 \n",
            "validation loss: 0.0034, validation acc 0.6975\n",
            "epoch: 18\n",
            "training loss: 0.0018, acc 0.8350 \n",
            "validation loss: 0.0033, validation acc 0.7032\n",
            "epoch: 19\n",
            "training loss: 0.0017, acc 0.8491 \n",
            "validation loss: 0.0034, validation acc 0.7009\n",
            "epoch: 20\n",
            "training loss: 0.0015, acc 0.8625 \n",
            "validation loss: 0.0036, validation acc 0.7054\n",
            "epoch: 21\n",
            "training loss: 0.0014, acc 0.8740 \n",
            "validation loss: 0.0035, validation acc 0.7088\n",
            "epoch: 22\n",
            "training loss: 0.0012, acc 0.8855 \n",
            "validation loss: 0.0039, validation acc 0.7017\n",
            "epoch: 23\n",
            "training loss: 0.0011, acc 0.8968 \n",
            "validation loss: 0.0038, validation acc 0.7047\n",
            "epoch: 24\n",
            "training loss: 0.0010, acc 0.9066 \n",
            "validation loss: 0.0040, validation acc 0.7043\n",
            "epoch: 25\n",
            "training loss: 0.0009, acc 0.9144 \n",
            "validation loss: 0.0040, validation acc 0.7054\n"
          ]
        }
      ]
    },
    {
      "cell_type": "code",
      "source": [
        "plt.style.use('ggplot')\n",
        "plt.plot(running_loss_history, label='Training Loss')\n",
        "plt.legend()"
      ],
      "metadata": {
        "colab": {
          "base_uri": "https://localhost:8080/",
          "height": 447
        },
        "id": "jClVvLZorj1-",
        "outputId": "814d5dbe-4c01-4fc6-a474-4bd0c1c8b5a2"
      },
      "execution_count": 10,
      "outputs": [
        {
          "output_type": "execute_result",
          "data": {
            "text/plain": [
              "<matplotlib.legend.Legend at 0x7fe732f667a0>"
            ]
          },
          "metadata": {},
          "execution_count": 10
        },
        {
          "output_type": "display_data",
          "data": {
            "text/plain": [
              "<Figure size 640x480 with 1 Axes>"
            ],
            "image/png": "[encoded data removed]"
          },
          "metadata": {}
        }
      ]
    },
    {
      "cell_type": "code",
      "source": [
        "plt.style.use('ggplot')\n",
        "plt.plot(val_running_loss_history, label='Validation Loss')\n",
        "plt.legend()"
      ],
      "metadata": {
        "colab": {
          "base_uri": "https://localhost:8080/",
          "height": 447
        },
        "id": "jjx-n-9LsBMB",
        "outputId": "913cde7a-4f9a-41ee-830f-6c35cd0920e5"
      },
      "execution_count": 11,
      "outputs": [
        {
          "output_type": "execute_result",
          "data": {
            "text/plain": [
              "<matplotlib.legend.Legend at 0x7fe732f67280>"
            ]
          },
          "metadata": {},
          "execution_count": 11
        },
        {
          "output_type": "display_data",
          "data": {
            "text/plain": [
              "<Figure size 640x480 with 1 Axes>"
            ],
            "image/png": "[encoded data removed]"
          },
          "metadata": {}
        }
      ]
    },
    {
      "cell_type": "code",
      "source": [
        "%cd autonomy-bootcamp"
      ],
      "metadata": {
        "colab": {
          "base_uri": "https://localhost:8080/"
        },
        "id": "ikFN_Z-pszX4",
        "outputId": "145c841a-42b9-4e07-cd30-a789e4728796"
      },
      "execution_count": 17,
      "outputs": [
        {
          "output_type": "stream",
          "name": "stdout",
          "text": [
            "/content/autonomy-bootcamp\n"
          ]
        }
      ]
    },
    {
      "cell_type": "code",
      "source": [
        "!git add *"
      ],
      "metadata": {
        "id": "vnH7SLf9oqAz"
      },
      "execution_count": 18,
      "outputs": []
    },
    {
      "cell_type": "code",
      "source": [
        "!git commit -m \"Initial creation of the autonomy bootcamp\""
      ],
      "metadata": {
        "colab": {
          "base_uri": "https://localhost:8080/"
        },
        "id": "zs5DrFofphw7",
        "outputId": "ca947f32-3112-436e-8be2-0ed2e7fd4ee9"
      },
      "execution_count": 22,
      "outputs": [
        {
          "output_type": "stream",
          "name": "stdout",
          "text": [
            "On branch master\n",
            "Your branch is up to date with 'origin/master'.\n",
            "\n",
            "nothing to commit, working tree clean\n"
          ]
        }
      ]
    }
  ]
}