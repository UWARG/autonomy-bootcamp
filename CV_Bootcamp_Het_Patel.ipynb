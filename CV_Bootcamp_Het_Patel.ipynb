{
  "nbformat": 4,
  "nbformat_minor": 0,
  "metadata": {
    "colab": {
      "name": "CV_Bootcamp_Het_Patel.ipynb",
      "provenance": [],
      "authorship_tag": "ABX9TyNu2UyTjHZ2JIlgq6V4svt3"
    },
    "kernelspec": {
      "name": "python3",
      "display_name": "Python 3"
    },
    "language_info": {
      "name": "python"
    }
  },
  "cells": [
    {
      "cell_type": "code",
      "execution_count": 1,
      "metadata": {
        "id": "u8E_Xodjen8w"
      },
      "outputs": [],
      "source": [
        "# Import libraries/modules\n",
        "import numpy as np\n",
        "import tensorflow as tf\n",
        "from tensorflow.keras import datasets, layers, models, losses\n",
        "import matplotlib.pyplot as plt\n",
        "\n",
        "# Constants\n",
        "EPOCHS = 15\n",
        "OPTIMIZER = 'adam'"
      ]
    },
    {
      "cell_type": "code",
      "source": [
        "from tensorflow.python.keras.engine import training\n",
        "def LoadAndNormalize(dataset):\n",
        "\n",
        "  # Load and split data\n",
        "  (train_images, train_labels), (test_images, test_labels) = dataset\n",
        "\n",
        "  # Normalize data (so that pixel values are between 0 and 1)\n",
        "  train_images = train_images / 255\n",
        "  test_images = test_images / 255\n",
        "\n",
        "  return train_images, train_labels, test_images, test_labels\n"
      ],
      "metadata": {
        "id": "S6ix6r3vgSxf"
      },
      "execution_count": 11,
      "outputs": []
    },
    {
      "cell_type": "code",
      "source": [
        "def BuildModel():\n",
        "\n",
        "  # Building CNN Architecture\n",
        "  # Common architecture: Stack of Conv2D and MaxPooling2D layers followed by a few denesly connected layers\n",
        "  model = models.Sequential()\n",
        "\n",
        "  # Layer 1\n",
        "  model.add(layers.Conv2D(filters = 32, kernel_size = (3, 3), activation='relu', input_shape=(32, 32, 3)))\n",
        "  model.add(layers.MaxPooling2D((2, 2)))\n",
        "  model.add(layers.Conv2D(filters = 64, kernel_size = (3, 3), activation='relu'))\n",
        "\n",
        "  # Layer 2\n",
        "  model.add(layers.MaxPooling2D((2, 2)))\n",
        "  model.add(layers.Conv2D(filters = 64, kernel_size = (3, 3), activation='relu'))\n",
        "\n",
        "  # Flatten 3D output to 1D\n",
        "  model.add(layers.Flatten())\n",
        "\n",
        "  # Add Dense Layers                       \n",
        "  model.add(layers.Dense(64, activation='relu'))\n",
        "\n",
        "  # CIFAR has 10 output classes  \n",
        "  model.add(layers.Dense(10, activation='softmax')) \n",
        "\n",
        "  model.summary()\n",
        "\n",
        "  return model                      \n",
        "  "
      ],
      "metadata": {
        "id": "sd0LvlKWyC9y"
      },
      "execution_count": 4,
      "outputs": []
    },
    {
      "cell_type": "code",
      "source": [
        "def TrainModel(model, train_images, train_labels, test_images, test_labels):\n",
        "\n",
        "  # Compile and train using recommended/\"default\" parameters from TensorFlow (I'm not actually sure which parameters are the best for this case)\n",
        "  model.compile(optimizer=OPTIMIZER, loss = losses.SparseCategoricalCrossentropy(from_logits=True), metrics=['accuracy'])\n",
        "\n",
        "  # Train model\n",
        "  history = model.fit(train_images, train_labels, epochs=EPOCHS, validation_data=(test_images, test_labels))\n",
        "\n",
        "  return history"
      ],
      "metadata": {
        "id": "E-oxfOIY3vQg"
      },
      "execution_count": 5,
      "outputs": []
    },
    {
      "cell_type": "code",
      "source": [
        "def GetModelAccuracy(model, test_images, test_labels):\n",
        "  \n",
        "  # Evaluate model by looking at performace on test dataset\n",
        "  testLoss, testAccuracy = model.evaluate(test_images,  test_labels, verbose=2)\n",
        "\n",
        "  # Print results\n",
        "  print(\"Test Accuracy: \", testAccuracy)\n",
        "  print(\"Test Loss: \", testLoss)"
      ],
      "metadata": {
        "id": "AIFO8eEiQRwg"
      },
      "execution_count": 6,
      "outputs": []
    },
    {
      "cell_type": "code",
      "source": [
        "def PlotGraph(history):\n",
        "  # Get training and validation loss\n",
        "  trainingLoss = history.history['loss']\n",
        "  trainingValLoss = history.history['val_loss']\n",
        "\n",
        "  # Plot graph \n",
        "  plt.plot(trainingLoss)\n",
        "  plt.plot(trainingValLoss)\n",
        "  plt.title(\"Training and Validation Losses Over Epochs\")\n",
        "  plt.ylabel('Loss')\n",
        "  plt.xlabel('Epoch')\n",
        "  plt.legend(['Training Loss', 'Validation Loss'], loc='upper left')\n",
        "  plt.show()"
      ],
      "metadata": {
        "id": "iY0PckvgS5Nr"
      },
      "execution_count": 7,
      "outputs": []
    },
    {
      "cell_type": "code",
      "source": [
        "# Load and normalize CIFAR10 dataset\n",
        "train_images, train_labels, test_images, test_labels = LoadAndNormalize(datasets.cifar10.load_data())\n",
        "\n",
        "# Build model\n",
        "model = BuildModel()\n",
        "\n",
        "# Train model\n",
        "history = TrainModel(model, train_images, train_labels, test_images, test_labels)\n",
        "\n",
        "# Print model accuracy and loss\n",
        "GetModelAccuracy(model, test_images, test_labels)\n",
        "\n",
        "# Plot graphs\n",
        "PlotGraph(history)\n",
        "\n",
        "\n",
        "\n",
        "\n"
      ],
      "metadata": {
        "colab": {
          "base_uri": "https://localhost:8080/",
          "height": 1000
        },
        "id": "wpoRi3Zex3Ko",
        "outputId": "50ba88a0-1853-4cac-efed-10c1273744ac"
      },
      "execution_count": 12,
      "outputs": [
        {
          "output_type": "stream",
          "name": "stdout",
          "text": [
            "Model: \"sequential\"\n",
            "_________________________________________________________________\n",
            " Layer (type)                Output Shape              Param #   \n",
            "=================================================================\n",
            " conv2d (Conv2D)             (None, 30, 30, 32)        896       \n",
            "                                                                 \n",
            " max_pooling2d (MaxPooling2D  (None, 15, 15, 32)       0         \n",
            " )                                                               \n",
            "                                                                 \n",
            " conv2d_1 (Conv2D)           (None, 13, 13, 64)        18496     \n",
            "                                                                 \n",
            " max_pooling2d_1 (MaxPooling  (None, 6, 6, 64)         0         \n",
            " 2D)                                                             \n",
            "                                                                 \n",
            " conv2d_2 (Conv2D)           (None, 4, 4, 64)          36928     \n",
            "                                                                 \n",
            " flatten (Flatten)           (None, 1024)              0         \n",
            "                                                                 \n",
            " dense (Dense)               (None, 64)                65600     \n",
            "                                                                 \n",
            " dense_1 (Dense)             (None, 10)                650       \n",
            "                                                                 \n",
            "=================================================================\n",
            "Total params: 122,570\n",
            "Trainable params: 122,570\n",
            "Non-trainable params: 0\n",
            "_________________________________________________________________\n",
            "Epoch 1/15\n"
          ]
        },
        {
          "output_type": "stream",
          "name": "stderr",
          "text": [
            "/usr/local/lib/python3.7/dist-packages/tensorflow/python/util/dispatch.py:1096: UserWarning: \"`sparse_categorical_crossentropy` received `from_logits=True`, but the `output` argument was produced by a sigmoid or softmax activation and thus does not represent logits. Was this intended?\"\n",
            "  return dispatch_target(*args, **kwargs)\n"
          ]
        },
        {
          "output_type": "stream",
          "name": "stdout",
          "text": [
            "1563/1563 [==============================] - 51s 32ms/step - loss: 1.5670 - accuracy: 0.4259 - val_loss: 1.3931 - val_accuracy: 0.4991\n",
            "Epoch 2/15\n",
            "1563/1563 [==============================] - 51s 32ms/step - loss: 1.2043 - accuracy: 0.5691 - val_loss: 1.1331 - val_accuracy: 0.6031\n",
            "Epoch 3/15\n",
            "1563/1563 [==============================] - 49s 31ms/step - loss: 1.0569 - accuracy: 0.6255 - val_loss: 1.0762 - val_accuracy: 0.6268\n",
            "Epoch 4/15\n",
            "1563/1563 [==============================] - 49s 31ms/step - loss: 0.9602 - accuracy: 0.6618 - val_loss: 0.9758 - val_accuracy: 0.6612\n",
            "Epoch 5/15\n",
            "1563/1563 [==============================] - 49s 31ms/step - loss: 0.8906 - accuracy: 0.6892 - val_loss: 0.9269 - val_accuracy: 0.6801\n",
            "Epoch 6/15\n",
            "1563/1563 [==============================] - 49s 31ms/step - loss: 0.8382 - accuracy: 0.7079 - val_loss: 0.8784 - val_accuracy: 0.6955\n",
            "Epoch 7/15\n",
            "1563/1563 [==============================] - 48s 31ms/step - loss: 0.7951 - accuracy: 0.7242 - val_loss: 0.8882 - val_accuracy: 0.6891\n",
            "Epoch 8/15\n",
            "1563/1563 [==============================] - 48s 31ms/step - loss: 0.7522 - accuracy: 0.7372 - val_loss: 0.8494 - val_accuracy: 0.7062\n",
            "Epoch 9/15\n",
            "1563/1563 [==============================] - 48s 31ms/step - loss: 0.7217 - accuracy: 0.7490 - val_loss: 0.8855 - val_accuracy: 0.6925\n",
            "Epoch 10/15\n",
            "1563/1563 [==============================] - 49s 31ms/step - loss: 0.6904 - accuracy: 0.7561 - val_loss: 0.8571 - val_accuracy: 0.7073\n",
            "Epoch 11/15\n",
            "1563/1563 [==============================] - 49s 31ms/step - loss: 0.6563 - accuracy: 0.7716 - val_loss: 0.8859 - val_accuracy: 0.7067\n",
            "Epoch 12/15\n",
            "1563/1563 [==============================] - 49s 31ms/step - loss: 0.6264 - accuracy: 0.7798 - val_loss: 0.8572 - val_accuracy: 0.7160\n",
            "Epoch 13/15\n",
            "1563/1563 [==============================] - 48s 31ms/step - loss: 0.6046 - accuracy: 0.7878 - val_loss: 0.9103 - val_accuracy: 0.7025\n",
            "Epoch 14/15\n",
            "1563/1563 [==============================] - 48s 31ms/step - loss: 0.5748 - accuracy: 0.7986 - val_loss: 0.8577 - val_accuracy: 0.7193\n",
            "Epoch 15/15\n",
            "1563/1563 [==============================] - 48s 31ms/step - loss: 0.5470 - accuracy: 0.8072 - val_loss: 0.9007 - val_accuracy: 0.7083\n",
            "313/313 - 3s - loss: 0.9007 - accuracy: 0.7083 - 3s/epoch - 9ms/step\n",
            "Test Accuracy:  0.708299994468689\n",
            "Test Loss:  0.9007425904273987\n"
          ]
        },
        {
          "output_type": "display_data",
          "data": {
            "image/png": "[encoded data removed]",
            "text/plain": [
              "<Figure size 432x288 with 1 Axes>"
            ]
          },
          "metadata": {
            "needs_background": "light"
          }
        }
      ]
    }
  ]
}