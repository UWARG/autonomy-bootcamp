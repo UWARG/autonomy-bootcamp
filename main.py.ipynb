{
 "cells": [
  {
   "cell_type": "code",
   "execution_count": 1,
   "id": "40d394f0",
   "metadata": {},
   "outputs": [],
   "source": [
    "import os\n",
    "os.environ[\"KMP_DUPLICATE_LIB_OK\"]=\"TRUE\"\n",
    "\n",
    "import matplotlib.pyplot as plt\n",
    "import numpy as np\n",
    "\n",
    "from multiprocessing import freeze_support\n",
    "\n",
    "import torch\n",
    "import torchvision\n",
    "import torchvision.transforms as transforms\n",
    "\n",
    "import torch.nn as nn\n",
    "import torch.nn.functional as F\n",
    "import torch.optim as optim\n",
    "from torch.utils.data import random_split"
   ]
  },
  {
   "cell_type": "code",
   "execution_count": 2,
   "id": "d33602c0",
   "metadata": {},
   "outputs": [
    {
     "name": "stdout",
     "output_type": "stream",
     "text": [
      "Files already downloaded and verified\n",
      "Files already downloaded and verified\n"
     ]
    }
   ],
   "source": [
    "## First we load and normalize CIFAR10 using torch vision:\n",
    "\n",
    "# The output of torchvision datasets are PILImage images of range [0, 1]. \n",
    "# We transform them to Tensors of normalized range [-1, 1].\n",
    "\n",
    "transform = transforms.Compose(\n",
    "    [transforms.ToTensor(),\n",
    "     transforms.Normalize((0.5, 0.5, 0.5), (0.5, 0.5, 0.5))])\n",
    "\n",
    "batch_size = 4\n",
    "\n",
    "testset = torchvision.datasets.CIFAR10(root='./data', train=False,\n",
    "                                       download=True, transform=transform)\n",
    "testloader = torch.utils.data.DataLoader(testset, batch_size=batch_size,\n",
    "                                         shuffle=False, num_workers=0)\n",
    "\n",
    "# development set - includes training and validation sets\n",
    "trainset = torchvision.datasets.CIFAR10(root='./data', train=True,\n",
    "                                        download=True, transform=transform)\n",
    "trainloader = torch.utils.data.DataLoader(trainset, batch_size=batch_size,\n",
    "                                          shuffle=True, num_workers=0) \n",
    "\n",
    "classes = ('plane', 'car', 'bird', 'cat',\n",
    "           'deer', 'dog', 'frog', 'horse', 'ship', 'truck')"
   ]
  },
  {
   "cell_type": "code",
   "execution_count": 3,
   "id": "95fa3a77",
   "metadata": {},
   "outputs": [],
   "source": [
    "# Trying to show some of the training images to test it out\n",
    "# functions to show an image\n",
    "def imshow(img):\n",
    "    img = img / 2 + 0.5     # unnormalize\n",
    "    npimg = img.numpy()\n",
    "    plt.imshow(np.transpose(npimg, (1, 2, 0)))\n",
    "    plt.show()"
   ]
  },
  {
   "cell_type": "code",
   "execution_count": 4,
   "id": "23f17e71",
   "metadata": {},
   "outputs": [],
   "source": [
    "## Define a Convolutional Neural Network\n",
    "class Net(nn.Module):\n",
    "    def __init__(self):\n",
    "        super().__init__()\n",
    "        self.conv1 = nn.Conv2d(3, 6, 5)\n",
    "        self.pool = nn.MaxPool2d(2, 2)\n",
    "        self.conv2 = nn.Conv2d(6, 16, 5)\n",
    "        self.fc1 = nn.Linear(16 * 5 * 5, 120)\n",
    "        self.fc2 = nn.Linear(120, 84)\n",
    "        self.fc3 = nn.Linear(84, 10)\n",
    "\n",
    "    def forward(self, x):\n",
    "        x = self.pool(F.relu(self.conv1(x)))\n",
    "        x = self.pool(F.relu(self.conv2(x)))\n",
    "        x = torch.flatten(x, 1) # flatten all dimensions except batch\n",
    "        x = F.relu(self.fc1(x))\n",
    "        x = F.relu(self.fc2(x))\n",
    "        x = self.fc3(x)\n",
    "        return x\n",
    "\n",
    "\n",
    "net = Net()"
   ]
  },
  {
   "cell_type": "code",
   "execution_count": 5,
   "id": "dcaa25a3",
   "metadata": {},
   "outputs": [],
   "source": [
    "## Define a Loss function and optimizer\n",
    "criterion = nn.CrossEntropyLoss()\n",
    "optimizer = optim.SGD(net.parameters(), lr=0.001, momentum=0.9)"
   ]
  },
  {
   "cell_type": "code",
   "execution_count": 6,
   "id": "20a24a55",
   "metadata": {
    "scrolled": true
   },
   "outputs": [
    {
     "name": "stdout",
     "output_type": "stream",
     "text": [
      "[1] training loss: 1.733\n",
      "[1] test accuracy: 48.02\n",
      "[1] test loss: 1.422\n",
      "[1] train accuracy: 48.16\n",
      "[2] training loss: 1.345\n",
      "[2] test accuracy: 56.45\n",
      "[2] test loss: 1.246\n",
      "[2] train accuracy: 57.484\n",
      "[3] training loss: 1.208\n",
      "[3] test accuracy: 57.07\n",
      "[3] test loss: 1.209\n",
      "[3] train accuracy: 59.89\n",
      "[4] training loss: 1.118\n",
      "[4] test accuracy: 56.88\n",
      "[4] test loss: 1.269\n",
      "[4] train accuracy: 60.282\n",
      "[5] training loss: 1.052\n",
      "[5] test accuracy: 59.61\n",
      "[5] test loss: 1.141\n",
      "[5] train accuracy: 65.172\n",
      "[6] training loss: 0.992\n",
      "[6] test accuracy: 61.92\n",
      "[6] test loss: 1.095\n",
      "[6] train accuracy: 69.042\n",
      "[7] training loss: 0.947\n",
      "[7] test accuracy: 62.72\n",
      "[7] test loss: 1.075\n",
      "[7] train accuracy: 70.788\n",
      "[8] training loss: 0.906\n",
      "[8] test accuracy: 61.85\n",
      "[8] test loss: 1.134\n",
      "[8] train accuracy: 71.1\n",
      "[9] training loss: 0.874\n",
      "[9] test accuracy: 62.41\n",
      "[9] test loss: 1.109\n",
      "[9] train accuracy: 72.818\n",
      "[10] training loss: 0.841\n",
      "[10] test accuracy: 60.97\n",
      "[10] test loss: 1.209\n",
      "[10] train accuracy: 71.466\n",
      "[11] training loss: 0.818\n",
      "[11] test accuracy: 61.51\n",
      "[11] test loss: 1.190\n",
      "[11] train accuracy: 73.51\n",
      "[12] training loss: 0.790\n",
      "[12] test accuracy: 61.83\n",
      "[12] test loss: 1.219\n",
      "[12] train accuracy: 73.91\n",
      "[13] training loss: 0.768\n",
      "[13] test accuracy: 61.13\n",
      "[13] test loss: 1.259\n",
      "[13] train accuracy: 74.582\n",
      "Finished Training\n"
     ]
    }
   ],
   "source": [
    "## Train the network    \n",
    "train_losses = [] # track losses for plotting\n",
    "train_accuracies = []\n",
    "correct_train = 0\n",
    "total_train = 0\n",
    "test_losses = []\n",
    "test_accuracies = []\n",
    "correct_test = 0\n",
    "total_test = 0\n",
    "\n",
    "for epoch in range(13):  # loop over the dataset multiple times\n",
    "    net.train()\n",
    "    running_loss = 0.0\n",
    "    # calculate training losses\n",
    "    for i, data in enumerate(trainloader, 0): # note trainloader has 12500 batches\n",
    "        # get the inputs; data is a list of [inputs, labels]\n",
    "        inputs, labels = data\n",
    "\n",
    "        # zero the parameter gradients\n",
    "        optimizer.zero_grad()\n",
    "\n",
    "        # forward + backward + optimize\n",
    "        outputs = net(inputs)\n",
    "        loss = criterion(outputs, labels)\n",
    "        loss.backward()\n",
    "        optimizer.step()\n",
    "\n",
    "        # print loss statistics\n",
    "        running_loss += loss.item()\n",
    "    print(f'[{epoch + 1}] training loss: {running_loss / len(trainloader):.3f}')\n",
    "    train_losses.append(running_loss / len(trainloader)) # check\n",
    "#         if i % 2000 == 1999:    # print every 2000 mini-batches\n",
    "#             print(f'[{epoch + 1}, {i + 1:5d}] training loss: {running_loss / 2000:.3f}')\n",
    "#             train_losses.append(running_loss / 2000) # store training losses to plot later\n",
    "#             running_loss = 0.0\n",
    "            \n",
    "            \n",
    "    net.eval()\n",
    "    with torch.no_grad():\n",
    "        # calculate test losses\n",
    "        running_loss = 0.0\n",
    "#         i = 0\n",
    "        correct_test = 0\n",
    "        total_test = 0\n",
    "        for data in testloader:\n",
    "            inputs, labels = data\n",
    "\n",
    "            # forward pass\n",
    "            # calculate outputs by running images through the network\n",
    "            outputs = net(inputs)\n",
    "\n",
    "            # calculate test losses\n",
    "            loss = criterion(outputs, labels)\n",
    "            running_loss += loss.item()        \n",
    "#             if i % 400 == 399:    # print every 100 mini-batches\n",
    "#                 print(f'[{epoch + 1}, {i + 1:5d}] test loss: {running_loss / 400:.3f}')\n",
    "#                 test_losses.append(running_loss / 400) # store losses to plot later\n",
    "#                 running_loss = 0.0\n",
    "#             i += 1\n",
    "\n",
    "            # calculate test accuaracies\n",
    "            # the class with the highest energy is what we choose as prediction\n",
    "            _, predicted = torch.max(outputs.data, 1)\n",
    "            total_test += labels.size(0)\n",
    "            correct_test += (predicted == labels).sum().item()\n",
    "        test_accuracy = 100 * correct_test / total_test\n",
    "        print(f'[{epoch + 1}] test accuracy: {test_accuracy}') # check\n",
    "        test_accuracies.append(test_accuracy)\n",
    "        \n",
    "        print(f'[{epoch + 1}] test loss: {running_loss / len(testloader):.3f}') # check\n",
    "        test_losses.append(running_loss / len(testloader)) # store losses to plot later\n",
    "        \n",
    "        \n",
    "        # calculate training accuracies\n",
    "        correct_train = 0\n",
    "        total_train = 0\n",
    "        i = 0\n",
    "        for data in trainloader: # note trainloader has 12500 batches\n",
    "            inputs, labels = data\n",
    "            outputs = net(inputs)\n",
    "            # the class with the highest energy is what we choose as prediction\n",
    "            _, predicted = torch.max(outputs.data, 1)\n",
    "            total_train += labels.size(0)\n",
    "            correct_train += (predicted == labels).sum().item()\n",
    "            i += 1\n",
    "        train_accuracy = 100 * correct_train / total_train\n",
    "        print(f'[{epoch + 1}] train accuracy: {train_accuracy}') # check\n",
    "        train_accuracies.append(train_accuracy)\n",
    "        \n",
    "print('Finished Training')\n",
    "\n",
    "# save our trained model\n",
    "PATH = './cifar_net.pth'\n",
    "torch.save(net.state_dict(), PATH)"
   ]
  },
  {
   "cell_type": "code",
   "execution_count": 7,
   "id": "9bb307b3",
   "metadata": {},
   "outputs": [
    {
     "name": "stdout",
     "output_type": "stream",
     "text": [
      "6113\n",
      "10000\n",
      "Accuracy of the network on the 10000 test images: 61 %\n"
     ]
    }
   ],
   "source": [
    "## Now we will observe how the network performs on the whole dataset\n",
    "correct = 0\n",
    "total = 0\n",
    "# since we're not training, we don't need to calculate the gradients for our outputs\n",
    "with torch.no_grad():\n",
    "    for data in testloader:\n",
    "        images, labels = data\n",
    "        # calculate outputs by running images through the network\n",
    "        outputs = net(images)\n",
    "        # the class with the highest energy is what we choose as prediction\n",
    "        _, predicted = torch.max(outputs.data, 1)\n",
    "        total += labels.size(0)\n",
    "        correct += (predicted == labels).sum().item()\n",
    "print(correct)\n",
    "print(total)\n",
    "print(f'Accuracy of the network on the 10000 test images: {100 * correct // total} %')"
   ]
  },
  {
   "cell_type": "code",
   "execution_count": 8,
   "id": "9a0d1c90",
   "metadata": {},
   "outputs": [
    {
     "name": "stdout",
     "output_type": "stream",
     "text": [
      "Accuracy for class: plane is 71.5 %\n",
      "Accuracy for class: car   is 82.8 %\n",
      "Accuracy for class: bird  is 49.8 %\n",
      "Accuracy for class: cat   is 32.7 %\n",
      "Accuracy for class: deer  is 50.1 %\n",
      "Accuracy for class: dog   is 58.2 %\n",
      "Accuracy for class: frog  is 77.2 %\n",
      "Accuracy for class: horse is 67.1 %\n",
      "Accuracy for class: ship  is 51.1 %\n",
      "Accuracy for class: truck is 70.8 %\n"
     ]
    }
   ],
   "source": [
    "## Observe how individual classes performed\n",
    "\n",
    "# prepare to count predictions for each class\n",
    "correct_pred = {classname: 0 for classname in classes}\n",
    "total_pred = {classname: 0 for classname in classes}\n",
    "\n",
    "# again no gradients needed\n",
    "with torch.no_grad():\n",
    "    for data in testloader:\n",
    "        images, labels = data\n",
    "        outputs = net(images)\n",
    "        _, predictions = torch.max(outputs, 1)\n",
    "        # collect the correct predictions for each class\n",
    "        for label, prediction in zip(labels, predictions):\n",
    "            if label == prediction:\n",
    "                correct_pred[classes[label]] += 1\n",
    "            total_pred[classes[label]] += 1\n",
    "\n",
    "\n",
    "# print accuracy for each class\n",
    "for classname, correct_count in correct_pred.items():\n",
    "    accuracy = 100 * float(correct_count) / total_pred[classname]\n",
    "    print(f'Accuracy for class: {classname:5s} is {accuracy:.1f} %')"
   ]
  },
  {
   "cell_type": "code",
   "execution_count": 9,
   "id": "9aec13c1",
   "metadata": {},
   "outputs": [
    {
     "data": {
      "image/png": "[encoded data removed]",
      "text/plain": [
       "<Figure size 640x480 with 1 Axes>"
      ]
     },
     "metadata": {},
     "output_type": "display_data"
    }
   ],
   "source": [
    "## Plot training and test losses over epochs \n",
    "epochs = range(1, len(train_losses) + 1)\n",
    "plt.plot(epochs, train_losses, label='Training loss')\n",
    "plt.plot(epochs, test_losses, label='Test loss')\n",
    "plt.xlabel('Epochs')\n",
    "plt.ylabel('Loss')\n",
    "plt.title('Training and Test Losses')\n",
    "plt.legend()\n",
    "plt.show()"
   ]
  },
  {
   "cell_type": "code",
   "execution_count": 10,
   "id": "6efded28",
   "metadata": {},
   "outputs": [
    {
     "data": {
      "image/png": "[encoded data removed]",
      "text/plain": [
       "<Figure size 640x480 with 1 Axes>"
      ]
     },
     "metadata": {},
     "output_type": "display_data"
    }
   ],
   "source": [
    "## Plot training and test accuracies over epochs \n",
    "epochs = range(1, len(train_accuracies) + 1)\n",
    "plt.plot(epochs, train_accuracies, label='Training accuracy')\n",
    "plt.plot(epochs, test_accuracies, label='Test accuracy')\n",
    "plt.xlabel('Epochs')\n",
    "plt.ylabel('Loss')\n",
    "plt.title('Training and Test Accuracies')\n",
    "plt.legend()\n",
    "plt.show()"
   ]
  },
  {
   "cell_type": "code",
   "execution_count": null,
   "id": "87fa168c",
   "metadata": {},
   "outputs": [],
   "source": []
  },
  {
   "cell_type": "code",
   "execution_count": null,
   "id": "af339274",
   "metadata": {},
   "outputs": [],
   "source": []
  }
 ],
 "metadata": {
  "kernelspec": {
   "display_name": "Python 3 (ipykernel)",
   "language": "python",
   "name": "python3"
  },
  "language_info": {
   "codemirror_mode": {
    "name": "ipython",
    "version": 3
   },
   "file_extension": ".py",
   "mimetype": "text/x-python",
   "name": "python",
   "nbconvert_exporter": "python",
   "pygments_lexer": "ipython3",
   "version": "3.9.13"
  }
 },
 "nbformat": 4,
 "nbformat_minor": 5
}
