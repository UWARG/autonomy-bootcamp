{
  "nbformat": 4,
  "nbformat_minor": 0,
  "metadata": {
    "colab": {
      "name": "Cifar-10 Resnet Transfer.ipynb",
      "provenance": [],
      "collapsed_sections": [],
      "authorship_tag": "ABX9TyMGSZEgeW9vl0ofgbYiofH3",
      "include_colab_link": true
    },
    "kernelspec": {
      "name": "python3",
      "display_name": "Python 3"
    },
    "accelerator": "GPU"
  },
  "cells": [
    {
      "cell_type": "markdown",
      "metadata": {
        "id": "view-in-github",
        "colab_type": "text"
      },
      "source": [
        "<a href=\"https://colab.research.google.com/github/rayjinghaolei/computer-vision-bootcamp/blob/Ray_Jinghao_Lei---bootcamp/Cifar_10_Resnet_Transfer.ipynb\" target=\"_parent\"><img src=\"https://colab.research.google.com/assets/colab-badge.svg\" alt=\"Open In Colab\"/></a>"
      ]
    },
    {
      "cell_type": "code",
      "metadata": {
        "id": "yXtIBrDw9l-o"
      },
      "source": [
        "import os,re,time,json\r\n",
        "import PIL.Image, PIL.ImageFont,PIL.ImageDraw\r\n",
        "import numpy as np\r\n",
        "import tensorflow as tf\r\n",
        "from tensorflow.keras.applications.resnet50 import ResNet50\r\n",
        "from matplotlib import pyplot as plt\r\n",
        "import tensorflow_datasets as tfds"
      ],
      "execution_count": null,
      "outputs": []
    },
    {
      "cell_type": "code",
      "metadata": {
        "id": "B_zHH16a_EOG"
      },
      "source": [
        "BATCH_SIZE = 32\r\n",
        "classes = ['airplane','automobile','bird', 'cat','deer','dog','frog','horse','ship','truck']"
      ],
      "execution_count": null,
      "outputs": []
    },
    {
      "cell_type": "code",
      "metadata": {
        "colab": {
          "base_uri": "https://localhost:8080/"
        },
        "id": "b9mE8jhC_aUf",
        "outputId": "0a88b35d-6968-4735-954a-f91c4e1d7cae"
      },
      "source": [
        "(training_images, training_labels), (validation_images, validation_labels) = tf.keras.datasets.cifar10.load_data()"
      ],
      "execution_count": null,
      "outputs": [
        {
          "output_type": "stream",
          "text": [
            "Downloading data from https://www.cs.toronto.edu/~kriz/cifar-10-python.tar.gz\n",
            "170500096/170498071 [==============================] - 2s 0us/step\n"
          ],
          "name": "stdout"
        }
      ]
    },
    {
      "cell_type": "code",
      "metadata": {
        "id": "04pMDnPsAGjm"
      },
      "source": [
        "def preprocess_image_input(input_images):\r\n",
        "  input_images = input_images.astype('float32')\r\n",
        "  output_ims = tf.keras.applications.resnet50.preprocess_input(input_images)\r\n",
        "  return output_ims"
      ],
      "execution_count": null,
      "outputs": []
    },
    {
      "cell_type": "code",
      "metadata": {
        "id": "aBJIZySFI5Df"
      },
      "source": [
        "train_X = preprocess_image_input(training_images)\r\n",
        "valid_X = preprocess_image_input(validation_images)"
      ],
      "execution_count": null,
      "outputs": []
    },
    {
      "cell_type": "code",
      "metadata": {
        "colab": {
          "base_uri": "https://localhost:8080/"
        },
        "id": "c_VejVsJJnCG",
        "outputId": "fbcb3c82-6012-4536-b0e9-81f54ba1a096"
      },
      "source": [
        "'''\r\n",
        "Feature Extraction is performed by ResNet50 pretrained on imagenet weights. \r\n",
        "Input size is 224 x 224.\r\n",
        "'''\r\n",
        "def feature_extractor(inputs):\r\n",
        "\r\n",
        "  feature_extractor = tf.keras.applications.resnet.ResNet50(input_shape=(224, 224, 3),\r\n",
        "                                               include_top=False,\r\n",
        "                                               weights='imagenet')(inputs)\r\n",
        "  return feature_extractor\r\n",
        "\r\n",
        "def classifier(inputs):\r\n",
        "    x = tf.keras.layers.GlobalAveragePooling2D()(inputs)\r\n",
        "    x = tf.keras.layers.Flatten()(x)\r\n",
        "    x = tf.keras.layers.Dense(1024, activation=\"relu\")(x)\r\n",
        "    x = tf.keras.layers.Dense(512, activation=\"relu\")(x)\r\n",
        "    x = tf.keras.layers.Dense(10, activation=\"softmax\", name=\"classification\")(x)\r\n",
        "    return x\r\n",
        "'''\r\n",
        "Since input image size is (32 x 32), first upsample the image by factor of (7x7) to transform it to (224 x 224)\r\n",
        "Connect the feature extraction and \"classifier\" layers to build the model.\r\n",
        "'''\r\n",
        "def final_model(inputs):\r\n",
        "\r\n",
        "    resize = tf.keras.layers.UpSampling2D(size=(7,7))(inputs)\r\n",
        "\r\n",
        "    resnet_feature_extractor = feature_extractor(resize)\r\n",
        "    classification_output = classifier(resnet_feature_extractor)\r\n",
        "\r\n",
        "    return classification_output\r\n",
        "def define_compile_model():\r\n",
        "  inputs = tf.keras.layers.Input(shape=(32,32,3))\r\n",
        "  \r\n",
        "  classification_output = final_model(inputs) \r\n",
        "  model = tf.keras.Model(inputs=inputs, outputs = classification_output)\r\n",
        " \r\n",
        "  model.compile(optimizer='SGD', \r\n",
        "                loss='sparse_categorical_crossentropy',\r\n",
        "                metrics = ['accuracy'])\r\n",
        "  \r\n",
        "  return model\r\n",
        "model = define_compile_model()\r\n",
        "\r\n",
        "model.summary()"
      ],
      "execution_count": null,
      "outputs": [
        {
          "output_type": "stream",
          "text": [
            "Downloading data from https://storage.googleapis.com/tensorflow/keras-applications/resnet/resnet50_weights_tf_dim_ordering_tf_kernels_notop.h5\n",
            "94773248/94765736 [==============================] - 0s 0us/step\n",
            "Model: \"model\"\n",
            "_________________________________________________________________\n",
            "Layer (type)                 Output Shape              Param #   \n",
            "=================================================================\n",
            "input_1 (InputLayer)         [(None, 32, 32, 3)]       0         \n",
            "_________________________________________________________________\n",
            "up_sampling2d (UpSampling2D) (None, 224, 224, 3)       0         \n",
            "_________________________________________________________________\n",
            "resnet50 (Functional)        (None, 7, 7, 2048)        23587712  \n",
            "_________________________________________________________________\n",
            "global_average_pooling2d (Gl (None, 2048)              0         \n",
            "_________________________________________________________________\n",
            "flatten (Flatten)            (None, 2048)              0         \n",
            "_________________________________________________________________\n",
            "dense (Dense)                (None, 1024)              2098176   \n",
            "_________________________________________________________________\n",
            "dense_1 (Dense)              (None, 512)               524800    \n",
            "_________________________________________________________________\n",
            "classification (Dense)       (None, 10)                5130      \n",
            "=================================================================\n",
            "Total params: 26,215,818\n",
            "Trainable params: 26,162,698\n",
            "Non-trainable params: 53,120\n",
            "_________________________________________________________________\n"
          ],
          "name": "stdout"
        }
      ]
    },
    {
      "cell_type": "code",
      "metadata": {
        "colab": {
          "base_uri": "https://localhost:8080/"
        },
        "id": "DQum24bgN-fw",
        "outputId": "a8ef1056-34ab-4bc0-e37d-153240314648"
      },
      "source": [
        "EPOCHS = 3\r\n",
        "history = model.fit(train_X, training_labels, epochs=EPOCHS, validation_data = (valid_X, validation_labels), batch_size=64)"
      ],
      "execution_count": null,
      "outputs": [
        {
          "output_type": "stream",
          "text": [
            "Epoch 1/3\n",
            "782/782 [==============================] - 535s 670ms/step - loss: 0.7347 - accuracy: 0.7603 - val_loss: 0.2480 - val_accuracy: 0.9123\n",
            "Epoch 2/3\n",
            "782/782 [==============================] - 528s 675ms/step - loss: 0.1051 - accuracy: 0.9657 - val_loss: 0.1754 - val_accuracy: 0.9441\n",
            "Epoch 3/3\n",
            "782/782 [==============================] - 528s 675ms/step - loss: 0.0354 - accuracy: 0.9901 - val_loss: 0.1669 - val_accuracy: 0.9508\n"
          ],
          "name": "stdout"
        }
      ]
    },
    {
      "cell_type": "code",
      "metadata": {
        "colab": {
          "base_uri": "https://localhost:8080/"
        },
        "id": "JY_UrPOCO32E",
        "outputId": "f081f2a8-9acf-48a9-cccb-f668438e9a21"
      },
      "source": [
        "loss, accuracy = model.evaluate(valid_X,validation_labels,batch_size=64)"
      ],
      "execution_count": null,
      "outputs": [
        {
          "output_type": "stream",
          "text": [
            "157/157 [==============================] - 30s 194ms/step - loss: 0.1669 - accuracy: 0.9508\n"
          ],
          "name": "stdout"
        }
      ]
    },
    {
      "cell_type": "code",
      "metadata": {
        "id": "pPBnWWFdY6w0"
      },
      "source": [
        ""
      ],
      "execution_count": null,
      "outputs": []
    }
  ]
}