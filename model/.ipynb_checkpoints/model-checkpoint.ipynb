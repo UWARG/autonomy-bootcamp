{
 "cells": [
  {
   "cell_type": "markdown",
   "metadata": {},
   "source": [
    "# CIFAR-10 Image Classifier"
   ]
  },
  {
   "cell_type": "markdown",
   "metadata": {},
   "source": [
    "I'm aware of the fact that Tensorflow provides a nicely formatted and cleaned version of the CIFAR-10 dataset using `cifar10.load_data()`. Simply using the data from this seems to provide a slightly better validation accuracy (~0.65-0.70) for some reason. But as I understand, data wrangling and cleaning is just as important as building and training the model, so I took the time to preprocess and normalize the raw dataset myself. "
   ]
  },
  {
   "cell_type": "markdown",
   "metadata": {},
   "source": [
    "# Import modules"
   ]
  },
  {
   "cell_type": "code",
   "execution_count": 17,
   "metadata": {},
   "outputs": [
    {
     "name": "stdout",
     "output_type": "stream",
     "text": [
      "Num GPUs Available:  1\n"
     ]
    }
   ],
   "source": [
    "import tensorflow as tf\n",
    "from tensorflow.keras.datasets import cifar10\n",
    "from tensorflow.keras.models import Sequential\n",
    "\n",
    "from tensorflow.keras.layers import Conv2D, MaxPooling2D, Flatten, Convolution2D, Activation, Dropout, Dense\n",
    "import numpy as np\n",
    "import matplotlib.pyplot as plt\n",
    "print(\"Num GPUs Available: \", len(tf.config.experimental.list_physical_devices('GPU')))"
   ]
  },
  {
   "cell_type": "markdown",
   "metadata": {},
   "source": [
    "# Data info"
   ]
  },
  {
   "cell_type": "markdown",
   "metadata": {},
   "source": [
    "- **data**: The image data as Numpy arrays which are fed into a model (i.e. the x value). The data has dimensions 10,000x3,072, that is, 10,000 images with 32x32 pixels * 3 color channels (RGB)\n",
    "- **labels**: The actual labels which the model must successfully classify (i.e. the y value)"
   ]
  },
  {
   "cell_type": "markdown",
   "metadata": {},
   "source": [
    "# Load data"
   ]
  },
  {
   "cell_type": "code",
   "execution_count": 18,
   "metadata": {},
   "outputs": [
    {
     "name": "stdout",
     "output_type": "stream",
     "text": [
      "(50000, 3072)\n"
     ]
    }
   ],
   "source": [
    "# Code for unpacking data, provided by the CIFAR-10 homepage\n",
    "def unpickle(file):\n",
    "    import pickle\n",
    "    with open(file, 'rb') as fo:\n",
    "        dict = pickle.load(fo, encoding='bytes')\n",
    "    return dict\n",
    "\n",
    "batchNames = ['data_batch_1', 'data_batch_2', 'data_batch_3', 'data_batch_4', 'data_batch_5']\n",
    "\n",
    "# Training set\n",
    "xTrainRaw = np.empty((0,3072),int)\n",
    "yTrainRaw = np.empty((0))\n",
    "# Loop through the files and create one large training set\n",
    "for name in batchNames:\n",
    "    \n",
    "    trainBatch = unpickle(\"../data/\" + name)\n",
    "    xTrainRaw = np.append(xTrainRaw, trainBatch[b'data'], axis=0)\n",
    "    yTrainRaw = np.append(yTrainRaw, trainBatch[b'labels'], axis=0)\n",
    "\n",
    "test = unpickle('../data/test_batch')\n",
    "print(xTrainRaw.shape)\n",
    "\n",
    "# Test set\n",
    "xTestRaw = test[b'data']\n",
    "yTestRaw = np.asarray(test[b'labels'])"
   ]
  },
  {
   "cell_type": "markdown",
   "metadata": {},
   "source": [
    "# Data transformation"
   ]
  },
  {
   "cell_type": "markdown",
   "metadata": {},
   "source": [
    "The x data in its raw form, (50000,3072) for the training set (10000,3072) for the test set, is not suitable for feeding into a model.\n",
    "\n",
    "For a CNN, we should convert the dimensions of each image from a simple row vector (3072) into (width,height,nChannels), which in our case is (32,32,3)."
   ]
  },
  {
   "cell_type": "code",
   "execution_count": 19,
   "metadata": {},
   "outputs": [],
   "source": [
    "xTrain = xTrainRaw.reshape(50000, 32,32,3)\n",
    "xTest = xTestRaw.reshape(10000,32,32,3)\n",
    "\n",
    "yTrain = yTrainRaw\n",
    "yTest = yTestRaw"
   ]
  },
  {
   "cell_type": "markdown",
   "metadata": {},
   "source": [
    "# Data normalization"
   ]
  },
  {
   "cell_type": "code",
   "execution_count": 20,
   "metadata": {},
   "outputs": [],
   "source": [
    "# Normalize data between 0 and 1\n",
    "# Max-min normalization\n",
    "xTrain= xTrain / 255.0\n",
    "xTest = xTest / 255.0"
   ]
  },
  {
   "cell_type": "markdown",
   "metadata": {},
   "source": [
    "# Build model"
   ]
  },
  {
   "cell_type": "code",
   "execution_count": 21,
   "metadata": {},
   "outputs": [
    {
     "name": "stdout",
     "output_type": "stream",
     "text": [
      "Model: \"sequential_2\"\n",
      "_________________________________________________________________\n",
      "Layer (type)                 Output Shape              Param #   \n",
      "=================================================================\n",
      "conv2d_6 (Conv2D)            (None, 30, 30, 32)        896       \n",
      "_________________________________________________________________\n",
      "max_pooling2d_4 (MaxPooling2 (None, 15, 15, 32)        0         \n",
      "_________________________________________________________________\n",
      "conv2d_7 (Conv2D)            (None, 13, 13, 64)        18496     \n",
      "_________________________________________________________________\n",
      "max_pooling2d_5 (MaxPooling2 (None, 6, 6, 64)          0         \n",
      "_________________________________________________________________\n",
      "conv2d_8 (Conv2D)            (None, 4, 4, 64)          36928     \n",
      "_________________________________________________________________\n",
      "flatten_2 (Flatten)          (None, 1024)              0         \n",
      "_________________________________________________________________\n",
      "dense_4 (Dense)              (None, 64)                65600     \n",
      "_________________________________________________________________\n",
      "dense_5 (Dense)              (None, 10)                650       \n",
      "=================================================================\n",
      "Total params: 122,570\n",
      "Trainable params: 122,570\n",
      "Non-trainable params: 0\n",
      "_________________________________________________________________\n"
     ]
    }
   ],
   "source": [
    "# Sequential CNN model\n",
    "# I used the same architecture from https://www.tensorflow.org/tutorials/images/cnn\n",
    "model = Sequential()\n",
    "model.add(Conv2D(32, (3, 3), activation='relu', input_shape=(32, 32, 3)))\n",
    "model.add(MaxPooling2D((2, 2)))\n",
    "model.add(Conv2D(64, (3, 3), activation='relu'))\n",
    "model.add(MaxPooling2D((2, 2)))\n",
    "model.add(Conv2D(64, (3, 3), activation='relu'))\n",
    "model.add(Flatten())\n",
    "model.add(Dense(64, activation='relu'))\n",
    "model.add(Dense(10))\n",
    "model.summary()"
   ]
  },
  {
   "cell_type": "markdown",
   "metadata": {},
   "source": [
    "# Train model"
   ]
  },
  {
   "cell_type": "code",
   "execution_count": 22,
   "metadata": {},
   "outputs": [
    {
     "name": "stdout",
     "output_type": "stream",
     "text": [
      "Epoch 1/12\n",
      "1563/1563 [==============================] - 5s 3ms/step - loss: 1.6180 - accuracy: 0.4159 - val_loss: 1.4084 - val_accuracy: 0.5007\n",
      "Epoch 2/12\n",
      "1563/1563 [==============================] - 5s 3ms/step - loss: 1.3154 - accuracy: 0.5307 - val_loss: 1.2500 - val_accuracy: 0.5561\n",
      "Epoch 3/12\n",
      "1563/1563 [==============================] - 5s 3ms/step - loss: 1.1914 - accuracy: 0.5777 - val_loss: 1.1763 - val_accuracy: 0.5855\n",
      "Epoch 4/12\n",
      "1563/1563 [==============================] - 5s 3ms/step - loss: 1.0992 - accuracy: 0.6116 - val_loss: 1.1420 - val_accuracy: 0.5975\n",
      "Epoch 5/12\n",
      "1563/1563 [==============================] - 5s 3ms/step - loss: 1.0334 - accuracy: 0.6355 - val_loss: 1.1968 - val_accuracy: 0.5774\n",
      "Epoch 6/12\n",
      "1563/1563 [==============================] - 5s 3ms/step - loss: 0.9783 - accuracy: 0.6553 - val_loss: 1.1351 - val_accuracy: 0.6035\n",
      "Epoch 7/12\n",
      "1563/1563 [==============================] - 5s 3ms/step - loss: 0.9327 - accuracy: 0.6720 - val_loss: 1.1096 - val_accuracy: 0.6172\n",
      "Epoch 8/12\n",
      "1563/1563 [==============================] - 5s 3ms/step - loss: 0.8881 - accuracy: 0.6877 - val_loss: 1.0691 - val_accuracy: 0.6332\n",
      "Epoch 9/12\n",
      "1563/1563 [==============================] - 5s 3ms/step - loss: 0.8493 - accuracy: 0.7025 - val_loss: 1.0893 - val_accuracy: 0.6307\n",
      "Epoch 10/12\n",
      "1563/1563 [==============================] - 5s 3ms/step - loss: 0.8118 - accuracy: 0.7150 - val_loss: 1.1328 - val_accuracy: 0.6179\n",
      "Epoch 11/12\n",
      "1563/1563 [==============================] - 5s 3ms/step - loss: 0.7817 - accuracy: 0.7244 - val_loss: 1.1448 - val_accuracy: 0.6244\n",
      "Epoch 12/12\n",
      "1563/1563 [==============================] - 5s 3ms/step - loss: 0.7554 - accuracy: 0.7328 - val_loss: 1.1270 - val_accuracy: 0.6254\n"
     ]
    }
   ],
   "source": [
    "model.compile(optimizer='adam',\n",
    "              loss=tf.keras.losses.SparseCategoricalCrossentropy(from_logits=True),\n",
    "              metrics=['accuracy'])\n",
    "\n",
    "history = model.fit(xTrain, yTrain, epochs=10, \n",
    "                    validation_data=(xTest, yTest))"
   ]
  },
  {
   "cell_type": "markdown",
   "metadata": {},
   "source": [
    "# Plot performance"
   ]
  },
  {
   "cell_type": "code",
   "execution_count": 23,
   "metadata": {},
   "outputs": [
    {
     "name": "stdout",
     "output_type": "stream",
     "text": [
      "313/313 - 0s - loss: 1.1270 - accuracy: 0.6254\n"
     ]
    },
    {
     "data": {
      "image/png": "[encoded data removed]",
      "text/plain": [
       "<Figure size 432x288 with 1 Axes>"
      ]
     },
     "metadata": {
      "needs_background": "light"
     },
     "output_type": "display_data"
    }
   ],
   "source": [
    "plt.plot(history.history['accuracy'], label='accuracy')\n",
    "plt.plot(history.history['val_accuracy'], label = 'val_accuracy')\n",
    "plt.ylim([0.5, 1])\n",
    "plt.xlabel('Epoch')\n",
    "plt.ylabel('Accuracy')\n",
    "\n",
    "testLoss, testAcc = model.evaluate(xTest,  yTest, verbose=2)\n"
   ]
  },
  {
   "cell_type": "markdown",
   "metadata": {},
   "source": [
    "# Additional evaluation metrics (AUC)"
   ]
  },
  {
   "cell_type": "code",
   "execution_count": null,
   "metadata": {},
   "outputs": [],
   "source": []
  }
 ],
 "metadata": {
  "kernelspec": {
   "display_name": "Python 3",
   "language": "python",
   "name": "python3"
  },
  "language_info": {
   "codemirror_mode": {
    "name": "ipython",
    "version": 3
   },
   "file_extension": ".py",
   "mimetype": "text/x-python",
   "name": "python",
   "nbconvert_exporter": "python",
   "pygments_lexer": "ipython3",
   "version": "3.8.3"
  }
 },
 "nbformat": 4,
 "nbformat_minor": 4
}
